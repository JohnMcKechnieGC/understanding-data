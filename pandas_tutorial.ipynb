{
 "cells": [
  {
   "cell_type": "markdown",
   "id": "ca794387-354a-4e4a-9fd5-ee3f6c362bc9",
   "metadata": {},
   "source": [
    "# Introduction to pandas\n",
    "This notebook demonstrates some key functionality of the pandas package.\n",
    "See: https://pandas.pydata.org/\n",
    "\n",
    "See here for getting started documentation: https://pandas.pydata.org/docs/getting_started/index.html"
   ]
  },
  {
   "cell_type": "markdown",
   "id": "d24f4f17",
   "metadata": {},
   "source": [
    "You may find these code examples useful: https://github.com/paskhaver/pandas-in-action\n",
    "\n",
    "For more information on the book Pandas in Action by Boris Paskhaver, see: https://www.manning.com/books/pandas-in-action \n",
    "\n",
    "Python for Data Analysis: Data Wrangling with pandas, NumPy, and Jupyter 3rd Edition, by Wes McKinney is a highly recommended reference. The open edition is here: https://wesmckinney.com/book/. The code examples for this book are here: https://github.com/wesm/pydata-book/tree/3rd-edition"
   ]
  },
  {
   "cell_type": "code",
   "execution_count": 1,
   "id": "7ec91ed7-dd46-403a-b3ed-3ed2c2838b37",
   "metadata": {
    "ExecuteTime": {
     "end_time": "2025-04-24T17:47:09.607538Z",
     "start_time": "2025-04-24T17:47:09.234886Z"
    },
    "is_executing": true
   },
   "outputs": [],
   "source": [
    "import pandas as pd"
   ]
  },
  {
   "cell_type": "markdown",
   "id": "8de6ceb3",
   "metadata": {},
   "source": [
    "## Load our data set\n",
    "\n",
    "See https://pandas.pydata.org/docs/reference/api/pandas.read_csv.html for more info on `read_csv`."
   ]
  },
  {
   "cell_type": "code",
   "execution_count": 2,
   "id": "55829cc5-c47c-4722-ba89-18b8868ab83e",
   "metadata": {
    "ExecuteTime": {
     "end_time": "2025-04-24T17:47:09.782052Z",
     "start_time": "2025-04-24T17:47:09.775123Z"
    }
   },
   "outputs": [],
   "source": [
    "# You may need to modify the filename depending on where you have stored the file.\n",
    "students_df = pd.read_csv('data/students.csv')"
   ]
  },
  {
   "cell_type": "markdown",
   "id": "c8b59392",
   "metadata": {},
   "source": [
    "After loading the dataset, we can easily view a representation of it."
   ]
  },
  {
   "cell_type": "code",
   "execution_count": 3,
   "id": "0eedf843",
   "metadata": {
    "ExecuteTime": {
     "end_time": "2025-04-24T17:47:09.817468Z",
     "start_time": "2025-04-24T17:47:09.804846Z"
    }
   },
   "outputs": [
    {
     "data": {
      "text/html": [
       "<div>\n",
       "<style scoped>\n",
       "    .dataframe tbody tr th:only-of-type {\n",
       "        vertical-align: middle;\n",
       "    }\n",
       "\n",
       "    .dataframe tbody tr th {\n",
       "        vertical-align: top;\n",
       "    }\n",
       "\n",
       "    .dataframe thead th {\n",
       "        text-align: right;\n",
       "    }\n",
       "</style>\n",
       "<table border=\"1\" class=\"dataframe\">\n",
       "  <thead>\n",
       "    <tr style=\"text-align: right;\">\n",
       "      <th></th>\n",
       "      <th>Student ID</th>\n",
       "      <th>Name</th>\n",
       "      <th>Age</th>\n",
       "      <th>Subject</th>\n",
       "      <th>Year of Study</th>\n",
       "      <th>Country of Origin</th>\n",
       "    </tr>\n",
       "  </thead>\n",
       "  <tbody>\n",
       "    <tr>\n",
       "      <th>0</th>\n",
       "      <td>2703f3f0</td>\n",
       "      <td>Mr Clifford Watson</td>\n",
       "      <td>25.0</td>\n",
       "      <td>English Literature</td>\n",
       "      <td>1.0</td>\n",
       "      <td>Saint Barthelemy</td>\n",
       "    </tr>\n",
       "    <tr>\n",
       "      <th>1</th>\n",
       "      <td>a8040287</td>\n",
       "      <td>Elliott Ward</td>\n",
       "      <td>25.0</td>\n",
       "      <td>Computer Science</td>\n",
       "      <td>4.0</td>\n",
       "      <td>Guinea</td>\n",
       "    </tr>\n",
       "    <tr>\n",
       "      <th>2</th>\n",
       "      <td>d8da5486</td>\n",
       "      <td>Miss Pauline Dunn</td>\n",
       "      <td>22.0</td>\n",
       "      <td>Engineering</td>\n",
       "      <td>4.0</td>\n",
       "      <td>Afghanistan</td>\n",
       "    </tr>\n",
       "    <tr>\n",
       "      <th>3</th>\n",
       "      <td>3ac1b74d</td>\n",
       "      <td>Mr Dominic Mason</td>\n",
       "      <td>22.0</td>\n",
       "      <td>Physics</td>\n",
       "      <td>1.0</td>\n",
       "      <td>Palau</td>\n",
       "    </tr>\n",
       "    <tr>\n",
       "      <th>4</th>\n",
       "      <td>67850858</td>\n",
       "      <td>Mrs Melanie Brown</td>\n",
       "      <td>18.0</td>\n",
       "      <td>English Literature</td>\n",
       "      <td>3.0</td>\n",
       "      <td>Algeria</td>\n",
       "    </tr>\n",
       "    <tr>\n",
       "      <th>...</th>\n",
       "      <td>...</td>\n",
       "      <td>...</td>\n",
       "      <td>...</td>\n",
       "      <td>...</td>\n",
       "      <td>...</td>\n",
       "      <td>...</td>\n",
       "    </tr>\n",
       "    <tr>\n",
       "      <th>96</th>\n",
       "      <td>a8be1ec3</td>\n",
       "      <td>Kelly Foster</td>\n",
       "      <td>22.0</td>\n",
       "      <td>Engineering</td>\n",
       "      <td>1.0</td>\n",
       "      <td>Netherlands</td>\n",
       "    </tr>\n",
       "    <tr>\n",
       "      <th>97</th>\n",
       "      <td>3b69ff22</td>\n",
       "      <td>Sara Austin</td>\n",
       "      <td>19.0</td>\n",
       "      <td>Computer Science</td>\n",
       "      <td>34.0</td>\n",
       "      <td>Liechtenstein</td>\n",
       "    </tr>\n",
       "    <tr>\n",
       "      <th>98</th>\n",
       "      <td>716fb45f</td>\n",
       "      <td>Miss Grace Miller</td>\n",
       "      <td>22.0</td>\n",
       "      <td>English Literature</td>\n",
       "      <td>4.0</td>\n",
       "      <td>Comoros</td>\n",
       "    </tr>\n",
       "    <tr>\n",
       "      <th>99</th>\n",
       "      <td>34b97db2</td>\n",
       "      <td>Miss Lydia Saunders</td>\n",
       "      <td>23.0</td>\n",
       "      <td>Physics</td>\n",
       "      <td>2.0</td>\n",
       "      <td>Faroe Islands</td>\n",
       "    </tr>\n",
       "    <tr>\n",
       "      <th>100</th>\n",
       "      <td>34b97db2</td>\n",
       "      <td>Miss Lydia Saunders</td>\n",
       "      <td>23.0</td>\n",
       "      <td>Physics</td>\n",
       "      <td>2.0</td>\n",
       "      <td>Faroe Islands</td>\n",
       "    </tr>\n",
       "  </tbody>\n",
       "</table>\n",
       "<p>101 rows × 6 columns</p>\n",
       "</div>"
      ],
      "text/plain": [
       "    Student ID                 Name   Age             Subject  Year of Study  \\\n",
       "0     2703f3f0   Mr Clifford Watson  25.0  English Literature            1.0   \n",
       "1     a8040287         Elliott Ward  25.0    Computer Science            4.0   \n",
       "2     d8da5486    Miss Pauline Dunn  22.0         Engineering            4.0   \n",
       "3     3ac1b74d     Mr Dominic Mason  22.0             Physics            1.0   \n",
       "4     67850858    Mrs Melanie Brown  18.0  English Literature            3.0   \n",
       "..         ...                  ...   ...                 ...            ...   \n",
       "96    a8be1ec3         Kelly Foster  22.0         Engineering            1.0   \n",
       "97    3b69ff22          Sara Austin  19.0    Computer Science           34.0   \n",
       "98    716fb45f    Miss Grace Miller  22.0  English Literature            4.0   \n",
       "99    34b97db2  Miss Lydia Saunders  23.0             Physics            2.0   \n",
       "100   34b97db2  Miss Lydia Saunders  23.0             Physics            2.0   \n",
       "\n",
       "    Country of Origin  \n",
       "0    Saint Barthelemy  \n",
       "1              Guinea  \n",
       "2         Afghanistan  \n",
       "3               Palau  \n",
       "4             Algeria  \n",
       "..                ...  \n",
       "96        Netherlands  \n",
       "97      Liechtenstein  \n",
       "98            Comoros  \n",
       "99      Faroe Islands  \n",
       "100     Faroe Islands  \n",
       "\n",
       "[101 rows x 6 columns]"
      ]
     },
     "execution_count": 3,
     "metadata": {},
     "output_type": "execute_result"
    }
   ],
   "source": [
    "students_df  # Notice there's no need to call print"
   ]
  },
  {
   "cell_type": "markdown",
   "id": "9f3aba0b",
   "metadata": {},
   "source": [
    "The `read_csv` function automatically creates an index column. You can see the numbers 0 to 100 in the DataFrame above. We can view the index as follows:"
   ]
  },
  {
   "cell_type": "code",
   "execution_count": 4,
   "id": "79be7a94",
   "metadata": {
    "ExecuteTime": {
     "end_time": "2025-04-24T17:47:09.884461Z",
     "start_time": "2025-04-24T17:47:09.880383Z"
    }
   },
   "outputs": [
    {
     "data": {
      "text/plain": [
       "RangeIndex(start=0, stop=101, step=1)"
      ]
     },
     "execution_count": 4,
     "metadata": {},
     "output_type": "execute_result"
    }
   ],
   "source": [
    "students_df.index"
   ]
  },
  {
   "cell_type": "markdown",
   "id": "87d56859",
   "metadata": {},
   "source": [
    "We can access rows by index using `loc`:"
   ]
  },
  {
   "cell_type": "code",
   "execution_count": 5,
   "id": "470b570d",
   "metadata": {},
   "outputs": [
    {
     "data": {
      "text/plain": [
       "Student ID                     2703f3f0\n",
       "Name                 Mr Clifford Watson\n",
       "Age                                25.0\n",
       "Subject              English Literature\n",
       "Year of Study                       1.0\n",
       "Country of Origin      Saint Barthelemy\n",
       "Name: 0, dtype: object"
      ]
     },
     "execution_count": 5,
     "metadata": {},
     "output_type": "execute_result"
    }
   ],
   "source": [
    "students_df.loc[0]"
   ]
  },
  {
   "cell_type": "markdown",
   "id": "21f5bbf2",
   "metadata": {},
   "source": [
    "This dataset already has a Student ID column which we could specify as the index column."
   ]
  },
  {
   "cell_type": "code",
   "execution_count": 6,
   "id": "895b3227",
   "metadata": {
    "ExecuteTime": {
     "end_time": "2025-04-24T17:47:10.106964Z",
     "start_time": "2025-04-24T17:47:10.101530Z"
    }
   },
   "outputs": [],
   "source": [
    "students_df = pd.read_csv(\n",
    "    'data/students.csv',\n",
    "    index_col='Student ID',\n",
    ")"
   ]
  },
  {
   "cell_type": "markdown",
   "id": "7bf0a0ee",
   "metadata": {},
   "source": [
    "Now when we view the DataFrame, we can see that 'Student ID' is being used as the index column."
   ]
  },
  {
   "cell_type": "code",
   "execution_count": 7,
   "id": "a9dc0feb",
   "metadata": {
    "ExecuteTime": {
     "end_time": "2025-04-24T17:47:10.276607Z",
     "start_time": "2025-04-24T17:47:10.267614Z"
    }
   },
   "outputs": [
    {
     "data": {
      "text/html": [
       "<div>\n",
       "<style scoped>\n",
       "    .dataframe tbody tr th:only-of-type {\n",
       "        vertical-align: middle;\n",
       "    }\n",
       "\n",
       "    .dataframe tbody tr th {\n",
       "        vertical-align: top;\n",
       "    }\n",
       "\n",
       "    .dataframe thead th {\n",
       "        text-align: right;\n",
       "    }\n",
       "</style>\n",
       "<table border=\"1\" class=\"dataframe\">\n",
       "  <thead>\n",
       "    <tr style=\"text-align: right;\">\n",
       "      <th></th>\n",
       "      <th>Name</th>\n",
       "      <th>Age</th>\n",
       "      <th>Subject</th>\n",
       "      <th>Year of Study</th>\n",
       "      <th>Country of Origin</th>\n",
       "    </tr>\n",
       "    <tr>\n",
       "      <th>Student ID</th>\n",
       "      <th></th>\n",
       "      <th></th>\n",
       "      <th></th>\n",
       "      <th></th>\n",
       "      <th></th>\n",
       "    </tr>\n",
       "  </thead>\n",
       "  <tbody>\n",
       "    <tr>\n",
       "      <th>2703f3f0</th>\n",
       "      <td>Mr Clifford Watson</td>\n",
       "      <td>25.0</td>\n",
       "      <td>English Literature</td>\n",
       "      <td>1.0</td>\n",
       "      <td>Saint Barthelemy</td>\n",
       "    </tr>\n",
       "    <tr>\n",
       "      <th>a8040287</th>\n",
       "      <td>Elliott Ward</td>\n",
       "      <td>25.0</td>\n",
       "      <td>Computer Science</td>\n",
       "      <td>4.0</td>\n",
       "      <td>Guinea</td>\n",
       "    </tr>\n",
       "    <tr>\n",
       "      <th>d8da5486</th>\n",
       "      <td>Miss Pauline Dunn</td>\n",
       "      <td>22.0</td>\n",
       "      <td>Engineering</td>\n",
       "      <td>4.0</td>\n",
       "      <td>Afghanistan</td>\n",
       "    </tr>\n",
       "    <tr>\n",
       "      <th>3ac1b74d</th>\n",
       "      <td>Mr Dominic Mason</td>\n",
       "      <td>22.0</td>\n",
       "      <td>Physics</td>\n",
       "      <td>1.0</td>\n",
       "      <td>Palau</td>\n",
       "    </tr>\n",
       "    <tr>\n",
       "      <th>67850858</th>\n",
       "      <td>Mrs Melanie Brown</td>\n",
       "      <td>18.0</td>\n",
       "      <td>English Literature</td>\n",
       "      <td>3.0</td>\n",
       "      <td>Algeria</td>\n",
       "    </tr>\n",
       "    <tr>\n",
       "      <th>...</th>\n",
       "      <td>...</td>\n",
       "      <td>...</td>\n",
       "      <td>...</td>\n",
       "      <td>...</td>\n",
       "      <td>...</td>\n",
       "    </tr>\n",
       "    <tr>\n",
       "      <th>a8be1ec3</th>\n",
       "      <td>Kelly Foster</td>\n",
       "      <td>22.0</td>\n",
       "      <td>Engineering</td>\n",
       "      <td>1.0</td>\n",
       "      <td>Netherlands</td>\n",
       "    </tr>\n",
       "    <tr>\n",
       "      <th>3b69ff22</th>\n",
       "      <td>Sara Austin</td>\n",
       "      <td>19.0</td>\n",
       "      <td>Computer Science</td>\n",
       "      <td>34.0</td>\n",
       "      <td>Liechtenstein</td>\n",
       "    </tr>\n",
       "    <tr>\n",
       "      <th>716fb45f</th>\n",
       "      <td>Miss Grace Miller</td>\n",
       "      <td>22.0</td>\n",
       "      <td>English Literature</td>\n",
       "      <td>4.0</td>\n",
       "      <td>Comoros</td>\n",
       "    </tr>\n",
       "    <tr>\n",
       "      <th>34b97db2</th>\n",
       "      <td>Miss Lydia Saunders</td>\n",
       "      <td>23.0</td>\n",
       "      <td>Physics</td>\n",
       "      <td>2.0</td>\n",
       "      <td>Faroe Islands</td>\n",
       "    </tr>\n",
       "    <tr>\n",
       "      <th>34b97db2</th>\n",
       "      <td>Miss Lydia Saunders</td>\n",
       "      <td>23.0</td>\n",
       "      <td>Physics</td>\n",
       "      <td>2.0</td>\n",
       "      <td>Faroe Islands</td>\n",
       "    </tr>\n",
       "  </tbody>\n",
       "</table>\n",
       "<p>101 rows × 5 columns</p>\n",
       "</div>"
      ],
      "text/plain": [
       "                           Name   Age             Subject  Year of Study  \\\n",
       "Student ID                                                                 \n",
       "2703f3f0     Mr Clifford Watson  25.0  English Literature            1.0   \n",
       "a8040287           Elliott Ward  25.0    Computer Science            4.0   \n",
       "d8da5486      Miss Pauline Dunn  22.0         Engineering            4.0   \n",
       "3ac1b74d       Mr Dominic Mason  22.0             Physics            1.0   \n",
       "67850858      Mrs Melanie Brown  18.0  English Literature            3.0   \n",
       "...                         ...   ...                 ...            ...   \n",
       "a8be1ec3           Kelly Foster  22.0         Engineering            1.0   \n",
       "3b69ff22            Sara Austin  19.0    Computer Science           34.0   \n",
       "716fb45f      Miss Grace Miller  22.0  English Literature            4.0   \n",
       "34b97db2    Miss Lydia Saunders  23.0             Physics            2.0   \n",
       "34b97db2    Miss Lydia Saunders  23.0             Physics            2.0   \n",
       "\n",
       "           Country of Origin  \n",
       "Student ID                    \n",
       "2703f3f0    Saint Barthelemy  \n",
       "a8040287              Guinea  \n",
       "d8da5486         Afghanistan  \n",
       "3ac1b74d               Palau  \n",
       "67850858             Algeria  \n",
       "...                      ...  \n",
       "a8be1ec3         Netherlands  \n",
       "3b69ff22       Liechtenstein  \n",
       "716fb45f             Comoros  \n",
       "34b97db2       Faroe Islands  \n",
       "34b97db2       Faroe Islands  \n",
       "\n",
       "[101 rows x 5 columns]"
      ]
     },
     "execution_count": 7,
     "metadata": {},
     "output_type": "execute_result"
    }
   ],
   "source": [
    "students_df"
   ]
  },
  {
   "cell_type": "markdown",
   "id": "d811723d",
   "metadata": {},
   "source": [
    "The index has changed accordingly:"
   ]
  },
  {
   "cell_type": "code",
   "execution_count": 8,
   "id": "fc0a65a6",
   "metadata": {
    "ExecuteTime": {
     "end_time": "2025-04-24T17:47:10.439547Z",
     "start_time": "2025-04-24T17:47:10.434454Z"
    }
   },
   "outputs": [
    {
     "data": {
      "text/plain": [
       "Index(['2703f3f0', 'a8040287', 'd8da5486', '3ac1b74d', '67850858', '62dd3a69',\n",
       "       '6b22a999', '4b744b9a', '45c54817', '5d5e1224',\n",
       "       ...\n",
       "       'f5273fa2', 'e8f05741', '655726b1', '27eca82c', 'bf9937ac', 'a8be1ec3',\n",
       "       '3b69ff22', '716fb45f', '34b97db2', '34b97db2'],\n",
       "      dtype='object', name='Student ID', length=101)"
      ]
     },
     "execution_count": 8,
     "metadata": {},
     "output_type": "execute_result"
    }
   ],
   "source": [
    "students_df.index"
   ]
  },
  {
   "cell_type": "markdown",
   "id": "44b6357c",
   "metadata": {},
   "source": [
    "Here we access a row by the new index:"
   ]
  },
  {
   "cell_type": "code",
   "execution_count": 9,
   "id": "0a26ed46",
   "metadata": {},
   "outputs": [
    {
     "data": {
      "text/plain": [
       "Name                 Mr Clifford Watson\n",
       "Age                                25.0\n",
       "Subject              English Literature\n",
       "Year of Study                       1.0\n",
       "Country of Origin      Saint Barthelemy\n",
       "Name: 2703f3f0, dtype: object"
      ]
     },
     "execution_count": 9,
     "metadata": {},
     "output_type": "execute_result"
    }
   ],
   "source": [
    "students_df.loc['2703f3f0']"
   ]
  },
  {
   "cell_type": "markdown",
   "id": "44ba7725",
   "metadata": {},
   "source": [
    "And we can still access rows by number with `iloc`:"
   ]
  },
  {
   "cell_type": "code",
   "execution_count": 10,
   "id": "f4b6e131",
   "metadata": {},
   "outputs": [
    {
     "data": {
      "text/plain": [
       "Name                 Mr Clifford Watson\n",
       "Age                                25.0\n",
       "Subject              English Literature\n",
       "Year of Study                       1.0\n",
       "Country of Origin      Saint Barthelemy\n",
       "Name: 2703f3f0, dtype: object"
      ]
     },
     "execution_count": 10,
     "metadata": {},
     "output_type": "execute_result"
    }
   ],
   "source": [
    "students_df.iloc[0]"
   ]
  },
  {
   "cell_type": "markdown",
   "id": "9b1c32b0",
   "metadata": {},
   "source": [
    "## Explore our dataset"
   ]
  },
  {
   "cell_type": "markdown",
   "id": "ae991275",
   "metadata": {},
   "source": [
    "We can easily find out how many records we loaded uning `len`:"
   ]
  },
  {
   "cell_type": "code",
   "execution_count": 11,
   "id": "56b0b5b9",
   "metadata": {
    "ExecuteTime": {
     "end_time": "2025-04-24T17:47:10.651507Z",
     "start_time": "2025-04-24T17:47:10.646890Z"
    }
   },
   "outputs": [
    {
     "data": {
      "text/plain": [
       "101"
      ]
     },
     "execution_count": 11,
     "metadata": {},
     "output_type": "execute_result"
    }
   ],
   "source": [
    "len(students_df)"
   ]
  },
  {
   "cell_type": "markdown",
   "id": "e9752c86",
   "metadata": {},
   "source": [
    "We can examine the first few records in our dataset using `head`. By default, this shows the first five rows in the DataFrame, but we can also specify the number we want as an optional argument."
   ]
  },
  {
   "cell_type": "code",
   "execution_count": 12,
   "id": "70b11f83-763f-46f9-9c8e-ace38d70cd1a",
   "metadata": {
    "ExecuteTime": {
     "end_time": "2025-04-24T17:47:10.806244Z",
     "start_time": "2025-04-24T17:47:10.798100Z"
    }
   },
   "outputs": [
    {
     "data": {
      "text/html": [
       "<div>\n",
       "<style scoped>\n",
       "    .dataframe tbody tr th:only-of-type {\n",
       "        vertical-align: middle;\n",
       "    }\n",
       "\n",
       "    .dataframe tbody tr th {\n",
       "        vertical-align: top;\n",
       "    }\n",
       "\n",
       "    .dataframe thead th {\n",
       "        text-align: right;\n",
       "    }\n",
       "</style>\n",
       "<table border=\"1\" class=\"dataframe\">\n",
       "  <thead>\n",
       "    <tr style=\"text-align: right;\">\n",
       "      <th></th>\n",
       "      <th>Name</th>\n",
       "      <th>Age</th>\n",
       "      <th>Subject</th>\n",
       "      <th>Year of Study</th>\n",
       "      <th>Country of Origin</th>\n",
       "    </tr>\n",
       "    <tr>\n",
       "      <th>Student ID</th>\n",
       "      <th></th>\n",
       "      <th></th>\n",
       "      <th></th>\n",
       "      <th></th>\n",
       "      <th></th>\n",
       "    </tr>\n",
       "  </thead>\n",
       "  <tbody>\n",
       "    <tr>\n",
       "      <th>2703f3f0</th>\n",
       "      <td>Mr Clifford Watson</td>\n",
       "      <td>25.0</td>\n",
       "      <td>English Literature</td>\n",
       "      <td>1.0</td>\n",
       "      <td>Saint Barthelemy</td>\n",
       "    </tr>\n",
       "    <tr>\n",
       "      <th>a8040287</th>\n",
       "      <td>Elliott Ward</td>\n",
       "      <td>25.0</td>\n",
       "      <td>Computer Science</td>\n",
       "      <td>4.0</td>\n",
       "      <td>Guinea</td>\n",
       "    </tr>\n",
       "    <tr>\n",
       "      <th>d8da5486</th>\n",
       "      <td>Miss Pauline Dunn</td>\n",
       "      <td>22.0</td>\n",
       "      <td>Engineering</td>\n",
       "      <td>4.0</td>\n",
       "      <td>Afghanistan</td>\n",
       "    </tr>\n",
       "    <tr>\n",
       "      <th>3ac1b74d</th>\n",
       "      <td>Mr Dominic Mason</td>\n",
       "      <td>22.0</td>\n",
       "      <td>Physics</td>\n",
       "      <td>1.0</td>\n",
       "      <td>Palau</td>\n",
       "    </tr>\n",
       "    <tr>\n",
       "      <th>67850858</th>\n",
       "      <td>Mrs Melanie Brown</td>\n",
       "      <td>18.0</td>\n",
       "      <td>English Literature</td>\n",
       "      <td>3.0</td>\n",
       "      <td>Algeria</td>\n",
       "    </tr>\n",
       "  </tbody>\n",
       "</table>\n",
       "</div>"
      ],
      "text/plain": [
       "                          Name   Age             Subject  Year of Study  \\\n",
       "Student ID                                                                \n",
       "2703f3f0    Mr Clifford Watson  25.0  English Literature            1.0   \n",
       "a8040287          Elliott Ward  25.0    Computer Science            4.0   \n",
       "d8da5486     Miss Pauline Dunn  22.0         Engineering            4.0   \n",
       "3ac1b74d      Mr Dominic Mason  22.0             Physics            1.0   \n",
       "67850858     Mrs Melanie Brown  18.0  English Literature            3.0   \n",
       "\n",
       "           Country of Origin  \n",
       "Student ID                    \n",
       "2703f3f0    Saint Barthelemy  \n",
       "a8040287              Guinea  \n",
       "d8da5486         Afghanistan  \n",
       "3ac1b74d               Palau  \n",
       "67850858             Algeria  "
      ]
     },
     "execution_count": 12,
     "metadata": {},
     "output_type": "execute_result"
    }
   ],
   "source": [
    "students_df.head()"
   ]
  },
  {
   "cell_type": "markdown",
   "id": "bf182cab",
   "metadata": {},
   "source": [
    "Similarly, we can vew the last few rows in our dataset using `tail`:"
   ]
  },
  {
   "cell_type": "code",
   "execution_count": 13,
   "id": "cfad2004",
   "metadata": {
    "ExecuteTime": {
     "end_time": "2025-04-24T17:47:11.218075Z",
     "start_time": "2025-04-24T17:47:11.210573Z"
    }
   },
   "outputs": [
    {
     "data": {
      "text/html": [
       "<div>\n",
       "<style scoped>\n",
       "    .dataframe tbody tr th:only-of-type {\n",
       "        vertical-align: middle;\n",
       "    }\n",
       "\n",
       "    .dataframe tbody tr th {\n",
       "        vertical-align: top;\n",
       "    }\n",
       "\n",
       "    .dataframe thead th {\n",
       "        text-align: right;\n",
       "    }\n",
       "</style>\n",
       "<table border=\"1\" class=\"dataframe\">\n",
       "  <thead>\n",
       "    <tr style=\"text-align: right;\">\n",
       "      <th></th>\n",
       "      <th>Name</th>\n",
       "      <th>Age</th>\n",
       "      <th>Subject</th>\n",
       "      <th>Year of Study</th>\n",
       "      <th>Country of Origin</th>\n",
       "    </tr>\n",
       "    <tr>\n",
       "      <th>Student ID</th>\n",
       "      <th></th>\n",
       "      <th></th>\n",
       "      <th></th>\n",
       "      <th></th>\n",
       "      <th></th>\n",
       "    </tr>\n",
       "  </thead>\n",
       "  <tbody>\n",
       "    <tr>\n",
       "      <th>a8be1ec3</th>\n",
       "      <td>Kelly Foster</td>\n",
       "      <td>22.0</td>\n",
       "      <td>Engineering</td>\n",
       "      <td>1.0</td>\n",
       "      <td>Netherlands</td>\n",
       "    </tr>\n",
       "    <tr>\n",
       "      <th>3b69ff22</th>\n",
       "      <td>Sara Austin</td>\n",
       "      <td>19.0</td>\n",
       "      <td>Computer Science</td>\n",
       "      <td>34.0</td>\n",
       "      <td>Liechtenstein</td>\n",
       "    </tr>\n",
       "    <tr>\n",
       "      <th>716fb45f</th>\n",
       "      <td>Miss Grace Miller</td>\n",
       "      <td>22.0</td>\n",
       "      <td>English Literature</td>\n",
       "      <td>4.0</td>\n",
       "      <td>Comoros</td>\n",
       "    </tr>\n",
       "    <tr>\n",
       "      <th>34b97db2</th>\n",
       "      <td>Miss Lydia Saunders</td>\n",
       "      <td>23.0</td>\n",
       "      <td>Physics</td>\n",
       "      <td>2.0</td>\n",
       "      <td>Faroe Islands</td>\n",
       "    </tr>\n",
       "    <tr>\n",
       "      <th>34b97db2</th>\n",
       "      <td>Miss Lydia Saunders</td>\n",
       "      <td>23.0</td>\n",
       "      <td>Physics</td>\n",
       "      <td>2.0</td>\n",
       "      <td>Faroe Islands</td>\n",
       "    </tr>\n",
       "  </tbody>\n",
       "</table>\n",
       "</div>"
      ],
      "text/plain": [
       "                           Name   Age             Subject  Year of Study  \\\n",
       "Student ID                                                                 \n",
       "a8be1ec3           Kelly Foster  22.0         Engineering            1.0   \n",
       "3b69ff22            Sara Austin  19.0    Computer Science           34.0   \n",
       "716fb45f      Miss Grace Miller  22.0  English Literature            4.0   \n",
       "34b97db2    Miss Lydia Saunders  23.0             Physics            2.0   \n",
       "34b97db2    Miss Lydia Saunders  23.0             Physics            2.0   \n",
       "\n",
       "           Country of Origin  \n",
       "Student ID                    \n",
       "a8be1ec3         Netherlands  \n",
       "3b69ff22       Liechtenstein  \n",
       "716fb45f             Comoros  \n",
       "34b97db2       Faroe Islands  \n",
       "34b97db2       Faroe Islands  "
      ]
     },
     "execution_count": 13,
     "metadata": {},
     "output_type": "execute_result"
    }
   ],
   "source": [
    "students_df.tail()"
   ]
  },
  {
   "cell_type": "markdown",
   "id": "010699a8",
   "metadata": {},
   "source": [
    "We can also get a random sample of records from the DataFrame using `sample`. By default we get one row, but we can specify how many we want."
   ]
  },
  {
   "cell_type": "code",
   "execution_count": 14,
   "id": "1e6fdefd",
   "metadata": {
    "ExecuteTime": {
     "end_time": "2025-04-24T17:47:11.492375Z",
     "start_time": "2025-04-24T17:47:11.484043Z"
    }
   },
   "outputs": [
    {
     "data": {
      "text/html": [
       "<div>\n",
       "<style scoped>\n",
       "    .dataframe tbody tr th:only-of-type {\n",
       "        vertical-align: middle;\n",
       "    }\n",
       "\n",
       "    .dataframe tbody tr th {\n",
       "        vertical-align: top;\n",
       "    }\n",
       "\n",
       "    .dataframe thead th {\n",
       "        text-align: right;\n",
       "    }\n",
       "</style>\n",
       "<table border=\"1\" class=\"dataframe\">\n",
       "  <thead>\n",
       "    <tr style=\"text-align: right;\">\n",
       "      <th></th>\n",
       "      <th>Name</th>\n",
       "      <th>Age</th>\n",
       "      <th>Subject</th>\n",
       "      <th>Year of Study</th>\n",
       "      <th>Country of Origin</th>\n",
       "    </tr>\n",
       "    <tr>\n",
       "      <th>Student ID</th>\n",
       "      <th></th>\n",
       "      <th></th>\n",
       "      <th></th>\n",
       "      <th></th>\n",
       "      <th></th>\n",
       "    </tr>\n",
       "  </thead>\n",
       "  <tbody>\n",
       "    <tr>\n",
       "      <th>72324765</th>\n",
       "      <td>Gail Henderson</td>\n",
       "      <td>21.0</td>\n",
       "      <td>Law</td>\n",
       "      <td>1.0</td>\n",
       "      <td>Eritrea</td>\n",
       "    </tr>\n",
       "    <tr>\n",
       "      <th>f156e962</th>\n",
       "      <td>Christian Howell-Holt</td>\n",
       "      <td>25.0</td>\n",
       "      <td>Law</td>\n",
       "      <td>2.0</td>\n",
       "      <td>Kyrgyz Republic</td>\n",
       "    </tr>\n",
       "    <tr>\n",
       "      <th>f3cbb058</th>\n",
       "      <td>Dr Scott Wilson</td>\n",
       "      <td>18.0</td>\n",
       "      <td>English Literature</td>\n",
       "      <td>4.0</td>\n",
       "      <td>Namibia</td>\n",
       "    </tr>\n",
       "    <tr>\n",
       "      <th>7c038fa8</th>\n",
       "      <td>Mr Declan Woods</td>\n",
       "      <td>25.0</td>\n",
       "      <td>Computer Science</td>\n",
       "      <td>1.0</td>\n",
       "      <td>Tuvalu</td>\n",
       "    </tr>\n",
       "    <tr>\n",
       "      <th>171006cf</th>\n",
       "      <td>Susan Patel</td>\n",
       "      <td>20.0</td>\n",
       "      <td>English Literature</td>\n",
       "      <td>2.0</td>\n",
       "      <td>Chad</td>\n",
       "    </tr>\n",
       "    <tr>\n",
       "      <th>3ac1b74d</th>\n",
       "      <td>Mr Dominic Mason</td>\n",
       "      <td>22.0</td>\n",
       "      <td>Physics</td>\n",
       "      <td>1.0</td>\n",
       "      <td>Palau</td>\n",
       "    </tr>\n",
       "    <tr>\n",
       "      <th>ba4fe6e7</th>\n",
       "      <td>Miss Bethany Grant</td>\n",
       "      <td>24.0</td>\n",
       "      <td>Physics</td>\n",
       "      <td>1.0</td>\n",
       "      <td>Aruba</td>\n",
       "    </tr>\n",
       "    <tr>\n",
       "      <th>e506b33a</th>\n",
       "      <td>Bethany Davies</td>\n",
       "      <td>21.0</td>\n",
       "      <td>Biology</td>\n",
       "      <td>2.0</td>\n",
       "      <td>Malaysia</td>\n",
       "    </tr>\n",
       "    <tr>\n",
       "      <th>c556523c</th>\n",
       "      <td>Dr Samuel Read</td>\n",
       "      <td>21.0</td>\n",
       "      <td>Computer Science</td>\n",
       "      <td>1.0</td>\n",
       "      <td>Bermuda</td>\n",
       "    </tr>\n",
       "    <tr>\n",
       "      <th>716fb45f</th>\n",
       "      <td>Miss Grace Miller</td>\n",
       "      <td>22.0</td>\n",
       "      <td>English Literature</td>\n",
       "      <td>4.0</td>\n",
       "      <td>Comoros</td>\n",
       "    </tr>\n",
       "  </tbody>\n",
       "</table>\n",
       "</div>"
      ],
      "text/plain": [
       "                             Name   Age             Subject  Year of Study  \\\n",
       "Student ID                                                                   \n",
       "72324765           Gail Henderson  21.0                 Law            1.0   \n",
       "f156e962    Christian Howell-Holt  25.0                 Law            2.0   \n",
       "f3cbb058          Dr Scott Wilson  18.0  English Literature            4.0   \n",
       "7c038fa8          Mr Declan Woods  25.0    Computer Science            1.0   \n",
       "171006cf              Susan Patel  20.0  English Literature            2.0   \n",
       "3ac1b74d         Mr Dominic Mason  22.0             Physics            1.0   \n",
       "ba4fe6e7       Miss Bethany Grant  24.0             Physics            1.0   \n",
       "e506b33a           Bethany Davies  21.0             Biology            2.0   \n",
       "c556523c           Dr Samuel Read  21.0    Computer Science            1.0   \n",
       "716fb45f        Miss Grace Miller  22.0  English Literature            4.0   \n",
       "\n",
       "           Country of Origin  \n",
       "Student ID                    \n",
       "72324765             Eritrea  \n",
       "f156e962     Kyrgyz Republic  \n",
       "f3cbb058             Namibia  \n",
       "7c038fa8              Tuvalu  \n",
       "171006cf                Chad  \n",
       "3ac1b74d               Palau  \n",
       "ba4fe6e7               Aruba  \n",
       "e506b33a            Malaysia  \n",
       "c556523c             Bermuda  \n",
       "716fb45f             Comoros  "
      ]
     },
     "execution_count": 14,
     "metadata": {},
     "output_type": "execute_result"
    }
   ],
   "source": [
    "students_df.sample(10)"
   ]
  },
  {
   "cell_type": "markdown",
   "id": "e93451c2",
   "metadata": {},
   "source": [
    "We can slice DataFrame objects just as we do with lists:"
   ]
  },
  {
   "cell_type": "code",
   "execution_count": 15,
   "id": "c4602a0f",
   "metadata": {
    "ExecuteTime": {
     "end_time": "2025-04-24T17:47:12.939173Z",
     "start_time": "2025-04-24T17:47:12.932275Z"
    }
   },
   "outputs": [
    {
     "data": {
      "text/html": [
       "<div>\n",
       "<style scoped>\n",
       "    .dataframe tbody tr th:only-of-type {\n",
       "        vertical-align: middle;\n",
       "    }\n",
       "\n",
       "    .dataframe tbody tr th {\n",
       "        vertical-align: top;\n",
       "    }\n",
       "\n",
       "    .dataframe thead th {\n",
       "        text-align: right;\n",
       "    }\n",
       "</style>\n",
       "<table border=\"1\" class=\"dataframe\">\n",
       "  <thead>\n",
       "    <tr style=\"text-align: right;\">\n",
       "      <th></th>\n",
       "      <th>Name</th>\n",
       "      <th>Age</th>\n",
       "      <th>Subject</th>\n",
       "      <th>Year of Study</th>\n",
       "      <th>Country of Origin</th>\n",
       "    </tr>\n",
       "    <tr>\n",
       "      <th>Student ID</th>\n",
       "      <th></th>\n",
       "      <th></th>\n",
       "      <th></th>\n",
       "      <th></th>\n",
       "      <th></th>\n",
       "    </tr>\n",
       "  </thead>\n",
       "  <tbody>\n",
       "    <tr>\n",
       "      <th>2c142f24</th>\n",
       "      <td>Jade Kirby</td>\n",
       "      <td>24.0</td>\n",
       "      <td>Biology</td>\n",
       "      <td>1.0</td>\n",
       "      <td>Fiji</td>\n",
       "    </tr>\n",
       "    <tr>\n",
       "      <th>3eec010c</th>\n",
       "      <td>Howard Marshall</td>\n",
       "      <td>NaN</td>\n",
       "      <td>Biology</td>\n",
       "      <td>1.0</td>\n",
       "      <td>Swaziland</td>\n",
       "    </tr>\n",
       "    <tr>\n",
       "      <th>f3cbb058</th>\n",
       "      <td>Dr Scott Wilson</td>\n",
       "      <td>18.0</td>\n",
       "      <td>English Literature</td>\n",
       "      <td>4.0</td>\n",
       "      <td>Namibia</td>\n",
       "    </tr>\n",
       "    <tr>\n",
       "      <th>6a406b49</th>\n",
       "      <td>Melissa Ali</td>\n",
       "      <td>18.0</td>\n",
       "      <td>Computer Science</td>\n",
       "      <td>1.0</td>\n",
       "      <td>Israel</td>\n",
       "    </tr>\n",
       "    <tr>\n",
       "      <th>836d85df</th>\n",
       "      <td>Carolyn Walker</td>\n",
       "      <td>18.0</td>\n",
       "      <td>Mathematics</td>\n",
       "      <td>4.0</td>\n",
       "      <td>Angola</td>\n",
       "    </tr>\n",
       "  </tbody>\n",
       "</table>\n",
       "</div>"
      ],
      "text/plain": [
       "                       Name   Age             Subject  Year of Study  \\\n",
       "Student ID                                                             \n",
       "2c142f24         Jade Kirby  24.0             Biology            1.0   \n",
       "3eec010c    Howard Marshall   NaN             Biology            1.0   \n",
       "f3cbb058    Dr Scott Wilson  18.0  English Literature            4.0   \n",
       "6a406b49        Melissa Ali  18.0    Computer Science            1.0   \n",
       "836d85df     Carolyn Walker  18.0         Mathematics            4.0   \n",
       "\n",
       "           Country of Origin  \n",
       "Student ID                    \n",
       "2c142f24                Fiji  \n",
       "3eec010c           Swaziland  \n",
       "f3cbb058             Namibia  \n",
       "6a406b49              Israel  \n",
       "836d85df              Angola  "
      ]
     },
     "execution_count": 15,
     "metadata": {},
     "output_type": "execute_result"
    }
   ],
   "source": [
    "students_df[10:15]"
   ]
  },
  {
   "cell_type": "markdown",
   "id": "c18a97b3",
   "metadata": {},
   "source": [
    "We can get a quick overview of the data using `info`. This shows that we have 101 non-null values of Name, but only 99 non-null values of Age. It looks like we have a couple of missing age values. We can also see that Age and Year of Study are floating-point values and that Name, Subject and Country of Origin have an 'object' Dtype. This is how strings are represented by default."
   ]
  },
  {
   "cell_type": "code",
   "execution_count": 16,
   "id": "13567651",
   "metadata": {
    "ExecuteTime": {
     "end_time": "2025-04-24T17:47:11.701457Z",
     "start_time": "2025-04-24T17:47:11.694052Z"
    }
   },
   "outputs": [
    {
     "name": "stdout",
     "output_type": "stream",
     "text": [
      "<class 'pandas.core.frame.DataFrame'>\n",
      "Index: 101 entries, 2703f3f0 to 34b97db2\n",
      "Data columns (total 5 columns):\n",
      " #   Column             Non-Null Count  Dtype  \n",
      "---  ------             --------------  -----  \n",
      " 0   Name               101 non-null    object \n",
      " 1   Age                99 non-null     float64\n",
      " 2   Subject            101 non-null    object \n",
      " 3   Year of Study      100 non-null    float64\n",
      " 4   Country of Origin  101 non-null    object \n",
      "dtypes: float64(2), object(3)\n",
      "memory usage: 8.8+ KB\n"
     ]
    }
   ],
   "source": [
    "students_df.info()"
   ]
  },
  {
   "cell_type": "markdown",
   "id": "9ccd482c",
   "metadata": {},
   "source": [
    "We can use `shape` to determine how many rows and columns we have. Notice that the number of columns does not include the index column."
   ]
  },
  {
   "cell_type": "code",
   "execution_count": 17,
   "id": "fd40763f",
   "metadata": {
    "ExecuteTime": {
     "end_time": "2025-04-24T17:47:11.965896Z",
     "start_time": "2025-04-24T17:47:11.960897Z"
    }
   },
   "outputs": [
    {
     "data": {
      "text/plain": [
       "(101, 5)"
      ]
     },
     "execution_count": 17,
     "metadata": {},
     "output_type": "execute_result"
    }
   ],
   "source": [
    "students_df.shape  # Output: (number of rows, number of columns)"
   ]
  },
  {
   "cell_type": "markdown",
   "id": "d8dd2762",
   "metadata": {},
   "source": [
    "We used the `index` attribute above to examine the DataFrame index. Here we use `columns` to show our column headings. The index column is not included in the list."
   ]
  },
  {
   "cell_type": "code",
   "execution_count": 18,
   "id": "d70168d3",
   "metadata": {
    "ExecuteTime": {
     "end_time": "2025-04-24T17:47:12.098115Z",
     "start_time": "2025-04-24T17:47:12.093063Z"
    }
   },
   "outputs": [
    {
     "data": {
      "text/plain": [
       "Index(['Name', 'Age', 'Subject', 'Year of Study', 'Country of Origin'], dtype='object')"
      ]
     },
     "execution_count": 18,
     "metadata": {},
     "output_type": "execute_result"
    }
   ],
   "source": [
    "students_df.columns"
   ]
  },
  {
   "cell_type": "markdown",
   "id": "f6baeca5",
   "metadata": {},
   "source": [
    "We can use dtypes to specifically check the data types:"
   ]
  },
  {
   "cell_type": "code",
   "execution_count": 19,
   "id": "f976268b",
   "metadata": {
    "ExecuteTime": {
     "end_time": "2025-04-24T17:47:12.230957Z",
     "start_time": "2025-04-24T17:47:12.226246Z"
    }
   },
   "outputs": [
    {
     "data": {
      "text/plain": [
       "Name                  object\n",
       "Age                  float64\n",
       "Subject               object\n",
       "Year of Study        float64\n",
       "Country of Origin     object\n",
       "dtype: object"
      ]
     },
     "execution_count": 19,
     "metadata": {},
     "output_type": "execute_result"
    }
   ],
   "source": [
    "students_df.dtypes"
   ]
  },
  {
   "cell_type": "markdown",
   "id": "1cb2bcea",
   "metadata": {},
   "source": [
    "To get a basic statistical analysis of the numeric attributes, use `describe`:"
   ]
  },
  {
   "cell_type": "code",
   "execution_count": 20,
   "id": "a459464d-9e71-427d-b888-b9690a861250",
   "metadata": {
    "ExecuteTime": {
     "end_time": "2025-04-24T17:47:12.391190Z",
     "start_time": "2025-04-24T17:47:12.382585Z"
    }
   },
   "outputs": [
    {
     "data": {
      "text/html": [
       "<div>\n",
       "<style scoped>\n",
       "    .dataframe tbody tr th:only-of-type {\n",
       "        vertical-align: middle;\n",
       "    }\n",
       "\n",
       "    .dataframe tbody tr th {\n",
       "        vertical-align: top;\n",
       "    }\n",
       "\n",
       "    .dataframe thead th {\n",
       "        text-align: right;\n",
       "    }\n",
       "</style>\n",
       "<table border=\"1\" class=\"dataframe\">\n",
       "  <thead>\n",
       "    <tr style=\"text-align: right;\">\n",
       "      <th></th>\n",
       "      <th>Age</th>\n",
       "      <th>Year of Study</th>\n",
       "    </tr>\n",
       "  </thead>\n",
       "  <tbody>\n",
       "    <tr>\n",
       "      <th>count</th>\n",
       "      <td>99.000000</td>\n",
       "      <td>100.00000</td>\n",
       "    </tr>\n",
       "    <tr>\n",
       "      <th>mean</th>\n",
       "      <td>23.848485</td>\n",
       "      <td>2.76000</td>\n",
       "    </tr>\n",
       "    <tr>\n",
       "      <th>std</th>\n",
       "      <td>22.625777</td>\n",
       "      <td>3.35484</td>\n",
       "    </tr>\n",
       "    <tr>\n",
       "      <th>min</th>\n",
       "      <td>5.000000</td>\n",
       "      <td>1.00000</td>\n",
       "    </tr>\n",
       "    <tr>\n",
       "      <th>25%</th>\n",
       "      <td>20.000000</td>\n",
       "      <td>1.00000</td>\n",
       "    </tr>\n",
       "    <tr>\n",
       "      <th>50%</th>\n",
       "      <td>22.000000</td>\n",
       "      <td>2.00000</td>\n",
       "    </tr>\n",
       "    <tr>\n",
       "      <th>75%</th>\n",
       "      <td>24.000000</td>\n",
       "      <td>3.25000</td>\n",
       "    </tr>\n",
       "    <tr>\n",
       "      <th>max</th>\n",
       "      <td>245.000000</td>\n",
       "      <td>34.00000</td>\n",
       "    </tr>\n",
       "  </tbody>\n",
       "</table>\n",
       "</div>"
      ],
      "text/plain": [
       "              Age  Year of Study\n",
       "count   99.000000      100.00000\n",
       "mean    23.848485        2.76000\n",
       "std     22.625777        3.35484\n",
       "min      5.000000        1.00000\n",
       "25%     20.000000        1.00000\n",
       "50%     22.000000        2.00000\n",
       "75%     24.000000        3.25000\n",
       "max    245.000000       34.00000"
      ]
     },
     "execution_count": 20,
     "metadata": {},
     "output_type": "execute_result"
    }
   ],
   "source": [
    "students_df.describe()"
   ]
  },
  {
   "cell_type": "markdown",
   "id": "565cdb6a",
   "metadata": {},
   "source": [
    "If we have a lot of numeric columns, it can be easier view the transposition of the DataFrame returned by `describe`. We can easily do this using `T`:"
   ]
  },
  {
   "cell_type": "code",
   "execution_count": 21,
   "id": "acdbf635",
   "metadata": {
    "ExecuteTime": {
     "end_time": "2025-04-24T17:47:12.630396Z",
     "start_time": "2025-04-24T17:47:12.619915Z"
    }
   },
   "outputs": [
    {
     "data": {
      "text/html": [
       "<div>\n",
       "<style scoped>\n",
       "    .dataframe tbody tr th:only-of-type {\n",
       "        vertical-align: middle;\n",
       "    }\n",
       "\n",
       "    .dataframe tbody tr th {\n",
       "        vertical-align: top;\n",
       "    }\n",
       "\n",
       "    .dataframe thead th {\n",
       "        text-align: right;\n",
       "    }\n",
       "</style>\n",
       "<table border=\"1\" class=\"dataframe\">\n",
       "  <thead>\n",
       "    <tr style=\"text-align: right;\">\n",
       "      <th></th>\n",
       "      <th>count</th>\n",
       "      <th>mean</th>\n",
       "      <th>std</th>\n",
       "      <th>min</th>\n",
       "      <th>25%</th>\n",
       "      <th>50%</th>\n",
       "      <th>75%</th>\n",
       "      <th>max</th>\n",
       "    </tr>\n",
       "  </thead>\n",
       "  <tbody>\n",
       "    <tr>\n",
       "      <th>Age</th>\n",
       "      <td>99.0</td>\n",
       "      <td>23.848485</td>\n",
       "      <td>22.625777</td>\n",
       "      <td>5.0</td>\n",
       "      <td>20.0</td>\n",
       "      <td>22.0</td>\n",
       "      <td>24.00</td>\n",
       "      <td>245.0</td>\n",
       "    </tr>\n",
       "    <tr>\n",
       "      <th>Year of Study</th>\n",
       "      <td>100.0</td>\n",
       "      <td>2.760000</td>\n",
       "      <td>3.354840</td>\n",
       "      <td>1.0</td>\n",
       "      <td>1.0</td>\n",
       "      <td>2.0</td>\n",
       "      <td>3.25</td>\n",
       "      <td>34.0</td>\n",
       "    </tr>\n",
       "  </tbody>\n",
       "</table>\n",
       "</div>"
      ],
      "text/plain": [
       "               count       mean        std  min   25%   50%    75%    max\n",
       "Age             99.0  23.848485  22.625777  5.0  20.0  22.0  24.00  245.0\n",
       "Year of Study  100.0   2.760000   3.354840  1.0   1.0   2.0   3.25   34.0"
      ]
     },
     "execution_count": 21,
     "metadata": {},
     "output_type": "execute_result"
    }
   ],
   "source": [
    "students_df.describe().T"
   ]
  },
  {
   "cell_type": "markdown",
   "id": "1ac9f96a",
   "metadata": {},
   "source": [
    "Here we use `nunique` to see how many unique values each column has."
   ]
  },
  {
   "cell_type": "code",
   "execution_count": 22,
   "id": "ea0ac050",
   "metadata": {},
   "outputs": [
    {
     "data": {
      "text/plain": [
       "Name                 100\n",
       "Age                   10\n",
       "Subject               10\n",
       "Year of Study          5\n",
       "Country of Origin     81\n",
       "dtype: int64"
      ]
     },
     "execution_count": 22,
     "metadata": {},
     "output_type": "execute_result"
    }
   ],
   "source": [
    "students_df.nunique()"
   ]
  },
  {
   "cell_type": "markdown",
   "id": "ae6eb188",
   "metadata": {},
   "source": [
    "We can use `value_counts` to count each unique value for a particular column. Here we see that the ages 22 and 21 occur 16 times each."
   ]
  },
  {
   "cell_type": "code",
   "execution_count": 23,
   "id": "fd7dd56b",
   "metadata": {},
   "outputs": [
    {
     "data": {
      "text/plain": [
       "Age\n",
       "21.0     16\n",
       "24.0     15\n",
       "23.0     14\n",
       "25.0     12\n",
       "22.0     12\n",
       "18.0     12\n",
       "20.0      9\n",
       "19.0      7\n",
       "245.0     1\n",
       "5.0       1\n",
       "Name: count, dtype: int64"
      ]
     },
     "execution_count": 23,
     "metadata": {},
     "output_type": "execute_result"
    }
   ],
   "source": [
    "students_df['Age'].value_counts()"
   ]
  },
  {
   "cell_type": "markdown",
   "id": "a8f29332",
   "metadata": {},
   "source": [
    "The `value_counts` method works with categorical data as well. Here we see that English Literature is the most commonly studied subject in our dataset."
   ]
  },
  {
   "cell_type": "code",
   "execution_count": 24,
   "id": "62a6b97c",
   "metadata": {},
   "outputs": [
    {
     "data": {
      "text/plain": [
       "Subject\n",
       "English Literature    16\n",
       "Computer Science      13\n",
       "Medicine              11\n",
       "Biology               11\n",
       "Law                   11\n",
       "Engineering            9\n",
       "Physics                8\n",
       "Mathematics            8\n",
       "History                7\n",
       "Art                    7\n",
       "Name: count, dtype: int64"
      ]
     },
     "execution_count": 24,
     "metadata": {},
     "output_type": "execute_result"
    }
   ],
   "source": [
    "students_df['Subject'].value_counts()"
   ]
  },
  {
   "cell_type": "markdown",
   "id": "53a5364e",
   "metadata": {},
   "source": [
    "And here we see that Belize is the most frequently occurring country of origin. The values in this dataset were generated randomly, so there are more countries of origin than we might normally expect."
   ]
  },
  {
   "cell_type": "code",
   "execution_count": 25,
   "id": "7cdd4639",
   "metadata": {},
   "outputs": [
    {
     "data": {
      "text/plain": [
       "Country of Origin\n",
       "Belize              4\n",
       "Comoros             3\n",
       "Faroe Islands       2\n",
       "Marshall Islands    2\n",
       "Bahrain             2\n",
       "                   ..\n",
       "Zimbabwe            1\n",
       "Guinea              1\n",
       "Tunisia             1\n",
       "Burkina Faso        1\n",
       "Lebanon             1\n",
       "Name: count, Length: 81, dtype: int64"
      ]
     },
     "execution_count": 25,
     "metadata": {},
     "output_type": "execute_result"
    }
   ],
   "source": [
    "students_df['Country of Origin'].value_counts()"
   ]
  },
  {
   "cell_type": "markdown",
   "id": "1be42370",
   "metadata": {},
   "source": [
    "We can also explore different groupings of data. Here we use `groupby` and `mean` to show the average student age by subject."
   ]
  },
  {
   "cell_type": "code",
   "execution_count": 26,
   "id": "c1ae0c8b",
   "metadata": {},
   "outputs": [
    {
     "data": {
      "text/plain": [
       "Subject\n",
       "Art                   19.428571\n",
       "Biology               18.900000\n",
       "Computer Science      21.153846\n",
       "Engineering           22.888889\n",
       "English Literature    22.666667\n",
       "History               22.714286\n",
       "Law                   21.818182\n",
       "Mathematics           48.750000\n",
       "Medicine              22.181818\n",
       "Physics               22.750000\n",
       "Name: Age, dtype: float64"
      ]
     },
     "execution_count": 26,
     "metadata": {},
     "output_type": "execute_result"
    }
   ],
   "source": [
    "students_df.groupby('Subject')['Age'].mean()"
   ]
  },
  {
   "cell_type": "markdown",
   "id": "9d6ac03e",
   "metadata": {},
   "source": [
    "Similarly, here we show the average year of study by country of origin."
   ]
  },
  {
   "cell_type": "code",
   "execution_count": 27,
   "id": "24e15911",
   "metadata": {},
   "outputs": [
    {
     "data": {
      "text/plain": [
       "Country of Origin\n",
       "Afghanistan            4.0\n",
       "Algeria                3.0\n",
       "Angola                 3.0\n",
       "Anguilla               4.0\n",
       "Antigua and Barbuda    3.0\n",
       "                      ... \n",
       "Uruguay                4.0\n",
       "Uzbekistan             1.0\n",
       "Vietnam                3.0\n",
       "Wallis and Futuna      4.0\n",
       "Zimbabwe               1.0\n",
       "Name: Year of Study, Length: 81, dtype: float64"
      ]
     },
     "execution_count": 27,
     "metadata": {},
     "output_type": "execute_result"
    }
   ],
   "source": [
    "students_df.groupby('Country of Origin')['Year of Study'].mean()"
   ]
  },
  {
   "cell_type": "markdown",
   "id": "4f784dd2",
   "metadata": {},
   "source": [
    "### Some basic plotting"
   ]
  },
  {
   "cell_type": "markdown",
   "id": "f31ed9f6",
   "metadata": {},
   "source": [
    "Here we use the `plot` method to quickly create a bar chart."
   ]
  },
  {
   "cell_type": "code",
   "execution_count": 28,
   "id": "d97dc2d2",
   "metadata": {},
   "outputs": [
    {
     "data": {
      "text/plain": [
       "<Axes: xlabel='Age'>"
      ]
     },
     "execution_count": 28,
     "metadata": {},
     "output_type": "execute_result"
    },
    {
     "data": {
      "image/png": "[encoded data removed]",
      "text/plain": [
       "<Figure size 640x480 with 1 Axes>"
      ]
     },
     "metadata": {},
     "output_type": "display_data"
    }
   ],
   "source": [
    "students_df['Age'].value_counts().plot(kind='bar')"
   ]
  },
  {
   "cell_type": "markdown",
   "id": "7d3f9213",
   "metadata": {},
   "source": [
    "Here we do a similar thing, but we're grouping by age and then plotting the size of each grouping. In this case the bars are sorted by age rather than count."
   ]
  },
  {
   "cell_type": "code",
   "execution_count": 29,
   "id": "e4908b14",
   "metadata": {},
   "outputs": [
    {
     "data": {
      "text/plain": [
       "<Axes: xlabel='Age'>"
      ]
     },
     "execution_count": 29,
     "metadata": {},
     "output_type": "execute_result"
    },
    {
     "data": {
      "image/png": "[encoded data removed]",
      "text/plain": [
       "<Figure size 640x480 with 1 Axes>"
      ]
     },
     "metadata": {},
     "output_type": "display_data"
    }
   ],
   "source": [
    "students_df.groupby('Age').size().plot(kind='bar', color='green')"
   ]
  },
  {
   "cell_type": "markdown",
   "id": "4dc2fa81",
   "metadata": {},
   "source": [
    "## Clean our data"
   ]
  },
  {
   "cell_type": "markdown",
   "id": "1711d6c1",
   "metadata": {},
   "source": [
    "### Handling missing values\n",
    "We could run into problems if our DataFrame contains rows with missing data, e.g. if we try to use the data to build machine learning models."
   ]
  },
  {
   "cell_type": "markdown",
   "id": "cfec0205",
   "metadata": {},
   "source": [
    "We can find out how many missing values for each column as follows:"
   ]
  },
  {
   "cell_type": "code",
   "execution_count": 30,
   "id": "b7d708b8-7f9f-4c4f-9149-8c6ce5b72b1d",
   "metadata": {
    "ExecuteTime": {
     "end_time": "2025-04-24T17:47:13.252394Z",
     "start_time": "2025-04-24T17:47:13.248199Z"
    }
   },
   "outputs": [
    {
     "data": {
      "text/plain": [
       "Name                 0\n",
       "Age                  2\n",
       "Subject              0\n",
       "Year of Study        1\n",
       "Country of Origin    0\n",
       "dtype: int64"
      ]
     },
     "execution_count": 30,
     "metadata": {},
     "output_type": "execute_result"
    }
   ],
   "source": [
    "students_df.isna().sum()  # isnull does the same thing as isna"
   ]
  },
  {
   "cell_type": "markdown",
   "id": "7093741c",
   "metadata": {},
   "source": [
    "We can see which rows contain missing values in any column."
   ]
  },
  {
   "cell_type": "code",
   "execution_count": 31,
   "id": "bbf4d132",
   "metadata": {},
   "outputs": [
    {
     "data": {
      "text/html": [
       "<div>\n",
       "<style scoped>\n",
       "    .dataframe tbody tr th:only-of-type {\n",
       "        vertical-align: middle;\n",
       "    }\n",
       "\n",
       "    .dataframe tbody tr th {\n",
       "        vertical-align: top;\n",
       "    }\n",
       "\n",
       "    .dataframe thead th {\n",
       "        text-align: right;\n",
       "    }\n",
       "</style>\n",
       "<table border=\"1\" class=\"dataframe\">\n",
       "  <thead>\n",
       "    <tr style=\"text-align: right;\">\n",
       "      <th></th>\n",
       "      <th>Name</th>\n",
       "      <th>Age</th>\n",
       "      <th>Subject</th>\n",
       "      <th>Year of Study</th>\n",
       "      <th>Country of Origin</th>\n",
       "    </tr>\n",
       "    <tr>\n",
       "      <th>Student ID</th>\n",
       "      <th></th>\n",
       "      <th></th>\n",
       "      <th></th>\n",
       "      <th></th>\n",
       "      <th></th>\n",
       "    </tr>\n",
       "  </thead>\n",
       "  <tbody>\n",
       "    <tr>\n",
       "      <th>4b744b9a</th>\n",
       "      <td>Garry Thornton</td>\n",
       "      <td>NaN</td>\n",
       "      <td>English Literature</td>\n",
       "      <td>4.0</td>\n",
       "      <td>Cuba</td>\n",
       "    </tr>\n",
       "    <tr>\n",
       "      <th>3eec010c</th>\n",
       "      <td>Howard Marshall</td>\n",
       "      <td>NaN</td>\n",
       "      <td>Biology</td>\n",
       "      <td>1.0</td>\n",
       "      <td>Swaziland</td>\n",
       "    </tr>\n",
       "    <tr>\n",
       "      <th>335dd32f</th>\n",
       "      <td>Ruth Miller</td>\n",
       "      <td>18.0</td>\n",
       "      <td>Biology</td>\n",
       "      <td>NaN</td>\n",
       "      <td>Jersey</td>\n",
       "    </tr>\n",
       "  </tbody>\n",
       "</table>\n",
       "</div>"
      ],
      "text/plain": [
       "                       Name   Age             Subject  Year of Study  \\\n",
       "Student ID                                                             \n",
       "4b744b9a     Garry Thornton   NaN  English Literature            4.0   \n",
       "3eec010c    Howard Marshall   NaN             Biology            1.0   \n",
       "335dd32f        Ruth Miller  18.0             Biology            NaN   \n",
       "\n",
       "           Country of Origin  \n",
       "Student ID                    \n",
       "4b744b9a                Cuba  \n",
       "3eec010c           Swaziland  \n",
       "335dd32f              Jersey  "
      ]
     },
     "execution_count": 31,
     "metadata": {},
     "output_type": "execute_result"
    }
   ],
   "source": [
    "students_df[students_df.isna().any(axis=1)]"
   ]
  },
  {
   "cell_type": "markdown",
   "id": "e919f446",
   "metadata": {},
   "source": [
    "Or just show rows with missing values in a particular column."
   ]
  },
  {
   "cell_type": "code",
   "execution_count": 32,
   "id": "f03bfdcd",
   "metadata": {},
   "outputs": [
    {
     "data": {
      "text/html": [
       "<div>\n",
       "<style scoped>\n",
       "    .dataframe tbody tr th:only-of-type {\n",
       "        vertical-align: middle;\n",
       "    }\n",
       "\n",
       "    .dataframe tbody tr th {\n",
       "        vertical-align: top;\n",
       "    }\n",
       "\n",
       "    .dataframe thead th {\n",
       "        text-align: right;\n",
       "    }\n",
       "</style>\n",
       "<table border=\"1\" class=\"dataframe\">\n",
       "  <thead>\n",
       "    <tr style=\"text-align: right;\">\n",
       "      <th></th>\n",
       "      <th>Name</th>\n",
       "      <th>Age</th>\n",
       "      <th>Subject</th>\n",
       "      <th>Year of Study</th>\n",
       "      <th>Country of Origin</th>\n",
       "    </tr>\n",
       "    <tr>\n",
       "      <th>Student ID</th>\n",
       "      <th></th>\n",
       "      <th></th>\n",
       "      <th></th>\n",
       "      <th></th>\n",
       "      <th></th>\n",
       "    </tr>\n",
       "  </thead>\n",
       "  <tbody>\n",
       "    <tr>\n",
       "      <th>4b744b9a</th>\n",
       "      <td>Garry Thornton</td>\n",
       "      <td>NaN</td>\n",
       "      <td>English Literature</td>\n",
       "      <td>4.0</td>\n",
       "      <td>Cuba</td>\n",
       "    </tr>\n",
       "    <tr>\n",
       "      <th>3eec010c</th>\n",
       "      <td>Howard Marshall</td>\n",
       "      <td>NaN</td>\n",
       "      <td>Biology</td>\n",
       "      <td>1.0</td>\n",
       "      <td>Swaziland</td>\n",
       "    </tr>\n",
       "  </tbody>\n",
       "</table>\n",
       "</div>"
      ],
      "text/plain": [
       "                       Name  Age             Subject  Year of Study  \\\n",
       "Student ID                                                            \n",
       "4b744b9a     Garry Thornton  NaN  English Literature            4.0   \n",
       "3eec010c    Howard Marshall  NaN             Biology            1.0   \n",
       "\n",
       "           Country of Origin  \n",
       "Student ID                    \n",
       "4b744b9a                Cuba  \n",
       "3eec010c           Swaziland  "
      ]
     },
     "execution_count": 32,
     "metadata": {},
     "output_type": "execute_result"
    }
   ],
   "source": [
    "students_df[students_df['Age'].isna()]"
   ]
  },
  {
   "cell_type": "markdown",
   "id": "ad6fd638",
   "metadata": {},
   "source": [
    "There are two main ways in which we might handle missing values.\n",
    "1. We could just delete the rows that contain the missing values. This is OK when we have enough data to build an effective machine learning model, even when those rows are deleted.\n",
    "2. We could fill in (or impute) the missing values by trying to guess the value or by using a sensible default value that won't unduly skew our model. This may enable us to benefit from data that otherwise would be deleted and can be a good approach when data is less plentiful."
   ]
  },
  {
   "cell_type": "markdown",
   "id": "b5a7b9db",
   "metadata": {},
   "source": [
    "### Imputation: filling in missing values\n",
    "In the examples below, we use `fillna` to fill in the missing 'Age' and 'Years of Study' values with their medians. The median value can be a better choice than the mean value because it is less affected by outliers."
   ]
  },
  {
   "cell_type": "code",
   "execution_count": 33,
   "id": "68e297d7",
   "metadata": {
    "ExecuteTime": {
     "end_time": "2025-04-24T17:47:13.527729Z",
     "start_time": "2025-04-24T17:47:13.523534Z"
    }
   },
   "outputs": [
    {
     "data": {
      "text/plain": [
       "22.0"
      ]
     },
     "execution_count": 33,
     "metadata": {},
     "output_type": "execute_result"
    }
   ],
   "source": [
    "median_age = students_df['Age'].median()\n",
    "median_age"
   ]
  },
  {
   "cell_type": "code",
   "execution_count": 34,
   "id": "0ed6c4ec",
   "metadata": {},
   "outputs": [],
   "source": [
    "students_df['Age'] = students_df['Age'].fillna(median_age)"
   ]
  },
  {
   "cell_type": "code",
   "execution_count": 35,
   "id": "ceed0a3d-3629-493e-a497-29274d7fc27a",
   "metadata": {
    "ExecuteTime": {
     "end_time": "2025-04-24T17:47:13.720106Z",
     "start_time": "2025-04-24T17:47:13.716831Z"
    }
   },
   "outputs": [
    {
     "data": {
      "text/plain": [
       "2.0"
      ]
     },
     "execution_count": 35,
     "metadata": {},
     "output_type": "execute_result"
    }
   ],
   "source": [
    "median_year_of_study = students_df['Year of Study'].median()\n",
    "median_year_of_study"
   ]
  },
  {
   "cell_type": "code",
   "execution_count": 36,
   "id": "ee669617",
   "metadata": {},
   "outputs": [],
   "source": [
    "students_df['Year of Study'] = students_df['Year of Study'].fillna(median_year_of_study)"
   ]
  },
  {
   "cell_type": "markdown",
   "id": "45f0a9fc",
   "metadata": {},
   "source": [
    "Now that we have filled in the missing values, we can confirm that there are no more missing values."
   ]
  },
  {
   "cell_type": "code",
   "execution_count": 37,
   "id": "e447cc7a",
   "metadata": {
    "ExecuteTime": {
     "end_time": "2025-04-24T17:47:13.882419Z",
     "start_time": "2025-04-24T17:47:13.876141Z"
    }
   },
   "outputs": [
    {
     "data": {
      "text/plain": [
       "Name                 0\n",
       "Age                  0\n",
       "Subject              0\n",
       "Year of Study        0\n",
       "Country of Origin    0\n",
       "dtype: int64"
      ]
     },
     "execution_count": 37,
     "metadata": {},
     "output_type": "execute_result"
    }
   ],
   "source": [
    "students_df.isna().sum()"
   ]
  },
  {
   "cell_type": "markdown",
   "id": "85f0b204",
   "metadata": {},
   "source": [
    "### Deleting rows with missing values\n",
    "We can use `dropna` rather than `fillna` if we want to delete the rows with missing values. In contrast to 'imputation', I like to call this 'amputation', although that's not a commonly used term."
   ]
  },
  {
   "cell_type": "code",
   "execution_count": 38,
   "id": "96df4dde-31b0-4307-8af6-bf1a6b953909",
   "metadata": {
    "ExecuteTime": {
     "end_time": "2025-04-24T17:47:14.043347Z",
     "start_time": "2025-04-24T17:47:14.037491Z"
    }
   },
   "outputs": [],
   "source": [
    "# We've replaced the missing values already, so this line will have no effect:\n",
    "students_df = students_df.dropna()\n",
    "\n",
    "# We can also drop rows that contain missing values in specified columns\n",
    "# students_df = students_df.dropna(subset=['Age', 'Year of Study'])"
   ]
  },
  {
   "cell_type": "markdown",
   "id": "c28e3de9",
   "metadata": {},
   "source": [
    "You might see `inplace=True` being used, as in the examples below. This code works, but it's no more efficient than the equivalent code above, and it's proposed that the inplace parameters will be removed in a future pandas release. See this stack overflow link for more info: https://stackoverflow.com/questions/45570984/in-pandas-is-inplace-true-considered-harmful-or-not"
   ]
  },
  {
   "cell_type": "code",
   "execution_count": 39,
   "id": "3c77fa3f",
   "metadata": {
    "ExecuteTime": {
     "end_time": "2025-04-24T17:47:14.201355Z",
     "start_time": "2025-04-24T17:47:14.195353Z"
    }
   },
   "outputs": [],
   "source": [
    "students_df.dropna(subset=['Age'], inplace=True)\n",
    "students_df.dropna(subset=['Year of Study'], inplace=True)"
   ]
  },
  {
   "cell_type": "markdown",
   "id": "451751af",
   "metadata": {},
   "source": [
    "We had 101 records when we checked above. Here we confirm that we haven't deleted any."
   ]
  },
  {
   "cell_type": "code",
   "execution_count": 40,
   "id": "a23f7c61-fde9-4bc9-9fc4-7cf4347cec3a",
   "metadata": {
    "ExecuteTime": {
     "end_time": "2025-04-24T17:47:14.319666Z",
     "start_time": "2025-04-24T17:47:14.315735Z"
    }
   },
   "outputs": [
    {
     "data": {
      "text/plain": [
       "101"
      ]
     },
     "execution_count": 40,
     "metadata": {},
     "output_type": "execute_result"
    }
   ],
   "source": [
    "len(students_df)"
   ]
  },
  {
   "cell_type": "markdown",
   "id": "29a0b513",
   "metadata": {},
   "source": [
    "### Checking for outliers\n",
    "There are various ways in which we could check for outliers. For example, we could visualise the data using a box plot (we'll soon learn more about data visualisation). We could also calculate the mean and the standard deviation and identify values that are more than, say, three standard deviations away from the mean."
   ]
  },
  {
   "cell_type": "markdown",
   "id": "9660d87d",
   "metadata": {},
   "source": [
    "For this example, we'll assume ages of less than 17 or greater than 30 should be checked, and that the year of study should be in the range 1 to 4.\n",
    "\n",
    "In the examples below the vertical bar `|` is the OR operator.\n",
    "\n",
    "You can also use a single ampersand `&` for AND, and a tilde `~` for NOT."
   ]
  },
  {
   "cell_type": "code",
   "execution_count": 41,
   "id": "aea7c9e4-1ead-485e-a447-f966edc22402",
   "metadata": {
    "ExecuteTime": {
     "end_time": "2025-04-24T17:47:14.397871Z",
     "start_time": "2025-04-24T17:47:14.389650Z"
    }
   },
   "outputs": [
    {
     "data": {
      "text/html": [
       "<div>\n",
       "<style scoped>\n",
       "    .dataframe tbody tr th:only-of-type {\n",
       "        vertical-align: middle;\n",
       "    }\n",
       "\n",
       "    .dataframe tbody tr th {\n",
       "        vertical-align: top;\n",
       "    }\n",
       "\n",
       "    .dataframe thead th {\n",
       "        text-align: right;\n",
       "    }\n",
       "</style>\n",
       "<table border=\"1\" class=\"dataframe\">\n",
       "  <thead>\n",
       "    <tr style=\"text-align: right;\">\n",
       "      <th></th>\n",
       "      <th>Name</th>\n",
       "      <th>Age</th>\n",
       "      <th>Subject</th>\n",
       "      <th>Year of Study</th>\n",
       "      <th>Country of Origin</th>\n",
       "    </tr>\n",
       "    <tr>\n",
       "      <th>Student ID</th>\n",
       "      <th></th>\n",
       "      <th></th>\n",
       "      <th></th>\n",
       "      <th></th>\n",
       "      <th></th>\n",
       "    </tr>\n",
       "  </thead>\n",
       "  <tbody>\n",
       "    <tr>\n",
       "      <th>27166ecb</th>\n",
       "      <td>Dr Terry Lewis</td>\n",
       "      <td>245.0</td>\n",
       "      <td>Mathematics</td>\n",
       "      <td>3.0</td>\n",
       "      <td>Fiji</td>\n",
       "    </tr>\n",
       "    <tr>\n",
       "      <th>95fadd5e</th>\n",
       "      <td>Sheila Berry</td>\n",
       "      <td>5.0</td>\n",
       "      <td>Biology</td>\n",
       "      <td>1.0</td>\n",
       "      <td>Romania</td>\n",
       "    </tr>\n",
       "  </tbody>\n",
       "</table>\n",
       "</div>"
      ],
      "text/plain": [
       "                      Name    Age      Subject  Year of Study  \\\n",
       "Student ID                                                      \n",
       "27166ecb    Dr Terry Lewis  245.0  Mathematics            3.0   \n",
       "95fadd5e      Sheila Berry    5.0      Biology            1.0   \n",
       "\n",
       "           Country of Origin  \n",
       "Student ID                    \n",
       "27166ecb                Fiji  \n",
       "95fadd5e             Romania  "
      ]
     },
     "execution_count": 41,
     "metadata": {},
     "output_type": "execute_result"
    }
   ],
   "source": [
    "students_df[(students_df['Age'] < 17) | (students_df['Age'] > 30)]"
   ]
  },
  {
   "cell_type": "code",
   "execution_count": 42,
   "id": "e7f7d72d-3c5c-4ef6-be00-6a86b7885787",
   "metadata": {
    "ExecuteTime": {
     "end_time": "2025-04-24T17:47:14.575022Z",
     "start_time": "2025-04-24T17:47:14.566502Z"
    }
   },
   "outputs": [
    {
     "data": {
      "text/html": [
       "<div>\n",
       "<style scoped>\n",
       "    .dataframe tbody tr th:only-of-type {\n",
       "        vertical-align: middle;\n",
       "    }\n",
       "\n",
       "    .dataframe tbody tr th {\n",
       "        vertical-align: top;\n",
       "    }\n",
       "\n",
       "    .dataframe thead th {\n",
       "        text-align: right;\n",
       "    }\n",
       "</style>\n",
       "<table border=\"1\" class=\"dataframe\">\n",
       "  <thead>\n",
       "    <tr style=\"text-align: right;\">\n",
       "      <th></th>\n",
       "      <th>Name</th>\n",
       "      <th>Age</th>\n",
       "      <th>Subject</th>\n",
       "      <th>Year of Study</th>\n",
       "      <th>Country of Origin</th>\n",
       "    </tr>\n",
       "    <tr>\n",
       "      <th>Student ID</th>\n",
       "      <th></th>\n",
       "      <th></th>\n",
       "      <th></th>\n",
       "      <th></th>\n",
       "      <th></th>\n",
       "    </tr>\n",
       "  </thead>\n",
       "  <tbody>\n",
       "    <tr>\n",
       "      <th>3b69ff22</th>\n",
       "      <td>Sara Austin</td>\n",
       "      <td>19.0</td>\n",
       "      <td>Computer Science</td>\n",
       "      <td>34.0</td>\n",
       "      <td>Liechtenstein</td>\n",
       "    </tr>\n",
       "  </tbody>\n",
       "</table>\n",
       "</div>"
      ],
      "text/plain": [
       "                   Name   Age           Subject  Year of Study  \\\n",
       "Student ID                                                       \n",
       "3b69ff22    Sara Austin  19.0  Computer Science           34.0   \n",
       "\n",
       "           Country of Origin  \n",
       "Student ID                    \n",
       "3b69ff22       Liechtenstein  "
      ]
     },
     "execution_count": 42,
     "metadata": {},
     "output_type": "execute_result"
    }
   ],
   "source": [
    "students_df[(students_df['Year of Study'] < 1) | (students_df['Year of Study'] > 4)]"
   ]
  },
  {
   "cell_type": "markdown",
   "id": "5a434e58",
   "metadata": {},
   "source": [
    "Ages of 245 and 5 both seem unreasonable, as does a year of study of 34. We can again replace these values or filter out the rows that contain them."
   ]
  },
  {
   "cell_type": "markdown",
   "id": "a32c69f4",
   "metadata": {},
   "source": [
    "Here we replace the age outliers with the median. We do this using `loc` and setting a Boolean condition to identify the values we want to replace."
   ]
  },
  {
   "cell_type": "code",
   "execution_count": 43,
   "id": "f879d223",
   "metadata": {
    "ExecuteTime": {
     "end_time": "2025-04-24T17:47:14.734753Z",
     "start_time": "2025-04-24T17:47:14.730863Z"
    }
   },
   "outputs": [],
   "source": [
    "students_df.loc[(students_df['Age'] < 17) | (students_df['Age'] > 30), 'Age'] = median_age"
   ]
  },
  {
   "cell_type": "markdown",
   "id": "f0ca5994",
   "metadata": {},
   "source": [
    "And here we replace the year of study outliers with the median."
   ]
  },
  {
   "cell_type": "code",
   "execution_count": 44,
   "id": "7e72b134-ee03-455c-8cc6-1e273eface94",
   "metadata": {
    "ExecuteTime": {
     "end_time": "2025-04-24T17:47:14.974958Z",
     "start_time": "2025-04-24T17:47:14.971112Z"
    }
   },
   "outputs": [],
   "source": [
    "students_df.loc[\n",
    "    (students_df['Year of Study'] < 1) | (students_df['Year of Study'] > 4), 'Year of Study'\n",
    "    ] = median_year_of_study"
   ]
  },
  {
   "cell_type": "markdown",
   "id": "bf2e6f34",
   "metadata": {},
   "source": [
    "In the example below, we show how to filter out the outliers:"
   ]
  },
  {
   "cell_type": "code",
   "execution_count": 45,
   "id": "501b938f-5bcd-4868-b56a-feb0cf07e765",
   "metadata": {
    "ExecuteTime": {
     "end_time": "2025-04-24T17:47:15.106102Z",
     "start_time": "2025-04-24T17:47:15.100966Z"
    }
   },
   "outputs": [],
   "source": [
    "# We have already replaced the outlier values, so this code won't have any effect\n",
    "students_df = students_df[(students_df['Age'] >= 17) & (students_df['Age'] <= 30)]\n",
    "students_df = students_df[(students_df['Year of Study'] >= 1) & (students_df['Year of Study'] <= 4)]"
   ]
  },
  {
   "cell_type": "code",
   "execution_count": 46,
   "id": "e6acfb1a",
   "metadata": {
    "ExecuteTime": {
     "end_time": "2025-04-24T17:47:15.165701Z",
     "start_time": "2025-04-24T17:47:15.161211Z"
    }
   },
   "outputs": [
    {
     "data": {
      "text/plain": [
       "101"
      ]
     },
     "execution_count": 46,
     "metadata": {},
     "output_type": "execute_result"
    }
   ],
   "source": [
    "# Confirming again that we still have 101 rows\n",
    "len(students_df)"
   ]
  },
  {
   "cell_type": "markdown",
   "id": "5a7a80db",
   "metadata": {},
   "source": [
    "### Modify the datatypes\n",
    "When we checked the datatypes earlier, we saw that 'Age' and 'Year of Study' were floating point values.  "
   ]
  },
  {
   "cell_type": "code",
   "execution_count": 47,
   "id": "d0397990-118e-44e1-975c-c88aab73801d",
   "metadata": {
    "ExecuteTime": {
     "end_time": "2025-04-24T17:47:15.282070Z",
     "start_time": "2025-04-24T17:47:15.277304Z"
    }
   },
   "outputs": [
    {
     "data": {
      "text/plain": [
       "Name                  object\n",
       "Age                  float64\n",
       "Subject               object\n",
       "Year of Study        float64\n",
       "Country of Origin     object\n",
       "dtype: object"
      ]
     },
     "execution_count": 47,
     "metadata": {},
     "output_type": "execute_result"
    }
   ],
   "source": [
    "# Checking the datatypes again\n",
    "students_df.dtypes"
   ]
  },
  {
   "cell_type": "markdown",
   "id": "6d9e5057",
   "metadata": {},
   "source": [
    "It probably makes more sense to represent these with integers rather than floating point values. Here we show how to convert them using `astype`."
   ]
  },
  {
   "cell_type": "code",
   "execution_count": 48,
   "id": "0ccc1f10-a5a0-4ff1-a5b9-2539058df2b7",
   "metadata": {
    "ExecuteTime": {
     "end_time": "2025-04-24T17:47:15.462581Z",
     "start_time": "2025-04-24T17:47:15.457265Z"
    }
   },
   "outputs": [],
   "source": [
    "students_df['Age'] = students_df['Age'].astype(int)\n",
    "students_df['Year of Study'] = students_df['Year of Study'].astype(int)"
   ]
  },
  {
   "cell_type": "code",
   "execution_count": 49,
   "id": "36bbe664",
   "metadata": {
    "ExecuteTime": {
     "end_time": "2025-04-24T17:47:15.590515Z",
     "start_time": "2025-04-24T17:47:15.586300Z"
    }
   },
   "outputs": [
    {
     "data": {
      "text/plain": [
       "Name                 object\n",
       "Age                   int32\n",
       "Subject              object\n",
       "Year of Study         int32\n",
       "Country of Origin    object\n",
       "dtype: object"
      ]
     },
     "execution_count": 49,
     "metadata": {},
     "output_type": "execute_result"
    }
   ],
   "source": [
    "# Confirm that 'Age' and 'Year of Study' are now integers\n",
    "students_df.dtypes"
   ]
  },
  {
   "cell_type": "code",
   "execution_count": 50,
   "id": "37a55df0",
   "metadata": {
    "ExecuteTime": {
     "end_time": "2025-04-24T17:47:15.765220Z",
     "start_time": "2025-04-24T17:47:15.757753Z"
    }
   },
   "outputs": [
    {
     "data": {
      "text/html": [
       "<div>\n",
       "<style scoped>\n",
       "    .dataframe tbody tr th:only-of-type {\n",
       "        vertical-align: middle;\n",
       "    }\n",
       "\n",
       "    .dataframe tbody tr th {\n",
       "        vertical-align: top;\n",
       "    }\n",
       "\n",
       "    .dataframe thead th {\n",
       "        text-align: right;\n",
       "    }\n",
       "</style>\n",
       "<table border=\"1\" class=\"dataframe\">\n",
       "  <thead>\n",
       "    <tr style=\"text-align: right;\">\n",
       "      <th></th>\n",
       "      <th>Name</th>\n",
       "      <th>Age</th>\n",
       "      <th>Subject</th>\n",
       "      <th>Year of Study</th>\n",
       "      <th>Country of Origin</th>\n",
       "    </tr>\n",
       "    <tr>\n",
       "      <th>Student ID</th>\n",
       "      <th></th>\n",
       "      <th></th>\n",
       "      <th></th>\n",
       "      <th></th>\n",
       "      <th></th>\n",
       "    </tr>\n",
       "  </thead>\n",
       "  <tbody>\n",
       "    <tr>\n",
       "      <th>2703f3f0</th>\n",
       "      <td>Mr Clifford Watson</td>\n",
       "      <td>25</td>\n",
       "      <td>English Literature</td>\n",
       "      <td>1</td>\n",
       "      <td>Saint Barthelemy</td>\n",
       "    </tr>\n",
       "    <tr>\n",
       "      <th>a8040287</th>\n",
       "      <td>Elliott Ward</td>\n",
       "      <td>25</td>\n",
       "      <td>Computer Science</td>\n",
       "      <td>4</td>\n",
       "      <td>Guinea</td>\n",
       "    </tr>\n",
       "    <tr>\n",
       "      <th>d8da5486</th>\n",
       "      <td>Miss Pauline Dunn</td>\n",
       "      <td>22</td>\n",
       "      <td>Engineering</td>\n",
       "      <td>4</td>\n",
       "      <td>Afghanistan</td>\n",
       "    </tr>\n",
       "    <tr>\n",
       "      <th>3ac1b74d</th>\n",
       "      <td>Mr Dominic Mason</td>\n",
       "      <td>22</td>\n",
       "      <td>Physics</td>\n",
       "      <td>1</td>\n",
       "      <td>Palau</td>\n",
       "    </tr>\n",
       "    <tr>\n",
       "      <th>67850858</th>\n",
       "      <td>Mrs Melanie Brown</td>\n",
       "      <td>18</td>\n",
       "      <td>English Literature</td>\n",
       "      <td>3</td>\n",
       "      <td>Algeria</td>\n",
       "    </tr>\n",
       "  </tbody>\n",
       "</table>\n",
       "</div>"
      ],
      "text/plain": [
       "                          Name  Age             Subject  Year of Study  \\\n",
       "Student ID                                                               \n",
       "2703f3f0    Mr Clifford Watson   25  English Literature              1   \n",
       "a8040287          Elliott Ward   25    Computer Science              4   \n",
       "d8da5486     Miss Pauline Dunn   22         Engineering              4   \n",
       "3ac1b74d      Mr Dominic Mason   22             Physics              1   \n",
       "67850858     Mrs Melanie Brown   18  English Literature              3   \n",
       "\n",
       "           Country of Origin  \n",
       "Student ID                    \n",
       "2703f3f0    Saint Barthelemy  \n",
       "a8040287              Guinea  \n",
       "d8da5486         Afghanistan  \n",
       "3ac1b74d               Palau  \n",
       "67850858             Algeria  "
      ]
     },
     "execution_count": 50,
     "metadata": {},
     "output_type": "execute_result"
    }
   ],
   "source": [
    "# The DataFrame also shows 'Age' and 'Year of Study' as integers\n",
    "students_df.head()"
   ]
  },
  {
   "cell_type": "markdown",
   "id": "e55dbf57",
   "metadata": {},
   "source": [
    "We can also convert the object type column types to strings."
   ]
  },
  {
   "cell_type": "code",
   "execution_count": 51,
   "id": "1549de07",
   "metadata": {
    "ExecuteTime": {
     "end_time": "2025-04-24T17:47:16.001567Z",
     "start_time": "2025-04-24T17:47:15.994506Z"
    }
   },
   "outputs": [
    {
     "data": {
      "text/plain": [
       "Name                 string[python]\n",
       "Age                           int32\n",
       "Subject              string[python]\n",
       "Year of Study                 int32\n",
       "Country of Origin    string[python]\n",
       "dtype: object"
      ]
     },
     "execution_count": 51,
     "metadata": {},
     "output_type": "execute_result"
    }
   ],
   "source": [
    "students_df['Name'] = students_df['Name'].astype(\"string\")\n",
    "students_df['Subject'] = students_df['Subject'].astype(\"string\")\n",
    "students_df['Country of Origin'] = students_df['Country of Origin'].astype(\"string\")\n",
    "\n",
    "students_df.dtypes"
   ]
  },
  {
   "cell_type": "markdown",
   "id": "47c7f4ed",
   "metadata": {},
   "source": [
    "### Identifying duplicates\n",
    "We can check for duplicates using a combination of `duplicated` and `sum`. The duplicated method returns a series of Boolean `True` or `False` values. `True` if the row is a duplicate of a row above, and `False` otherwise."
   ]
  },
  {
   "cell_type": "markdown",
   "id": "792cdba2",
   "metadata": {},
   "source": [
    "Here we show the series of Boolean values. The final `True` shows that the last record is a duplicate."
   ]
  },
  {
   "cell_type": "code",
   "execution_count": 52,
   "id": "93f7193b-6f11-4ee3-9fdf-438d0bf23c3d",
   "metadata": {
    "ExecuteTime": {
     "end_time": "2025-04-24T17:47:17.834627Z",
     "start_time": "2025-04-24T17:47:17.828431Z"
    }
   },
   "outputs": [
    {
     "data": {
      "text/plain": [
       "Student ID\n",
       "2703f3f0    False\n",
       "a8040287    False\n",
       "d8da5486    False\n",
       "3ac1b74d    False\n",
       "67850858    False\n",
       "            ...  \n",
       "a8be1ec3    False\n",
       "3b69ff22    False\n",
       "716fb45f    False\n",
       "34b97db2    False\n",
       "34b97db2     True\n",
       "Length: 101, dtype: bool"
      ]
     },
     "execution_count": 52,
     "metadata": {},
     "output_type": "execute_result"
    }
   ],
   "source": [
    "students_df.duplicated()"
   ]
  },
  {
   "cell_type": "markdown",
   "id": "f3add9ec",
   "metadata": {},
   "source": [
    "And here we use `sum` to count the number of duplicate rows (`False` is equivalent to `0` and `True` is equivalent to `1`)."
   ]
  },
  {
   "cell_type": "code",
   "execution_count": 53,
   "id": "cfbb9e43",
   "metadata": {
    "ExecuteTime": {
     "end_time": "2025-04-24T17:47:18.100497Z",
     "start_time": "2025-04-24T17:47:18.095301Z"
    }
   },
   "outputs": [
    {
     "data": {
      "text/plain": [
       "1"
      ]
     },
     "execution_count": 53,
     "metadata": {},
     "output_type": "execute_result"
    }
   ],
   "source": [
    "students_df.duplicated().sum()"
   ]
  },
  {
   "cell_type": "markdown",
   "id": "877c1c14",
   "metadata": {},
   "source": [
    "We can see the duplicated rows using `loc` (for location) and passing in the True/False values returned by students_df.duplicated()."
   ]
  },
  {
   "cell_type": "code",
   "execution_count": 54,
   "id": "b6131e3b",
   "metadata": {
    "ExecuteTime": {
     "end_time": "2025-04-24T17:47:18.302966Z",
     "start_time": "2025-04-24T17:47:18.294621Z"
    }
   },
   "outputs": [
    {
     "data": {
      "text/html": [
       "<div>\n",
       "<style scoped>\n",
       "    .dataframe tbody tr th:only-of-type {\n",
       "        vertical-align: middle;\n",
       "    }\n",
       "\n",
       "    .dataframe tbody tr th {\n",
       "        vertical-align: top;\n",
       "    }\n",
       "\n",
       "    .dataframe thead th {\n",
       "        text-align: right;\n",
       "    }\n",
       "</style>\n",
       "<table border=\"1\" class=\"dataframe\">\n",
       "  <thead>\n",
       "    <tr style=\"text-align: right;\">\n",
       "      <th></th>\n",
       "      <th>Name</th>\n",
       "      <th>Age</th>\n",
       "      <th>Subject</th>\n",
       "      <th>Year of Study</th>\n",
       "      <th>Country of Origin</th>\n",
       "    </tr>\n",
       "    <tr>\n",
       "      <th>Student ID</th>\n",
       "      <th></th>\n",
       "      <th></th>\n",
       "      <th></th>\n",
       "      <th></th>\n",
       "      <th></th>\n",
       "    </tr>\n",
       "  </thead>\n",
       "  <tbody>\n",
       "    <tr>\n",
       "      <th>34b97db2</th>\n",
       "      <td>Miss Lydia Saunders</td>\n",
       "      <td>23</td>\n",
       "      <td>Physics</td>\n",
       "      <td>2</td>\n",
       "      <td>Faroe Islands</td>\n",
       "    </tr>\n",
       "  </tbody>\n",
       "</table>\n",
       "</div>"
      ],
      "text/plain": [
       "                           Name  Age  Subject  Year of Study Country of Origin\n",
       "Student ID                                                                    \n",
       "34b97db2    Miss Lydia Saunders   23  Physics              2     Faroe Islands"
      ]
     },
     "execution_count": 54,
     "metadata": {},
     "output_type": "execute_result"
    }
   ],
   "source": [
    "students_df.loc[students_df.duplicated()]"
   ]
  },
  {
   "cell_type": "markdown",
   "id": "b0dce881",
   "metadata": {},
   "source": [
    "We can easily remove duplicate rows from the DataFrame using `drop_duplicates`."
   ]
  },
  {
   "cell_type": "code",
   "execution_count": 55,
   "id": "71b01e68-87bb-4c2f-8662-fbbbeef4fe23",
   "metadata": {
    "ExecuteTime": {
     "end_time": "2025-04-24T17:47:18.469458Z",
     "start_time": "2025-04-24T17:47:18.465343Z"
    }
   },
   "outputs": [],
   "source": [
    "students_df = students_df.drop_duplicates()"
   ]
  },
  {
   "cell_type": "markdown",
   "id": "bc30333b",
   "metadata": {},
   "source": [
    "We started with 101 rows and have just dropped a duplicate row. So we can expect to have 100 rows remaining."
   ]
  },
  {
   "cell_type": "code",
   "execution_count": 56,
   "id": "6d19c06f",
   "metadata": {
    "ExecuteTime": {
     "end_time": "2025-04-24T17:47:18.672116Z",
     "start_time": "2025-04-24T17:47:18.668545Z"
    }
   },
   "outputs": [
    {
     "data": {
      "text/plain": [
       "100"
      ]
     },
     "execution_count": 56,
     "metadata": {},
     "output_type": "execute_result"
    }
   ],
   "source": [
    "len(students_df)"
   ]
  },
  {
   "cell_type": "markdown",
   "id": "89277802",
   "metadata": {},
   "source": [
    "The duplicated row was Miss Lydia Saunders at the bottom of the DataFrame. We can see that it's gone now."
   ]
  },
  {
   "cell_type": "code",
   "execution_count": 57,
   "id": "9670f22d",
   "metadata": {
    "ExecuteTime": {
     "end_time": "2025-04-24T17:47:18.796510Z",
     "start_time": "2025-04-24T17:47:18.788710Z"
    }
   },
   "outputs": [
    {
     "data": {
      "text/html": [
       "<div>\n",
       "<style scoped>\n",
       "    .dataframe tbody tr th:only-of-type {\n",
       "        vertical-align: middle;\n",
       "    }\n",
       "\n",
       "    .dataframe tbody tr th {\n",
       "        vertical-align: top;\n",
       "    }\n",
       "\n",
       "    .dataframe thead th {\n",
       "        text-align: right;\n",
       "    }\n",
       "</style>\n",
       "<table border=\"1\" class=\"dataframe\">\n",
       "  <thead>\n",
       "    <tr style=\"text-align: right;\">\n",
       "      <th></th>\n",
       "      <th>Name</th>\n",
       "      <th>Age</th>\n",
       "      <th>Subject</th>\n",
       "      <th>Year of Study</th>\n",
       "      <th>Country of Origin</th>\n",
       "    </tr>\n",
       "    <tr>\n",
       "      <th>Student ID</th>\n",
       "      <th></th>\n",
       "      <th></th>\n",
       "      <th></th>\n",
       "      <th></th>\n",
       "      <th></th>\n",
       "    </tr>\n",
       "  </thead>\n",
       "  <tbody>\n",
       "    <tr>\n",
       "      <th>bf9937ac</th>\n",
       "      <td>Mr Victor Smith</td>\n",
       "      <td>20</td>\n",
       "      <td>Law</td>\n",
       "      <td>1</td>\n",
       "      <td>Bangladesh</td>\n",
       "    </tr>\n",
       "    <tr>\n",
       "      <th>a8be1ec3</th>\n",
       "      <td>Kelly Foster</td>\n",
       "      <td>22</td>\n",
       "      <td>Engineering</td>\n",
       "      <td>1</td>\n",
       "      <td>Netherlands</td>\n",
       "    </tr>\n",
       "    <tr>\n",
       "      <th>3b69ff22</th>\n",
       "      <td>Sara Austin</td>\n",
       "      <td>19</td>\n",
       "      <td>Computer Science</td>\n",
       "      <td>2</td>\n",
       "      <td>Liechtenstein</td>\n",
       "    </tr>\n",
       "    <tr>\n",
       "      <th>716fb45f</th>\n",
       "      <td>Miss Grace Miller</td>\n",
       "      <td>22</td>\n",
       "      <td>English Literature</td>\n",
       "      <td>4</td>\n",
       "      <td>Comoros</td>\n",
       "    </tr>\n",
       "    <tr>\n",
       "      <th>34b97db2</th>\n",
       "      <td>Miss Lydia Saunders</td>\n",
       "      <td>23</td>\n",
       "      <td>Physics</td>\n",
       "      <td>2</td>\n",
       "      <td>Faroe Islands</td>\n",
       "    </tr>\n",
       "  </tbody>\n",
       "</table>\n",
       "</div>"
      ],
      "text/plain": [
       "                           Name  Age             Subject  Year of Study  \\\n",
       "Student ID                                                                \n",
       "bf9937ac        Mr Victor Smith   20                 Law              1   \n",
       "a8be1ec3           Kelly Foster   22         Engineering              1   \n",
       "3b69ff22            Sara Austin   19    Computer Science              2   \n",
       "716fb45f      Miss Grace Miller   22  English Literature              4   \n",
       "34b97db2    Miss Lydia Saunders   23             Physics              2   \n",
       "\n",
       "           Country of Origin  \n",
       "Student ID                    \n",
       "bf9937ac          Bangladesh  \n",
       "a8be1ec3         Netherlands  \n",
       "3b69ff22       Liechtenstein  \n",
       "716fb45f             Comoros  \n",
       "34b97db2       Faroe Islands  "
      ]
     },
     "execution_count": 57,
     "metadata": {},
     "output_type": "execute_result"
    }
   ],
   "source": [
    "students_df.tail()"
   ]
  },
  {
   "cell_type": "markdown",
   "id": "87e8fa08-2056-4af1-931d-cf6716e81711",
   "metadata": {},
   "source": [
    "### Split the 'Name' column into 'Title', 'Forename', and 'Surname'\n",
    "Split the name while being sure to handle cases where the title is not present. This function assumes that the name can be split into either two or three parts: optional title + forename + surname. This is a valid assumption for our dataset, but maybe not for other datasets (e.g. where the family name comes before the given name)."
   ]
  },
  {
   "cell_type": "code",
   "execution_count": 58,
   "id": "77b4ef41-454a-478e-a079-c49cce29595e",
   "metadata": {
    "ExecuteTime": {
     "end_time": "2025-04-24T17:47:18.951785Z",
     "start_time": "2025-04-24T17:47:18.947783Z"
    }
   },
   "outputs": [],
   "source": [
    "def split_name(name):\n",
    "    \"\"\"\n",
    "    Split name into title, forename, and surname. Return these as a tuple.\n",
    "    The title just gets an empty string if not included in the name.\n",
    "    \"\"\"\n",
    "    parts = name.split()\n",
    "\n",
    "    if len(parts) == 3:\n",
    "        title = parts[0]\n",
    "        forename = parts[1]\n",
    "        surname = parts[2]\n",
    "    else:\n",
    "        title = ''\n",
    "        forename = parts[0]\n",
    "        surname = parts[1]\n",
    "\n",
    "    return title, forename, surname"
   ]
  },
  {
   "cell_type": "markdown",
   "id": "641addf6",
   "metadata": {},
   "source": [
    "Apply the function to each name in the DataFrame"
   ]
  },
  {
   "cell_type": "code",
   "execution_count": 59,
   "id": "ceb84d44-f9f5-475b-acae-207157bcec1f",
   "metadata": {
    "ExecuteTime": {
     "end_time": "2025-04-24T17:47:19.257865Z",
     "start_time": "2025-04-24T17:47:19.243953Z"
    }
   },
   "outputs": [],
   "source": [
    "students_df[['Title', 'Forename', 'Surname']] = \\\n",
    "     students_df['Name'].apply(lambda name: pd.Series(split_name(name)))"
   ]
  },
  {
   "cell_type": "code",
   "execution_count": 60,
   "id": "49ed92fc",
   "metadata": {
    "ExecuteTime": {
     "end_time": "2025-04-24T17:47:19.365220Z",
     "start_time": "2025-04-24T17:47:19.354912Z"
    }
   },
   "outputs": [
    {
     "data": {
      "text/html": [
       "<div>\n",
       "<style scoped>\n",
       "    .dataframe tbody tr th:only-of-type {\n",
       "        vertical-align: middle;\n",
       "    }\n",
       "\n",
       "    .dataframe tbody tr th {\n",
       "        vertical-align: top;\n",
       "    }\n",
       "\n",
       "    .dataframe thead th {\n",
       "        text-align: right;\n",
       "    }\n",
       "</style>\n",
       "<table border=\"1\" class=\"dataframe\">\n",
       "  <thead>\n",
       "    <tr style=\"text-align: right;\">\n",
       "      <th></th>\n",
       "      <th>Name</th>\n",
       "      <th>Age</th>\n",
       "      <th>Subject</th>\n",
       "      <th>Year of Study</th>\n",
       "      <th>Country of Origin</th>\n",
       "      <th>Title</th>\n",
       "      <th>Forename</th>\n",
       "      <th>Surname</th>\n",
       "    </tr>\n",
       "    <tr>\n",
       "      <th>Student ID</th>\n",
       "      <th></th>\n",
       "      <th></th>\n",
       "      <th></th>\n",
       "      <th></th>\n",
       "      <th></th>\n",
       "      <th></th>\n",
       "      <th></th>\n",
       "      <th></th>\n",
       "    </tr>\n",
       "  </thead>\n",
       "  <tbody>\n",
       "    <tr>\n",
       "      <th>2703f3f0</th>\n",
       "      <td>Mr Clifford Watson</td>\n",
       "      <td>25</td>\n",
       "      <td>English Literature</td>\n",
       "      <td>1</td>\n",
       "      <td>Saint Barthelemy</td>\n",
       "      <td>Mr</td>\n",
       "      <td>Clifford</td>\n",
       "      <td>Watson</td>\n",
       "    </tr>\n",
       "    <tr>\n",
       "      <th>a8040287</th>\n",
       "      <td>Elliott Ward</td>\n",
       "      <td>25</td>\n",
       "      <td>Computer Science</td>\n",
       "      <td>4</td>\n",
       "      <td>Guinea</td>\n",
       "      <td></td>\n",
       "      <td>Elliott</td>\n",
       "      <td>Ward</td>\n",
       "    </tr>\n",
       "    <tr>\n",
       "      <th>d8da5486</th>\n",
       "      <td>Miss Pauline Dunn</td>\n",
       "      <td>22</td>\n",
       "      <td>Engineering</td>\n",
       "      <td>4</td>\n",
       "      <td>Afghanistan</td>\n",
       "      <td>Miss</td>\n",
       "      <td>Pauline</td>\n",
       "      <td>Dunn</td>\n",
       "    </tr>\n",
       "    <tr>\n",
       "      <th>3ac1b74d</th>\n",
       "      <td>Mr Dominic Mason</td>\n",
       "      <td>22</td>\n",
       "      <td>Physics</td>\n",
       "      <td>1</td>\n",
       "      <td>Palau</td>\n",
       "      <td>Mr</td>\n",
       "      <td>Dominic</td>\n",
       "      <td>Mason</td>\n",
       "    </tr>\n",
       "    <tr>\n",
       "      <th>67850858</th>\n",
       "      <td>Mrs Melanie Brown</td>\n",
       "      <td>18</td>\n",
       "      <td>English Literature</td>\n",
       "      <td>3</td>\n",
       "      <td>Algeria</td>\n",
       "      <td>Mrs</td>\n",
       "      <td>Melanie</td>\n",
       "      <td>Brown</td>\n",
       "    </tr>\n",
       "  </tbody>\n",
       "</table>\n",
       "</div>"
      ],
      "text/plain": [
       "                          Name  Age             Subject  Year of Study  \\\n",
       "Student ID                                                               \n",
       "2703f3f0    Mr Clifford Watson   25  English Literature              1   \n",
       "a8040287          Elliott Ward   25    Computer Science              4   \n",
       "d8da5486     Miss Pauline Dunn   22         Engineering              4   \n",
       "3ac1b74d      Mr Dominic Mason   22             Physics              1   \n",
       "67850858     Mrs Melanie Brown   18  English Literature              3   \n",
       "\n",
       "           Country of Origin Title  Forename Surname  \n",
       "Student ID                                            \n",
       "2703f3f0    Saint Barthelemy    Mr  Clifford  Watson  \n",
       "a8040287              Guinea         Elliott    Ward  \n",
       "d8da5486         Afghanistan  Miss   Pauline    Dunn  \n",
       "3ac1b74d               Palau    Mr   Dominic   Mason  \n",
       "67850858             Algeria   Mrs   Melanie   Brown  "
      ]
     },
     "execution_count": 60,
     "metadata": {},
     "output_type": "execute_result"
    }
   ],
   "source": [
    "students_df.head()"
   ]
  },
  {
   "cell_type": "markdown",
   "id": "cb1b50f4",
   "metadata": {},
   "source": [
    "Now that we have Title, Forename and Surname columns, we can use `drop` to remove the redundant Name column."
   ]
  },
  {
   "cell_type": "code",
   "execution_count": 61,
   "id": "c0e95525-a949-427d-a341-ee4e8659a471",
   "metadata": {
    "ExecuteTime": {
     "end_time": "2025-04-24T17:47:19.505223Z",
     "start_time": "2025-04-24T17:47:19.500948Z"
    }
   },
   "outputs": [],
   "source": [
    "students_df = students_df.drop(columns=['Name'])"
   ]
  },
  {
   "cell_type": "code",
   "execution_count": 62,
   "id": "f887629a",
   "metadata": {
    "ExecuteTime": {
     "end_time": "2025-04-24T17:47:19.669219Z",
     "start_time": "2025-04-24T17:47:19.662081Z"
    }
   },
   "outputs": [
    {
     "data": {
      "text/html": [
       "<div>\n",
       "<style scoped>\n",
       "    .dataframe tbody tr th:only-of-type {\n",
       "        vertical-align: middle;\n",
       "    }\n",
       "\n",
       "    .dataframe tbody tr th {\n",
       "        vertical-align: top;\n",
       "    }\n",
       "\n",
       "    .dataframe thead th {\n",
       "        text-align: right;\n",
       "    }\n",
       "</style>\n",
       "<table border=\"1\" class=\"dataframe\">\n",
       "  <thead>\n",
       "    <tr style=\"text-align: right;\">\n",
       "      <th></th>\n",
       "      <th>Age</th>\n",
       "      <th>Subject</th>\n",
       "      <th>Year of Study</th>\n",
       "      <th>Country of Origin</th>\n",
       "      <th>Title</th>\n",
       "      <th>Forename</th>\n",
       "      <th>Surname</th>\n",
       "    </tr>\n",
       "    <tr>\n",
       "      <th>Student ID</th>\n",
       "      <th></th>\n",
       "      <th></th>\n",
       "      <th></th>\n",
       "      <th></th>\n",
       "      <th></th>\n",
       "      <th></th>\n",
       "      <th></th>\n",
       "    </tr>\n",
       "  </thead>\n",
       "  <tbody>\n",
       "    <tr>\n",
       "      <th>2703f3f0</th>\n",
       "      <td>25</td>\n",
       "      <td>English Literature</td>\n",
       "      <td>1</td>\n",
       "      <td>Saint Barthelemy</td>\n",
       "      <td>Mr</td>\n",
       "      <td>Clifford</td>\n",
       "      <td>Watson</td>\n",
       "    </tr>\n",
       "    <tr>\n",
       "      <th>a8040287</th>\n",
       "      <td>25</td>\n",
       "      <td>Computer Science</td>\n",
       "      <td>4</td>\n",
       "      <td>Guinea</td>\n",
       "      <td></td>\n",
       "      <td>Elliott</td>\n",
       "      <td>Ward</td>\n",
       "    </tr>\n",
       "    <tr>\n",
       "      <th>d8da5486</th>\n",
       "      <td>22</td>\n",
       "      <td>Engineering</td>\n",
       "      <td>4</td>\n",
       "      <td>Afghanistan</td>\n",
       "      <td>Miss</td>\n",
       "      <td>Pauline</td>\n",
       "      <td>Dunn</td>\n",
       "    </tr>\n",
       "    <tr>\n",
       "      <th>3ac1b74d</th>\n",
       "      <td>22</td>\n",
       "      <td>Physics</td>\n",
       "      <td>1</td>\n",
       "      <td>Palau</td>\n",
       "      <td>Mr</td>\n",
       "      <td>Dominic</td>\n",
       "      <td>Mason</td>\n",
       "    </tr>\n",
       "    <tr>\n",
       "      <th>67850858</th>\n",
       "      <td>18</td>\n",
       "      <td>English Literature</td>\n",
       "      <td>3</td>\n",
       "      <td>Algeria</td>\n",
       "      <td>Mrs</td>\n",
       "      <td>Melanie</td>\n",
       "      <td>Brown</td>\n",
       "    </tr>\n",
       "  </tbody>\n",
       "</table>\n",
       "</div>"
      ],
      "text/plain": [
       "            Age             Subject  Year of Study Country of Origin Title  \\\n",
       "Student ID                                                                   \n",
       "2703f3f0     25  English Literature              1  Saint Barthelemy    Mr   \n",
       "a8040287     25    Computer Science              4            Guinea         \n",
       "d8da5486     22         Engineering              4       Afghanistan  Miss   \n",
       "3ac1b74d     22             Physics              1             Palau    Mr   \n",
       "67850858     18  English Literature              3           Algeria   Mrs   \n",
       "\n",
       "            Forename Surname  \n",
       "Student ID                    \n",
       "2703f3f0    Clifford  Watson  \n",
       "a8040287     Elliott    Ward  \n",
       "d8da5486     Pauline    Dunn  \n",
       "3ac1b74d     Dominic   Mason  \n",
       "67850858     Melanie   Brown  "
      ]
     },
     "execution_count": 62,
     "metadata": {},
     "output_type": "execute_result"
    }
   ],
   "source": [
    "students_df.head()"
   ]
  },
  {
   "cell_type": "markdown",
   "id": "81c62f13",
   "metadata": {},
   "source": [
    "Let's see what values we extracted for Title."
   ]
  },
  {
   "cell_type": "code",
   "execution_count": 63,
   "id": "46ad4abb",
   "metadata": {
    "ExecuteTime": {
     "end_time": "2025-04-24T17:47:19.862591Z",
     "start_time": "2025-04-24T17:47:19.856357Z"
    }
   },
   "outputs": [
    {
     "data": {
      "text/plain": [
       "Title\n",
       "        67\n",
       "Mr      13\n",
       "Miss     7\n",
       "Dr       7\n",
       "Mrs      6\n",
       "Name: count, dtype: int64"
      ]
     },
     "execution_count": 63,
     "metadata": {},
     "output_type": "execute_result"
    }
   ],
   "source": [
    "students_df['Title'].value_counts()"
   ]
  },
  {
   "cell_type": "markdown",
   "id": "33f5f36f",
   "metadata": {},
   "source": [
    "## Save the processed dataset\n",
    "Finally, we will write the processed dataset to its own file."
   ]
  },
  {
   "cell_type": "code",
   "execution_count": 64,
   "id": "348a1efe",
   "metadata": {
    "ExecuteTime": {
     "end_time": "2025-04-24T17:47:20.520288Z",
     "start_time": "2025-04-24T17:47:20.514845Z"
    }
   },
   "outputs": [],
   "source": [
    "students_df.to_csv('data/students_processed.csv')"
   ]
  },
  {
   "cell_type": "markdown",
   "id": "1c588e12",
   "metadata": {},
   "source": [
    "## Questions"
   ]
  },
  {
   "cell_type": "markdown",
   "id": "7e7c76f7",
   "metadata": {},
   "source": [
    "### How do I see all of the records in the DataFrame?\n",
    "You might have noticed that not all of the rows in the DataFrame get displayed when there are many of them. Here we temporarily change the pandas display options so that all rows and columns are printed. Your editior might still truncate the display but in VS Code, for example, you can view the output as a scrollable element or open it in a text editor, or you can change the cell output settings to display more lines."
   ]
  },
  {
   "cell_type": "code",
   "execution_count": 65,
   "id": "16f3c9d6",
   "metadata": {},
   "outputs": [
    {
     "name": "stdout",
     "output_type": "stream",
     "text": [
      "            Age             Subject  Year of Study  \\\n",
      "Student ID                                           \n",
      "2703f3f0     25  English Literature              1   \n",
      "a8040287     25    Computer Science              4   \n",
      "d8da5486     22         Engineering              4   \n",
      "3ac1b74d     22             Physics              1   \n",
      "67850858     18  English Literature              3   \n",
      "62dd3a69     22            Medicine              2   \n",
      "6b22a999     23         Engineering              2   \n",
      "4b744b9a     22  English Literature              4   \n",
      "45c54817     20    Computer Science              2   \n",
      "5d5e1224     20             History              1   \n",
      "2c142f24     24             Biology              1   \n",
      "3eec010c     22             Biology              1   \n",
      "f3cbb058     18  English Literature              4   \n",
      "6a406b49     18    Computer Science              1   \n",
      "836d85df     18         Mathematics              4   \n",
      "fc4f68b0     23                 Law              3   \n",
      "41465cf8     25             History              2   \n",
      "afae8532     25  English Literature              1   \n",
      "7c43c14d     18             History              3   \n",
      "43b3612f     19                 Art              4   \n",
      "72324765     21                 Law              1   \n",
      "9c0aa410     24             History              3   \n",
      "a9e6b860     24  English Literature              4   \n",
      "0e7361c4     21         Engineering              3   \n",
      "27166ecb     22         Mathematics              3   \n",
      "c828ba21     21                 Law              2   \n",
      "a7bb5b63     22             Physics              1   \n",
      "f156e962     25                 Law              2   \n",
      "2f3b6b33     21  English Literature              3   \n",
      "88648f86     20             Biology              4   \n",
      "a225e559     18             Biology              4   \n",
      "34212ec1     18         Mathematics              3   \n",
      "fcedbd2f     18                 Art              4   \n",
      "88dc77f7     20    Computer Science              4   \n",
      "53dd0026     21             Physics              4   \n",
      "ea066b3e     21         Engineering              2   \n",
      "10551162     24                 Law              3   \n",
      "a420952d     25             History              2   \n",
      "45604caa     23  English Literature              3   \n",
      "8d697782     24             Physics              3   \n",
      "8581f127     25         Engineering              3   \n",
      "5fa87190     21         Mathematics              1   \n",
      "cc9eb24e     22             Biology              4   \n",
      "3c1fe24c     21            Medicine              1   \n",
      "204e4c56     21    Computer Science              3   \n",
      "0fac1009     18                 Art              3   \n",
      "bde91950     19    Computer Science              4   \n",
      "4e324306     23            Medicine              4   \n",
      "75693b89     25             History              4   \n",
      "ba4fe6e7     24             Physics              1   \n",
      "7c038fa8     25    Computer Science              1   \n",
      "cf908625     18    Computer Science              4   \n",
      "171006cf     20  English Literature              2   \n",
      "e95153c9     20                 Law              3   \n",
      "229e57db     22         Mathematics              1   \n",
      "c1af174c     23            Medicine              1   \n",
      "b476163a     24  English Literature              2   \n",
      "f701bb71     19            Medicine              4   \n",
      "e506b33a     21             Biology              2   \n",
      "a5fd310f     20                 Law              3   \n",
      "134a7d3c     23  English Literature              1   \n",
      "335dd32f     18             Biology              2   \n",
      "c556523c     21    Computer Science              1   \n",
      "8956f118     25         Engineering              2   \n",
      "c4ba663b     24                 Law              2   \n",
      "0723a275     22         Engineering              4   \n",
      "f4556e05     19                 Art              1   \n",
      "c7742c0a     21             Biology              1   \n",
      "a326d84a     23            Medicine              4   \n",
      "687b22e6     23                 Art              4   \n",
      "3b921658     22             History              2   \n",
      "c87c4775     21         Mathematics              3   \n",
      "7add3804     24            Medicine              2   \n",
      "2fee570b     21             Biology              2   \n",
      "a32a60c4     24  English Literature              1   \n",
      "3af01f06     25  English Literature              2   \n",
      "47e2aec9     23            Medicine              4   \n",
      "6f61b0a9     22    Computer Science              2   \n",
      "3060541f     21         Mathematics              3   \n",
      "2c8c0636     18                 Law              2   \n",
      "a8d560bd     24                 Law              1   \n",
      "0e042356     24    Computer Science              3   \n",
      "648c9a22     19             Biology              1   \n",
      "90b61b7e     23            Medicine              3   \n",
      "95fadd5e     22             Biology              1   \n",
      "fd719257     21            Medicine              4   \n",
      "ea9fab54     24  English Literature              1   \n",
      "368adb8b     25         Engineering              3   \n",
      "ac70668e     23    Computer Science              3   \n",
      "124361a6     22            Medicine              2   \n",
      "71a612f3     19                 Art              1   \n",
      "f5273fa2     24  English Literature              3   \n",
      "e8f05741     23             Physics              3   \n",
      "655726b1     20                 Art              2   \n",
      "27eca82c     24         Mathematics              1   \n",
      "bf9937ac     20                 Law              1   \n",
      "a8be1ec3     22         Engineering              1   \n",
      "3b69ff22     19    Computer Science              2   \n",
      "716fb45f     22  English Literature              4   \n",
      "34b97db2     23             Physics              2   \n",
      "\n",
      "                           Country of Origin Title   Forename  \\\n",
      "Student ID                                                      \n",
      "2703f3f0                    Saint Barthelemy    Mr   Clifford   \n",
      "a8040287                              Guinea          Elliott   \n",
      "d8da5486                         Afghanistan  Miss    Pauline   \n",
      "3ac1b74d                               Palau    Mr    Dominic   \n",
      "67850858                             Algeria   Mrs    Melanie   \n",
      "62dd3a69                       Guinea-Bissau    Mr  Frederick   \n",
      "6b22a999                             Comoros          Charles   \n",
      "4b744b9a                                Cuba            Garry   \n",
      "45c54817                               Korea   Mrs       Sian   \n",
      "5d5e1224                               Haiti            Grace   \n",
      "2c142f24                                Fiji             Jade   \n",
      "3eec010c                           Swaziland           Howard   \n",
      "f3cbb058                             Namibia    Dr      Scott   \n",
      "6a406b49                              Israel          Melissa   \n",
      "836d85df                              Angola          Carolyn   \n",
      "fc4f68b0                               Palau           Sandra   \n",
      "41465cf8                               Italy    Mr        Guy   \n",
      "afae8532                             Mayotte           Kieran   \n",
      "7c43c14d                               Nauru          Malcolm   \n",
      "43b3612f                              Taiwan        Frederick   \n",
      "72324765                             Eritrea             Gail   \n",
      "9c0aa410                               China            Hazel   \n",
      "a9e6b860                         Saint Lucia   Mrs     Tracey   \n",
      "0e7361c4                              France    Mr     Donald   \n",
      "27166ecb                                Fiji    Dr      Terry   \n",
      "c828ba21                         Isle of Man            Kelly   \n",
      "a7bb5b63                            Guernsey           Steven   \n",
      "f156e962                     Kyrgyz Republic        Christian   \n",
      "2f3b6b33              Libyan Arab Jamahiriya    Dr      Aaron   \n",
      "88648f86                Netherlands Antilles          Pauline   \n",
      "a225e559                           Singapore           Sheila   \n",
      "34212ec1                             Comoros         Rosemary   \n",
      "fcedbd2f                    French Polynesia   Mrs   Rosemary   \n",
      "88dc77f7                   Wallis and Futuna           Daniel   \n",
      "53dd0026                             Liberia            Amber   \n",
      "ea066b3e                   Brunei Darussalam           Alison   \n",
      "10551162                   Equatorial Guinea    Mr      Bruce   \n",
      "a420952d                          Micronesia          Lindsey   \n",
      "45604caa                            Thailand           Victor   \n",
      "8d697782                 Antigua and Barbuda    Mr   Lawrence   \n",
      "8581f127                        South Africa   Mrs     Cheryl   \n",
      "5fa87190                            Zimbabwe           Olivia   \n",
      "cc9eb24e                    Marshall Islands             Lucy   \n",
      "3c1fe24c                             Lebanon          Melanie   \n",
      "204e4c56                             Tunisia            Paula   \n",
      "0fac1009                            Cambodia            Louis   \n",
      "bde91950                        Burkina Faso   Mrs  Elizabeth   \n",
      "4e324306                              Cyprus        Stephanie   \n",
      "75693b89                             Ukraine           Angela   \n",
      "ba4fe6e7                               Aruba  Miss    Bethany   \n",
      "7c038fa8                              Tuvalu    Mr     Declan   \n",
      "cf908625                               Kenya         Jennifer   \n",
      "171006cf                                Chad            Susan   \n",
      "e95153c9                        Saint Helena          Anthony   \n",
      "229e57db                          Uzbekistan  Miss    Bethany   \n",
      "c1af174c                              Guyana  Miss      Amber   \n",
      "b476163a                         El Salvador    Mr        Jay   \n",
      "f701bb71                               Tonga    Dr    Richard   \n",
      "e506b33a                            Malaysia          Bethany   \n",
      "a5fd310f                           Mauritius             Glen   \n",
      "134a7d3c                                Cuba         Benjamin   \n",
      "335dd32f                              Jersey             Ruth   \n",
      "c556523c                             Bermuda    Dr     Samuel   \n",
      "8956f118                              Israel             Sara   \n",
      "c4ba663b                              Belize           Samuel   \n",
      "0723a275                             Uruguay          Suzanne   \n",
      "f4556e05                              Belize           Ashley   \n",
      "c7742c0a                    Marshall Islands            Brian   \n",
      "a326d84a                                Guam           Sylvia   \n",
      "687b22e6                             Reunion            Naomi   \n",
      "3b921658                             Bahrain           Pamela   \n",
      "c87c4775                                Chad            Emily   \n",
      "7add3804                          Micronesia           Andrew   \n",
      "2fee570b                              Malawi           Hannah   \n",
      "a32a60c4                            Cambodia    Mr     Daniel   \n",
      "3af01f06                               Tonga        Charlotte   \n",
      "47e2aec9                         Saint Lucia          Patrick   \n",
      "6f61b0a9                              Angola    Dr      Gavin   \n",
      "3060541f       Holy See (Vatican City State)          Malcolm   \n",
      "2c8c0636                               Niger    Mr      Roger   \n",
      "a8d560bd                          Guadeloupe    Dr      James   \n",
      "0e042356                             Vietnam          Anthony   \n",
      "648c9a22                             Burundi            Henry   \n",
      "90b61b7e    Lao People's Democratic Republic           Angela   \n",
      "95fadd5e                             Romania           Sheila   \n",
      "fd719257                            Anguilla    Mr      Shane   \n",
      "ea9fab54                              Belize              Ben   \n",
      "368adb8b                                Peru             Ruth   \n",
      "ac70668e                Netherlands Antilles             Jean   \n",
      "124361a6                             Bahrain            Danny   \n",
      "71a612f3                      United Kingdom            Katie   \n",
      "f5273fa2                              Belize            Leigh   \n",
      "e8f05741                                Iraq  Miss    Kathryn   \n",
      "655726b1                              Cyprus            Simon   \n",
      "27eca82c                        Saint Martin         Benjamin   \n",
      "bf9937ac                          Bangladesh    Mr     Victor   \n",
      "a8be1ec3                         Netherlands            Kelly   \n",
      "3b69ff22                       Liechtenstein             Sara   \n",
      "716fb45f                             Comoros  Miss      Grace   \n",
      "34b97db2                       Faroe Islands  Miss      Lydia   \n",
      "\n",
      "                      Surname  \n",
      "Student ID                     \n",
      "2703f3f0               Watson  \n",
      "a8040287                 Ward  \n",
      "d8da5486                 Dunn  \n",
      "3ac1b74d                Mason  \n",
      "67850858                Brown  \n",
      "62dd3a69                Price  \n",
      "6b22a999              Hayward  \n",
      "4b744b9a             Thornton  \n",
      "45c54817               Wilson  \n",
      "5d5e1224         Walton-Kelly  \n",
      "2c142f24                Kirby  \n",
      "3eec010c             Marshall  \n",
      "f3cbb058               Wilson  \n",
      "6a406b49                  Ali  \n",
      "836d85df               Walker  \n",
      "fc4f68b0           Stephenson  \n",
      "41465cf8                Lynch  \n",
      "afae8532      Davidson-Watson  \n",
      "7c43c14d        Farrell-Sykes  \n",
      "43b3612f                 Khan  \n",
      "72324765            Henderson  \n",
      "9c0aa410                Evans  \n",
      "a9e6b860                Adams  \n",
      "0e7361c4               Taylor  \n",
      "27166ecb                Lewis  \n",
      "c828ba21       Fisher-Simpson  \n",
      "a7bb5b63                Ahmed  \n",
      "f156e962          Howell-Holt  \n",
      "2f3b6b33                 Bell  \n",
      "88648f86               Akhtar  \n",
      "a225e559       Roberts-Harris  \n",
      "34212ec1                 Wood  \n",
      "fcedbd2f               Knight  \n",
      "88dc77f7               Harris  \n",
      "53dd0026              Osborne  \n",
      "ea066b3e      Williams-Garner  \n",
      "10551162              Fleming  \n",
      "a420952d                 Cook  \n",
      "45604caa               Palmer  \n",
      "8d697782               Barker  \n",
      "8581f127               Ashton  \n",
      "5fa87190               Turner  \n",
      "cc9eb24e              Roberts  \n",
      "3c1fe24c             Sheppard  \n",
      "204e4c56                Watts  \n",
      "0fac1009              Buckley  \n",
      "bde91950                Perry  \n",
      "4e324306             Thompson  \n",
      "75693b89       Farmer-Sanders  \n",
      "ba4fe6e7                Grant  \n",
      "7c038fa8                Woods  \n",
      "cf908625            Armstrong  \n",
      "171006cf                Patel  \n",
      "e95153c9       Cook-O'Donnell  \n",
      "229e57db                Jones  \n",
      "c1af174c             Phillips  \n",
      "b476163a                Green  \n",
      "f701bb71               Jarvis  \n",
      "e506b33a               Davies  \n",
      "a5fd310f                Bates  \n",
      "134a7d3c                 Bond  \n",
      "335dd32f               Miller  \n",
      "c556523c                 Read  \n",
      "8956f118                Smith  \n",
      "c4ba663b                 Nash  \n",
      "0723a275            Dickinson  \n",
      "f4556e05             Bartlett  \n",
      "c7742c0a          Moss-Davies  \n",
      "a326d84a    Turner-Hutchinson  \n",
      "687b22e6               Dobson  \n",
      "3b921658                Mason  \n",
      "c87c4775                 Wade  \n",
      "7add3804              Vincent  \n",
      "2fee570b             Fletcher  \n",
      "a32a60c4                 Hall  \n",
      "3af01f06              O'Brien  \n",
      "47e2aec9                Smith  \n",
      "6f61b0a9               Bailey  \n",
      "3060541f               Parker  \n",
      "2c8c0636               Watson  \n",
      "a8d560bd               Murphy  \n",
      "0e042356               Rahman  \n",
      "648c9a22                Jones  \n",
      "90b61b7e       Johnson-Brooks  \n",
      "95fadd5e                Berry  \n",
      "fd719257             Thompson  \n",
      "ea9fab54         Martin-Smith  \n",
      "368adb8b                Allen  \n",
      "ac70668e              Stevens  \n",
      "124361a6        Morgan-Mistry  \n",
      "71a612f3           Shah-Lewis  \n",
      "f5273fa2               Palmer  \n",
      "e8f05741             Holloway  \n",
      "655726b1                Lloyd  \n",
      "27eca82c              Bennett  \n",
      "bf9937ac                Smith  \n",
      "a8be1ec3               Foster  \n",
      "3b69ff22               Austin  \n",
      "716fb45f               Miller  \n",
      "34b97db2             Saunders  \n"
     ]
    }
   ],
   "source": [
    "with pd.option_context('display.max_rows', None, 'display.max_columns', None):\n",
    "    print(students_df)"
   ]
  },
  {
   "cell_type": "markdown",
   "id": "5773d163",
   "metadata": {},
   "source": [
    "Here we explicitly print out all the country names using to_string, e.g to check for spelling errors. This approach might be easier to remember."
   ]
  },
  {
   "cell_type": "code",
   "execution_count": 66,
   "id": "b28ac9ef",
   "metadata": {},
   "outputs": [
    {
     "name": "stdout",
     "output_type": "stream",
     "text": [
      "Country of Origin\n",
      "Belize                              4\n",
      "Comoros                             3\n",
      "Micronesia                          2\n",
      "Palau                               2\n",
      "Chad                                2\n",
      "Cambodia                            2\n",
      "Cuba                                2\n",
      "Bahrain                             2\n",
      "Cyprus                              2\n",
      "Marshall Islands                    2\n",
      "Angola                              2\n",
      "Tonga                               2\n",
      "Saint Lucia                         2\n",
      "Fiji                                2\n",
      "Netherlands Antilles                2\n",
      "Israel                              2\n",
      "Ukraine                             1\n",
      "Afghanistan                         1\n",
      "Algeria                             1\n",
      "Guinea-Bissau                       1\n",
      "Korea                               1\n",
      "Haiti                               1\n",
      "Swaziland                           1\n",
      "Mayotte                             1\n",
      "Namibia                             1\n",
      "Nauru                               1\n",
      "Taiwan                              1\n",
      "Eritrea                             1\n",
      "China                               1\n",
      "Guernsey                            1\n",
      "Isle of Man                         1\n",
      "Brunei Darussalam                   1\n",
      "Kyrgyz Republic                     1\n",
      "Libyan Arab Jamahiriya              1\n",
      "Singapore                           1\n",
      "French Polynesia                    1\n",
      "Wallis and Futuna                   1\n",
      "Liberia                             1\n",
      "Italy                               1\n",
      "Equatorial Guinea                   1\n",
      "Thailand                            1\n",
      "Antigua and Barbuda                 1\n",
      "South Africa                        1\n",
      "Zimbabwe                            1\n",
      "Guinea                              1\n",
      "Tunisia                             1\n",
      "Burkina Faso                        1\n",
      "France                              1\n",
      "Burundi                             1\n",
      "Aruba                               1\n",
      "Lebanon                             1\n",
      "Jersey                              1\n",
      "Bermuda                             1\n",
      "Uruguay                             1\n",
      "Saint Barthelemy                    1\n",
      "Mauritius                           1\n",
      "Malaysia                            1\n",
      "El Salvador                         1\n",
      "Guyana                              1\n",
      "Uzbekistan                          1\n",
      "Saint Helena                        1\n",
      "Guam                                1\n",
      "Holy See (Vatican City State)       1\n",
      "Reunion                             1\n",
      "Malawi                              1\n",
      "Liechtenstein                       1\n",
      "Netherlands                         1\n",
      "Bangladesh                          1\n",
      "Saint Martin                        1\n",
      "Iraq                                1\n",
      "United Kingdom                      1\n",
      "Peru                                1\n",
      "Anguilla                            1\n",
      "Romania                             1\n",
      "Lao People's Democratic Republic    1\n",
      "Vietnam                             1\n",
      "Guadeloupe                          1\n",
      "Niger                               1\n",
      "Tuvalu                              1\n",
      "Kenya                               1\n",
      "Faroe Islands                       1\n"
     ]
    }
   ],
   "source": [
    "print(students_df['Country of Origin'].value_counts().to_string())"
   ]
  },
  {
   "cell_type": "markdown",
   "id": "28748f49",
   "metadata": {},
   "source": [
    "I sometimes use Microsoft's Data Wrangler extension for VS Code. This lets you page through the whole DataFrame."
   ]
  },
  {
   "cell_type": "markdown",
   "id": "616f455c",
   "metadata": {},
   "source": [
    "### How do I reorder the columns?\n",
    "We can just reassign the DataFrame with the columns in whichever order we prefer."
   ]
  },
  {
   "cell_type": "code",
   "execution_count": 67,
   "id": "5d53057a",
   "metadata": {},
   "outputs": [],
   "source": [
    "column_order = ['Title', 'Forename', 'Surname', 'Age', 'Country of Origin', 'Subject', 'Year of Study']\n",
    "students_df = students_df[column_order]"
   ]
  },
  {
   "cell_type": "code",
   "execution_count": 68,
   "id": "2bfbb342",
   "metadata": {},
   "outputs": [
    {
     "data": {
      "text/html": [
       "<div>\n",
       "<style scoped>\n",
       "    .dataframe tbody tr th:only-of-type {\n",
       "        vertical-align: middle;\n",
       "    }\n",
       "\n",
       "    .dataframe tbody tr th {\n",
       "        vertical-align: top;\n",
       "    }\n",
       "\n",
       "    .dataframe thead th {\n",
       "        text-align: right;\n",
       "    }\n",
       "</style>\n",
       "<table border=\"1\" class=\"dataframe\">\n",
       "  <thead>\n",
       "    <tr style=\"text-align: right;\">\n",
       "      <th></th>\n",
       "      <th>Title</th>\n",
       "      <th>Forename</th>\n",
       "      <th>Surname</th>\n",
       "      <th>Age</th>\n",
       "      <th>Country of Origin</th>\n",
       "      <th>Subject</th>\n",
       "      <th>Year of Study</th>\n",
       "    </tr>\n",
       "    <tr>\n",
       "      <th>Student ID</th>\n",
       "      <th></th>\n",
       "      <th></th>\n",
       "      <th></th>\n",
       "      <th></th>\n",
       "      <th></th>\n",
       "      <th></th>\n",
       "      <th></th>\n",
       "    </tr>\n",
       "  </thead>\n",
       "  <tbody>\n",
       "    <tr>\n",
       "      <th>2703f3f0</th>\n",
       "      <td>Mr</td>\n",
       "      <td>Clifford</td>\n",
       "      <td>Watson</td>\n",
       "      <td>25</td>\n",
       "      <td>Saint Barthelemy</td>\n",
       "      <td>English Literature</td>\n",
       "      <td>1</td>\n",
       "    </tr>\n",
       "    <tr>\n",
       "      <th>a8040287</th>\n",
       "      <td></td>\n",
       "      <td>Elliott</td>\n",
       "      <td>Ward</td>\n",
       "      <td>25</td>\n",
       "      <td>Guinea</td>\n",
       "      <td>Computer Science</td>\n",
       "      <td>4</td>\n",
       "    </tr>\n",
       "    <tr>\n",
       "      <th>d8da5486</th>\n",
       "      <td>Miss</td>\n",
       "      <td>Pauline</td>\n",
       "      <td>Dunn</td>\n",
       "      <td>22</td>\n",
       "      <td>Afghanistan</td>\n",
       "      <td>Engineering</td>\n",
       "      <td>4</td>\n",
       "    </tr>\n",
       "    <tr>\n",
       "      <th>3ac1b74d</th>\n",
       "      <td>Mr</td>\n",
       "      <td>Dominic</td>\n",
       "      <td>Mason</td>\n",
       "      <td>22</td>\n",
       "      <td>Palau</td>\n",
       "      <td>Physics</td>\n",
       "      <td>1</td>\n",
       "    </tr>\n",
       "    <tr>\n",
       "      <th>67850858</th>\n",
       "      <td>Mrs</td>\n",
       "      <td>Melanie</td>\n",
       "      <td>Brown</td>\n",
       "      <td>18</td>\n",
       "      <td>Algeria</td>\n",
       "      <td>English Literature</td>\n",
       "      <td>3</td>\n",
       "    </tr>\n",
       "  </tbody>\n",
       "</table>\n",
       "</div>"
      ],
      "text/plain": [
       "           Title  Forename Surname  Age Country of Origin             Subject  \\\n",
       "Student ID                                                                      \n",
       "2703f3f0      Mr  Clifford  Watson   25  Saint Barthelemy  English Literature   \n",
       "a8040287           Elliott    Ward   25            Guinea    Computer Science   \n",
       "d8da5486    Miss   Pauline    Dunn   22       Afghanistan         Engineering   \n",
       "3ac1b74d      Mr   Dominic   Mason   22             Palau             Physics   \n",
       "67850858     Mrs   Melanie   Brown   18           Algeria  English Literature   \n",
       "\n",
       "            Year of Study  \n",
       "Student ID                 \n",
       "2703f3f0                1  \n",
       "a8040287                4  \n",
       "d8da5486                4  \n",
       "3ac1b74d                1  \n",
       "67850858                3  "
      ]
     },
     "execution_count": 68,
     "metadata": {},
     "output_type": "execute_result"
    }
   ],
   "source": [
    "students_df.head()"
   ]
  }
 ],
 "metadata": {
  "kernelspec": {
   "display_name": "AI-ML-Bootcamp-24-25",
   "language": "python",
   "name": "python3"
  },
  "language_info": {
   "codemirror_mode": {
    "name": "ipython",
    "version": 3
   },
   "file_extension": ".py",
   "mimetype": "text/x-python",
   "name": "python",
   "nbconvert_exporter": "python",
   "pygments_lexer": "ipython3",
   "version": "3.12.3"
  }
 },
 "nbformat": 4,
 "nbformat_minor": 5
}
