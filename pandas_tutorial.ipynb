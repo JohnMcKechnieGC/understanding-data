{
 "cells": [
  {
   "cell_type": "markdown",
   "id": "ca794387-354a-4e4a-9fd5-ee3f6c362bc9",
   "metadata": {},
   "source": [
    "# Introduction to pandas\n",
    "This notebook demonstrates some key functionality of the pandas package.\n",
    "See: https://pandas.pydata.org/\n",
    "\n",
    "See here for getting started documentation: https://pandas.pydata.org/docs/getting_started/index.html"
   ]
  },
  {
   "cell_type": "markdown",
   "id": "d24f4f17",
   "metadata": {},
   "source": [
    "You may find these code examples useful: https://github.com/paskhaver/pandas-in-action\n",
    "\n",
    "For more information on the book Pandas in Action by Boris Paskhaver, see: https://www.manning.com/books/pandas-in-action \n",
    "\n",
    "Python for Data Analysis: Data Wrangling with pandas, NumPy, and Jupyter 3rd Edition, by Wes McKinney is a highly recommended reference. The open edition is here: https://wesmckinney.com/book/. The code examples for this book are here: https://github.com/wesm/pydata-book/tree/3rd-edition"
   ]
  },
  {
   "cell_type": "code",
   "execution_count": 1,
   "id": "7ec91ed7-dd46-403a-b3ed-3ed2c2838b37",
   "metadata": {
    "ExecuteTime": {
     "end_time": "2025-04-24T17:47:09.607538Z",
     "start_time": "2025-04-24T17:47:09.234886Z"
    },
    "is_executing": true
   },
   "outputs": [],
   "source": [
    "import pandas as pd"
   ]
  },
  {
   "cell_type": "markdown",
   "id": "8de6ceb3",
   "metadata": {},
   "source": [
    "## Load our data set\n",
    "\n",
    "See https://pandas.pydata.org/docs/reference/api/pandas.read_csv.html for more info on `read_csv`."
   ]
  },
  {
   "cell_type": "code",
   "execution_count": 2,
   "id": "55829cc5-c47c-4722-ba89-18b8868ab83e",
   "metadata": {
    "ExecuteTime": {
     "end_time": "2025-04-24T17:47:09.782052Z",
     "start_time": "2025-04-24T17:47:09.775123Z"
    }
   },
   "outputs": [],
   "source": [
    "# You may need to modify the filename depending on where you have stored the file.\n",
    "students_df = pd.read_csv('./data/students.csv')"
   ]
  },
  {
   "cell_type": "markdown",
   "id": "c8b59392",
   "metadata": {},
   "source": [
    "After loading the dataset, we can easily view a representation of it."
   ]
  },
  {
   "cell_type": "code",
   "execution_count": 3,
   "id": "0eedf843",
   "metadata": {
    "ExecuteTime": {
     "end_time": "2025-04-24T17:47:09.817468Z",
     "start_time": "2025-04-24T17:47:09.804846Z"
    }
   },
   "outputs": [
    {
     "data": {
      "text/html": [
       "<div>\n",
       "<style scoped>\n",
       "    .dataframe tbody tr th:only-of-type {\n",
       "        vertical-align: middle;\n",
       "    }\n",
       "\n",
       "    .dataframe tbody tr th {\n",
       "        vertical-align: top;\n",
       "    }\n",
       "\n",
       "    .dataframe thead th {\n",
       "        text-align: right;\n",
       "    }\n",
       "</style>\n",
       "<table border=\"1\" class=\"dataframe\">\n",
       "  <thead>\n",
       "    <tr style=\"text-align: right;\">\n",
       "      <th></th>\n",
       "      <th>Student ID</th>\n",
       "      <th>Name</th>\n",
       "      <th>Age</th>\n",
       "      <th>Subject</th>\n",
       "      <th>Year of Study</th>\n",
       "      <th>Country of Origin</th>\n",
       "    </tr>\n",
       "  </thead>\n",
       "  <tbody>\n",
       "    <tr>\n",
       "      <th>0</th>\n",
       "      <td>2703f3f0</td>\n",
       "      <td>Mr Clifford Watson</td>\n",
       "      <td>25.0</td>\n",
       "      <td>English Literature</td>\n",
       "      <td>1.0</td>\n",
       "      <td>Saint Barthelemy</td>\n",
       "    </tr>\n",
       "    <tr>\n",
       "      <th>1</th>\n",
       "      <td>a8040287</td>\n",
       "      <td>Elliott Ward</td>\n",
       "      <td>25.0</td>\n",
       "      <td>Computer Science</td>\n",
       "      <td>4.0</td>\n",
       "      <td>Guinea</td>\n",
       "    </tr>\n",
       "    <tr>\n",
       "      <th>2</th>\n",
       "      <td>d8da5486</td>\n",
       "      <td>Miss Pauline Dunn</td>\n",
       "      <td>22.0</td>\n",
       "      <td>Engineering</td>\n",
       "      <td>4.0</td>\n",
       "      <td>Afghanistan</td>\n",
       "    </tr>\n",
       "    <tr>\n",
       "      <th>3</th>\n",
       "      <td>3ac1b74d</td>\n",
       "      <td>Mr Dominic Mason</td>\n",
       "      <td>22.0</td>\n",
       "      <td>Physics</td>\n",
       "      <td>1.0</td>\n",
       "      <td>Palau</td>\n",
       "    </tr>\n",
       "    <tr>\n",
       "      <th>4</th>\n",
       "      <td>67850858</td>\n",
       "      <td>Mrs Melanie Brown</td>\n",
       "      <td>18.0</td>\n",
       "      <td>English Literature</td>\n",
       "      <td>3.0</td>\n",
       "      <td>Algeria</td>\n",
       "    </tr>\n",
       "    <tr>\n",
       "      <th>...</th>\n",
       "      <td>...</td>\n",
       "      <td>...</td>\n",
       "      <td>...</td>\n",
       "      <td>...</td>\n",
       "      <td>...</td>\n",
       "      <td>...</td>\n",
       "    </tr>\n",
       "    <tr>\n",
       "      <th>96</th>\n",
       "      <td>a8be1ec3</td>\n",
       "      <td>Kelly Foster</td>\n",
       "      <td>22.0</td>\n",
       "      <td>Engineering</td>\n",
       "      <td>1.0</td>\n",
       "      <td>Netherlands</td>\n",
       "    </tr>\n",
       "    <tr>\n",
       "      <th>97</th>\n",
       "      <td>3b69ff22</td>\n",
       "      <td>Sara Austin</td>\n",
       "      <td>19.0</td>\n",
       "      <td>Computer Science</td>\n",
       "      <td>34.0</td>\n",
       "      <td>Liechtenstein</td>\n",
       "    </tr>\n",
       "    <tr>\n",
       "      <th>98</th>\n",
       "      <td>716fb45f</td>\n",
       "      <td>Miss Grace Miller</td>\n",
       "      <td>22.0</td>\n",
       "      <td>English Literature</td>\n",
       "      <td>4.0</td>\n",
       "      <td>Comoros</td>\n",
       "    </tr>\n",
       "    <tr>\n",
       "      <th>99</th>\n",
       "      <td>34b97db2</td>\n",
       "      <td>Miss Lydia Saunders</td>\n",
       "      <td>23.0</td>\n",
       "      <td>Physics</td>\n",
       "      <td>2.0</td>\n",
       "      <td>Faroe Islands</td>\n",
       "    </tr>\n",
       "    <tr>\n",
       "      <th>100</th>\n",
       "      <td>34b97db2</td>\n",
       "      <td>Miss Lydia Saunders</td>\n",
       "      <td>23.0</td>\n",
       "      <td>Physics</td>\n",
       "      <td>2.0</td>\n",
       "      <td>Faroe Islands</td>\n",
       "    </tr>\n",
       "  </tbody>\n",
       "</table>\n",
       "<p>101 rows × 6 columns</p>\n",
       "</div>"
      ],
      "text/plain": [
       "    Student ID                 Name   Age             Subject  Year of Study  \\\n",
       "0     2703f3f0   Mr Clifford Watson  25.0  English Literature            1.0   \n",
       "1     a8040287         Elliott Ward  25.0    Computer Science            4.0   \n",
       "2     d8da5486    Miss Pauline Dunn  22.0         Engineering            4.0   \n",
       "3     3ac1b74d     Mr Dominic Mason  22.0             Physics            1.0   \n",
       "4     67850858    Mrs Melanie Brown  18.0  English Literature            3.0   \n",
       "..         ...                  ...   ...                 ...            ...   \n",
       "96    a8be1ec3         Kelly Foster  22.0         Engineering            1.0   \n",
       "97    3b69ff22          Sara Austin  19.0    Computer Science           34.0   \n",
       "98    716fb45f    Miss Grace Miller  22.0  English Literature            4.0   \n",
       "99    34b97db2  Miss Lydia Saunders  23.0             Physics            2.0   \n",
       "100   34b97db2  Miss Lydia Saunders  23.0             Physics            2.0   \n",
       "\n",
       "    Country of Origin  \n",
       "0    Saint Barthelemy  \n",
       "1              Guinea  \n",
       "2         Afghanistan  \n",
       "3               Palau  \n",
       "4             Algeria  \n",
       "..                ...  \n",
       "96        Netherlands  \n",
       "97      Liechtenstein  \n",
       "98            Comoros  \n",
       "99      Faroe Islands  \n",
       "100     Faroe Islands  \n",
       "\n",
       "[101 rows x 6 columns]"
      ]
     },
     "execution_count": 3,
     "metadata": {},
     "output_type": "execute_result"
    }
   ],
   "source": [
    "students_df  # Notice there's no need to call print"
   ]
  },
  {
   "cell_type": "markdown",
   "id": "9f3aba0b",
   "metadata": {},
   "source": [
    "The `read_csv` function automatically creates an index column. You can see the numbers 0 to 100 in the DataFrame above. We can view the index as follows:"
   ]
  },
  {
   "cell_type": "code",
   "execution_count": 4,
   "id": "79be7a94",
   "metadata": {
    "ExecuteTime": {
     "end_time": "2025-04-24T17:47:09.884461Z",
     "start_time": "2025-04-24T17:47:09.880383Z"
    }
   },
   "outputs": [
    {
     "data": {
      "text/plain": [
       "RangeIndex(start=0, stop=101, step=1)"
      ]
     },
     "execution_count": 4,
     "metadata": {},
     "output_type": "execute_result"
    }
   ],
   "source": [
    "students_df.index"
   ]
  },
  {
   "cell_type": "markdown",
   "id": "21f5bbf2",
   "metadata": {},
   "source": [
    "This dataset already has a Student ID column which we could specify as the index column."
   ]
  },
  {
   "cell_type": "code",
   "execution_count": 5,
   "id": "895b3227",
   "metadata": {
    "ExecuteTime": {
     "end_time": "2025-04-24T17:47:10.106964Z",
     "start_time": "2025-04-24T17:47:10.101530Z"
    }
   },
   "outputs": [],
   "source": [
    "students_df = pd.read_csv('./data/students.csv', index_col='Student ID')"
   ]
  },
  {
   "cell_type": "markdown",
   "id": "7bf0a0ee",
   "metadata": {},
   "source": [
    "Now when we view the DataFrame, we can see that 'Student ID' is being used as the index column."
   ]
  },
  {
   "cell_type": "code",
   "execution_count": 6,
   "id": "a9dc0feb",
   "metadata": {
    "ExecuteTime": {
     "end_time": "2025-04-24T17:47:10.276607Z",
     "start_time": "2025-04-24T17:47:10.267614Z"
    }
   },
   "outputs": [
    {
     "data": {
      "text/html": [
       "<div>\n",
       "<style scoped>\n",
       "    .dataframe tbody tr th:only-of-type {\n",
       "        vertical-align: middle;\n",
       "    }\n",
       "\n",
       "    .dataframe tbody tr th {\n",
       "        vertical-align: top;\n",
       "    }\n",
       "\n",
       "    .dataframe thead th {\n",
       "        text-align: right;\n",
       "    }\n",
       "</style>\n",
       "<table border=\"1\" class=\"dataframe\">\n",
       "  <thead>\n",
       "    <tr style=\"text-align: right;\">\n",
       "      <th></th>\n",
       "      <th>Name</th>\n",
       "      <th>Age</th>\n",
       "      <th>Subject</th>\n",
       "      <th>Year of Study</th>\n",
       "      <th>Country of Origin</th>\n",
       "    </tr>\n",
       "    <tr>\n",
       "      <th>Student ID</th>\n",
       "      <th></th>\n",
       "      <th></th>\n",
       "      <th></th>\n",
       "      <th></th>\n",
       "      <th></th>\n",
       "    </tr>\n",
       "  </thead>\n",
       "  <tbody>\n",
       "    <tr>\n",
       "      <th>2703f3f0</th>\n",
       "      <td>Mr Clifford Watson</td>\n",
       "      <td>25.0</td>\n",
       "      <td>English Literature</td>\n",
       "      <td>1.0</td>\n",
       "      <td>Saint Barthelemy</td>\n",
       "    </tr>\n",
       "    <tr>\n",
       "      <th>a8040287</th>\n",
       "      <td>Elliott Ward</td>\n",
       "      <td>25.0</td>\n",
       "      <td>Computer Science</td>\n",
       "      <td>4.0</td>\n",
       "      <td>Guinea</td>\n",
       "    </tr>\n",
       "    <tr>\n",
       "      <th>d8da5486</th>\n",
       "      <td>Miss Pauline Dunn</td>\n",
       "      <td>22.0</td>\n",
       "      <td>Engineering</td>\n",
       "      <td>4.0</td>\n",
       "      <td>Afghanistan</td>\n",
       "    </tr>\n",
       "    <tr>\n",
       "      <th>3ac1b74d</th>\n",
       "      <td>Mr Dominic Mason</td>\n",
       "      <td>22.0</td>\n",
       "      <td>Physics</td>\n",
       "      <td>1.0</td>\n",
       "      <td>Palau</td>\n",
       "    </tr>\n",
       "    <tr>\n",
       "      <th>67850858</th>\n",
       "      <td>Mrs Melanie Brown</td>\n",
       "      <td>18.0</td>\n",
       "      <td>English Literature</td>\n",
       "      <td>3.0</td>\n",
       "      <td>Algeria</td>\n",
       "    </tr>\n",
       "    <tr>\n",
       "      <th>...</th>\n",
       "      <td>...</td>\n",
       "      <td>...</td>\n",
       "      <td>...</td>\n",
       "      <td>...</td>\n",
       "      <td>...</td>\n",
       "    </tr>\n",
       "    <tr>\n",
       "      <th>a8be1ec3</th>\n",
       "      <td>Kelly Foster</td>\n",
       "      <td>22.0</td>\n",
       "      <td>Engineering</td>\n",
       "      <td>1.0</td>\n",
       "      <td>Netherlands</td>\n",
       "    </tr>\n",
       "    <tr>\n",
       "      <th>3b69ff22</th>\n",
       "      <td>Sara Austin</td>\n",
       "      <td>19.0</td>\n",
       "      <td>Computer Science</td>\n",
       "      <td>34.0</td>\n",
       "      <td>Liechtenstein</td>\n",
       "    </tr>\n",
       "    <tr>\n",
       "      <th>716fb45f</th>\n",
       "      <td>Miss Grace Miller</td>\n",
       "      <td>22.0</td>\n",
       "      <td>English Literature</td>\n",
       "      <td>4.0</td>\n",
       "      <td>Comoros</td>\n",
       "    </tr>\n",
       "    <tr>\n",
       "      <th>34b97db2</th>\n",
       "      <td>Miss Lydia Saunders</td>\n",
       "      <td>23.0</td>\n",
       "      <td>Physics</td>\n",
       "      <td>2.0</td>\n",
       "      <td>Faroe Islands</td>\n",
       "    </tr>\n",
       "    <tr>\n",
       "      <th>34b97db2</th>\n",
       "      <td>Miss Lydia Saunders</td>\n",
       "      <td>23.0</td>\n",
       "      <td>Physics</td>\n",
       "      <td>2.0</td>\n",
       "      <td>Faroe Islands</td>\n",
       "    </tr>\n",
       "  </tbody>\n",
       "</table>\n",
       "<p>101 rows × 5 columns</p>\n",
       "</div>"
      ],
      "text/plain": [
       "                           Name   Age             Subject  Year of Study  \\\n",
       "Student ID                                                                 \n",
       "2703f3f0     Mr Clifford Watson  25.0  English Literature            1.0   \n",
       "a8040287           Elliott Ward  25.0    Computer Science            4.0   \n",
       "d8da5486      Miss Pauline Dunn  22.0         Engineering            4.0   \n",
       "3ac1b74d       Mr Dominic Mason  22.0             Physics            1.0   \n",
       "67850858      Mrs Melanie Brown  18.0  English Literature            3.0   \n",
       "...                         ...   ...                 ...            ...   \n",
       "a8be1ec3           Kelly Foster  22.0         Engineering            1.0   \n",
       "3b69ff22            Sara Austin  19.0    Computer Science           34.0   \n",
       "716fb45f      Miss Grace Miller  22.0  English Literature            4.0   \n",
       "34b97db2    Miss Lydia Saunders  23.0             Physics            2.0   \n",
       "34b97db2    Miss Lydia Saunders  23.0             Physics            2.0   \n",
       "\n",
       "           Country of Origin  \n",
       "Student ID                    \n",
       "2703f3f0    Saint Barthelemy  \n",
       "a8040287              Guinea  \n",
       "d8da5486         Afghanistan  \n",
       "3ac1b74d               Palau  \n",
       "67850858             Algeria  \n",
       "...                      ...  \n",
       "a8be1ec3         Netherlands  \n",
       "3b69ff22       Liechtenstein  \n",
       "716fb45f             Comoros  \n",
       "34b97db2       Faroe Islands  \n",
       "34b97db2       Faroe Islands  \n",
       "\n",
       "[101 rows x 5 columns]"
      ]
     },
     "execution_count": 6,
     "metadata": {},
     "output_type": "execute_result"
    }
   ],
   "source": [
    "students_df"
   ]
  },
  {
   "cell_type": "markdown",
   "id": "d811723d",
   "metadata": {},
   "source": [
    "The index has changed accordingly:"
   ]
  },
  {
   "cell_type": "code",
   "execution_count": 7,
   "id": "fc0a65a6",
   "metadata": {
    "ExecuteTime": {
     "end_time": "2025-04-24T17:47:10.439547Z",
     "start_time": "2025-04-24T17:47:10.434454Z"
    }
   },
   "outputs": [
    {
     "data": {
      "text/plain": [
       "Index(['2703f3f0', 'a8040287', 'd8da5486', '3ac1b74d', '67850858', '62dd3a69',\n",
       "       '6b22a999', '4b744b9a', '45c54817', '5d5e1224',\n",
       "       ...\n",
       "       'f5273fa2', 'e8f05741', '655726b1', '27eca82c', 'bf9937ac', 'a8be1ec3',\n",
       "       '3b69ff22', '716fb45f', '34b97db2', '34b97db2'],\n",
       "      dtype='object', name='Student ID', length=101)"
      ]
     },
     "execution_count": 7,
     "metadata": {},
     "output_type": "execute_result"
    }
   ],
   "source": [
    "students_df.index"
   ]
  },
  {
   "cell_type": "markdown",
   "id": "9b1c32b0",
   "metadata": {},
   "source": [
    "## Explore our dataset"
   ]
  },
  {
   "cell_type": "markdown",
   "id": "ae991275",
   "metadata": {},
   "source": [
    "We can easily find out how many records we loaded:"
   ]
  },
  {
   "cell_type": "code",
   "execution_count": 8,
   "id": "56b0b5b9",
   "metadata": {
    "ExecuteTime": {
     "end_time": "2025-04-24T17:47:10.651507Z",
     "start_time": "2025-04-24T17:47:10.646890Z"
    }
   },
   "outputs": [
    {
     "data": {
      "text/plain": [
       "101"
      ]
     },
     "execution_count": 8,
     "metadata": {},
     "output_type": "execute_result"
    }
   ],
   "source": [
    "len(students_df)"
   ]
  },
  {
   "cell_type": "markdown",
   "id": "e9752c86",
   "metadata": {},
   "source": [
    "We can examine the first few records in our dataset using `head`:"
   ]
  },
  {
   "cell_type": "code",
   "execution_count": 9,
   "id": "70b11f83-763f-46f9-9c8e-ace38d70cd1a",
   "metadata": {
    "ExecuteTime": {
     "end_time": "2025-04-24T17:47:10.806244Z",
     "start_time": "2025-04-24T17:47:10.798100Z"
    }
   },
   "outputs": [
    {
     "data": {
      "text/html": [
       "<div>\n",
       "<style scoped>\n",
       "    .dataframe tbody tr th:only-of-type {\n",
       "        vertical-align: middle;\n",
       "    }\n",
       "\n",
       "    .dataframe tbody tr th {\n",
       "        vertical-align: top;\n",
       "    }\n",
       "\n",
       "    .dataframe thead th {\n",
       "        text-align: right;\n",
       "    }\n",
       "</style>\n",
       "<table border=\"1\" class=\"dataframe\">\n",
       "  <thead>\n",
       "    <tr style=\"text-align: right;\">\n",
       "      <th></th>\n",
       "      <th>Name</th>\n",
       "      <th>Age</th>\n",
       "      <th>Subject</th>\n",
       "      <th>Year of Study</th>\n",
       "      <th>Country of Origin</th>\n",
       "    </tr>\n",
       "    <tr>\n",
       "      <th>Student ID</th>\n",
       "      <th></th>\n",
       "      <th></th>\n",
       "      <th></th>\n",
       "      <th></th>\n",
       "      <th></th>\n",
       "    </tr>\n",
       "  </thead>\n",
       "  <tbody>\n",
       "    <tr>\n",
       "      <th>2703f3f0</th>\n",
       "      <td>Mr Clifford Watson</td>\n",
       "      <td>25.0</td>\n",
       "      <td>English Literature</td>\n",
       "      <td>1.0</td>\n",
       "      <td>Saint Barthelemy</td>\n",
       "    </tr>\n",
       "    <tr>\n",
       "      <th>a8040287</th>\n",
       "      <td>Elliott Ward</td>\n",
       "      <td>25.0</td>\n",
       "      <td>Computer Science</td>\n",
       "      <td>4.0</td>\n",
       "      <td>Guinea</td>\n",
       "    </tr>\n",
       "    <tr>\n",
       "      <th>d8da5486</th>\n",
       "      <td>Miss Pauline Dunn</td>\n",
       "      <td>22.0</td>\n",
       "      <td>Engineering</td>\n",
       "      <td>4.0</td>\n",
       "      <td>Afghanistan</td>\n",
       "    </tr>\n",
       "    <tr>\n",
       "      <th>3ac1b74d</th>\n",
       "      <td>Mr Dominic Mason</td>\n",
       "      <td>22.0</td>\n",
       "      <td>Physics</td>\n",
       "      <td>1.0</td>\n",
       "      <td>Palau</td>\n",
       "    </tr>\n",
       "    <tr>\n",
       "      <th>67850858</th>\n",
       "      <td>Mrs Melanie Brown</td>\n",
       "      <td>18.0</td>\n",
       "      <td>English Literature</td>\n",
       "      <td>3.0</td>\n",
       "      <td>Algeria</td>\n",
       "    </tr>\n",
       "  </tbody>\n",
       "</table>\n",
       "</div>"
      ],
      "text/plain": [
       "                          Name   Age             Subject  Year of Study  \\\n",
       "Student ID                                                                \n",
       "2703f3f0    Mr Clifford Watson  25.0  English Literature            1.0   \n",
       "a8040287          Elliott Ward  25.0    Computer Science            4.0   \n",
       "d8da5486     Miss Pauline Dunn  22.0         Engineering            4.0   \n",
       "3ac1b74d      Mr Dominic Mason  22.0             Physics            1.0   \n",
       "67850858     Mrs Melanie Brown  18.0  English Literature            3.0   \n",
       "\n",
       "           Country of Origin  \n",
       "Student ID                    \n",
       "2703f3f0    Saint Barthelemy  \n",
       "a8040287              Guinea  \n",
       "d8da5486         Afghanistan  \n",
       "3ac1b74d               Palau  \n",
       "67850858             Algeria  "
      ]
     },
     "execution_count": 9,
     "metadata": {},
     "output_type": "execute_result"
    }
   ],
   "source": [
    "students_df.head()"
   ]
  },
  {
   "cell_type": "markdown",
   "id": "8d3175d0",
   "metadata": {},
   "source": [
    "By default, this shows the first five rows in the DataFrame, but we can also specify the number we want:"
   ]
  },
  {
   "cell_type": "code",
   "execution_count": 10,
   "id": "a467c614",
   "metadata": {
    "ExecuteTime": {
     "end_time": "2025-04-24T17:47:10.965580Z",
     "start_time": "2025-04-24T17:47:10.955476Z"
    }
   },
   "outputs": [
    {
     "data": {
      "text/html": [
       "<div>\n",
       "<style scoped>\n",
       "    .dataframe tbody tr th:only-of-type {\n",
       "        vertical-align: middle;\n",
       "    }\n",
       "\n",
       "    .dataframe tbody tr th {\n",
       "        vertical-align: top;\n",
       "    }\n",
       "\n",
       "    .dataframe thead th {\n",
       "        text-align: right;\n",
       "    }\n",
       "</style>\n",
       "<table border=\"1\" class=\"dataframe\">\n",
       "  <thead>\n",
       "    <tr style=\"text-align: right;\">\n",
       "      <th></th>\n",
       "      <th>Name</th>\n",
       "      <th>Age</th>\n",
       "      <th>Subject</th>\n",
       "      <th>Year of Study</th>\n",
       "      <th>Country of Origin</th>\n",
       "    </tr>\n",
       "    <tr>\n",
       "      <th>Student ID</th>\n",
       "      <th></th>\n",
       "      <th></th>\n",
       "      <th></th>\n",
       "      <th></th>\n",
       "      <th></th>\n",
       "    </tr>\n",
       "  </thead>\n",
       "  <tbody>\n",
       "    <tr>\n",
       "      <th>2703f3f0</th>\n",
       "      <td>Mr Clifford Watson</td>\n",
       "      <td>25.0</td>\n",
       "      <td>English Literature</td>\n",
       "      <td>1.0</td>\n",
       "      <td>Saint Barthelemy</td>\n",
       "    </tr>\n",
       "    <tr>\n",
       "      <th>a8040287</th>\n",
       "      <td>Elliott Ward</td>\n",
       "      <td>25.0</td>\n",
       "      <td>Computer Science</td>\n",
       "      <td>4.0</td>\n",
       "      <td>Guinea</td>\n",
       "    </tr>\n",
       "    <tr>\n",
       "      <th>d8da5486</th>\n",
       "      <td>Miss Pauline Dunn</td>\n",
       "      <td>22.0</td>\n",
       "      <td>Engineering</td>\n",
       "      <td>4.0</td>\n",
       "      <td>Afghanistan</td>\n",
       "    </tr>\n",
       "    <tr>\n",
       "      <th>3ac1b74d</th>\n",
       "      <td>Mr Dominic Mason</td>\n",
       "      <td>22.0</td>\n",
       "      <td>Physics</td>\n",
       "      <td>1.0</td>\n",
       "      <td>Palau</td>\n",
       "    </tr>\n",
       "    <tr>\n",
       "      <th>67850858</th>\n",
       "      <td>Mrs Melanie Brown</td>\n",
       "      <td>18.0</td>\n",
       "      <td>English Literature</td>\n",
       "      <td>3.0</td>\n",
       "      <td>Algeria</td>\n",
       "    </tr>\n",
       "    <tr>\n",
       "      <th>62dd3a69</th>\n",
       "      <td>Mr Frederick Price</td>\n",
       "      <td>22.0</td>\n",
       "      <td>Medicine</td>\n",
       "      <td>2.0</td>\n",
       "      <td>Guinea-Bissau</td>\n",
       "    </tr>\n",
       "    <tr>\n",
       "      <th>6b22a999</th>\n",
       "      <td>Charles Hayward</td>\n",
       "      <td>23.0</td>\n",
       "      <td>Engineering</td>\n",
       "      <td>2.0</td>\n",
       "      <td>Comoros</td>\n",
       "    </tr>\n",
       "    <tr>\n",
       "      <th>4b744b9a</th>\n",
       "      <td>Garry Thornton</td>\n",
       "      <td>NaN</td>\n",
       "      <td>English Literature</td>\n",
       "      <td>4.0</td>\n",
       "      <td>Cuba</td>\n",
       "    </tr>\n",
       "    <tr>\n",
       "      <th>45c54817</th>\n",
       "      <td>Mrs Sian Wilson</td>\n",
       "      <td>20.0</td>\n",
       "      <td>Computer Science</td>\n",
       "      <td>2.0</td>\n",
       "      <td>Korea</td>\n",
       "    </tr>\n",
       "    <tr>\n",
       "      <th>5d5e1224</th>\n",
       "      <td>Grace Walton-Kelly</td>\n",
       "      <td>20.0</td>\n",
       "      <td>History</td>\n",
       "      <td>1.0</td>\n",
       "      <td>Haiti</td>\n",
       "    </tr>\n",
       "  </tbody>\n",
       "</table>\n",
       "</div>"
      ],
      "text/plain": [
       "                          Name   Age             Subject  Year of Study  \\\n",
       "Student ID                                                                \n",
       "2703f3f0    Mr Clifford Watson  25.0  English Literature            1.0   \n",
       "a8040287          Elliott Ward  25.0    Computer Science            4.0   \n",
       "d8da5486     Miss Pauline Dunn  22.0         Engineering            4.0   \n",
       "3ac1b74d      Mr Dominic Mason  22.0             Physics            1.0   \n",
       "67850858     Mrs Melanie Brown  18.0  English Literature            3.0   \n",
       "62dd3a69    Mr Frederick Price  22.0            Medicine            2.0   \n",
       "6b22a999       Charles Hayward  23.0         Engineering            2.0   \n",
       "4b744b9a        Garry Thornton   NaN  English Literature            4.0   \n",
       "45c54817       Mrs Sian Wilson  20.0    Computer Science            2.0   \n",
       "5d5e1224    Grace Walton-Kelly  20.0             History            1.0   \n",
       "\n",
       "           Country of Origin  \n",
       "Student ID                    \n",
       "2703f3f0    Saint Barthelemy  \n",
       "a8040287              Guinea  \n",
       "d8da5486         Afghanistan  \n",
       "3ac1b74d               Palau  \n",
       "67850858             Algeria  \n",
       "62dd3a69       Guinea-Bissau  \n",
       "6b22a999             Comoros  \n",
       "4b744b9a                Cuba  \n",
       "45c54817               Korea  \n",
       "5d5e1224               Haiti  "
      ]
     },
     "execution_count": 10,
     "metadata": {},
     "output_type": "execute_result"
    }
   ],
   "source": [
    "students_df.head(10)"
   ]
  },
  {
   "cell_type": "markdown",
   "id": "bf182cab",
   "metadata": {},
   "source": [
    "Similarly, we can vew the last few rows in our dataset using `tail`:"
   ]
  },
  {
   "cell_type": "code",
   "execution_count": 11,
   "id": "cfad2004",
   "metadata": {
    "ExecuteTime": {
     "end_time": "2025-04-24T17:47:11.218075Z",
     "start_time": "2025-04-24T17:47:11.210573Z"
    }
   },
   "outputs": [
    {
     "data": {
      "text/html": [
       "<div>\n",
       "<style scoped>\n",
       "    .dataframe tbody tr th:only-of-type {\n",
       "        vertical-align: middle;\n",
       "    }\n",
       "\n",
       "    .dataframe tbody tr th {\n",
       "        vertical-align: top;\n",
       "    }\n",
       "\n",
       "    .dataframe thead th {\n",
       "        text-align: right;\n",
       "    }\n",
       "</style>\n",
       "<table border=\"1\" class=\"dataframe\">\n",
       "  <thead>\n",
       "    <tr style=\"text-align: right;\">\n",
       "      <th></th>\n",
       "      <th>Name</th>\n",
       "      <th>Age</th>\n",
       "      <th>Subject</th>\n",
       "      <th>Year of Study</th>\n",
       "      <th>Country of Origin</th>\n",
       "    </tr>\n",
       "    <tr>\n",
       "      <th>Student ID</th>\n",
       "      <th></th>\n",
       "      <th></th>\n",
       "      <th></th>\n",
       "      <th></th>\n",
       "      <th></th>\n",
       "    </tr>\n",
       "  </thead>\n",
       "  <tbody>\n",
       "    <tr>\n",
       "      <th>a8be1ec3</th>\n",
       "      <td>Kelly Foster</td>\n",
       "      <td>22.0</td>\n",
       "      <td>Engineering</td>\n",
       "      <td>1.0</td>\n",
       "      <td>Netherlands</td>\n",
       "    </tr>\n",
       "    <tr>\n",
       "      <th>3b69ff22</th>\n",
       "      <td>Sara Austin</td>\n",
       "      <td>19.0</td>\n",
       "      <td>Computer Science</td>\n",
       "      <td>34.0</td>\n",
       "      <td>Liechtenstein</td>\n",
       "    </tr>\n",
       "    <tr>\n",
       "      <th>716fb45f</th>\n",
       "      <td>Miss Grace Miller</td>\n",
       "      <td>22.0</td>\n",
       "      <td>English Literature</td>\n",
       "      <td>4.0</td>\n",
       "      <td>Comoros</td>\n",
       "    </tr>\n",
       "    <tr>\n",
       "      <th>34b97db2</th>\n",
       "      <td>Miss Lydia Saunders</td>\n",
       "      <td>23.0</td>\n",
       "      <td>Physics</td>\n",
       "      <td>2.0</td>\n",
       "      <td>Faroe Islands</td>\n",
       "    </tr>\n",
       "    <tr>\n",
       "      <th>34b97db2</th>\n",
       "      <td>Miss Lydia Saunders</td>\n",
       "      <td>23.0</td>\n",
       "      <td>Physics</td>\n",
       "      <td>2.0</td>\n",
       "      <td>Faroe Islands</td>\n",
       "    </tr>\n",
       "  </tbody>\n",
       "</table>\n",
       "</div>"
      ],
      "text/plain": [
       "                           Name   Age             Subject  Year of Study  \\\n",
       "Student ID                                                                 \n",
       "a8be1ec3           Kelly Foster  22.0         Engineering            1.0   \n",
       "3b69ff22            Sara Austin  19.0    Computer Science           34.0   \n",
       "716fb45f      Miss Grace Miller  22.0  English Literature            4.0   \n",
       "34b97db2    Miss Lydia Saunders  23.0             Physics            2.0   \n",
       "34b97db2    Miss Lydia Saunders  23.0             Physics            2.0   \n",
       "\n",
       "           Country of Origin  \n",
       "Student ID                    \n",
       "a8be1ec3         Netherlands  \n",
       "3b69ff22       Liechtenstein  \n",
       "716fb45f             Comoros  \n",
       "34b97db2       Faroe Islands  \n",
       "34b97db2       Faroe Islands  "
      ]
     },
     "execution_count": 11,
     "metadata": {},
     "output_type": "execute_result"
    }
   ],
   "source": [
    "students_df.tail()"
   ]
  },
  {
   "cell_type": "markdown",
   "id": "010699a8",
   "metadata": {},
   "source": [
    "We can also get a random sample of records from the DataFrame using `sample`."
   ]
  },
  {
   "cell_type": "code",
   "execution_count": 12,
   "id": "1e6fdefd",
   "metadata": {
    "ExecuteTime": {
     "end_time": "2025-04-24T17:47:11.492375Z",
     "start_time": "2025-04-24T17:47:11.484043Z"
    }
   },
   "outputs": [
    {
     "data": {
      "text/html": [
       "<div>\n",
       "<style scoped>\n",
       "    .dataframe tbody tr th:only-of-type {\n",
       "        vertical-align: middle;\n",
       "    }\n",
       "\n",
       "    .dataframe tbody tr th {\n",
       "        vertical-align: top;\n",
       "    }\n",
       "\n",
       "    .dataframe thead th {\n",
       "        text-align: right;\n",
       "    }\n",
       "</style>\n",
       "<table border=\"1\" class=\"dataframe\">\n",
       "  <thead>\n",
       "    <tr style=\"text-align: right;\">\n",
       "      <th></th>\n",
       "      <th>Name</th>\n",
       "      <th>Age</th>\n",
       "      <th>Subject</th>\n",
       "      <th>Year of Study</th>\n",
       "      <th>Country of Origin</th>\n",
       "    </tr>\n",
       "    <tr>\n",
       "      <th>Student ID</th>\n",
       "      <th></th>\n",
       "      <th></th>\n",
       "      <th></th>\n",
       "      <th></th>\n",
       "      <th></th>\n",
       "    </tr>\n",
       "  </thead>\n",
       "  <tbody>\n",
       "    <tr>\n",
       "      <th>75693b89</th>\n",
       "      <td>Angela Farmer-Sanders</td>\n",
       "      <td>25.0</td>\n",
       "      <td>History</td>\n",
       "      <td>4.0</td>\n",
       "      <td>Ukraine</td>\n",
       "    </tr>\n",
       "    <tr>\n",
       "      <th>10551162</th>\n",
       "      <td>Mr Bruce Fleming</td>\n",
       "      <td>24.0</td>\n",
       "      <td>Law</td>\n",
       "      <td>3.0</td>\n",
       "      <td>Equatorial Guinea</td>\n",
       "    </tr>\n",
       "    <tr>\n",
       "      <th>d8da5486</th>\n",
       "      <td>Miss Pauline Dunn</td>\n",
       "      <td>22.0</td>\n",
       "      <td>Engineering</td>\n",
       "      <td>4.0</td>\n",
       "      <td>Afghanistan</td>\n",
       "    </tr>\n",
       "    <tr>\n",
       "      <th>53dd0026</th>\n",
       "      <td>Amber Osborne</td>\n",
       "      <td>21.0</td>\n",
       "      <td>Physics</td>\n",
       "      <td>4.0</td>\n",
       "      <td>Liberia</td>\n",
       "    </tr>\n",
       "    <tr>\n",
       "      <th>a225e559</th>\n",
       "      <td>Sheila Roberts-Harris</td>\n",
       "      <td>18.0</td>\n",
       "      <td>Biology</td>\n",
       "      <td>4.0</td>\n",
       "      <td>Singapore</td>\n",
       "    </tr>\n",
       "    <tr>\n",
       "      <th>a8be1ec3</th>\n",
       "      <td>Kelly Foster</td>\n",
       "      <td>22.0</td>\n",
       "      <td>Engineering</td>\n",
       "      <td>1.0</td>\n",
       "      <td>Netherlands</td>\n",
       "    </tr>\n",
       "    <tr>\n",
       "      <th>3c1fe24c</th>\n",
       "      <td>Melanie Sheppard</td>\n",
       "      <td>21.0</td>\n",
       "      <td>Medicine</td>\n",
       "      <td>1.0</td>\n",
       "      <td>Lebanon</td>\n",
       "    </tr>\n",
       "    <tr>\n",
       "      <th>9c0aa410</th>\n",
       "      <td>Hazel Evans</td>\n",
       "      <td>24.0</td>\n",
       "      <td>History</td>\n",
       "      <td>3.0</td>\n",
       "      <td>China</td>\n",
       "    </tr>\n",
       "    <tr>\n",
       "      <th>c87c4775</th>\n",
       "      <td>Emily Wade</td>\n",
       "      <td>21.0</td>\n",
       "      <td>Mathematics</td>\n",
       "      <td>3.0</td>\n",
       "      <td>Chad</td>\n",
       "    </tr>\n",
       "    <tr>\n",
       "      <th>c828ba21</th>\n",
       "      <td>Kelly Fisher-Simpson</td>\n",
       "      <td>21.0</td>\n",
       "      <td>Law</td>\n",
       "      <td>2.0</td>\n",
       "      <td>Isle of Man</td>\n",
       "    </tr>\n",
       "  </tbody>\n",
       "</table>\n",
       "</div>"
      ],
      "text/plain": [
       "                             Name   Age      Subject  Year of Study  \\\n",
       "Student ID                                                            \n",
       "75693b89    Angela Farmer-Sanders  25.0      History            4.0   \n",
       "10551162         Mr Bruce Fleming  24.0          Law            3.0   \n",
       "d8da5486        Miss Pauline Dunn  22.0  Engineering            4.0   \n",
       "53dd0026            Amber Osborne  21.0      Physics            4.0   \n",
       "a225e559    Sheila Roberts-Harris  18.0      Biology            4.0   \n",
       "a8be1ec3             Kelly Foster  22.0  Engineering            1.0   \n",
       "3c1fe24c         Melanie Sheppard  21.0     Medicine            1.0   \n",
       "9c0aa410              Hazel Evans  24.0      History            3.0   \n",
       "c87c4775               Emily Wade  21.0  Mathematics            3.0   \n",
       "c828ba21     Kelly Fisher-Simpson  21.0          Law            2.0   \n",
       "\n",
       "            Country of Origin  \n",
       "Student ID                     \n",
       "75693b89              Ukraine  \n",
       "10551162    Equatorial Guinea  \n",
       "d8da5486          Afghanistan  \n",
       "53dd0026              Liberia  \n",
       "a225e559            Singapore  \n",
       "a8be1ec3          Netherlands  \n",
       "3c1fe24c              Lebanon  \n",
       "9c0aa410                China  \n",
       "c87c4775                 Chad  \n",
       "c828ba21          Isle of Man  "
      ]
     },
     "execution_count": 12,
     "metadata": {},
     "output_type": "execute_result"
    }
   ],
   "source": [
    "students_df.sample(10)"
   ]
  },
  {
   "cell_type": "markdown",
   "id": "c18a97b3",
   "metadata": {},
   "source": [
    "We can get a quick overview of the data using `info`. This shows that we have 101 non-null values of Name, but only 99 non-null values of Age. It looks like we have a couple of missing age values. We can also see that Age and Year of Study are floating-point values and that Name, Subject and Country of Origin have an 'object' Dtype. This is how strings are represented by default."
   ]
  },
  {
   "cell_type": "code",
   "execution_count": 13,
   "id": "13567651",
   "metadata": {
    "ExecuteTime": {
     "end_time": "2025-04-24T17:47:11.701457Z",
     "start_time": "2025-04-24T17:47:11.694052Z"
    }
   },
   "outputs": [
    {
     "name": "stdout",
     "output_type": "stream",
     "text": [
      "<class 'pandas.core.frame.DataFrame'>\n",
      "Index: 101 entries, 2703f3f0 to 34b97db2\n",
      "Data columns (total 5 columns):\n",
      " #   Column             Non-Null Count  Dtype  \n",
      "---  ------             --------------  -----  \n",
      " 0   Name               101 non-null    object \n",
      " 1   Age                99 non-null     float64\n",
      " 2   Subject            101 non-null    object \n",
      " 3   Year of Study      100 non-null    float64\n",
      " 4   Country of Origin  101 non-null    object \n",
      "dtypes: float64(2), object(3)\n",
      "memory usage: 4.7+ KB\n"
     ]
    }
   ],
   "source": [
    "students_df.info()"
   ]
  },
  {
   "cell_type": "markdown",
   "id": "9ccd482c",
   "metadata": {},
   "source": [
    "We can use `shape` to determine how many rows and columns we have. Notice that the number of columns does not include the index column."
   ]
  },
  {
   "cell_type": "code",
   "execution_count": 14,
   "id": "fd40763f",
   "metadata": {
    "ExecuteTime": {
     "end_time": "2025-04-24T17:47:11.965896Z",
     "start_time": "2025-04-24T17:47:11.960897Z"
    }
   },
   "outputs": [
    {
     "data": {
      "text/plain": [
       "(101, 5)"
      ]
     },
     "execution_count": 14,
     "metadata": {},
     "output_type": "execute_result"
    }
   ],
   "source": [
    "students_df.shape  # Output: (number of rows, number of columns)"
   ]
  },
  {
   "cell_type": "markdown",
   "id": "d8dd2762",
   "metadata": {},
   "source": [
    "We used the `index` attribute above to examine the DataFrame index. Here we use `columns` to show our column headings. The index column is not included in the list."
   ]
  },
  {
   "cell_type": "code",
   "execution_count": 15,
   "id": "d70168d3",
   "metadata": {
    "ExecuteTime": {
     "end_time": "2025-04-24T17:47:12.098115Z",
     "start_time": "2025-04-24T17:47:12.093063Z"
    }
   },
   "outputs": [
    {
     "data": {
      "text/plain": [
       "Index(['Name', 'Age', 'Subject', 'Year of Study', 'Country of Origin'], dtype='object')"
      ]
     },
     "execution_count": 15,
     "metadata": {},
     "output_type": "execute_result"
    }
   ],
   "source": [
    "students_df.columns"
   ]
  },
  {
   "cell_type": "markdown",
   "id": "f6baeca5",
   "metadata": {},
   "source": [
    "We can use dtypes to specifically check the data types:"
   ]
  },
  {
   "cell_type": "code",
   "execution_count": 16,
   "id": "f976268b",
   "metadata": {
    "ExecuteTime": {
     "end_time": "2025-04-24T17:47:12.230957Z",
     "start_time": "2025-04-24T17:47:12.226246Z"
    }
   },
   "outputs": [
    {
     "data": {
      "text/plain": [
       "Name                  object\n",
       "Age                  float64\n",
       "Subject               object\n",
       "Year of Study        float64\n",
       "Country of Origin     object\n",
       "dtype: object"
      ]
     },
     "execution_count": 16,
     "metadata": {},
     "output_type": "execute_result"
    }
   ],
   "source": [
    "students_df.dtypes"
   ]
  },
  {
   "cell_type": "markdown",
   "id": "1cb2bcea",
   "metadata": {},
   "source": [
    "We can get a statistical summary of the numeric data using `describe`:"
   ]
  },
  {
   "cell_type": "code",
   "execution_count": 17,
   "id": "a459464d-9e71-427d-b888-b9690a861250",
   "metadata": {
    "ExecuteTime": {
     "end_time": "2025-04-24T17:47:12.391190Z",
     "start_time": "2025-04-24T17:47:12.382585Z"
    }
   },
   "outputs": [
    {
     "data": {
      "text/html": [
       "<div>\n",
       "<style scoped>\n",
       "    .dataframe tbody tr th:only-of-type {\n",
       "        vertical-align: middle;\n",
       "    }\n",
       "\n",
       "    .dataframe tbody tr th {\n",
       "        vertical-align: top;\n",
       "    }\n",
       "\n",
       "    .dataframe thead th {\n",
       "        text-align: right;\n",
       "    }\n",
       "</style>\n",
       "<table border=\"1\" class=\"dataframe\">\n",
       "  <thead>\n",
       "    <tr style=\"text-align: right;\">\n",
       "      <th></th>\n",
       "      <th>Age</th>\n",
       "      <th>Year of Study</th>\n",
       "    </tr>\n",
       "  </thead>\n",
       "  <tbody>\n",
       "    <tr>\n",
       "      <th>count</th>\n",
       "      <td>99.000000</td>\n",
       "      <td>100.00000</td>\n",
       "    </tr>\n",
       "    <tr>\n",
       "      <th>mean</th>\n",
       "      <td>23.848485</td>\n",
       "      <td>2.76000</td>\n",
       "    </tr>\n",
       "    <tr>\n",
       "      <th>std</th>\n",
       "      <td>22.625777</td>\n",
       "      <td>3.35484</td>\n",
       "    </tr>\n",
       "    <tr>\n",
       "      <th>min</th>\n",
       "      <td>5.000000</td>\n",
       "      <td>1.00000</td>\n",
       "    </tr>\n",
       "    <tr>\n",
       "      <th>25%</th>\n",
       "      <td>20.000000</td>\n",
       "      <td>1.00000</td>\n",
       "    </tr>\n",
       "    <tr>\n",
       "      <th>50%</th>\n",
       "      <td>22.000000</td>\n",
       "      <td>2.00000</td>\n",
       "    </tr>\n",
       "    <tr>\n",
       "      <th>75%</th>\n",
       "      <td>24.000000</td>\n",
       "      <td>3.25000</td>\n",
       "    </tr>\n",
       "    <tr>\n",
       "      <th>max</th>\n",
       "      <td>245.000000</td>\n",
       "      <td>34.00000</td>\n",
       "    </tr>\n",
       "  </tbody>\n",
       "</table>\n",
       "</div>"
      ],
      "text/plain": [
       "              Age  Year of Study\n",
       "count   99.000000      100.00000\n",
       "mean    23.848485        2.76000\n",
       "std     22.625777        3.35484\n",
       "min      5.000000        1.00000\n",
       "25%     20.000000        1.00000\n",
       "50%     22.000000        2.00000\n",
       "75%     24.000000        3.25000\n",
       "max    245.000000       34.00000"
      ]
     },
     "execution_count": 17,
     "metadata": {},
     "output_type": "execute_result"
    }
   ],
   "source": [
    "students_df.describe()"
   ]
  },
  {
   "cell_type": "markdown",
   "id": "565cdb6a",
   "metadata": {},
   "source": [
    "If we have a lot of numeric columns, it can be easier view the transposition of the DataFrame returned by `describe`. We can easily do this using `T`:"
   ]
  },
  {
   "cell_type": "code",
   "execution_count": 18,
   "id": "acdbf635",
   "metadata": {
    "ExecuteTime": {
     "end_time": "2025-04-24T17:47:12.630396Z",
     "start_time": "2025-04-24T17:47:12.619915Z"
    }
   },
   "outputs": [
    {
     "data": {
      "text/html": [
       "<div>\n",
       "<style scoped>\n",
       "    .dataframe tbody tr th:only-of-type {\n",
       "        vertical-align: middle;\n",
       "    }\n",
       "\n",
       "    .dataframe tbody tr th {\n",
       "        vertical-align: top;\n",
       "    }\n",
       "\n",
       "    .dataframe thead th {\n",
       "        text-align: right;\n",
       "    }\n",
       "</style>\n",
       "<table border=\"1\" class=\"dataframe\">\n",
       "  <thead>\n",
       "    <tr style=\"text-align: right;\">\n",
       "      <th></th>\n",
       "      <th>count</th>\n",
       "      <th>mean</th>\n",
       "      <th>std</th>\n",
       "      <th>min</th>\n",
       "      <th>25%</th>\n",
       "      <th>50%</th>\n",
       "      <th>75%</th>\n",
       "      <th>max</th>\n",
       "    </tr>\n",
       "  </thead>\n",
       "  <tbody>\n",
       "    <tr>\n",
       "      <th>Age</th>\n",
       "      <td>99.0</td>\n",
       "      <td>23.848485</td>\n",
       "      <td>22.625777</td>\n",
       "      <td>5.0</td>\n",
       "      <td>20.0</td>\n",
       "      <td>22.0</td>\n",
       "      <td>24.00</td>\n",
       "      <td>245.0</td>\n",
       "    </tr>\n",
       "    <tr>\n",
       "      <th>Year of Study</th>\n",
       "      <td>100.0</td>\n",
       "      <td>2.760000</td>\n",
       "      <td>3.354840</td>\n",
       "      <td>1.0</td>\n",
       "      <td>1.0</td>\n",
       "      <td>2.0</td>\n",
       "      <td>3.25</td>\n",
       "      <td>34.0</td>\n",
       "    </tr>\n",
       "  </tbody>\n",
       "</table>\n",
       "</div>"
      ],
      "text/plain": [
       "               count       mean        std  min   25%   50%    75%    max\n",
       "Age             99.0  23.848485  22.625777  5.0  20.0  22.0  24.00  245.0\n",
       "Year of Study  100.0   2.760000   3.354840  1.0   1.0   2.0   3.25   34.0"
      ]
     },
     "execution_count": 18,
     "metadata": {},
     "output_type": "execute_result"
    }
   ],
   "source": [
    "students_df.describe().T"
   ]
  },
  {
   "cell_type": "code",
   "execution_count": 19,
   "id": "c4602a0f",
   "metadata": {
    "ExecuteTime": {
     "end_time": "2025-04-24T17:47:12.939173Z",
     "start_time": "2025-04-24T17:47:12.932275Z"
    }
   },
   "outputs": [
    {
     "data": {
      "text/html": [
       "<div>\n",
       "<style scoped>\n",
       "    .dataframe tbody tr th:only-of-type {\n",
       "        vertical-align: middle;\n",
       "    }\n",
       "\n",
       "    .dataframe tbody tr th {\n",
       "        vertical-align: top;\n",
       "    }\n",
       "\n",
       "    .dataframe thead th {\n",
       "        text-align: right;\n",
       "    }\n",
       "</style>\n",
       "<table border=\"1\" class=\"dataframe\">\n",
       "  <thead>\n",
       "    <tr style=\"text-align: right;\">\n",
       "      <th></th>\n",
       "      <th>Name</th>\n",
       "      <th>Age</th>\n",
       "      <th>Subject</th>\n",
       "      <th>Year of Study</th>\n",
       "      <th>Country of Origin</th>\n",
       "    </tr>\n",
       "    <tr>\n",
       "      <th>Student ID</th>\n",
       "      <th></th>\n",
       "      <th></th>\n",
       "      <th></th>\n",
       "      <th></th>\n",
       "      <th></th>\n",
       "    </tr>\n",
       "  </thead>\n",
       "  <tbody>\n",
       "    <tr>\n",
       "      <th>2c142f24</th>\n",
       "      <td>Jade Kirby</td>\n",
       "      <td>24.0</td>\n",
       "      <td>Biology</td>\n",
       "      <td>1.0</td>\n",
       "      <td>Fiji</td>\n",
       "    </tr>\n",
       "    <tr>\n",
       "      <th>3eec010c</th>\n",
       "      <td>Howard Marshall</td>\n",
       "      <td>NaN</td>\n",
       "      <td>Biology</td>\n",
       "      <td>1.0</td>\n",
       "      <td>Swaziland</td>\n",
       "    </tr>\n",
       "    <tr>\n",
       "      <th>f3cbb058</th>\n",
       "      <td>Dr Scott Wilson</td>\n",
       "      <td>18.0</td>\n",
       "      <td>English Literature</td>\n",
       "      <td>4.0</td>\n",
       "      <td>Namibia</td>\n",
       "    </tr>\n",
       "    <tr>\n",
       "      <th>6a406b49</th>\n",
       "      <td>Melissa Ali</td>\n",
       "      <td>18.0</td>\n",
       "      <td>Computer Science</td>\n",
       "      <td>1.0</td>\n",
       "      <td>Israel</td>\n",
       "    </tr>\n",
       "    <tr>\n",
       "      <th>836d85df</th>\n",
       "      <td>Carolyn Walker</td>\n",
       "      <td>18.0</td>\n",
       "      <td>Mathematics</td>\n",
       "      <td>4.0</td>\n",
       "      <td>Angola</td>\n",
       "    </tr>\n",
       "  </tbody>\n",
       "</table>\n",
       "</div>"
      ],
      "text/plain": [
       "                       Name   Age             Subject  Year of Study  \\\n",
       "Student ID                                                             \n",
       "2c142f24         Jade Kirby  24.0             Biology            1.0   \n",
       "3eec010c    Howard Marshall   NaN             Biology            1.0   \n",
       "f3cbb058    Dr Scott Wilson  18.0  English Literature            4.0   \n",
       "6a406b49        Melissa Ali  18.0    Computer Science            1.0   \n",
       "836d85df     Carolyn Walker  18.0         Mathematics            4.0   \n",
       "\n",
       "           Country of Origin  \n",
       "Student ID                    \n",
       "2c142f24                Fiji  \n",
       "3eec010c           Swaziland  \n",
       "f3cbb058             Namibia  \n",
       "6a406b49              Israel  \n",
       "836d85df              Angola  "
      ]
     },
     "execution_count": 19,
     "metadata": {},
     "output_type": "execute_result"
    }
   ],
   "source": [
    "students_df[10:15]"
   ]
  },
  {
   "cell_type": "markdown",
   "id": "4dc2fa81",
   "metadata": {},
   "source": [
    "## Clean our data"
   ]
  },
  {
   "cell_type": "markdown",
   "id": "1711d6c1",
   "metadata": {},
   "source": [
    "### Handling missing values\n",
    "We could run into problems if our DataFrame contains rows with missing data, e.g. if we try to use the data to build machine learning models."
   ]
  },
  {
   "cell_type": "markdown",
   "id": "cfec0205",
   "metadata": {},
   "source": [
    "We can find out how many missing values for each column as follows:"
   ]
  },
  {
   "cell_type": "code",
   "execution_count": 20,
   "id": "b7d708b8-7f9f-4c4f-9149-8c6ce5b72b1d",
   "metadata": {
    "ExecuteTime": {
     "end_time": "2025-04-24T17:47:13.252394Z",
     "start_time": "2025-04-24T17:47:13.248199Z"
    }
   },
   "outputs": [
    {
     "data": {
      "text/plain": [
       "Name                 0\n",
       "Age                  2\n",
       "Subject              0\n",
       "Year of Study        1\n",
       "Country of Origin    0\n",
       "dtype: int64"
      ]
     },
     "execution_count": 20,
     "metadata": {},
     "output_type": "execute_result"
    }
   ],
   "source": [
    "students_df.isnull().sum()"
   ]
  },
  {
   "cell_type": "markdown",
   "id": "ad6fd638",
   "metadata": {},
   "source": [
    "There are two main ways in which we might handle missing values.\n",
    "1. We could just delete the rows that contain the missing values. This is OK when we have enough data to build an effective machine learning model, even when those rows are deleted.\n",
    "2. We could fill in (or impute) the missing values by trying to guess the value or by using a sensible default value that won't unduly skew our model. This may enable us to benefit from data that otherwise would be deleted and can be a good approach when data is less plentiful."
   ]
  },
  {
   "cell_type": "markdown",
   "id": "b5a7b9db",
   "metadata": {},
   "source": [
    "### Imputation: filling in missing values\n",
    "In the examples below, we use `fillna` to fill in the missing 'Age' and 'Years of Study' values with their medians. The median value can be a better choice than the mean value because it is less affected by outliers."
   ]
  },
  {
   "cell_type": "code",
   "execution_count": 21,
   "id": "68e297d7",
   "metadata": {
    "ExecuteTime": {
     "end_time": "2025-04-24T17:47:13.527729Z",
     "start_time": "2025-04-24T17:47:13.523534Z"
    }
   },
   "outputs": [],
   "source": [
    "median_age = students_df['Age'].median()\n",
    "students_df['Age'] = students_df['Age'].fillna(median_age)"
   ]
  },
  {
   "cell_type": "code",
   "execution_count": 22,
   "id": "ceed0a3d-3629-493e-a497-29274d7fc27a",
   "metadata": {
    "ExecuteTime": {
     "end_time": "2025-04-24T17:47:13.720106Z",
     "start_time": "2025-04-24T17:47:13.716831Z"
    }
   },
   "outputs": [],
   "source": [
    "median_year_of_study = students_df['Year of Study'].median()\n",
    "students_df['Year of Study'] = students_df['Year of Study'].fillna(median_year_of_study)"
   ]
  },
  {
   "cell_type": "markdown",
   "id": "45f0a9fc",
   "metadata": {},
   "source": [
    "Now that we have filled in the missing values, we can confirm that there are no more missing values."
   ]
  },
  {
   "cell_type": "code",
   "execution_count": 23,
   "id": "e447cc7a",
   "metadata": {
    "ExecuteTime": {
     "end_time": "2025-04-24T17:47:13.882419Z",
     "start_time": "2025-04-24T17:47:13.876141Z"
    }
   },
   "outputs": [
    {
     "data": {
      "text/plain": [
       "Name                 0\n",
       "Age                  0\n",
       "Subject              0\n",
       "Year of Study        0\n",
       "Country of Origin    0\n",
       "dtype: int64"
      ]
     },
     "execution_count": 23,
     "metadata": {},
     "output_type": "execute_result"
    }
   ],
   "source": [
    "students_df.isnull().sum()"
   ]
  },
  {
   "cell_type": "markdown",
   "id": "85f0b204",
   "metadata": {},
   "source": [
    "### Deleting rows with missing values\n",
    "We can use `dropna` rather than `fillna` if we want to delete the rows with missing values. In contrast to 'imputation', I like to call this 'amputation', although that's not a commonly used term."
   ]
  },
  {
   "cell_type": "code",
   "execution_count": 24,
   "id": "96df4dde-31b0-4307-8af6-bf1a6b953909",
   "metadata": {
    "ExecuteTime": {
     "end_time": "2025-04-24T17:47:14.043347Z",
     "start_time": "2025-04-24T17:47:14.037491Z"
    }
   },
   "outputs": [],
   "source": [
    "# We've replaced the missing values already, so these lines will have no effect:\n",
    "students_df = students_df.dropna(subset=['Age'])\n",
    "students_df = students_df.dropna(subset=['Year of Study'])"
   ]
  },
  {
   "cell_type": "markdown",
   "id": "c28e3de9",
   "metadata": {},
   "source": [
    "You might see `inplace=True` being used, as in the examples below. This code works, but it's no more efficient than the equivalent code above, and it's proposed that the inplace parameters will be removed in a future pandas release. See this stack overflow link for more info: https://stackoverflow.com/questions/45570984/in-pandas-is-inplace-true-considered-harmful-or-not"
   ]
  },
  {
   "cell_type": "code",
   "execution_count": 25,
   "id": "3c77fa3f",
   "metadata": {
    "ExecuteTime": {
     "end_time": "2025-04-24T17:47:14.201355Z",
     "start_time": "2025-04-24T17:47:14.195353Z"
    }
   },
   "outputs": [],
   "source": [
    "students_df.dropna(subset=['Age'], inplace=True)\n",
    "students_df.dropna(subset=['Year of Study'], inplace=True)"
   ]
  },
  {
   "cell_type": "markdown",
   "id": "451751af",
   "metadata": {},
   "source": [
    "We had 101 records when we checked above. Here we confirm that we haven't deleted any."
   ]
  },
  {
   "cell_type": "code",
   "execution_count": 26,
   "id": "a23f7c61-fde9-4bc9-9fc4-7cf4347cec3a",
   "metadata": {
    "ExecuteTime": {
     "end_time": "2025-04-24T17:47:14.319666Z",
     "start_time": "2025-04-24T17:47:14.315735Z"
    }
   },
   "outputs": [
    {
     "data": {
      "text/plain": [
       "101"
      ]
     },
     "execution_count": 26,
     "metadata": {},
     "output_type": "execute_result"
    }
   ],
   "source": [
    "len(students_df)"
   ]
  },
  {
   "cell_type": "markdown",
   "id": "29a0b513",
   "metadata": {},
   "source": [
    "### Checking for outliers\n",
    "There are various ways in which we could check for outliers. For example, we could visualise the data using a box plot (we'll soon learn more about data visualisation). We could also calculate the mean and the standard deviation and identify values that are more than, say, three standard deviations away from the mean."
   ]
  },
  {
   "cell_type": "markdown",
   "id": "9660d87d",
   "metadata": {},
   "source": [
    "For this example, we'll assume ages of less than 17 or greater than 30 should be checked, and that the year of study should be in the range 1 to 4.\n",
    "\n",
    "In the examples below the vertical bar `|` is the OR operator.\n",
    "\n",
    "You can also use a single ampersand `&` for AND, and a tilde `~` for NOT."
   ]
  },
  {
   "cell_type": "code",
   "execution_count": 27,
   "id": "aea7c9e4-1ead-485e-a447-f966edc22402",
   "metadata": {
    "ExecuteTime": {
     "end_time": "2025-04-24T17:47:14.397871Z",
     "start_time": "2025-04-24T17:47:14.389650Z"
    }
   },
   "outputs": [
    {
     "data": {
      "text/html": [
       "<div>\n",
       "<style scoped>\n",
       "    .dataframe tbody tr th:only-of-type {\n",
       "        vertical-align: middle;\n",
       "    }\n",
       "\n",
       "    .dataframe tbody tr th {\n",
       "        vertical-align: top;\n",
       "    }\n",
       "\n",
       "    .dataframe thead th {\n",
       "        text-align: right;\n",
       "    }\n",
       "</style>\n",
       "<table border=\"1\" class=\"dataframe\">\n",
       "  <thead>\n",
       "    <tr style=\"text-align: right;\">\n",
       "      <th></th>\n",
       "      <th>Name</th>\n",
       "      <th>Age</th>\n",
       "      <th>Subject</th>\n",
       "      <th>Year of Study</th>\n",
       "      <th>Country of Origin</th>\n",
       "    </tr>\n",
       "    <tr>\n",
       "      <th>Student ID</th>\n",
       "      <th></th>\n",
       "      <th></th>\n",
       "      <th></th>\n",
       "      <th></th>\n",
       "      <th></th>\n",
       "    </tr>\n",
       "  </thead>\n",
       "  <tbody>\n",
       "    <tr>\n",
       "      <th>27166ecb</th>\n",
       "      <td>Dr Terry Lewis</td>\n",
       "      <td>245.0</td>\n",
       "      <td>Mathematics</td>\n",
       "      <td>3.0</td>\n",
       "      <td>Fiji</td>\n",
       "    </tr>\n",
       "    <tr>\n",
       "      <th>95fadd5e</th>\n",
       "      <td>Sheila Berry</td>\n",
       "      <td>5.0</td>\n",
       "      <td>Biology</td>\n",
       "      <td>1.0</td>\n",
       "      <td>Romania</td>\n",
       "    </tr>\n",
       "  </tbody>\n",
       "</table>\n",
       "</div>"
      ],
      "text/plain": [
       "                      Name    Age      Subject  Year of Study  \\\n",
       "Student ID                                                      \n",
       "27166ecb    Dr Terry Lewis  245.0  Mathematics            3.0   \n",
       "95fadd5e      Sheila Berry    5.0      Biology            1.0   \n",
       "\n",
       "           Country of Origin  \n",
       "Student ID                    \n",
       "27166ecb                Fiji  \n",
       "95fadd5e             Romania  "
      ]
     },
     "execution_count": 27,
     "metadata": {},
     "output_type": "execute_result"
    }
   ],
   "source": [
    "students_df[(students_df['Age'] < 17) | (students_df['Age'] > 30)]"
   ]
  },
  {
   "cell_type": "code",
   "execution_count": 28,
   "id": "e7f7d72d-3c5c-4ef6-be00-6a86b7885787",
   "metadata": {
    "ExecuteTime": {
     "end_time": "2025-04-24T17:47:14.575022Z",
     "start_time": "2025-04-24T17:47:14.566502Z"
    }
   },
   "outputs": [
    {
     "data": {
      "text/html": [
       "<div>\n",
       "<style scoped>\n",
       "    .dataframe tbody tr th:only-of-type {\n",
       "        vertical-align: middle;\n",
       "    }\n",
       "\n",
       "    .dataframe tbody tr th {\n",
       "        vertical-align: top;\n",
       "    }\n",
       "\n",
       "    .dataframe thead th {\n",
       "        text-align: right;\n",
       "    }\n",
       "</style>\n",
       "<table border=\"1\" class=\"dataframe\">\n",
       "  <thead>\n",
       "    <tr style=\"text-align: right;\">\n",
       "      <th></th>\n",
       "      <th>Name</th>\n",
       "      <th>Age</th>\n",
       "      <th>Subject</th>\n",
       "      <th>Year of Study</th>\n",
       "      <th>Country of Origin</th>\n",
       "    </tr>\n",
       "    <tr>\n",
       "      <th>Student ID</th>\n",
       "      <th></th>\n",
       "      <th></th>\n",
       "      <th></th>\n",
       "      <th></th>\n",
       "      <th></th>\n",
       "    </tr>\n",
       "  </thead>\n",
       "  <tbody>\n",
       "    <tr>\n",
       "      <th>3b69ff22</th>\n",
       "      <td>Sara Austin</td>\n",
       "      <td>19.0</td>\n",
       "      <td>Computer Science</td>\n",
       "      <td>34.0</td>\n",
       "      <td>Liechtenstein</td>\n",
       "    </tr>\n",
       "  </tbody>\n",
       "</table>\n",
       "</div>"
      ],
      "text/plain": [
       "                   Name   Age           Subject  Year of Study  \\\n",
       "Student ID                                                       \n",
       "3b69ff22    Sara Austin  19.0  Computer Science           34.0   \n",
       "\n",
       "           Country of Origin  \n",
       "Student ID                    \n",
       "3b69ff22       Liechtenstein  "
      ]
     },
     "execution_count": 28,
     "metadata": {},
     "output_type": "execute_result"
    }
   ],
   "source": [
    "students_df[(students_df['Year of Study'] < 1) | (students_df['Year of Study'] > 4)]"
   ]
  },
  {
   "cell_type": "markdown",
   "id": "5a434e58",
   "metadata": {},
   "source": [
    "Ages of 245 and 5 both seem unreasonable, as does a year of study of 34. We can again replace these values or filter out the rows that contain them."
   ]
  },
  {
   "cell_type": "markdown",
   "id": "a32c69f4",
   "metadata": {},
   "source": [
    "Here we replace the age outliers with the median. We do this using `loc` and setting a Boolean condition to identify the values we want to replace."
   ]
  },
  {
   "cell_type": "code",
   "execution_count": 29,
   "id": "f879d223",
   "metadata": {
    "ExecuteTime": {
     "end_time": "2025-04-24T17:47:14.734753Z",
     "start_time": "2025-04-24T17:47:14.730863Z"
    }
   },
   "outputs": [],
   "source": [
    "students_df.loc[(students_df['Age'] < 17) | (students_df['Age'] > 30), 'Age'] = median_age"
   ]
  },
  {
   "cell_type": "markdown",
   "id": "f0ca5994",
   "metadata": {},
   "source": [
    "And here we replace the year of study outliers with the median."
   ]
  },
  {
   "cell_type": "code",
   "execution_count": 30,
   "id": "7e72b134-ee03-455c-8cc6-1e273eface94",
   "metadata": {
    "ExecuteTime": {
     "end_time": "2025-04-24T17:47:14.974958Z",
     "start_time": "2025-04-24T17:47:14.971112Z"
    }
   },
   "outputs": [],
   "source": [
    "\n",
    "students_df.loc[(students_df['Year of Study'] < 1) | (students_df['Year of Study'] > 4), 'Year of Study'] \\\n",
    "    = median_year_of_study"
   ]
  },
  {
   "cell_type": "markdown",
   "id": "bf2e6f34",
   "metadata": {},
   "source": [
    "In the example below, we show how to filter out the outliers:"
   ]
  },
  {
   "cell_type": "code",
   "execution_count": 31,
   "id": "501b938f-5bcd-4868-b56a-feb0cf07e765",
   "metadata": {
    "ExecuteTime": {
     "end_time": "2025-04-24T17:47:15.106102Z",
     "start_time": "2025-04-24T17:47:15.100966Z"
    }
   },
   "outputs": [],
   "source": [
    "# We have already replaced the outlier values, so this code won't have any effect\n",
    "students_df = students_df[(students_df['Age'] >= 17) & (students_df['Age'] <= 30)]\n",
    "students_df = students_df[(students_df['Year of Study'] >= 1) & (students_df['Year of Study'] <= 4)]"
   ]
  },
  {
   "cell_type": "code",
   "execution_count": 32,
   "id": "e6acfb1a",
   "metadata": {
    "ExecuteTime": {
     "end_time": "2025-04-24T17:47:15.165701Z",
     "start_time": "2025-04-24T17:47:15.161211Z"
    }
   },
   "outputs": [
    {
     "data": {
      "text/plain": [
       "101"
      ]
     },
     "execution_count": 32,
     "metadata": {},
     "output_type": "execute_result"
    }
   ],
   "source": [
    "# Confirming again that we still have 101 rows\n",
    "len(students_df)"
   ]
  },
  {
   "cell_type": "markdown",
   "id": "5a7a80db",
   "metadata": {},
   "source": [
    "### Modify the datatypes\n",
    "When we checked the datatypes earlier, we saw that 'Age' and 'Year of Study' were floating point values.  "
   ]
  },
  {
   "cell_type": "code",
   "execution_count": 33,
   "id": "d0397990-118e-44e1-975c-c88aab73801d",
   "metadata": {
    "ExecuteTime": {
     "end_time": "2025-04-24T17:47:15.282070Z",
     "start_time": "2025-04-24T17:47:15.277304Z"
    }
   },
   "outputs": [
    {
     "data": {
      "text/plain": [
       "Name                  object\n",
       "Age                  float64\n",
       "Subject               object\n",
       "Year of Study        float64\n",
       "Country of Origin     object\n",
       "dtype: object"
      ]
     },
     "execution_count": 33,
     "metadata": {},
     "output_type": "execute_result"
    }
   ],
   "source": [
    "# Checking the datatypes again\n",
    "students_df.dtypes"
   ]
  },
  {
   "cell_type": "markdown",
   "id": "6d9e5057",
   "metadata": {},
   "source": [
    "It probably makes more sense to represent these with integers rather than floating point values. Here we show how to convert them using `astype`."
   ]
  },
  {
   "cell_type": "code",
   "execution_count": 34,
   "id": "0ccc1f10-a5a0-4ff1-a5b9-2539058df2b7",
   "metadata": {
    "ExecuteTime": {
     "end_time": "2025-04-24T17:47:15.462581Z",
     "start_time": "2025-04-24T17:47:15.457265Z"
    }
   },
   "outputs": [],
   "source": [
    "students_df['Age'] = students_df['Age'].astype(int)\n",
    "students_df['Year of Study'] = students_df['Year of Study'].astype(int)"
   ]
  },
  {
   "cell_type": "code",
   "execution_count": 35,
   "id": "36bbe664",
   "metadata": {
    "ExecuteTime": {
     "end_time": "2025-04-24T17:47:15.590515Z",
     "start_time": "2025-04-24T17:47:15.586300Z"
    }
   },
   "outputs": [
    {
     "data": {
      "text/plain": [
       "Name                 object\n",
       "Age                   int32\n",
       "Subject              object\n",
       "Year of Study         int32\n",
       "Country of Origin    object\n",
       "dtype: object"
      ]
     },
     "execution_count": 35,
     "metadata": {},
     "output_type": "execute_result"
    }
   ],
   "source": [
    "# Confirm that 'Age' and 'Year of Study' are now integers\n",
    "students_df.dtypes"
   ]
  },
  {
   "cell_type": "code",
   "execution_count": 36,
   "id": "37a55df0",
   "metadata": {
    "ExecuteTime": {
     "end_time": "2025-04-24T17:47:15.765220Z",
     "start_time": "2025-04-24T17:47:15.757753Z"
    }
   },
   "outputs": [
    {
     "data": {
      "text/html": [
       "<div>\n",
       "<style scoped>\n",
       "    .dataframe tbody tr th:only-of-type {\n",
       "        vertical-align: middle;\n",
       "    }\n",
       "\n",
       "    .dataframe tbody tr th {\n",
       "        vertical-align: top;\n",
       "    }\n",
       "\n",
       "    .dataframe thead th {\n",
       "        text-align: right;\n",
       "    }\n",
       "</style>\n",
       "<table border=\"1\" class=\"dataframe\">\n",
       "  <thead>\n",
       "    <tr style=\"text-align: right;\">\n",
       "      <th></th>\n",
       "      <th>Name</th>\n",
       "      <th>Age</th>\n",
       "      <th>Subject</th>\n",
       "      <th>Year of Study</th>\n",
       "      <th>Country of Origin</th>\n",
       "    </tr>\n",
       "    <tr>\n",
       "      <th>Student ID</th>\n",
       "      <th></th>\n",
       "      <th></th>\n",
       "      <th></th>\n",
       "      <th></th>\n",
       "      <th></th>\n",
       "    </tr>\n",
       "  </thead>\n",
       "  <tbody>\n",
       "    <tr>\n",
       "      <th>2703f3f0</th>\n",
       "      <td>Mr Clifford Watson</td>\n",
       "      <td>25</td>\n",
       "      <td>English Literature</td>\n",
       "      <td>1</td>\n",
       "      <td>Saint Barthelemy</td>\n",
       "    </tr>\n",
       "    <tr>\n",
       "      <th>a8040287</th>\n",
       "      <td>Elliott Ward</td>\n",
       "      <td>25</td>\n",
       "      <td>Computer Science</td>\n",
       "      <td>4</td>\n",
       "      <td>Guinea</td>\n",
       "    </tr>\n",
       "    <tr>\n",
       "      <th>d8da5486</th>\n",
       "      <td>Miss Pauline Dunn</td>\n",
       "      <td>22</td>\n",
       "      <td>Engineering</td>\n",
       "      <td>4</td>\n",
       "      <td>Afghanistan</td>\n",
       "    </tr>\n",
       "    <tr>\n",
       "      <th>3ac1b74d</th>\n",
       "      <td>Mr Dominic Mason</td>\n",
       "      <td>22</td>\n",
       "      <td>Physics</td>\n",
       "      <td>1</td>\n",
       "      <td>Palau</td>\n",
       "    </tr>\n",
       "    <tr>\n",
       "      <th>67850858</th>\n",
       "      <td>Mrs Melanie Brown</td>\n",
       "      <td>18</td>\n",
       "      <td>English Literature</td>\n",
       "      <td>3</td>\n",
       "      <td>Algeria</td>\n",
       "    </tr>\n",
       "  </tbody>\n",
       "</table>\n",
       "</div>"
      ],
      "text/plain": [
       "                          Name  Age             Subject  Year of Study  \\\n",
       "Student ID                                                               \n",
       "2703f3f0    Mr Clifford Watson   25  English Literature              1   \n",
       "a8040287          Elliott Ward   25    Computer Science              4   \n",
       "d8da5486     Miss Pauline Dunn   22         Engineering              4   \n",
       "3ac1b74d      Mr Dominic Mason   22             Physics              1   \n",
       "67850858     Mrs Melanie Brown   18  English Literature              3   \n",
       "\n",
       "           Country of Origin  \n",
       "Student ID                    \n",
       "2703f3f0    Saint Barthelemy  \n",
       "a8040287              Guinea  \n",
       "d8da5486         Afghanistan  \n",
       "3ac1b74d               Palau  \n",
       "67850858             Algeria  "
      ]
     },
     "execution_count": 36,
     "metadata": {},
     "output_type": "execute_result"
    }
   ],
   "source": [
    "# The DataFrame also shows 'Age' and 'Year of Study' as integers\n",
    "students_df.head()"
   ]
  },
  {
   "cell_type": "markdown",
   "id": "e55dbf57",
   "metadata": {},
   "source": [
    "We can also convert the object type column types to strings."
   ]
  },
  {
   "cell_type": "code",
   "execution_count": 37,
   "id": "1549de07",
   "metadata": {
    "ExecuteTime": {
     "end_time": "2025-04-24T17:47:16.001567Z",
     "start_time": "2025-04-24T17:47:15.994506Z"
    }
   },
   "outputs": [
    {
     "data": {
      "text/plain": [
       "Name                 string[python]\n",
       "Age                           int32\n",
       "Subject              string[python]\n",
       "Year of Study                 int32\n",
       "Country of Origin    string[python]\n",
       "dtype: object"
      ]
     },
     "execution_count": 37,
     "metadata": {},
     "output_type": "execute_result"
    }
   ],
   "source": [
    "students_df['Name'] = students_df['Name'].astype(\"string\")\n",
    "students_df['Subject'] = students_df['Subject'].astype(\"string\")\n",
    "students_df['Country of Origin'] = students_df['Country of Origin'].astype(\"string\")\n",
    "\n",
    "students_df.dtypes"
   ]
  },
  {
   "cell_type": "markdown",
   "id": "4b578a38",
   "metadata": {},
   "source": [
    "## More data exploration"
   ]
  },
  {
   "cell_type": "markdown",
   "id": "4ab8dba9",
   "metadata": {},
   "source": [
    "Here we use `nunique` to see how many unique values each column has."
   ]
  },
  {
   "cell_type": "code",
   "execution_count": 38,
   "id": "3c1a94cf",
   "metadata": {
    "ExecuteTime": {
     "end_time": "2025-04-24T17:47:16.246542Z",
     "start_time": "2025-04-24T17:47:16.240093Z"
    }
   },
   "outputs": [
    {
     "data": {
      "text/plain": [
       "Name                 100\n",
       "Age                    8\n",
       "Subject               10\n",
       "Year of Study          4\n",
       "Country of Origin     81\n",
       "dtype: int64"
      ]
     },
     "execution_count": 38,
     "metadata": {},
     "output_type": "execute_result"
    }
   ],
   "source": [
    "students_df.nunique()"
   ]
  },
  {
   "cell_type": "markdown",
   "id": "e6513600",
   "metadata": {},
   "source": [
    "We can use `value_counts` to count each unique value for a particular column. Here we see that the ages 22 and 21 occur 16 times each."
   ]
  },
  {
   "cell_type": "code",
   "execution_count": 39,
   "id": "72596f05",
   "metadata": {
    "ExecuteTime": {
     "end_time": "2025-04-24T17:47:16.478852Z",
     "start_time": "2025-04-24T17:47:16.472956Z"
    }
   },
   "outputs": [
    {
     "data": {
      "text/plain": [
       "Age\n",
       "22    16\n",
       "21    16\n",
       "24    15\n",
       "23    14\n",
       "25    12\n",
       "18    12\n",
       "20     9\n",
       "19     7\n",
       "Name: count, dtype: int64"
      ]
     },
     "execution_count": 39,
     "metadata": {},
     "output_type": "execute_result"
    }
   ],
   "source": [
    "students_df['Age'].value_counts()"
   ]
  },
  {
   "cell_type": "markdown",
   "id": "3bf466fb",
   "metadata": {},
   "source": [
    "The `value_counts` method works with categorical data as well. Here we see that English Literature is the most commonly studied subject in our dataset."
   ]
  },
  {
   "cell_type": "code",
   "execution_count": 40,
   "id": "3c93a7ae-6e4e-4d6f-a725-86e41ad0f1ec",
   "metadata": {
    "ExecuteTime": {
     "end_time": "2025-04-24T17:47:16.780285Z",
     "start_time": "2025-04-24T17:47:16.774292Z"
    }
   },
   "outputs": [
    {
     "data": {
      "text/plain": [
       "Subject\n",
       "English Literature    16\n",
       "Computer Science      13\n",
       "Medicine              11\n",
       "Biology               11\n",
       "Law                   11\n",
       "Engineering            9\n",
       "Physics                8\n",
       "Mathematics            8\n",
       "History                7\n",
       "Art                    7\n",
       "Name: count, dtype: Int64"
      ]
     },
     "execution_count": 40,
     "metadata": {},
     "output_type": "execute_result"
    }
   ],
   "source": [
    "students_df['Subject'].value_counts()"
   ]
  },
  {
   "cell_type": "markdown",
   "id": "007813ee",
   "metadata": {},
   "source": [
    "And here we see that Belize is the most frequently occurring country of origin. The values in this dataset were generated randomly, so there are more countries of origin than we might normally expect."
   ]
  },
  {
   "cell_type": "code",
   "execution_count": 41,
   "id": "fb689eb3-3428-440e-8576-3dffa6f94c79",
   "metadata": {
    "ExecuteTime": {
     "end_time": "2025-04-24T17:47:17.043308Z",
     "start_time": "2025-04-24T17:47:17.037108Z"
    }
   },
   "outputs": [
    {
     "data": {
      "text/plain": [
       "Country of Origin\n",
       "Belize                  4\n",
       "Comoros                 3\n",
       "Netherlands Antilles    2\n",
       "Cyprus                  2\n",
       "Chad                    2\n",
       "                       ..\n",
       "Niger                   1\n",
       "Tuvalu                  1\n",
       "Kenya                   1\n",
       "Saint Barthelemy        1\n",
       "Lebanon                 1\n",
       "Name: count, Length: 81, dtype: Int64"
      ]
     },
     "execution_count": 41,
     "metadata": {},
     "output_type": "execute_result"
    }
   ],
   "source": [
    "students_df['Country of Origin'].value_counts()"
   ]
  },
  {
   "cell_type": "markdown",
   "id": "361db350",
   "metadata": {},
   "source": [
    "We can also explore different groupings of data. Here we use `groupby` and `mean` to show the average student age by subject."
   ]
  },
  {
   "cell_type": "code",
   "execution_count": 42,
   "id": "276ff1e8-9a4a-4017-9fa2-4d1cd7e4f496",
   "metadata": {
    "ExecuteTime": {
     "end_time": "2025-04-24T17:47:17.314548Z",
     "start_time": "2025-04-24T17:47:17.308504Z"
    }
   },
   "outputs": [
    {
     "data": {
      "text/plain": [
       "Subject\n",
       "Art                   19.428571\n",
       "Biology               20.727273\n",
       "Computer Science      21.153846\n",
       "Engineering           22.888889\n",
       "English Literature    22.625000\n",
       "History               22.714286\n",
       "Law                   21.818182\n",
       "Mathematics           20.875000\n",
       "Medicine              22.181818\n",
       "Physics               22.750000\n",
       "Name: Age, dtype: float64"
      ]
     },
     "execution_count": 42,
     "metadata": {},
     "output_type": "execute_result"
    }
   ],
   "source": [
    "students_df.groupby('Subject')['Age'].mean()"
   ]
  },
  {
   "cell_type": "markdown",
   "id": "ef311706",
   "metadata": {},
   "source": [
    "Similarly, here we show the average year of study by country of origin."
   ]
  },
  {
   "cell_type": "code",
   "execution_count": 43,
   "id": "b46b4e89-d7ba-4cc8-9825-ff1d00a5ea3e",
   "metadata": {
    "ExecuteTime": {
     "end_time": "2025-04-24T17:47:17.599291Z",
     "start_time": "2025-04-24T17:47:17.592715Z"
    }
   },
   "outputs": [
    {
     "data": {
      "text/plain": [
       "Country of Origin\n",
       "Afghanistan            4.0\n",
       "Algeria                3.0\n",
       "Angola                 3.0\n",
       "Anguilla               4.0\n",
       "Antigua and Barbuda    3.0\n",
       "                      ... \n",
       "Uruguay                4.0\n",
       "Uzbekistan             1.0\n",
       "Vietnam                3.0\n",
       "Wallis and Futuna      4.0\n",
       "Zimbabwe               1.0\n",
       "Name: Year of Study, Length: 81, dtype: float64"
      ]
     },
     "execution_count": 43,
     "metadata": {},
     "output_type": "execute_result"
    }
   ],
   "source": [
    "students_df.groupby('Country of Origin')['Year of Study'].mean()"
   ]
  },
  {
   "cell_type": "markdown",
   "id": "47c7f4ed",
   "metadata": {},
   "source": [
    "## Identifying duplicates\n",
    "We can check for duplicates using a combination of `duplicated` and `sum`. The duplicated method returns a series of Boolean `True` or `False` values. `True` if the row is a duplicate of a row above, and `False` otherwise."
   ]
  },
  {
   "cell_type": "markdown",
   "id": "792cdba2",
   "metadata": {},
   "source": [
    "Here we show the series of Boolean values. The final `True` shows that the last record is a duplicate."
   ]
  },
  {
   "cell_type": "code",
   "execution_count": 44,
   "id": "93f7193b-6f11-4ee3-9fdf-438d0bf23c3d",
   "metadata": {
    "ExecuteTime": {
     "end_time": "2025-04-24T17:47:17.834627Z",
     "start_time": "2025-04-24T17:47:17.828431Z"
    }
   },
   "outputs": [
    {
     "data": {
      "text/plain": [
       "Student ID\n",
       "2703f3f0    False\n",
       "a8040287    False\n",
       "d8da5486    False\n",
       "3ac1b74d    False\n",
       "67850858    False\n",
       "            ...  \n",
       "a8be1ec3    False\n",
       "3b69ff22    False\n",
       "716fb45f    False\n",
       "34b97db2    False\n",
       "34b97db2     True\n",
       "Length: 101, dtype: bool"
      ]
     },
     "execution_count": 44,
     "metadata": {},
     "output_type": "execute_result"
    }
   ],
   "source": [
    "students_df.duplicated()"
   ]
  },
  {
   "cell_type": "markdown",
   "id": "f3add9ec",
   "metadata": {},
   "source": [
    "And here we use `sum` to count the number of duplicate rows (`False` is equivalent to `0` and `True` is equivalent to `1`)."
   ]
  },
  {
   "cell_type": "code",
   "execution_count": 45,
   "id": "cfbb9e43",
   "metadata": {
    "ExecuteTime": {
     "end_time": "2025-04-24T17:47:18.100497Z",
     "start_time": "2025-04-24T17:47:18.095301Z"
    }
   },
   "outputs": [
    {
     "data": {
      "text/plain": [
       "1"
      ]
     },
     "execution_count": 45,
     "metadata": {},
     "output_type": "execute_result"
    }
   ],
   "source": [
    "students_df.duplicated().sum()"
   ]
  },
  {
   "cell_type": "markdown",
   "id": "877c1c14",
   "metadata": {},
   "source": [
    "We can see the duplicated rows using `loc` (for location) and passing in the True/False values returned by students_df.duplicated()."
   ]
  },
  {
   "cell_type": "code",
   "execution_count": 46,
   "id": "b6131e3b",
   "metadata": {
    "ExecuteTime": {
     "end_time": "2025-04-24T17:47:18.302966Z",
     "start_time": "2025-04-24T17:47:18.294621Z"
    }
   },
   "outputs": [
    {
     "data": {
      "text/html": [
       "<div>\n",
       "<style scoped>\n",
       "    .dataframe tbody tr th:only-of-type {\n",
       "        vertical-align: middle;\n",
       "    }\n",
       "\n",
       "    .dataframe tbody tr th {\n",
       "        vertical-align: top;\n",
       "    }\n",
       "\n",
       "    .dataframe thead th {\n",
       "        text-align: right;\n",
       "    }\n",
       "</style>\n",
       "<table border=\"1\" class=\"dataframe\">\n",
       "  <thead>\n",
       "    <tr style=\"text-align: right;\">\n",
       "      <th></th>\n",
       "      <th>Name</th>\n",
       "      <th>Age</th>\n",
       "      <th>Subject</th>\n",
       "      <th>Year of Study</th>\n",
       "      <th>Country of Origin</th>\n",
       "    </tr>\n",
       "    <tr>\n",
       "      <th>Student ID</th>\n",
       "      <th></th>\n",
       "      <th></th>\n",
       "      <th></th>\n",
       "      <th></th>\n",
       "      <th></th>\n",
       "    </tr>\n",
       "  </thead>\n",
       "  <tbody>\n",
       "    <tr>\n",
       "      <th>34b97db2</th>\n",
       "      <td>Miss Lydia Saunders</td>\n",
       "      <td>23</td>\n",
       "      <td>Physics</td>\n",
       "      <td>2</td>\n",
       "      <td>Faroe Islands</td>\n",
       "    </tr>\n",
       "  </tbody>\n",
       "</table>\n",
       "</div>"
      ],
      "text/plain": [
       "                           Name  Age  Subject  Year of Study Country of Origin\n",
       "Student ID                                                                    \n",
       "34b97db2    Miss Lydia Saunders   23  Physics              2     Faroe Islands"
      ]
     },
     "execution_count": 46,
     "metadata": {},
     "output_type": "execute_result"
    }
   ],
   "source": [
    "students_df.loc[students_df.duplicated()]"
   ]
  },
  {
   "cell_type": "markdown",
   "id": "b0dce881",
   "metadata": {},
   "source": [
    "We can easily remove duplicate rows from the DataFrame using `drop_duplicates`."
   ]
  },
  {
   "cell_type": "code",
   "execution_count": 47,
   "id": "71b01e68-87bb-4c2f-8662-fbbbeef4fe23",
   "metadata": {
    "ExecuteTime": {
     "end_time": "2025-04-24T17:47:18.469458Z",
     "start_time": "2025-04-24T17:47:18.465343Z"
    }
   },
   "outputs": [],
   "source": [
    "students_df = students_df.drop_duplicates()"
   ]
  },
  {
   "cell_type": "markdown",
   "id": "bc30333b",
   "metadata": {},
   "source": [
    "We started with 101 rows and have just dropped a duplicate row. So we can expect to have 100 rows remaining."
   ]
  },
  {
   "cell_type": "code",
   "execution_count": 48,
   "id": "6d19c06f",
   "metadata": {
    "ExecuteTime": {
     "end_time": "2025-04-24T17:47:18.672116Z",
     "start_time": "2025-04-24T17:47:18.668545Z"
    }
   },
   "outputs": [
    {
     "data": {
      "text/plain": [
       "100"
      ]
     },
     "execution_count": 48,
     "metadata": {},
     "output_type": "execute_result"
    }
   ],
   "source": [
    "len(students_df)"
   ]
  },
  {
   "cell_type": "code",
   "execution_count": 49,
   "id": "9670f22d",
   "metadata": {
    "ExecuteTime": {
     "end_time": "2025-04-24T17:47:18.796510Z",
     "start_time": "2025-04-24T17:47:18.788710Z"
    }
   },
   "outputs": [
    {
     "data": {
      "text/html": [
       "<div>\n",
       "<style scoped>\n",
       "    .dataframe tbody tr th:only-of-type {\n",
       "        vertical-align: middle;\n",
       "    }\n",
       "\n",
       "    .dataframe tbody tr th {\n",
       "        vertical-align: top;\n",
       "    }\n",
       "\n",
       "    .dataframe thead th {\n",
       "        text-align: right;\n",
       "    }\n",
       "</style>\n",
       "<table border=\"1\" class=\"dataframe\">\n",
       "  <thead>\n",
       "    <tr style=\"text-align: right;\">\n",
       "      <th></th>\n",
       "      <th>Name</th>\n",
       "      <th>Age</th>\n",
       "      <th>Subject</th>\n",
       "      <th>Year of Study</th>\n",
       "      <th>Country of Origin</th>\n",
       "    </tr>\n",
       "    <tr>\n",
       "      <th>Student ID</th>\n",
       "      <th></th>\n",
       "      <th></th>\n",
       "      <th></th>\n",
       "      <th></th>\n",
       "      <th></th>\n",
       "    </tr>\n",
       "  </thead>\n",
       "  <tbody>\n",
       "    <tr>\n",
       "      <th>bf9937ac</th>\n",
       "      <td>Mr Victor Smith</td>\n",
       "      <td>20</td>\n",
       "      <td>Law</td>\n",
       "      <td>1</td>\n",
       "      <td>Bangladesh</td>\n",
       "    </tr>\n",
       "    <tr>\n",
       "      <th>a8be1ec3</th>\n",
       "      <td>Kelly Foster</td>\n",
       "      <td>22</td>\n",
       "      <td>Engineering</td>\n",
       "      <td>1</td>\n",
       "      <td>Netherlands</td>\n",
       "    </tr>\n",
       "    <tr>\n",
       "      <th>3b69ff22</th>\n",
       "      <td>Sara Austin</td>\n",
       "      <td>19</td>\n",
       "      <td>Computer Science</td>\n",
       "      <td>2</td>\n",
       "      <td>Liechtenstein</td>\n",
       "    </tr>\n",
       "    <tr>\n",
       "      <th>716fb45f</th>\n",
       "      <td>Miss Grace Miller</td>\n",
       "      <td>22</td>\n",
       "      <td>English Literature</td>\n",
       "      <td>4</td>\n",
       "      <td>Comoros</td>\n",
       "    </tr>\n",
       "    <tr>\n",
       "      <th>34b97db2</th>\n",
       "      <td>Miss Lydia Saunders</td>\n",
       "      <td>23</td>\n",
       "      <td>Physics</td>\n",
       "      <td>2</td>\n",
       "      <td>Faroe Islands</td>\n",
       "    </tr>\n",
       "  </tbody>\n",
       "</table>\n",
       "</div>"
      ],
      "text/plain": [
       "                           Name  Age             Subject  Year of Study  \\\n",
       "Student ID                                                                \n",
       "bf9937ac        Mr Victor Smith   20                 Law              1   \n",
       "a8be1ec3           Kelly Foster   22         Engineering              1   \n",
       "3b69ff22            Sara Austin   19    Computer Science              2   \n",
       "716fb45f      Miss Grace Miller   22  English Literature              4   \n",
       "34b97db2    Miss Lydia Saunders   23             Physics              2   \n",
       "\n",
       "           Country of Origin  \n",
       "Student ID                    \n",
       "bf9937ac          Bangladesh  \n",
       "a8be1ec3         Netherlands  \n",
       "3b69ff22       Liechtenstein  \n",
       "716fb45f             Comoros  \n",
       "34b97db2       Faroe Islands  "
      ]
     },
     "execution_count": 49,
     "metadata": {},
     "output_type": "execute_result"
    }
   ],
   "source": [
    "students_df.tail()"
   ]
  },
  {
   "cell_type": "markdown",
   "id": "87e8fa08-2056-4af1-931d-cf6716e81711",
   "metadata": {},
   "source": [
    "## Split the 'Name' column into 'Title', 'Forename', and 'Surname', handling cases where the title is not present"
   ]
  },
  {
   "cell_type": "code",
   "execution_count": 50,
   "id": "77b4ef41-454a-478e-a079-c49cce29595e",
   "metadata": {
    "ExecuteTime": {
     "end_time": "2025-04-24T17:47:18.951785Z",
     "start_time": "2025-04-24T17:47:18.947783Z"
    }
   },
   "outputs": [],
   "source": [
    "def split_name(name):\n",
    "    \"\"\"\n",
    "    Split name into title, forename, and surname. Return these as a tuple.\n",
    "    The title just gets an empty string if not included in the name.\n",
    "    \"\"\"\n",
    "    parts = name.split()\n",
    "    if len(parts) == 3:\n",
    "        return parts[0], parts[1], parts[2]\n",
    "    else:\n",
    "        return '', parts[0], parts[1]"
   ]
  },
  {
   "cell_type": "markdown",
   "id": "641addf6",
   "metadata": {},
   "source": [
    "Apply the function to each name in the DataFrame"
   ]
  },
  {
   "cell_type": "code",
   "execution_count": 51,
   "id": "ceb84d44-f9f5-475b-acae-207157bcec1f",
   "metadata": {
    "ExecuteTime": {
     "end_time": "2025-04-24T17:47:19.257865Z",
     "start_time": "2025-04-24T17:47:19.243953Z"
    }
   },
   "outputs": [],
   "source": [
    "students_df[['Title', 'Forename', 'Surname']] = \\\n",
    "     students_df['Name'].apply(lambda name: pd.Series(split_name(name)))"
   ]
  },
  {
   "cell_type": "code",
   "execution_count": 52,
   "id": "49ed92fc",
   "metadata": {
    "ExecuteTime": {
     "end_time": "2025-04-24T17:47:19.365220Z",
     "start_time": "2025-04-24T17:47:19.354912Z"
    }
   },
   "outputs": [
    {
     "data": {
      "text/html": [
       "<div>\n",
       "<style scoped>\n",
       "    .dataframe tbody tr th:only-of-type {\n",
       "        vertical-align: middle;\n",
       "    }\n",
       "\n",
       "    .dataframe tbody tr th {\n",
       "        vertical-align: top;\n",
       "    }\n",
       "\n",
       "    .dataframe thead th {\n",
       "        text-align: right;\n",
       "    }\n",
       "</style>\n",
       "<table border=\"1\" class=\"dataframe\">\n",
       "  <thead>\n",
       "    <tr style=\"text-align: right;\">\n",
       "      <th></th>\n",
       "      <th>Name</th>\n",
       "      <th>Age</th>\n",
       "      <th>Subject</th>\n",
       "      <th>Year of Study</th>\n",
       "      <th>Country of Origin</th>\n",
       "      <th>Title</th>\n",
       "      <th>Forename</th>\n",
       "      <th>Surname</th>\n",
       "    </tr>\n",
       "    <tr>\n",
       "      <th>Student ID</th>\n",
       "      <th></th>\n",
       "      <th></th>\n",
       "      <th></th>\n",
       "      <th></th>\n",
       "      <th></th>\n",
       "      <th></th>\n",
       "      <th></th>\n",
       "      <th></th>\n",
       "    </tr>\n",
       "  </thead>\n",
       "  <tbody>\n",
       "    <tr>\n",
       "      <th>2703f3f0</th>\n",
       "      <td>Mr Clifford Watson</td>\n",
       "      <td>25</td>\n",
       "      <td>English Literature</td>\n",
       "      <td>1</td>\n",
       "      <td>Saint Barthelemy</td>\n",
       "      <td>Mr</td>\n",
       "      <td>Clifford</td>\n",
       "      <td>Watson</td>\n",
       "    </tr>\n",
       "    <tr>\n",
       "      <th>a8040287</th>\n",
       "      <td>Elliott Ward</td>\n",
       "      <td>25</td>\n",
       "      <td>Computer Science</td>\n",
       "      <td>4</td>\n",
       "      <td>Guinea</td>\n",
       "      <td></td>\n",
       "      <td>Elliott</td>\n",
       "      <td>Ward</td>\n",
       "    </tr>\n",
       "    <tr>\n",
       "      <th>d8da5486</th>\n",
       "      <td>Miss Pauline Dunn</td>\n",
       "      <td>22</td>\n",
       "      <td>Engineering</td>\n",
       "      <td>4</td>\n",
       "      <td>Afghanistan</td>\n",
       "      <td>Miss</td>\n",
       "      <td>Pauline</td>\n",
       "      <td>Dunn</td>\n",
       "    </tr>\n",
       "    <tr>\n",
       "      <th>3ac1b74d</th>\n",
       "      <td>Mr Dominic Mason</td>\n",
       "      <td>22</td>\n",
       "      <td>Physics</td>\n",
       "      <td>1</td>\n",
       "      <td>Palau</td>\n",
       "      <td>Mr</td>\n",
       "      <td>Dominic</td>\n",
       "      <td>Mason</td>\n",
       "    </tr>\n",
       "    <tr>\n",
       "      <th>67850858</th>\n",
       "      <td>Mrs Melanie Brown</td>\n",
       "      <td>18</td>\n",
       "      <td>English Literature</td>\n",
       "      <td>3</td>\n",
       "      <td>Algeria</td>\n",
       "      <td>Mrs</td>\n",
       "      <td>Melanie</td>\n",
       "      <td>Brown</td>\n",
       "    </tr>\n",
       "  </tbody>\n",
       "</table>\n",
       "</div>"
      ],
      "text/plain": [
       "                          Name  Age             Subject  Year of Study  \\\n",
       "Student ID                                                               \n",
       "2703f3f0    Mr Clifford Watson   25  English Literature              1   \n",
       "a8040287          Elliott Ward   25    Computer Science              4   \n",
       "d8da5486     Miss Pauline Dunn   22         Engineering              4   \n",
       "3ac1b74d      Mr Dominic Mason   22             Physics              1   \n",
       "67850858     Mrs Melanie Brown   18  English Literature              3   \n",
       "\n",
       "           Country of Origin Title  Forename Surname  \n",
       "Student ID                                            \n",
       "2703f3f0    Saint Barthelemy    Mr  Clifford  Watson  \n",
       "a8040287              Guinea         Elliott    Ward  \n",
       "d8da5486         Afghanistan  Miss   Pauline    Dunn  \n",
       "3ac1b74d               Palau    Mr   Dominic   Mason  \n",
       "67850858             Algeria   Mrs   Melanie   Brown  "
      ]
     },
     "execution_count": 52,
     "metadata": {},
     "output_type": "execute_result"
    }
   ],
   "source": [
    "students_df.head()"
   ]
  },
  {
   "cell_type": "markdown",
   "id": "cb1b50f4",
   "metadata": {},
   "source": [
    "Now that we have Title, Forename and Surname columns, we can use `drop` to remove the redundant Name column."
   ]
  },
  {
   "cell_type": "code",
   "execution_count": 53,
   "id": "c0e95525-a949-427d-a341-ee4e8659a471",
   "metadata": {
    "ExecuteTime": {
     "end_time": "2025-04-24T17:47:19.505223Z",
     "start_time": "2025-04-24T17:47:19.500948Z"
    }
   },
   "outputs": [],
   "source": [
    "students_df = students_df.drop(columns=['Name'])"
   ]
  },
  {
   "cell_type": "code",
   "execution_count": 54,
   "id": "f887629a",
   "metadata": {
    "ExecuteTime": {
     "end_time": "2025-04-24T17:47:19.669219Z",
     "start_time": "2025-04-24T17:47:19.662081Z"
    }
   },
   "outputs": [
    {
     "data": {
      "text/html": [
       "<div>\n",
       "<style scoped>\n",
       "    .dataframe tbody tr th:only-of-type {\n",
       "        vertical-align: middle;\n",
       "    }\n",
       "\n",
       "    .dataframe tbody tr th {\n",
       "        vertical-align: top;\n",
       "    }\n",
       "\n",
       "    .dataframe thead th {\n",
       "        text-align: right;\n",
       "    }\n",
       "</style>\n",
       "<table border=\"1\" class=\"dataframe\">\n",
       "  <thead>\n",
       "    <tr style=\"text-align: right;\">\n",
       "      <th></th>\n",
       "      <th>Age</th>\n",
       "      <th>Subject</th>\n",
       "      <th>Year of Study</th>\n",
       "      <th>Country of Origin</th>\n",
       "      <th>Title</th>\n",
       "      <th>Forename</th>\n",
       "      <th>Surname</th>\n",
       "    </tr>\n",
       "    <tr>\n",
       "      <th>Student ID</th>\n",
       "      <th></th>\n",
       "      <th></th>\n",
       "      <th></th>\n",
       "      <th></th>\n",
       "      <th></th>\n",
       "      <th></th>\n",
       "      <th></th>\n",
       "    </tr>\n",
       "  </thead>\n",
       "  <tbody>\n",
       "    <tr>\n",
       "      <th>2703f3f0</th>\n",
       "      <td>25</td>\n",
       "      <td>English Literature</td>\n",
       "      <td>1</td>\n",
       "      <td>Saint Barthelemy</td>\n",
       "      <td>Mr</td>\n",
       "      <td>Clifford</td>\n",
       "      <td>Watson</td>\n",
       "    </tr>\n",
       "    <tr>\n",
       "      <th>a8040287</th>\n",
       "      <td>25</td>\n",
       "      <td>Computer Science</td>\n",
       "      <td>4</td>\n",
       "      <td>Guinea</td>\n",
       "      <td></td>\n",
       "      <td>Elliott</td>\n",
       "      <td>Ward</td>\n",
       "    </tr>\n",
       "    <tr>\n",
       "      <th>d8da5486</th>\n",
       "      <td>22</td>\n",
       "      <td>Engineering</td>\n",
       "      <td>4</td>\n",
       "      <td>Afghanistan</td>\n",
       "      <td>Miss</td>\n",
       "      <td>Pauline</td>\n",
       "      <td>Dunn</td>\n",
       "    </tr>\n",
       "    <tr>\n",
       "      <th>3ac1b74d</th>\n",
       "      <td>22</td>\n",
       "      <td>Physics</td>\n",
       "      <td>1</td>\n",
       "      <td>Palau</td>\n",
       "      <td>Mr</td>\n",
       "      <td>Dominic</td>\n",
       "      <td>Mason</td>\n",
       "    </tr>\n",
       "    <tr>\n",
       "      <th>67850858</th>\n",
       "      <td>18</td>\n",
       "      <td>English Literature</td>\n",
       "      <td>3</td>\n",
       "      <td>Algeria</td>\n",
       "      <td>Mrs</td>\n",
       "      <td>Melanie</td>\n",
       "      <td>Brown</td>\n",
       "    </tr>\n",
       "  </tbody>\n",
       "</table>\n",
       "</div>"
      ],
      "text/plain": [
       "            Age             Subject  Year of Study Country of Origin Title  \\\n",
       "Student ID                                                                   \n",
       "2703f3f0     25  English Literature              1  Saint Barthelemy    Mr   \n",
       "a8040287     25    Computer Science              4            Guinea         \n",
       "d8da5486     22         Engineering              4       Afghanistan  Miss   \n",
       "3ac1b74d     22             Physics              1             Palau    Mr   \n",
       "67850858     18  English Literature              3           Algeria   Mrs   \n",
       "\n",
       "            Forename Surname  \n",
       "Student ID                    \n",
       "2703f3f0    Clifford  Watson  \n",
       "a8040287     Elliott    Ward  \n",
       "d8da5486     Pauline    Dunn  \n",
       "3ac1b74d     Dominic   Mason  \n",
       "67850858     Melanie   Brown  "
      ]
     },
     "execution_count": 54,
     "metadata": {},
     "output_type": "execute_result"
    }
   ],
   "source": [
    "students_df.head()"
   ]
  },
  {
   "cell_type": "markdown",
   "id": "81c62f13",
   "metadata": {},
   "source": [
    "Let's see what values we extracted for Title."
   ]
  },
  {
   "cell_type": "code",
   "execution_count": 55,
   "id": "46ad4abb",
   "metadata": {
    "ExecuteTime": {
     "end_time": "2025-04-24T17:47:19.862591Z",
     "start_time": "2025-04-24T17:47:19.856357Z"
    }
   },
   "outputs": [
    {
     "data": {
      "text/plain": [
       "Title\n",
       "        67\n",
       "Mr      13\n",
       "Miss     7\n",
       "Dr       7\n",
       "Mrs      6\n",
       "Name: count, dtype: int64"
      ]
     },
     "execution_count": 55,
     "metadata": {},
     "output_type": "execute_result"
    }
   ],
   "source": [
    "students_df['Title'].value_counts()"
   ]
  },
  {
   "cell_type": "markdown",
   "id": "f5bf6fe4",
   "metadata": {},
   "source": [
    "We can reorder the columns if we wish."
   ]
  },
  {
   "cell_type": "code",
   "execution_count": 56,
   "id": "70ebb30a",
   "metadata": {
    "ExecuteTime": {
     "end_time": "2025-04-24T17:47:20.116801Z",
     "start_time": "2025-04-24T17:47:20.112917Z"
    }
   },
   "outputs": [],
   "source": [
    "column_order = ['Title', 'Forename', 'Surname', 'Age', 'Country of Origin', 'Subject', 'Year of Study']\n",
    "students_df = students_df[column_order]"
   ]
  },
  {
   "cell_type": "code",
   "execution_count": 57,
   "id": "70ba0564",
   "metadata": {
    "ExecuteTime": {
     "end_time": "2025-04-24T17:47:20.326074Z",
     "start_time": "2025-04-24T17:47:20.318077Z"
    }
   },
   "outputs": [
    {
     "data": {
      "text/html": [
       "<div>\n",
       "<style scoped>\n",
       "    .dataframe tbody tr th:only-of-type {\n",
       "        vertical-align: middle;\n",
       "    }\n",
       "\n",
       "    .dataframe tbody tr th {\n",
       "        vertical-align: top;\n",
       "    }\n",
       "\n",
       "    .dataframe thead th {\n",
       "        text-align: right;\n",
       "    }\n",
       "</style>\n",
       "<table border=\"1\" class=\"dataframe\">\n",
       "  <thead>\n",
       "    <tr style=\"text-align: right;\">\n",
       "      <th></th>\n",
       "      <th>Title</th>\n",
       "      <th>Forename</th>\n",
       "      <th>Surname</th>\n",
       "      <th>Age</th>\n",
       "      <th>Country of Origin</th>\n",
       "      <th>Subject</th>\n",
       "      <th>Year of Study</th>\n",
       "    </tr>\n",
       "    <tr>\n",
       "      <th>Student ID</th>\n",
       "      <th></th>\n",
       "      <th></th>\n",
       "      <th></th>\n",
       "      <th></th>\n",
       "      <th></th>\n",
       "      <th></th>\n",
       "      <th></th>\n",
       "    </tr>\n",
       "  </thead>\n",
       "  <tbody>\n",
       "    <tr>\n",
       "      <th>2703f3f0</th>\n",
       "      <td>Mr</td>\n",
       "      <td>Clifford</td>\n",
       "      <td>Watson</td>\n",
       "      <td>25</td>\n",
       "      <td>Saint Barthelemy</td>\n",
       "      <td>English Literature</td>\n",
       "      <td>1</td>\n",
       "    </tr>\n",
       "    <tr>\n",
       "      <th>a8040287</th>\n",
       "      <td></td>\n",
       "      <td>Elliott</td>\n",
       "      <td>Ward</td>\n",
       "      <td>25</td>\n",
       "      <td>Guinea</td>\n",
       "      <td>Computer Science</td>\n",
       "      <td>4</td>\n",
       "    </tr>\n",
       "    <tr>\n",
       "      <th>d8da5486</th>\n",
       "      <td>Miss</td>\n",
       "      <td>Pauline</td>\n",
       "      <td>Dunn</td>\n",
       "      <td>22</td>\n",
       "      <td>Afghanistan</td>\n",
       "      <td>Engineering</td>\n",
       "      <td>4</td>\n",
       "    </tr>\n",
       "    <tr>\n",
       "      <th>3ac1b74d</th>\n",
       "      <td>Mr</td>\n",
       "      <td>Dominic</td>\n",
       "      <td>Mason</td>\n",
       "      <td>22</td>\n",
       "      <td>Palau</td>\n",
       "      <td>Physics</td>\n",
       "      <td>1</td>\n",
       "    </tr>\n",
       "    <tr>\n",
       "      <th>67850858</th>\n",
       "      <td>Mrs</td>\n",
       "      <td>Melanie</td>\n",
       "      <td>Brown</td>\n",
       "      <td>18</td>\n",
       "      <td>Algeria</td>\n",
       "      <td>English Literature</td>\n",
       "      <td>3</td>\n",
       "    </tr>\n",
       "  </tbody>\n",
       "</table>\n",
       "</div>"
      ],
      "text/plain": [
       "           Title  Forename Surname  Age Country of Origin             Subject  \\\n",
       "Student ID                                                                      \n",
       "2703f3f0      Mr  Clifford  Watson   25  Saint Barthelemy  English Literature   \n",
       "a8040287           Elliott    Ward   25            Guinea    Computer Science   \n",
       "d8da5486    Miss   Pauline    Dunn   22       Afghanistan         Engineering   \n",
       "3ac1b74d      Mr   Dominic   Mason   22             Palau             Physics   \n",
       "67850858     Mrs   Melanie   Brown   18           Algeria  English Literature   \n",
       "\n",
       "            Year of Study  \n",
       "Student ID                 \n",
       "2703f3f0                1  \n",
       "a8040287                4  \n",
       "d8da5486                4  \n",
       "3ac1b74d                1  \n",
       "67850858                3  "
      ]
     },
     "execution_count": 57,
     "metadata": {},
     "output_type": "execute_result"
    }
   ],
   "source": [
    "students_df.head()"
   ]
  },
  {
   "cell_type": "markdown",
   "id": "33f5f36f",
   "metadata": {},
   "source": [
    "## Save the processed dataset\n",
    "Finally, we will write the processed dataset to its own file."
   ]
  },
  {
   "cell_type": "code",
   "execution_count": 58,
   "id": "348a1efe",
   "metadata": {
    "ExecuteTime": {
     "end_time": "2025-04-24T17:47:20.520288Z",
     "start_time": "2025-04-24T17:47:20.514845Z"
    }
   },
   "outputs": [],
   "source": [
    "students_df.to_csv('./data/students_processed.csv')"
   ]
  }
 ],
 "metadata": {
  "kernelspec": {
   "display_name": "AI-ML-Bootcamp-24-25",
   "language": "python",
   "name": "python3"
  },
  "language_info": {
   "codemirror_mode": {
    "name": "ipython",
    "version": 3
   },
   "file_extension": ".py",
   "mimetype": "text/x-python",
   "name": "python",
   "nbconvert_exporter": "python",
   "pygments_lexer": "ipython3",
   "version": "3.12.4"
  }
 },
 "nbformat": 4,
 "nbformat_minor": 5
}
