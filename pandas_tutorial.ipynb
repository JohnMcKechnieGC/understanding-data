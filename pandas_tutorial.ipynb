{
 "cells": [
  {
   "cell_type": "markdown",
   "id": "ca794387-354a-4e4a-9fd5-ee3f6c362bc9",
   "metadata": {},
   "source": [
    "# Introduction to pandas\n",
    "This notebook demonstrates some key functionality of the pandas package.\n",
    "See: https://pandas.pydata.org/\n",
    "\n",
    "See here for getting started documentation: https://pandas.pydata.org/docs/getting_started/index.html"
   ]
  },
  {
   "cell_type": "markdown",
   "id": "d24f4f17",
   "metadata": {},
   "source": [
    "You may find these code examples useful: https://github.com/paskhaver/pandas-in-action\n",
    "\n",
    "For more information on the book Pandas in Action by Boris Paskhaver, see: https://www.manning.com/books/pandas-in-action \n",
    "\n",
    "Python for Data Analysis: Data Wrangling with pandas, NumPy, and Jupyter 3rd Edition, by Wes McKinney is a highly recommended reference. The open edition is here: https://wesmckinney.com/book/. The code examples for this book are here: https://github.com/wesm/pydata-book/tree/3rd-edition"
   ]
  },
  {
   "cell_type": "code",
   "execution_count": 1,
   "id": "7ec91ed7-dd46-403a-b3ed-3ed2c2838b37",
   "metadata": {
    "ExecuteTime": {
     "end_time": "2025-04-24T17:47:09.607538Z",
     "start_time": "2025-04-24T17:47:09.234886Z"
    },
    "is_executing": true
   },
   "outputs": [],
   "source": [
    "import pandas as pd"
   ]
  },
  {
   "cell_type": "markdown",
   "id": "8de6ceb3",
   "metadata": {},
   "source": [
    "## Load our data set\n",
    "\n",
    "See https://pandas.pydata.org/docs/reference/api/pandas.read_csv.html for more info on `read_csv`."
   ]
  },
  {
   "cell_type": "code",
   "execution_count": 2,
   "id": "55829cc5-c47c-4722-ba89-18b8868ab83e",
   "metadata": {
    "ExecuteTime": {
     "end_time": "2025-04-24T17:47:09.782052Z",
     "start_time": "2025-04-24T17:47:09.775123Z"
    }
   },
   "outputs": [],
   "source": [
    "# You may need to modify the filename depending on where you have stored the file.\n",
    "students_df = pd.read_csv('data/students.csv')"
   ]
  },
  {
   "cell_type": "markdown",
   "id": "c8b59392",
   "metadata": {},
   "source": [
    "After loading the dataset, we can easily view a representation of it."
   ]
  },
  {
   "cell_type": "code",
   "execution_count": 3,
   "id": "0eedf843",
   "metadata": {
    "ExecuteTime": {
     "end_time": "2025-04-24T17:47:09.817468Z",
     "start_time": "2025-04-24T17:47:09.804846Z"
    }
   },
   "outputs": [
    {
     "data": {
      "application/vnd.microsoft.datawrangler.viewer.v0+json": {
       "columns": [
        {
         "name": "index",
         "rawType": "int64",
         "type": "integer"
        },
        {
         "name": "Student ID",
         "rawType": "object",
         "type": "string"
        },
        {
         "name": "Name",
         "rawType": "object",
         "type": "string"
        },
        {
         "name": "Age",
         "rawType": "float64",
         "type": "float"
        },
        {
         "name": "Subject",
         "rawType": "object",
         "type": "string"
        },
        {
         "name": "Year of Study",
         "rawType": "float64",
         "type": "float"
        },
        {
         "name": "Country of Origin",
         "rawType": "object",
         "type": "string"
        }
       ],
       "ref": "0076907f-a383-40dc-bf96-cddd9464bfc9",
       "rows": [
        [
         "0",
         "2703f3f0",
         "Mr Clifford Watson",
         "25.0",
         "English Literature",
         "1.0",
         "Saint Barthelemy"
        ],
        [
         "1",
         "a8040287",
         "Elliott Ward",
         "25.0",
         "Computer Science",
         "4.0",
         "Guinea"
        ],
        [
         "2",
         "d8da5486",
         "Miss Pauline Dunn",
         "22.0",
         "Engineering",
         "4.0",
         "Afghanistan"
        ],
        [
         "3",
         "3ac1b74d",
         "Mr Dominic Mason",
         "22.0",
         "Physics",
         "1.0",
         "Palau"
        ],
        [
         "4",
         "67850858",
         "Mrs Melanie Brown",
         "18.0",
         "English Literature",
         "3.0",
         "Algeria"
        ],
        [
         "5",
         "62dd3a69",
         "Mr Frederick Price",
         "22.0",
         "Medicine",
         "2.0",
         "Guinea-Bissau"
        ],
        [
         "6",
         "6b22a999",
         "Charles Hayward",
         "23.0",
         "Engineering",
         "2.0",
         "Comoros"
        ],
        [
         "7",
         "4b744b9a",
         "Garry Thornton",
         null,
         "English Literature",
         "4.0",
         "Cuba"
        ],
        [
         "8",
         "45c54817",
         "Mrs Sian Wilson",
         "20.0",
         "Computer Science",
         "2.0",
         "Korea"
        ],
        [
         "9",
         "5d5e1224",
         "Grace Walton-Kelly",
         "20.0",
         "History",
         "1.0",
         "Haiti"
        ],
        [
         "10",
         "2c142f24",
         "Jade Kirby",
         "24.0",
         "Biology",
         "1.0",
         "Fiji"
        ],
        [
         "11",
         "3eec010c",
         "Howard Marshall",
         null,
         "Biology",
         "1.0",
         "Swaziland"
        ],
        [
         "12",
         "f3cbb058",
         "Dr Scott Wilson",
         "18.0",
         "English Literature",
         "4.0",
         "Namibia"
        ],
        [
         "13",
         "6a406b49",
         "Melissa Ali",
         "18.0",
         "Computer Science",
         "1.0",
         "Israel"
        ],
        [
         "14",
         "836d85df",
         "Carolyn Walker",
         "18.0",
         "Mathematics",
         "4.0",
         "Angola"
        ],
        [
         "15",
         "fc4f68b0",
         "Sandra Stephenson",
         "23.0",
         "Law",
         "3.0",
         "Palau"
        ],
        [
         "16",
         "41465cf8",
         "Mr Guy Lynch",
         "25.0",
         "History",
         "2.0",
         "Italy"
        ],
        [
         "17",
         "afae8532",
         "Kieran Davidson-Watson",
         "25.0",
         "English Literature",
         "1.0",
         "Mayotte"
        ],
        [
         "18",
         "7c43c14d",
         "Malcolm Farrell-Sykes",
         "18.0",
         "History",
         "3.0",
         "Nauru"
        ],
        [
         "19",
         "43b3612f",
         "Frederick Khan",
         "19.0",
         "Art",
         "4.0",
         "Taiwan"
        ],
        [
         "20",
         "72324765",
         "Gail Henderson",
         "21.0",
         "Law",
         "1.0",
         "Eritrea"
        ],
        [
         "21",
         "9c0aa410",
         "Hazel Evans",
         "24.0",
         "History",
         "3.0",
         "China"
        ],
        [
         "22",
         "a9e6b860",
         "Mrs Tracey Adams",
         "24.0",
         "English Literature",
         "4.0",
         "Saint Lucia"
        ],
        [
         "23",
         "0e7361c4",
         "Mr Donald Taylor",
         "21.0",
         "Engineering",
         "3.0",
         "France"
        ],
        [
         "24",
         "27166ecb",
         "Dr Terry Lewis",
         "245.0",
         "Mathematics",
         "3.0",
         "Fiji"
        ],
        [
         "25",
         "c828ba21",
         "Kelly Fisher-Simpson",
         "21.0",
         "Law",
         "2.0",
         "Isle of Man"
        ],
        [
         "26",
         "a7bb5b63",
         "Steven Ahmed",
         "22.0",
         "Physics",
         "1.0",
         "Guernsey"
        ],
        [
         "27",
         "f156e962",
         "Christian Howell-Holt",
         "25.0",
         "Law",
         "2.0",
         "Kyrgyz Republic"
        ],
        [
         "28",
         "2f3b6b33",
         "Dr Aaron Bell",
         "21.0",
         "English Literature",
         "3.0",
         "Libyan Arab Jamahiriya"
        ],
        [
         "29",
         "88648f86",
         "Pauline Akhtar",
         "20.0",
         "Biology",
         "4.0",
         "Netherlands Antilles"
        ],
        [
         "30",
         "a225e559",
         "Sheila Roberts-Harris",
         "18.0",
         "Biology",
         "4.0",
         "Singapore"
        ],
        [
         "31",
         "34212ec1",
         "Rosemary Wood",
         "18.0",
         "Mathematics",
         "3.0",
         "Comoros"
        ],
        [
         "32",
         "fcedbd2f",
         "Mrs Rosemary Knight",
         "18.0",
         "Art",
         "4.0",
         "French Polynesia"
        ],
        [
         "33",
         "88dc77f7",
         "Daniel Harris",
         "20.0",
         "Computer Science",
         "4.0",
         "Wallis and Futuna"
        ],
        [
         "34",
         "53dd0026",
         "Amber Osborne",
         "21.0",
         "Physics",
         "4.0",
         "Liberia"
        ],
        [
         "35",
         "ea066b3e",
         "Alison Williams-Garner",
         "21.0",
         "Engineering",
         "2.0",
         "Brunei Darussalam"
        ],
        [
         "36",
         "10551162",
         "Mr Bruce Fleming",
         "24.0",
         "Law",
         "3.0",
         "Equatorial Guinea"
        ],
        [
         "37",
         "a420952d",
         "Lindsey Cook",
         "25.0",
         "History",
         "2.0",
         "Micronesia"
        ],
        [
         "38",
         "45604caa",
         "Victor Palmer",
         "23.0",
         "English Literature",
         "3.0",
         "Thailand"
        ],
        [
         "39",
         "8d697782",
         "Mr Lawrence Barker",
         "24.0",
         "Physics",
         "3.0",
         "Antigua and Barbuda"
        ],
        [
         "40",
         "8581f127",
         "Mrs Cheryl Ashton",
         "25.0",
         "Engineering",
         "3.0",
         "South Africa"
        ],
        [
         "41",
         "5fa87190",
         "Olivia Turner",
         "21.0",
         "Mathematics",
         "1.0",
         "Zimbabwe"
        ],
        [
         "42",
         "cc9eb24e",
         "Lucy Roberts",
         "22.0",
         "Biology",
         "4.0",
         "Marshall Islands"
        ],
        [
         "43",
         "3c1fe24c",
         "Melanie Sheppard",
         "21.0",
         "Medicine",
         "1.0",
         "Lebanon"
        ],
        [
         "44",
         "204e4c56",
         "Paula Watts",
         "21.0",
         "Computer Science",
         "3.0",
         "Tunisia"
        ],
        [
         "45",
         "0fac1009",
         "Louis Buckley",
         "18.0",
         "Art",
         "3.0",
         "Cambodia"
        ],
        [
         "46",
         "bde91950",
         "Mrs Elizabeth Perry",
         "19.0",
         "Computer Science",
         "4.0",
         "Burkina Faso"
        ],
        [
         "47",
         "4e324306",
         "Stephanie Thompson",
         "23.0",
         "Medicine",
         "4.0",
         "Cyprus"
        ],
        [
         "48",
         "75693b89",
         "Angela Farmer-Sanders",
         "25.0",
         "History",
         "4.0",
         "Ukraine"
        ],
        [
         "49",
         "ba4fe6e7",
         "Miss Bethany Grant",
         "24.0",
         "Physics",
         "1.0",
         "Aruba"
        ]
       ],
       "shape": {
        "columns": 6,
        "rows": 101
       }
      },
      "text/html": [
       "<div>\n",
       "<style scoped>\n",
       "    .dataframe tbody tr th:only-of-type {\n",
       "        vertical-align: middle;\n",
       "    }\n",
       "\n",
       "    .dataframe tbody tr th {\n",
       "        vertical-align: top;\n",
       "    }\n",
       "\n",
       "    .dataframe thead th {\n",
       "        text-align: right;\n",
       "    }\n",
       "</style>\n",
       "<table border=\"1\" class=\"dataframe\">\n",
       "  <thead>\n",
       "    <tr style=\"text-align: right;\">\n",
       "      <th></th>\n",
       "      <th>Student ID</th>\n",
       "      <th>Name</th>\n",
       "      <th>Age</th>\n",
       "      <th>Subject</th>\n",
       "      <th>Year of Study</th>\n",
       "      <th>Country of Origin</th>\n",
       "    </tr>\n",
       "  </thead>\n",
       "  <tbody>\n",
       "    <tr>\n",
       "      <th>0</th>\n",
       "      <td>2703f3f0</td>\n",
       "      <td>Mr Clifford Watson</td>\n",
       "      <td>25.0</td>\n",
       "      <td>English Literature</td>\n",
       "      <td>1.0</td>\n",
       "      <td>Saint Barthelemy</td>\n",
       "    </tr>\n",
       "    <tr>\n",
       "      <th>1</th>\n",
       "      <td>a8040287</td>\n",
       "      <td>Elliott Ward</td>\n",
       "      <td>25.0</td>\n",
       "      <td>Computer Science</td>\n",
       "      <td>4.0</td>\n",
       "      <td>Guinea</td>\n",
       "    </tr>\n",
       "    <tr>\n",
       "      <th>2</th>\n",
       "      <td>d8da5486</td>\n",
       "      <td>Miss Pauline Dunn</td>\n",
       "      <td>22.0</td>\n",
       "      <td>Engineering</td>\n",
       "      <td>4.0</td>\n",
       "      <td>Afghanistan</td>\n",
       "    </tr>\n",
       "    <tr>\n",
       "      <th>3</th>\n",
       "      <td>3ac1b74d</td>\n",
       "      <td>Mr Dominic Mason</td>\n",
       "      <td>22.0</td>\n",
       "      <td>Physics</td>\n",
       "      <td>1.0</td>\n",
       "      <td>Palau</td>\n",
       "    </tr>\n",
       "    <tr>\n",
       "      <th>4</th>\n",
       "      <td>67850858</td>\n",
       "      <td>Mrs Melanie Brown</td>\n",
       "      <td>18.0</td>\n",
       "      <td>English Literature</td>\n",
       "      <td>3.0</td>\n",
       "      <td>Algeria</td>\n",
       "    </tr>\n",
       "    <tr>\n",
       "      <th>...</th>\n",
       "      <td>...</td>\n",
       "      <td>...</td>\n",
       "      <td>...</td>\n",
       "      <td>...</td>\n",
       "      <td>...</td>\n",
       "      <td>...</td>\n",
       "    </tr>\n",
       "    <tr>\n",
       "      <th>96</th>\n",
       "      <td>a8be1ec3</td>\n",
       "      <td>Kelly Foster</td>\n",
       "      <td>22.0</td>\n",
       "      <td>Engineering</td>\n",
       "      <td>1.0</td>\n",
       "      <td>Netherlands</td>\n",
       "    </tr>\n",
       "    <tr>\n",
       "      <th>97</th>\n",
       "      <td>3b69ff22</td>\n",
       "      <td>Sara Austin</td>\n",
       "      <td>19.0</td>\n",
       "      <td>Computer Science</td>\n",
       "      <td>34.0</td>\n",
       "      <td>Liechtenstein</td>\n",
       "    </tr>\n",
       "    <tr>\n",
       "      <th>98</th>\n",
       "      <td>716fb45f</td>\n",
       "      <td>Miss Grace Miller</td>\n",
       "      <td>22.0</td>\n",
       "      <td>English Literature</td>\n",
       "      <td>4.0</td>\n",
       "      <td>Comoros</td>\n",
       "    </tr>\n",
       "    <tr>\n",
       "      <th>99</th>\n",
       "      <td>34b97db2</td>\n",
       "      <td>Miss Lydia Saunders</td>\n",
       "      <td>23.0</td>\n",
       "      <td>Physics</td>\n",
       "      <td>2.0</td>\n",
       "      <td>Faroe Islands</td>\n",
       "    </tr>\n",
       "    <tr>\n",
       "      <th>100</th>\n",
       "      <td>34b97db2</td>\n",
       "      <td>Miss Lydia Saunders</td>\n",
       "      <td>23.0</td>\n",
       "      <td>Physics</td>\n",
       "      <td>2.0</td>\n",
       "      <td>Faroe Islands</td>\n",
       "    </tr>\n",
       "  </tbody>\n",
       "</table>\n",
       "<p>101 rows × 6 columns</p>\n",
       "</div>"
      ],
      "text/plain": [
       "    Student ID                 Name   Age             Subject  Year of Study  \\\n",
       "0     2703f3f0   Mr Clifford Watson  25.0  English Literature            1.0   \n",
       "1     a8040287         Elliott Ward  25.0    Computer Science            4.0   \n",
       "2     d8da5486    Miss Pauline Dunn  22.0         Engineering            4.0   \n",
       "3     3ac1b74d     Mr Dominic Mason  22.0             Physics            1.0   \n",
       "4     67850858    Mrs Melanie Brown  18.0  English Literature            3.0   \n",
       "..         ...                  ...   ...                 ...            ...   \n",
       "96    a8be1ec3         Kelly Foster  22.0         Engineering            1.0   \n",
       "97    3b69ff22          Sara Austin  19.0    Computer Science           34.0   \n",
       "98    716fb45f    Miss Grace Miller  22.0  English Literature            4.0   \n",
       "99    34b97db2  Miss Lydia Saunders  23.0             Physics            2.0   \n",
       "100   34b97db2  Miss Lydia Saunders  23.0             Physics            2.0   \n",
       "\n",
       "    Country of Origin  \n",
       "0    Saint Barthelemy  \n",
       "1              Guinea  \n",
       "2         Afghanistan  \n",
       "3               Palau  \n",
       "4             Algeria  \n",
       "..                ...  \n",
       "96        Netherlands  \n",
       "97      Liechtenstein  \n",
       "98            Comoros  \n",
       "99      Faroe Islands  \n",
       "100     Faroe Islands  \n",
       "\n",
       "[101 rows x 6 columns]"
      ]
     },
     "execution_count": 3,
     "metadata": {},
     "output_type": "execute_result"
    }
   ],
   "source": [
    "students_df  # Notice there's no need to call print"
   ]
  },
  {
   "cell_type": "markdown",
   "id": "9f3aba0b",
   "metadata": {},
   "source": [
    "The `read_csv` function automatically creates an index column. You can see the numbers 0 to 100 in the DataFrame above. We can view the index as follows:"
   ]
  },
  {
   "cell_type": "code",
   "execution_count": 4,
   "id": "79be7a94",
   "metadata": {
    "ExecuteTime": {
     "end_time": "2025-04-24T17:47:09.884461Z",
     "start_time": "2025-04-24T17:47:09.880383Z"
    }
   },
   "outputs": [
    {
     "data": {
      "text/plain": [
       "RangeIndex(start=0, stop=101, step=1)"
      ]
     },
     "execution_count": 4,
     "metadata": {},
     "output_type": "execute_result"
    }
   ],
   "source": [
    "students_df.index"
   ]
  },
  {
   "cell_type": "markdown",
   "id": "87d56859",
   "metadata": {},
   "source": [
    "We can access rows by index using `loc`:"
   ]
  },
  {
   "cell_type": "code",
   "execution_count": 5,
   "id": "470b570d",
   "metadata": {},
   "outputs": [
    {
     "data": {
      "application/vnd.microsoft.datawrangler.viewer.v0+json": {
       "columns": [
        {
         "name": "index",
         "rawType": "object",
         "type": "string"
        },
        {
         "name": "0",
         "rawType": "object",
         "type": "unknown"
        }
       ],
       "ref": "e54c5a42-ccfc-4c48-b4b7-82b14cb4882a",
       "rows": [
        [
         "Student ID",
         "2703f3f0"
        ],
        [
         "Name",
         "Mr Clifford Watson"
        ],
        [
         "Age",
         "25.0"
        ],
        [
         "Subject",
         "English Literature"
        ],
        [
         "Year of Study",
         "1.0"
        ],
        [
         "Country of Origin",
         "Saint Barthelemy"
        ]
       ],
       "shape": {
        "columns": 1,
        "rows": 6
       }
      },
      "text/plain": [
       "Student ID                     2703f3f0\n",
       "Name                 Mr Clifford Watson\n",
       "Age                                25.0\n",
       "Subject              English Literature\n",
       "Year of Study                       1.0\n",
       "Country of Origin      Saint Barthelemy\n",
       "Name: 0, dtype: object"
      ]
     },
     "execution_count": 5,
     "metadata": {},
     "output_type": "execute_result"
    }
   ],
   "source": [
    "students_df.loc[0]"
   ]
  },
  {
   "cell_type": "markdown",
   "id": "21f5bbf2",
   "metadata": {},
   "source": [
    "This dataset already has a Student ID column which we could specify as the index column."
   ]
  },
  {
   "cell_type": "code",
   "execution_count": 6,
   "id": "895b3227",
   "metadata": {
    "ExecuteTime": {
     "end_time": "2025-04-24T17:47:10.106964Z",
     "start_time": "2025-04-24T17:47:10.101530Z"
    }
   },
   "outputs": [],
   "source": [
    "students_df = pd.read_csv('data/students.csv', index_col='Student ID')"
   ]
  },
  {
   "cell_type": "markdown",
   "id": "7bf0a0ee",
   "metadata": {},
   "source": [
    "Now when we view the DataFrame, we can see that 'Student ID' is being used as the index column."
   ]
  },
  {
   "cell_type": "code",
   "execution_count": 7,
   "id": "a9dc0feb",
   "metadata": {
    "ExecuteTime": {
     "end_time": "2025-04-24T17:47:10.276607Z",
     "start_time": "2025-04-24T17:47:10.267614Z"
    }
   },
   "outputs": [
    {
     "data": {
      "application/vnd.microsoft.datawrangler.viewer.v0+json": {
       "columns": [
        {
         "name": "Student ID",
         "rawType": "object",
         "type": "string"
        },
        {
         "name": "Name",
         "rawType": "object",
         "type": "string"
        },
        {
         "name": "Age",
         "rawType": "float64",
         "type": "float"
        },
        {
         "name": "Subject",
         "rawType": "object",
         "type": "string"
        },
        {
         "name": "Year of Study",
         "rawType": "float64",
         "type": "float"
        },
        {
         "name": "Country of Origin",
         "rawType": "object",
         "type": "string"
        }
       ],
       "ref": "80c3341b-d6cc-4fcd-8db4-5791dce03396",
       "rows": [
        [
         "2703f3f0",
         "Mr Clifford Watson",
         "25.0",
         "English Literature",
         "1.0",
         "Saint Barthelemy"
        ],
        [
         "a8040287",
         "Elliott Ward",
         "25.0",
         "Computer Science",
         "4.0",
         "Guinea"
        ],
        [
         "d8da5486",
         "Miss Pauline Dunn",
         "22.0",
         "Engineering",
         "4.0",
         "Afghanistan"
        ],
        [
         "3ac1b74d",
         "Mr Dominic Mason",
         "22.0",
         "Physics",
         "1.0",
         "Palau"
        ],
        [
         "67850858",
         "Mrs Melanie Brown",
         "18.0",
         "English Literature",
         "3.0",
         "Algeria"
        ],
        [
         "62dd3a69",
         "Mr Frederick Price",
         "22.0",
         "Medicine",
         "2.0",
         "Guinea-Bissau"
        ],
        [
         "6b22a999",
         "Charles Hayward",
         "23.0",
         "Engineering",
         "2.0",
         "Comoros"
        ],
        [
         "4b744b9a",
         "Garry Thornton",
         null,
         "English Literature",
         "4.0",
         "Cuba"
        ],
        [
         "45c54817",
         "Mrs Sian Wilson",
         "20.0",
         "Computer Science",
         "2.0",
         "Korea"
        ],
        [
         "5d5e1224",
         "Grace Walton-Kelly",
         "20.0",
         "History",
         "1.0",
         "Haiti"
        ],
        [
         "2c142f24",
         "Jade Kirby",
         "24.0",
         "Biology",
         "1.0",
         "Fiji"
        ],
        [
         "3eec010c",
         "Howard Marshall",
         null,
         "Biology",
         "1.0",
         "Swaziland"
        ],
        [
         "f3cbb058",
         "Dr Scott Wilson",
         "18.0",
         "English Literature",
         "4.0",
         "Namibia"
        ],
        [
         "6a406b49",
         "Melissa Ali",
         "18.0",
         "Computer Science",
         "1.0",
         "Israel"
        ],
        [
         "836d85df",
         "Carolyn Walker",
         "18.0",
         "Mathematics",
         "4.0",
         "Angola"
        ],
        [
         "fc4f68b0",
         "Sandra Stephenson",
         "23.0",
         "Law",
         "3.0",
         "Palau"
        ],
        [
         "41465cf8",
         "Mr Guy Lynch",
         "25.0",
         "History",
         "2.0",
         "Italy"
        ],
        [
         "afae8532",
         "Kieran Davidson-Watson",
         "25.0",
         "English Literature",
         "1.0",
         "Mayotte"
        ],
        [
         "7c43c14d",
         "Malcolm Farrell-Sykes",
         "18.0",
         "History",
         "3.0",
         "Nauru"
        ],
        [
         "43b3612f",
         "Frederick Khan",
         "19.0",
         "Art",
         "4.0",
         "Taiwan"
        ],
        [
         "72324765",
         "Gail Henderson",
         "21.0",
         "Law",
         "1.0",
         "Eritrea"
        ],
        [
         "9c0aa410",
         "Hazel Evans",
         "24.0",
         "History",
         "3.0",
         "China"
        ],
        [
         "a9e6b860",
         "Mrs Tracey Adams",
         "24.0",
         "English Literature",
         "4.0",
         "Saint Lucia"
        ],
        [
         "0e7361c4",
         "Mr Donald Taylor",
         "21.0",
         "Engineering",
         "3.0",
         "France"
        ],
        [
         "27166ecb",
         "Dr Terry Lewis",
         "245.0",
         "Mathematics",
         "3.0",
         "Fiji"
        ],
        [
         "c828ba21",
         "Kelly Fisher-Simpson",
         "21.0",
         "Law",
         "2.0",
         "Isle of Man"
        ],
        [
         "a7bb5b63",
         "Steven Ahmed",
         "22.0",
         "Physics",
         "1.0",
         "Guernsey"
        ],
        [
         "f156e962",
         "Christian Howell-Holt",
         "25.0",
         "Law",
         "2.0",
         "Kyrgyz Republic"
        ],
        [
         "2f3b6b33",
         "Dr Aaron Bell",
         "21.0",
         "English Literature",
         "3.0",
         "Libyan Arab Jamahiriya"
        ],
        [
         "88648f86",
         "Pauline Akhtar",
         "20.0",
         "Biology",
         "4.0",
         "Netherlands Antilles"
        ],
        [
         "a225e559",
         "Sheila Roberts-Harris",
         "18.0",
         "Biology",
         "4.0",
         "Singapore"
        ],
        [
         "34212ec1",
         "Rosemary Wood",
         "18.0",
         "Mathematics",
         "3.0",
         "Comoros"
        ],
        [
         "fcedbd2f",
         "Mrs Rosemary Knight",
         "18.0",
         "Art",
         "4.0",
         "French Polynesia"
        ],
        [
         "88dc77f7",
         "Daniel Harris",
         "20.0",
         "Computer Science",
         "4.0",
         "Wallis and Futuna"
        ],
        [
         "53dd0026",
         "Amber Osborne",
         "21.0",
         "Physics",
         "4.0",
         "Liberia"
        ],
        [
         "ea066b3e",
         "Alison Williams-Garner",
         "21.0",
         "Engineering",
         "2.0",
         "Brunei Darussalam"
        ],
        [
         "10551162",
         "Mr Bruce Fleming",
         "24.0",
         "Law",
         "3.0",
         "Equatorial Guinea"
        ],
        [
         "a420952d",
         "Lindsey Cook",
         "25.0",
         "History",
         "2.0",
         "Micronesia"
        ],
        [
         "45604caa",
         "Victor Palmer",
         "23.0",
         "English Literature",
         "3.0",
         "Thailand"
        ],
        [
         "8d697782",
         "Mr Lawrence Barker",
         "24.0",
         "Physics",
         "3.0",
         "Antigua and Barbuda"
        ],
        [
         "8581f127",
         "Mrs Cheryl Ashton",
         "25.0",
         "Engineering",
         "3.0",
         "South Africa"
        ],
        [
         "5fa87190",
         "Olivia Turner",
         "21.0",
         "Mathematics",
         "1.0",
         "Zimbabwe"
        ],
        [
         "cc9eb24e",
         "Lucy Roberts",
         "22.0",
         "Biology",
         "4.0",
         "Marshall Islands"
        ],
        [
         "3c1fe24c",
         "Melanie Sheppard",
         "21.0",
         "Medicine",
         "1.0",
         "Lebanon"
        ],
        [
         "204e4c56",
         "Paula Watts",
         "21.0",
         "Computer Science",
         "3.0",
         "Tunisia"
        ],
        [
         "0fac1009",
         "Louis Buckley",
         "18.0",
         "Art",
         "3.0",
         "Cambodia"
        ],
        [
         "bde91950",
         "Mrs Elizabeth Perry",
         "19.0",
         "Computer Science",
         "4.0",
         "Burkina Faso"
        ],
        [
         "4e324306",
         "Stephanie Thompson",
         "23.0",
         "Medicine",
         "4.0",
         "Cyprus"
        ],
        [
         "75693b89",
         "Angela Farmer-Sanders",
         "25.0",
         "History",
         "4.0",
         "Ukraine"
        ],
        [
         "ba4fe6e7",
         "Miss Bethany Grant",
         "24.0",
         "Physics",
         "1.0",
         "Aruba"
        ]
       ],
       "shape": {
        "columns": 5,
        "rows": 101
       }
      },
      "text/html": [
       "<div>\n",
       "<style scoped>\n",
       "    .dataframe tbody tr th:only-of-type {\n",
       "        vertical-align: middle;\n",
       "    }\n",
       "\n",
       "    .dataframe tbody tr th {\n",
       "        vertical-align: top;\n",
       "    }\n",
       "\n",
       "    .dataframe thead th {\n",
       "        text-align: right;\n",
       "    }\n",
       "</style>\n",
       "<table border=\"1\" class=\"dataframe\">\n",
       "  <thead>\n",
       "    <tr style=\"text-align: right;\">\n",
       "      <th></th>\n",
       "      <th>Name</th>\n",
       "      <th>Age</th>\n",
       "      <th>Subject</th>\n",
       "      <th>Year of Study</th>\n",
       "      <th>Country of Origin</th>\n",
       "    </tr>\n",
       "    <tr>\n",
       "      <th>Student ID</th>\n",
       "      <th></th>\n",
       "      <th></th>\n",
       "      <th></th>\n",
       "      <th></th>\n",
       "      <th></th>\n",
       "    </tr>\n",
       "  </thead>\n",
       "  <tbody>\n",
       "    <tr>\n",
       "      <th>2703f3f0</th>\n",
       "      <td>Mr Clifford Watson</td>\n",
       "      <td>25.0</td>\n",
       "      <td>English Literature</td>\n",
       "      <td>1.0</td>\n",
       "      <td>Saint Barthelemy</td>\n",
       "    </tr>\n",
       "    <tr>\n",
       "      <th>a8040287</th>\n",
       "      <td>Elliott Ward</td>\n",
       "      <td>25.0</td>\n",
       "      <td>Computer Science</td>\n",
       "      <td>4.0</td>\n",
       "      <td>Guinea</td>\n",
       "    </tr>\n",
       "    <tr>\n",
       "      <th>d8da5486</th>\n",
       "      <td>Miss Pauline Dunn</td>\n",
       "      <td>22.0</td>\n",
       "      <td>Engineering</td>\n",
       "      <td>4.0</td>\n",
       "      <td>Afghanistan</td>\n",
       "    </tr>\n",
       "    <tr>\n",
       "      <th>3ac1b74d</th>\n",
       "      <td>Mr Dominic Mason</td>\n",
       "      <td>22.0</td>\n",
       "      <td>Physics</td>\n",
       "      <td>1.0</td>\n",
       "      <td>Palau</td>\n",
       "    </tr>\n",
       "    <tr>\n",
       "      <th>67850858</th>\n",
       "      <td>Mrs Melanie Brown</td>\n",
       "      <td>18.0</td>\n",
       "      <td>English Literature</td>\n",
       "      <td>3.0</td>\n",
       "      <td>Algeria</td>\n",
       "    </tr>\n",
       "    <tr>\n",
       "      <th>...</th>\n",
       "      <td>...</td>\n",
       "      <td>...</td>\n",
       "      <td>...</td>\n",
       "      <td>...</td>\n",
       "      <td>...</td>\n",
       "    </tr>\n",
       "    <tr>\n",
       "      <th>a8be1ec3</th>\n",
       "      <td>Kelly Foster</td>\n",
       "      <td>22.0</td>\n",
       "      <td>Engineering</td>\n",
       "      <td>1.0</td>\n",
       "      <td>Netherlands</td>\n",
       "    </tr>\n",
       "    <tr>\n",
       "      <th>3b69ff22</th>\n",
       "      <td>Sara Austin</td>\n",
       "      <td>19.0</td>\n",
       "      <td>Computer Science</td>\n",
       "      <td>34.0</td>\n",
       "      <td>Liechtenstein</td>\n",
       "    </tr>\n",
       "    <tr>\n",
       "      <th>716fb45f</th>\n",
       "      <td>Miss Grace Miller</td>\n",
       "      <td>22.0</td>\n",
       "      <td>English Literature</td>\n",
       "      <td>4.0</td>\n",
       "      <td>Comoros</td>\n",
       "    </tr>\n",
       "    <tr>\n",
       "      <th>34b97db2</th>\n",
       "      <td>Miss Lydia Saunders</td>\n",
       "      <td>23.0</td>\n",
       "      <td>Physics</td>\n",
       "      <td>2.0</td>\n",
       "      <td>Faroe Islands</td>\n",
       "    </tr>\n",
       "    <tr>\n",
       "      <th>34b97db2</th>\n",
       "      <td>Miss Lydia Saunders</td>\n",
       "      <td>23.0</td>\n",
       "      <td>Physics</td>\n",
       "      <td>2.0</td>\n",
       "      <td>Faroe Islands</td>\n",
       "    </tr>\n",
       "  </tbody>\n",
       "</table>\n",
       "<p>101 rows × 5 columns</p>\n",
       "</div>"
      ],
      "text/plain": [
       "                           Name   Age             Subject  Year of Study  \\\n",
       "Student ID                                                                 \n",
       "2703f3f0     Mr Clifford Watson  25.0  English Literature            1.0   \n",
       "a8040287           Elliott Ward  25.0    Computer Science            4.0   \n",
       "d8da5486      Miss Pauline Dunn  22.0         Engineering            4.0   \n",
       "3ac1b74d       Mr Dominic Mason  22.0             Physics            1.0   \n",
       "67850858      Mrs Melanie Brown  18.0  English Literature            3.0   \n",
       "...                         ...   ...                 ...            ...   \n",
       "a8be1ec3           Kelly Foster  22.0         Engineering            1.0   \n",
       "3b69ff22            Sara Austin  19.0    Computer Science           34.0   \n",
       "716fb45f      Miss Grace Miller  22.0  English Literature            4.0   \n",
       "34b97db2    Miss Lydia Saunders  23.0             Physics            2.0   \n",
       "34b97db2    Miss Lydia Saunders  23.0             Physics            2.0   \n",
       "\n",
       "           Country of Origin  \n",
       "Student ID                    \n",
       "2703f3f0    Saint Barthelemy  \n",
       "a8040287              Guinea  \n",
       "d8da5486         Afghanistan  \n",
       "3ac1b74d               Palau  \n",
       "67850858             Algeria  \n",
       "...                      ...  \n",
       "a8be1ec3         Netherlands  \n",
       "3b69ff22       Liechtenstein  \n",
       "716fb45f             Comoros  \n",
       "34b97db2       Faroe Islands  \n",
       "34b97db2       Faroe Islands  \n",
       "\n",
       "[101 rows x 5 columns]"
      ]
     },
     "execution_count": 7,
     "metadata": {},
     "output_type": "execute_result"
    }
   ],
   "source": [
    "students_df"
   ]
  },
  {
   "cell_type": "markdown",
   "id": "d811723d",
   "metadata": {},
   "source": [
    "The index has changed accordingly:"
   ]
  },
  {
   "cell_type": "code",
   "execution_count": 8,
   "id": "fc0a65a6",
   "metadata": {
    "ExecuteTime": {
     "end_time": "2025-04-24T17:47:10.439547Z",
     "start_time": "2025-04-24T17:47:10.434454Z"
    }
   },
   "outputs": [
    {
     "data": {
      "text/plain": [
       "Index(['2703f3f0', 'a8040287', 'd8da5486', '3ac1b74d', '67850858', '62dd3a69',\n",
       "       '6b22a999', '4b744b9a', '45c54817', '5d5e1224',\n",
       "       ...\n",
       "       'f5273fa2', 'e8f05741', '655726b1', '27eca82c', 'bf9937ac', 'a8be1ec3',\n",
       "       '3b69ff22', '716fb45f', '34b97db2', '34b97db2'],\n",
       "      dtype='object', name='Student ID', length=101)"
      ]
     },
     "execution_count": 8,
     "metadata": {},
     "output_type": "execute_result"
    }
   ],
   "source": [
    "students_df.index"
   ]
  },
  {
   "cell_type": "markdown",
   "id": "44b6357c",
   "metadata": {},
   "source": [
    "Here we access a row by the new index:"
   ]
  },
  {
   "cell_type": "code",
   "execution_count": 9,
   "id": "0a26ed46",
   "metadata": {},
   "outputs": [
    {
     "data": {
      "application/vnd.microsoft.datawrangler.viewer.v0+json": {
       "columns": [
        {
         "name": "index",
         "rawType": "object",
         "type": "string"
        },
        {
         "name": "2703f3f0",
         "rawType": "object",
         "type": "unknown"
        }
       ],
       "ref": "5f8236fc-60cd-465f-b46a-bdf678989864",
       "rows": [
        [
         "Name",
         "Mr Clifford Watson"
        ],
        [
         "Age",
         "25.0"
        ],
        [
         "Subject",
         "English Literature"
        ],
        [
         "Year of Study",
         "1.0"
        ],
        [
         "Country of Origin",
         "Saint Barthelemy"
        ]
       ],
       "shape": {
        "columns": 1,
        "rows": 5
       }
      },
      "text/plain": [
       "Name                 Mr Clifford Watson\n",
       "Age                                25.0\n",
       "Subject              English Literature\n",
       "Year of Study                       1.0\n",
       "Country of Origin      Saint Barthelemy\n",
       "Name: 2703f3f0, dtype: object"
      ]
     },
     "execution_count": 9,
     "metadata": {},
     "output_type": "execute_result"
    }
   ],
   "source": [
    "students_df.loc['2703f3f0']"
   ]
  },
  {
   "cell_type": "markdown",
   "id": "44ba7725",
   "metadata": {},
   "source": [
    "And we can still access rows by number with `iloc`:"
   ]
  },
  {
   "cell_type": "code",
   "execution_count": 10,
   "id": "f4b6e131",
   "metadata": {},
   "outputs": [
    {
     "data": {
      "application/vnd.microsoft.datawrangler.viewer.v0+json": {
       "columns": [
        {
         "name": "index",
         "rawType": "object",
         "type": "string"
        },
        {
         "name": "2703f3f0",
         "rawType": "object",
         "type": "unknown"
        }
       ],
       "ref": "c4ab351c-503a-4ffc-9a9c-a635a0d17551",
       "rows": [
        [
         "Name",
         "Mr Clifford Watson"
        ],
        [
         "Age",
         "25.0"
        ],
        [
         "Subject",
         "English Literature"
        ],
        [
         "Year of Study",
         "1.0"
        ],
        [
         "Country of Origin",
         "Saint Barthelemy"
        ]
       ],
       "shape": {
        "columns": 1,
        "rows": 5
       }
      },
      "text/plain": [
       "Name                 Mr Clifford Watson\n",
       "Age                                25.0\n",
       "Subject              English Literature\n",
       "Year of Study                       1.0\n",
       "Country of Origin      Saint Barthelemy\n",
       "Name: 2703f3f0, dtype: object"
      ]
     },
     "execution_count": 10,
     "metadata": {},
     "output_type": "execute_result"
    }
   ],
   "source": [
    "students_df.iloc[0]"
   ]
  },
  {
   "cell_type": "markdown",
   "id": "9b1c32b0",
   "metadata": {},
   "source": [
    "## Explore our dataset"
   ]
  },
  {
   "cell_type": "markdown",
   "id": "ae991275",
   "metadata": {},
   "source": [
    "We can easily find out how many records we loaded uning `len`:"
   ]
  },
  {
   "cell_type": "code",
   "execution_count": 11,
   "id": "56b0b5b9",
   "metadata": {
    "ExecuteTime": {
     "end_time": "2025-04-24T17:47:10.651507Z",
     "start_time": "2025-04-24T17:47:10.646890Z"
    }
   },
   "outputs": [
    {
     "data": {
      "text/plain": [
       "101"
      ]
     },
     "execution_count": 11,
     "metadata": {},
     "output_type": "execute_result"
    }
   ],
   "source": [
    "len(students_df)"
   ]
  },
  {
   "cell_type": "markdown",
   "id": "e9752c86",
   "metadata": {},
   "source": [
    "We can examine the first few records in our dataset using `head`:"
   ]
  },
  {
   "cell_type": "code",
   "execution_count": 12,
   "id": "70b11f83-763f-46f9-9c8e-ace38d70cd1a",
   "metadata": {
    "ExecuteTime": {
     "end_time": "2025-04-24T17:47:10.806244Z",
     "start_time": "2025-04-24T17:47:10.798100Z"
    }
   },
   "outputs": [
    {
     "data": {
      "application/vnd.microsoft.datawrangler.viewer.v0+json": {
       "columns": [
        {
         "name": "Student ID",
         "rawType": "object",
         "type": "string"
        },
        {
         "name": "Name",
         "rawType": "object",
         "type": "string"
        },
        {
         "name": "Age",
         "rawType": "float64",
         "type": "float"
        },
        {
         "name": "Subject",
         "rawType": "object",
         "type": "string"
        },
        {
         "name": "Year of Study",
         "rawType": "float64",
         "type": "float"
        },
        {
         "name": "Country of Origin",
         "rawType": "object",
         "type": "string"
        }
       ],
       "ref": "6ed5a49d-b905-4b60-8d2c-a98709165dc8",
       "rows": [
        [
         "2703f3f0",
         "Mr Clifford Watson",
         "25.0",
         "English Literature",
         "1.0",
         "Saint Barthelemy"
        ],
        [
         "a8040287",
         "Elliott Ward",
         "25.0",
         "Computer Science",
         "4.0",
         "Guinea"
        ],
        [
         "d8da5486",
         "Miss Pauline Dunn",
         "22.0",
         "Engineering",
         "4.0",
         "Afghanistan"
        ],
        [
         "3ac1b74d",
         "Mr Dominic Mason",
         "22.0",
         "Physics",
         "1.0",
         "Palau"
        ],
        [
         "67850858",
         "Mrs Melanie Brown",
         "18.0",
         "English Literature",
         "3.0",
         "Algeria"
        ]
       ],
       "shape": {
        "columns": 5,
        "rows": 5
       }
      },
      "text/html": [
       "<div>\n",
       "<style scoped>\n",
       "    .dataframe tbody tr th:only-of-type {\n",
       "        vertical-align: middle;\n",
       "    }\n",
       "\n",
       "    .dataframe tbody tr th {\n",
       "        vertical-align: top;\n",
       "    }\n",
       "\n",
       "    .dataframe thead th {\n",
       "        text-align: right;\n",
       "    }\n",
       "</style>\n",
       "<table border=\"1\" class=\"dataframe\">\n",
       "  <thead>\n",
       "    <tr style=\"text-align: right;\">\n",
       "      <th></th>\n",
       "      <th>Name</th>\n",
       "      <th>Age</th>\n",
       "      <th>Subject</th>\n",
       "      <th>Year of Study</th>\n",
       "      <th>Country of Origin</th>\n",
       "    </tr>\n",
       "    <tr>\n",
       "      <th>Student ID</th>\n",
       "      <th></th>\n",
       "      <th></th>\n",
       "      <th></th>\n",
       "      <th></th>\n",
       "      <th></th>\n",
       "    </tr>\n",
       "  </thead>\n",
       "  <tbody>\n",
       "    <tr>\n",
       "      <th>2703f3f0</th>\n",
       "      <td>Mr Clifford Watson</td>\n",
       "      <td>25.0</td>\n",
       "      <td>English Literature</td>\n",
       "      <td>1.0</td>\n",
       "      <td>Saint Barthelemy</td>\n",
       "    </tr>\n",
       "    <tr>\n",
       "      <th>a8040287</th>\n",
       "      <td>Elliott Ward</td>\n",
       "      <td>25.0</td>\n",
       "      <td>Computer Science</td>\n",
       "      <td>4.0</td>\n",
       "      <td>Guinea</td>\n",
       "    </tr>\n",
       "    <tr>\n",
       "      <th>d8da5486</th>\n",
       "      <td>Miss Pauline Dunn</td>\n",
       "      <td>22.0</td>\n",
       "      <td>Engineering</td>\n",
       "      <td>4.0</td>\n",
       "      <td>Afghanistan</td>\n",
       "    </tr>\n",
       "    <tr>\n",
       "      <th>3ac1b74d</th>\n",
       "      <td>Mr Dominic Mason</td>\n",
       "      <td>22.0</td>\n",
       "      <td>Physics</td>\n",
       "      <td>1.0</td>\n",
       "      <td>Palau</td>\n",
       "    </tr>\n",
       "    <tr>\n",
       "      <th>67850858</th>\n",
       "      <td>Mrs Melanie Brown</td>\n",
       "      <td>18.0</td>\n",
       "      <td>English Literature</td>\n",
       "      <td>3.0</td>\n",
       "      <td>Algeria</td>\n",
       "    </tr>\n",
       "  </tbody>\n",
       "</table>\n",
       "</div>"
      ],
      "text/plain": [
       "                          Name   Age             Subject  Year of Study  \\\n",
       "Student ID                                                                \n",
       "2703f3f0    Mr Clifford Watson  25.0  English Literature            1.0   \n",
       "a8040287          Elliott Ward  25.0    Computer Science            4.0   \n",
       "d8da5486     Miss Pauline Dunn  22.0         Engineering            4.0   \n",
       "3ac1b74d      Mr Dominic Mason  22.0             Physics            1.0   \n",
       "67850858     Mrs Melanie Brown  18.0  English Literature            3.0   \n",
       "\n",
       "           Country of Origin  \n",
       "Student ID                    \n",
       "2703f3f0    Saint Barthelemy  \n",
       "a8040287              Guinea  \n",
       "d8da5486         Afghanistan  \n",
       "3ac1b74d               Palau  \n",
       "67850858             Algeria  "
      ]
     },
     "execution_count": 12,
     "metadata": {},
     "output_type": "execute_result"
    }
   ],
   "source": [
    "students_df.head()"
   ]
  },
  {
   "cell_type": "markdown",
   "id": "8d3175d0",
   "metadata": {},
   "source": [
    "By default, this shows the first five rows in the DataFrame, but we can also specify the number we want:"
   ]
  },
  {
   "cell_type": "code",
   "execution_count": 13,
   "id": "a467c614",
   "metadata": {
    "ExecuteTime": {
     "end_time": "2025-04-24T17:47:10.965580Z",
     "start_time": "2025-04-24T17:47:10.955476Z"
    }
   },
   "outputs": [
    {
     "data": {
      "application/vnd.microsoft.datawrangler.viewer.v0+json": {
       "columns": [
        {
         "name": "Student ID",
         "rawType": "object",
         "type": "string"
        },
        {
         "name": "Name",
         "rawType": "object",
         "type": "string"
        },
        {
         "name": "Age",
         "rawType": "float64",
         "type": "float"
        },
        {
         "name": "Subject",
         "rawType": "object",
         "type": "string"
        },
        {
         "name": "Year of Study",
         "rawType": "float64",
         "type": "float"
        },
        {
         "name": "Country of Origin",
         "rawType": "object",
         "type": "string"
        }
       ],
       "ref": "5f0a11cd-70a5-4eb9-93d4-a6f66bd20818",
       "rows": [
        [
         "2703f3f0",
         "Mr Clifford Watson",
         "25.0",
         "English Literature",
         "1.0",
         "Saint Barthelemy"
        ],
        [
         "a8040287",
         "Elliott Ward",
         "25.0",
         "Computer Science",
         "4.0",
         "Guinea"
        ],
        [
         "d8da5486",
         "Miss Pauline Dunn",
         "22.0",
         "Engineering",
         "4.0",
         "Afghanistan"
        ],
        [
         "3ac1b74d",
         "Mr Dominic Mason",
         "22.0",
         "Physics",
         "1.0",
         "Palau"
        ],
        [
         "67850858",
         "Mrs Melanie Brown",
         "18.0",
         "English Literature",
         "3.0",
         "Algeria"
        ],
        [
         "62dd3a69",
         "Mr Frederick Price",
         "22.0",
         "Medicine",
         "2.0",
         "Guinea-Bissau"
        ],
        [
         "6b22a999",
         "Charles Hayward",
         "23.0",
         "Engineering",
         "2.0",
         "Comoros"
        ],
        [
         "4b744b9a",
         "Garry Thornton",
         null,
         "English Literature",
         "4.0",
         "Cuba"
        ],
        [
         "45c54817",
         "Mrs Sian Wilson",
         "20.0",
         "Computer Science",
         "2.0",
         "Korea"
        ],
        [
         "5d5e1224",
         "Grace Walton-Kelly",
         "20.0",
         "History",
         "1.0",
         "Haiti"
        ]
       ],
       "shape": {
        "columns": 5,
        "rows": 10
       }
      },
      "text/html": [
       "<div>\n",
       "<style scoped>\n",
       "    .dataframe tbody tr th:only-of-type {\n",
       "        vertical-align: middle;\n",
       "    }\n",
       "\n",
       "    .dataframe tbody tr th {\n",
       "        vertical-align: top;\n",
       "    }\n",
       "\n",
       "    .dataframe thead th {\n",
       "        text-align: right;\n",
       "    }\n",
       "</style>\n",
       "<table border=\"1\" class=\"dataframe\">\n",
       "  <thead>\n",
       "    <tr style=\"text-align: right;\">\n",
       "      <th></th>\n",
       "      <th>Name</th>\n",
       "      <th>Age</th>\n",
       "      <th>Subject</th>\n",
       "      <th>Year of Study</th>\n",
       "      <th>Country of Origin</th>\n",
       "    </tr>\n",
       "    <tr>\n",
       "      <th>Student ID</th>\n",
       "      <th></th>\n",
       "      <th></th>\n",
       "      <th></th>\n",
       "      <th></th>\n",
       "      <th></th>\n",
       "    </tr>\n",
       "  </thead>\n",
       "  <tbody>\n",
       "    <tr>\n",
       "      <th>2703f3f0</th>\n",
       "      <td>Mr Clifford Watson</td>\n",
       "      <td>25.0</td>\n",
       "      <td>English Literature</td>\n",
       "      <td>1.0</td>\n",
       "      <td>Saint Barthelemy</td>\n",
       "    </tr>\n",
       "    <tr>\n",
       "      <th>a8040287</th>\n",
       "      <td>Elliott Ward</td>\n",
       "      <td>25.0</td>\n",
       "      <td>Computer Science</td>\n",
       "      <td>4.0</td>\n",
       "      <td>Guinea</td>\n",
       "    </tr>\n",
       "    <tr>\n",
       "      <th>d8da5486</th>\n",
       "      <td>Miss Pauline Dunn</td>\n",
       "      <td>22.0</td>\n",
       "      <td>Engineering</td>\n",
       "      <td>4.0</td>\n",
       "      <td>Afghanistan</td>\n",
       "    </tr>\n",
       "    <tr>\n",
       "      <th>3ac1b74d</th>\n",
       "      <td>Mr Dominic Mason</td>\n",
       "      <td>22.0</td>\n",
       "      <td>Physics</td>\n",
       "      <td>1.0</td>\n",
       "      <td>Palau</td>\n",
       "    </tr>\n",
       "    <tr>\n",
       "      <th>67850858</th>\n",
       "      <td>Mrs Melanie Brown</td>\n",
       "      <td>18.0</td>\n",
       "      <td>English Literature</td>\n",
       "      <td>3.0</td>\n",
       "      <td>Algeria</td>\n",
       "    </tr>\n",
       "    <tr>\n",
       "      <th>62dd3a69</th>\n",
       "      <td>Mr Frederick Price</td>\n",
       "      <td>22.0</td>\n",
       "      <td>Medicine</td>\n",
       "      <td>2.0</td>\n",
       "      <td>Guinea-Bissau</td>\n",
       "    </tr>\n",
       "    <tr>\n",
       "      <th>6b22a999</th>\n",
       "      <td>Charles Hayward</td>\n",
       "      <td>23.0</td>\n",
       "      <td>Engineering</td>\n",
       "      <td>2.0</td>\n",
       "      <td>Comoros</td>\n",
       "    </tr>\n",
       "    <tr>\n",
       "      <th>4b744b9a</th>\n",
       "      <td>Garry Thornton</td>\n",
       "      <td>NaN</td>\n",
       "      <td>English Literature</td>\n",
       "      <td>4.0</td>\n",
       "      <td>Cuba</td>\n",
       "    </tr>\n",
       "    <tr>\n",
       "      <th>45c54817</th>\n",
       "      <td>Mrs Sian Wilson</td>\n",
       "      <td>20.0</td>\n",
       "      <td>Computer Science</td>\n",
       "      <td>2.0</td>\n",
       "      <td>Korea</td>\n",
       "    </tr>\n",
       "    <tr>\n",
       "      <th>5d5e1224</th>\n",
       "      <td>Grace Walton-Kelly</td>\n",
       "      <td>20.0</td>\n",
       "      <td>History</td>\n",
       "      <td>1.0</td>\n",
       "      <td>Haiti</td>\n",
       "    </tr>\n",
       "  </tbody>\n",
       "</table>\n",
       "</div>"
      ],
      "text/plain": [
       "                          Name   Age             Subject  Year of Study  \\\n",
       "Student ID                                                                \n",
       "2703f3f0    Mr Clifford Watson  25.0  English Literature            1.0   \n",
       "a8040287          Elliott Ward  25.0    Computer Science            4.0   \n",
       "d8da5486     Miss Pauline Dunn  22.0         Engineering            4.0   \n",
       "3ac1b74d      Mr Dominic Mason  22.0             Physics            1.0   \n",
       "67850858     Mrs Melanie Brown  18.0  English Literature            3.0   \n",
       "62dd3a69    Mr Frederick Price  22.0            Medicine            2.0   \n",
       "6b22a999       Charles Hayward  23.0         Engineering            2.0   \n",
       "4b744b9a        Garry Thornton   NaN  English Literature            4.0   \n",
       "45c54817       Mrs Sian Wilson  20.0    Computer Science            2.0   \n",
       "5d5e1224    Grace Walton-Kelly  20.0             History            1.0   \n",
       "\n",
       "           Country of Origin  \n",
       "Student ID                    \n",
       "2703f3f0    Saint Barthelemy  \n",
       "a8040287              Guinea  \n",
       "d8da5486         Afghanistan  \n",
       "3ac1b74d               Palau  \n",
       "67850858             Algeria  \n",
       "62dd3a69       Guinea-Bissau  \n",
       "6b22a999             Comoros  \n",
       "4b744b9a                Cuba  \n",
       "45c54817               Korea  \n",
       "5d5e1224               Haiti  "
      ]
     },
     "execution_count": 13,
     "metadata": {},
     "output_type": "execute_result"
    }
   ],
   "source": [
    "students_df.head(10)"
   ]
  },
  {
   "cell_type": "markdown",
   "id": "bf182cab",
   "metadata": {},
   "source": [
    "Similarly, we can vew the last few rows in our dataset using `tail`:"
   ]
  },
  {
   "cell_type": "code",
   "execution_count": 14,
   "id": "cfad2004",
   "metadata": {
    "ExecuteTime": {
     "end_time": "2025-04-24T17:47:11.218075Z",
     "start_time": "2025-04-24T17:47:11.210573Z"
    }
   },
   "outputs": [
    {
     "data": {
      "application/vnd.microsoft.datawrangler.viewer.v0+json": {
       "columns": [
        {
         "name": "Student ID",
         "rawType": "object",
         "type": "string"
        },
        {
         "name": "Name",
         "rawType": "object",
         "type": "string"
        },
        {
         "name": "Age",
         "rawType": "float64",
         "type": "float"
        },
        {
         "name": "Subject",
         "rawType": "object",
         "type": "string"
        },
        {
         "name": "Year of Study",
         "rawType": "float64",
         "type": "float"
        },
        {
         "name": "Country of Origin",
         "rawType": "object",
         "type": "string"
        }
       ],
       "ref": "4067d885-8be1-499a-bf78-386bbce39340",
       "rows": [
        [
         "a8be1ec3",
         "Kelly Foster",
         "22.0",
         "Engineering",
         "1.0",
         "Netherlands"
        ],
        [
         "3b69ff22",
         "Sara Austin",
         "19.0",
         "Computer Science",
         "34.0",
         "Liechtenstein"
        ],
        [
         "716fb45f",
         "Miss Grace Miller",
         "22.0",
         "English Literature",
         "4.0",
         "Comoros"
        ],
        [
         "34b97db2",
         "Miss Lydia Saunders",
         "23.0",
         "Physics",
         "2.0",
         "Faroe Islands"
        ],
        [
         "34b97db2",
         "Miss Lydia Saunders",
         "23.0",
         "Physics",
         "2.0",
         "Faroe Islands"
        ]
       ],
       "shape": {
        "columns": 5,
        "rows": 5
       }
      },
      "text/html": [
       "<div>\n",
       "<style scoped>\n",
       "    .dataframe tbody tr th:only-of-type {\n",
       "        vertical-align: middle;\n",
       "    }\n",
       "\n",
       "    .dataframe tbody tr th {\n",
       "        vertical-align: top;\n",
       "    }\n",
       "\n",
       "    .dataframe thead th {\n",
       "        text-align: right;\n",
       "    }\n",
       "</style>\n",
       "<table border=\"1\" class=\"dataframe\">\n",
       "  <thead>\n",
       "    <tr style=\"text-align: right;\">\n",
       "      <th></th>\n",
       "      <th>Name</th>\n",
       "      <th>Age</th>\n",
       "      <th>Subject</th>\n",
       "      <th>Year of Study</th>\n",
       "      <th>Country of Origin</th>\n",
       "    </tr>\n",
       "    <tr>\n",
       "      <th>Student ID</th>\n",
       "      <th></th>\n",
       "      <th></th>\n",
       "      <th></th>\n",
       "      <th></th>\n",
       "      <th></th>\n",
       "    </tr>\n",
       "  </thead>\n",
       "  <tbody>\n",
       "    <tr>\n",
       "      <th>a8be1ec3</th>\n",
       "      <td>Kelly Foster</td>\n",
       "      <td>22.0</td>\n",
       "      <td>Engineering</td>\n",
       "      <td>1.0</td>\n",
       "      <td>Netherlands</td>\n",
       "    </tr>\n",
       "    <tr>\n",
       "      <th>3b69ff22</th>\n",
       "      <td>Sara Austin</td>\n",
       "      <td>19.0</td>\n",
       "      <td>Computer Science</td>\n",
       "      <td>34.0</td>\n",
       "      <td>Liechtenstein</td>\n",
       "    </tr>\n",
       "    <tr>\n",
       "      <th>716fb45f</th>\n",
       "      <td>Miss Grace Miller</td>\n",
       "      <td>22.0</td>\n",
       "      <td>English Literature</td>\n",
       "      <td>4.0</td>\n",
       "      <td>Comoros</td>\n",
       "    </tr>\n",
       "    <tr>\n",
       "      <th>34b97db2</th>\n",
       "      <td>Miss Lydia Saunders</td>\n",
       "      <td>23.0</td>\n",
       "      <td>Physics</td>\n",
       "      <td>2.0</td>\n",
       "      <td>Faroe Islands</td>\n",
       "    </tr>\n",
       "    <tr>\n",
       "      <th>34b97db2</th>\n",
       "      <td>Miss Lydia Saunders</td>\n",
       "      <td>23.0</td>\n",
       "      <td>Physics</td>\n",
       "      <td>2.0</td>\n",
       "      <td>Faroe Islands</td>\n",
       "    </tr>\n",
       "  </tbody>\n",
       "</table>\n",
       "</div>"
      ],
      "text/plain": [
       "                           Name   Age             Subject  Year of Study  \\\n",
       "Student ID                                                                 \n",
       "a8be1ec3           Kelly Foster  22.0         Engineering            1.0   \n",
       "3b69ff22            Sara Austin  19.0    Computer Science           34.0   \n",
       "716fb45f      Miss Grace Miller  22.0  English Literature            4.0   \n",
       "34b97db2    Miss Lydia Saunders  23.0             Physics            2.0   \n",
       "34b97db2    Miss Lydia Saunders  23.0             Physics            2.0   \n",
       "\n",
       "           Country of Origin  \n",
       "Student ID                    \n",
       "a8be1ec3         Netherlands  \n",
       "3b69ff22       Liechtenstein  \n",
       "716fb45f             Comoros  \n",
       "34b97db2       Faroe Islands  \n",
       "34b97db2       Faroe Islands  "
      ]
     },
     "execution_count": 14,
     "metadata": {},
     "output_type": "execute_result"
    }
   ],
   "source": [
    "students_df.tail()"
   ]
  },
  {
   "cell_type": "code",
   "execution_count": 15,
   "id": "0f9ce0c9",
   "metadata": {},
   "outputs": [
    {
     "data": {
      "application/vnd.microsoft.datawrangler.viewer.v0+json": {
       "columns": [
        {
         "name": "Student ID",
         "rawType": "object",
         "type": "string"
        },
        {
         "name": "Name",
         "rawType": "object",
         "type": "string"
        },
        {
         "name": "Age",
         "rawType": "float64",
         "type": "float"
        },
        {
         "name": "Subject",
         "rawType": "object",
         "type": "string"
        },
        {
         "name": "Year of Study",
         "rawType": "float64",
         "type": "float"
        },
        {
         "name": "Country of Origin",
         "rawType": "object",
         "type": "string"
        }
       ],
       "ref": "5a297cd0-3649-41e2-ab55-7fa9905cca91",
       "rows": [
        [
         "f5273fa2",
         "Leigh Palmer",
         "24.0",
         "English Literature",
         "3.0",
         "Belize"
        ],
        [
         "e8f05741",
         "Miss Kathryn Holloway",
         "23.0",
         "Physics",
         "3.0",
         "Iraq"
        ],
        [
         "655726b1",
         "Simon Lloyd",
         "20.0",
         "Art",
         "2.0",
         "Cyprus"
        ],
        [
         "27eca82c",
         "Benjamin Bennett",
         "24.0",
         "Mathematics",
         "1.0",
         "Saint Martin"
        ],
        [
         "bf9937ac",
         "Mr Victor Smith",
         "20.0",
         "Law",
         "1.0",
         "Bangladesh"
        ],
        [
         "a8be1ec3",
         "Kelly Foster",
         "22.0",
         "Engineering",
         "1.0",
         "Netherlands"
        ],
        [
         "3b69ff22",
         "Sara Austin",
         "19.0",
         "Computer Science",
         "34.0",
         "Liechtenstein"
        ],
        [
         "716fb45f",
         "Miss Grace Miller",
         "22.0",
         "English Literature",
         "4.0",
         "Comoros"
        ],
        [
         "34b97db2",
         "Miss Lydia Saunders",
         "23.0",
         "Physics",
         "2.0",
         "Faroe Islands"
        ],
        [
         "34b97db2",
         "Miss Lydia Saunders",
         "23.0",
         "Physics",
         "2.0",
         "Faroe Islands"
        ]
       ],
       "shape": {
        "columns": 5,
        "rows": 10
       }
      },
      "text/html": [
       "<div>\n",
       "<style scoped>\n",
       "    .dataframe tbody tr th:only-of-type {\n",
       "        vertical-align: middle;\n",
       "    }\n",
       "\n",
       "    .dataframe tbody tr th {\n",
       "        vertical-align: top;\n",
       "    }\n",
       "\n",
       "    .dataframe thead th {\n",
       "        text-align: right;\n",
       "    }\n",
       "</style>\n",
       "<table border=\"1\" class=\"dataframe\">\n",
       "  <thead>\n",
       "    <tr style=\"text-align: right;\">\n",
       "      <th></th>\n",
       "      <th>Name</th>\n",
       "      <th>Age</th>\n",
       "      <th>Subject</th>\n",
       "      <th>Year of Study</th>\n",
       "      <th>Country of Origin</th>\n",
       "    </tr>\n",
       "    <tr>\n",
       "      <th>Student ID</th>\n",
       "      <th></th>\n",
       "      <th></th>\n",
       "      <th></th>\n",
       "      <th></th>\n",
       "      <th></th>\n",
       "    </tr>\n",
       "  </thead>\n",
       "  <tbody>\n",
       "    <tr>\n",
       "      <th>f5273fa2</th>\n",
       "      <td>Leigh Palmer</td>\n",
       "      <td>24.0</td>\n",
       "      <td>English Literature</td>\n",
       "      <td>3.0</td>\n",
       "      <td>Belize</td>\n",
       "    </tr>\n",
       "    <tr>\n",
       "      <th>e8f05741</th>\n",
       "      <td>Miss Kathryn Holloway</td>\n",
       "      <td>23.0</td>\n",
       "      <td>Physics</td>\n",
       "      <td>3.0</td>\n",
       "      <td>Iraq</td>\n",
       "    </tr>\n",
       "    <tr>\n",
       "      <th>655726b1</th>\n",
       "      <td>Simon Lloyd</td>\n",
       "      <td>20.0</td>\n",
       "      <td>Art</td>\n",
       "      <td>2.0</td>\n",
       "      <td>Cyprus</td>\n",
       "    </tr>\n",
       "    <tr>\n",
       "      <th>27eca82c</th>\n",
       "      <td>Benjamin Bennett</td>\n",
       "      <td>24.0</td>\n",
       "      <td>Mathematics</td>\n",
       "      <td>1.0</td>\n",
       "      <td>Saint Martin</td>\n",
       "    </tr>\n",
       "    <tr>\n",
       "      <th>bf9937ac</th>\n",
       "      <td>Mr Victor Smith</td>\n",
       "      <td>20.0</td>\n",
       "      <td>Law</td>\n",
       "      <td>1.0</td>\n",
       "      <td>Bangladesh</td>\n",
       "    </tr>\n",
       "    <tr>\n",
       "      <th>a8be1ec3</th>\n",
       "      <td>Kelly Foster</td>\n",
       "      <td>22.0</td>\n",
       "      <td>Engineering</td>\n",
       "      <td>1.0</td>\n",
       "      <td>Netherlands</td>\n",
       "    </tr>\n",
       "    <tr>\n",
       "      <th>3b69ff22</th>\n",
       "      <td>Sara Austin</td>\n",
       "      <td>19.0</td>\n",
       "      <td>Computer Science</td>\n",
       "      <td>34.0</td>\n",
       "      <td>Liechtenstein</td>\n",
       "    </tr>\n",
       "    <tr>\n",
       "      <th>716fb45f</th>\n",
       "      <td>Miss Grace Miller</td>\n",
       "      <td>22.0</td>\n",
       "      <td>English Literature</td>\n",
       "      <td>4.0</td>\n",
       "      <td>Comoros</td>\n",
       "    </tr>\n",
       "    <tr>\n",
       "      <th>34b97db2</th>\n",
       "      <td>Miss Lydia Saunders</td>\n",
       "      <td>23.0</td>\n",
       "      <td>Physics</td>\n",
       "      <td>2.0</td>\n",
       "      <td>Faroe Islands</td>\n",
       "    </tr>\n",
       "    <tr>\n",
       "      <th>34b97db2</th>\n",
       "      <td>Miss Lydia Saunders</td>\n",
       "      <td>23.0</td>\n",
       "      <td>Physics</td>\n",
       "      <td>2.0</td>\n",
       "      <td>Faroe Islands</td>\n",
       "    </tr>\n",
       "  </tbody>\n",
       "</table>\n",
       "</div>"
      ],
      "text/plain": [
       "                             Name   Age             Subject  Year of Study  \\\n",
       "Student ID                                                                   \n",
       "f5273fa2             Leigh Palmer  24.0  English Literature            3.0   \n",
       "e8f05741    Miss Kathryn Holloway  23.0             Physics            3.0   \n",
       "655726b1              Simon Lloyd  20.0                 Art            2.0   \n",
       "27eca82c         Benjamin Bennett  24.0         Mathematics            1.0   \n",
       "bf9937ac          Mr Victor Smith  20.0                 Law            1.0   \n",
       "a8be1ec3             Kelly Foster  22.0         Engineering            1.0   \n",
       "3b69ff22              Sara Austin  19.0    Computer Science           34.0   \n",
       "716fb45f        Miss Grace Miller  22.0  English Literature            4.0   \n",
       "34b97db2      Miss Lydia Saunders  23.0             Physics            2.0   \n",
       "34b97db2      Miss Lydia Saunders  23.0             Physics            2.0   \n",
       "\n",
       "           Country of Origin  \n",
       "Student ID                    \n",
       "f5273fa2              Belize  \n",
       "e8f05741                Iraq  \n",
       "655726b1              Cyprus  \n",
       "27eca82c        Saint Martin  \n",
       "bf9937ac          Bangladesh  \n",
       "a8be1ec3         Netherlands  \n",
       "3b69ff22       Liechtenstein  \n",
       "716fb45f             Comoros  \n",
       "34b97db2       Faroe Islands  \n",
       "34b97db2       Faroe Islands  "
      ]
     },
     "execution_count": 15,
     "metadata": {},
     "output_type": "execute_result"
    }
   ],
   "source": [
    "students_df.tail(10)"
   ]
  },
  {
   "cell_type": "markdown",
   "id": "010699a8",
   "metadata": {},
   "source": [
    "We can also get a random sample of records from the DataFrame using `sample`."
   ]
  },
  {
   "cell_type": "code",
   "execution_count": 16,
   "id": "1e6fdefd",
   "metadata": {
    "ExecuteTime": {
     "end_time": "2025-04-24T17:47:11.492375Z",
     "start_time": "2025-04-24T17:47:11.484043Z"
    }
   },
   "outputs": [
    {
     "data": {
      "application/vnd.microsoft.datawrangler.viewer.v0+json": {
       "columns": [
        {
         "name": "Student ID",
         "rawType": "object",
         "type": "string"
        },
        {
         "name": "Name",
         "rawType": "object",
         "type": "string"
        },
        {
         "name": "Age",
         "rawType": "float64",
         "type": "float"
        },
        {
         "name": "Subject",
         "rawType": "object",
         "type": "string"
        },
        {
         "name": "Year of Study",
         "rawType": "float64",
         "type": "float"
        },
        {
         "name": "Country of Origin",
         "rawType": "object",
         "type": "string"
        }
       ],
       "ref": "29881206-a7b5-4cd4-907e-fed33d4a080e",
       "rows": [
        [
         "687b22e6",
         "Naomi Dobson",
         "23.0",
         "Art",
         "4.0",
         "Reunion"
        ],
        [
         "72324765",
         "Gail Henderson",
         "21.0",
         "Law",
         "1.0",
         "Eritrea"
        ],
        [
         "90b61b7e",
         "Angela Johnson-Brooks",
         "23.0",
         "Medicine",
         "3.0",
         "Lao People's Democratic Republic"
        ],
        [
         "655726b1",
         "Simon Lloyd",
         "20.0",
         "Art",
         "2.0",
         "Cyprus"
        ],
        [
         "7c43c14d",
         "Malcolm Farrell-Sykes",
         "18.0",
         "History",
         "3.0",
         "Nauru"
        ],
        [
         "ba4fe6e7",
         "Miss Bethany Grant",
         "24.0",
         "Physics",
         "1.0",
         "Aruba"
        ],
        [
         "a225e559",
         "Sheila Roberts-Harris",
         "18.0",
         "Biology",
         "4.0",
         "Singapore"
        ],
        [
         "fc4f68b0",
         "Sandra Stephenson",
         "23.0",
         "Law",
         "3.0",
         "Palau"
        ],
        [
         "6a406b49",
         "Melissa Ali",
         "18.0",
         "Computer Science",
         "1.0",
         "Israel"
        ],
        [
         "0e7361c4",
         "Mr Donald Taylor",
         "21.0",
         "Engineering",
         "3.0",
         "France"
        ]
       ],
       "shape": {
        "columns": 5,
        "rows": 10
       }
      },
      "text/html": [
       "<div>\n",
       "<style scoped>\n",
       "    .dataframe tbody tr th:only-of-type {\n",
       "        vertical-align: middle;\n",
       "    }\n",
       "\n",
       "    .dataframe tbody tr th {\n",
       "        vertical-align: top;\n",
       "    }\n",
       "\n",
       "    .dataframe thead th {\n",
       "        text-align: right;\n",
       "    }\n",
       "</style>\n",
       "<table border=\"1\" class=\"dataframe\">\n",
       "  <thead>\n",
       "    <tr style=\"text-align: right;\">\n",
       "      <th></th>\n",
       "      <th>Name</th>\n",
       "      <th>Age</th>\n",
       "      <th>Subject</th>\n",
       "      <th>Year of Study</th>\n",
       "      <th>Country of Origin</th>\n",
       "    </tr>\n",
       "    <tr>\n",
       "      <th>Student ID</th>\n",
       "      <th></th>\n",
       "      <th></th>\n",
       "      <th></th>\n",
       "      <th></th>\n",
       "      <th></th>\n",
       "    </tr>\n",
       "  </thead>\n",
       "  <tbody>\n",
       "    <tr>\n",
       "      <th>687b22e6</th>\n",
       "      <td>Naomi Dobson</td>\n",
       "      <td>23.0</td>\n",
       "      <td>Art</td>\n",
       "      <td>4.0</td>\n",
       "      <td>Reunion</td>\n",
       "    </tr>\n",
       "    <tr>\n",
       "      <th>72324765</th>\n",
       "      <td>Gail Henderson</td>\n",
       "      <td>21.0</td>\n",
       "      <td>Law</td>\n",
       "      <td>1.0</td>\n",
       "      <td>Eritrea</td>\n",
       "    </tr>\n",
       "    <tr>\n",
       "      <th>90b61b7e</th>\n",
       "      <td>Angela Johnson-Brooks</td>\n",
       "      <td>23.0</td>\n",
       "      <td>Medicine</td>\n",
       "      <td>3.0</td>\n",
       "      <td>Lao People's Democratic Republic</td>\n",
       "    </tr>\n",
       "    <tr>\n",
       "      <th>655726b1</th>\n",
       "      <td>Simon Lloyd</td>\n",
       "      <td>20.0</td>\n",
       "      <td>Art</td>\n",
       "      <td>2.0</td>\n",
       "      <td>Cyprus</td>\n",
       "    </tr>\n",
       "    <tr>\n",
       "      <th>7c43c14d</th>\n",
       "      <td>Malcolm Farrell-Sykes</td>\n",
       "      <td>18.0</td>\n",
       "      <td>History</td>\n",
       "      <td>3.0</td>\n",
       "      <td>Nauru</td>\n",
       "    </tr>\n",
       "    <tr>\n",
       "      <th>ba4fe6e7</th>\n",
       "      <td>Miss Bethany Grant</td>\n",
       "      <td>24.0</td>\n",
       "      <td>Physics</td>\n",
       "      <td>1.0</td>\n",
       "      <td>Aruba</td>\n",
       "    </tr>\n",
       "    <tr>\n",
       "      <th>a225e559</th>\n",
       "      <td>Sheila Roberts-Harris</td>\n",
       "      <td>18.0</td>\n",
       "      <td>Biology</td>\n",
       "      <td>4.0</td>\n",
       "      <td>Singapore</td>\n",
       "    </tr>\n",
       "    <tr>\n",
       "      <th>fc4f68b0</th>\n",
       "      <td>Sandra Stephenson</td>\n",
       "      <td>23.0</td>\n",
       "      <td>Law</td>\n",
       "      <td>3.0</td>\n",
       "      <td>Palau</td>\n",
       "    </tr>\n",
       "    <tr>\n",
       "      <th>6a406b49</th>\n",
       "      <td>Melissa Ali</td>\n",
       "      <td>18.0</td>\n",
       "      <td>Computer Science</td>\n",
       "      <td>1.0</td>\n",
       "      <td>Israel</td>\n",
       "    </tr>\n",
       "    <tr>\n",
       "      <th>0e7361c4</th>\n",
       "      <td>Mr Donald Taylor</td>\n",
       "      <td>21.0</td>\n",
       "      <td>Engineering</td>\n",
       "      <td>3.0</td>\n",
       "      <td>France</td>\n",
       "    </tr>\n",
       "  </tbody>\n",
       "</table>\n",
       "</div>"
      ],
      "text/plain": [
       "                             Name   Age           Subject  Year of Study  \\\n",
       "Student ID                                                                 \n",
       "687b22e6             Naomi Dobson  23.0               Art            4.0   \n",
       "72324765           Gail Henderson  21.0               Law            1.0   \n",
       "90b61b7e    Angela Johnson-Brooks  23.0          Medicine            3.0   \n",
       "655726b1              Simon Lloyd  20.0               Art            2.0   \n",
       "7c43c14d    Malcolm Farrell-Sykes  18.0           History            3.0   \n",
       "ba4fe6e7       Miss Bethany Grant  24.0           Physics            1.0   \n",
       "a225e559    Sheila Roberts-Harris  18.0           Biology            4.0   \n",
       "fc4f68b0        Sandra Stephenson  23.0               Law            3.0   \n",
       "6a406b49              Melissa Ali  18.0  Computer Science            1.0   \n",
       "0e7361c4         Mr Donald Taylor  21.0       Engineering            3.0   \n",
       "\n",
       "                           Country of Origin  \n",
       "Student ID                                    \n",
       "687b22e6                             Reunion  \n",
       "72324765                             Eritrea  \n",
       "90b61b7e    Lao People's Democratic Republic  \n",
       "655726b1                              Cyprus  \n",
       "7c43c14d                               Nauru  \n",
       "ba4fe6e7                               Aruba  \n",
       "a225e559                           Singapore  \n",
       "fc4f68b0                               Palau  \n",
       "6a406b49                              Israel  \n",
       "0e7361c4                              France  "
      ]
     },
     "execution_count": 16,
     "metadata": {},
     "output_type": "execute_result"
    }
   ],
   "source": [
    "students_df.sample(10)"
   ]
  },
  {
   "cell_type": "markdown",
   "id": "e93451c2",
   "metadata": {},
   "source": [
    "We can slice DataFrame objects just as we do with lists:"
   ]
  },
  {
   "cell_type": "code",
   "execution_count": 17,
   "id": "c4602a0f",
   "metadata": {
    "ExecuteTime": {
     "end_time": "2025-04-24T17:47:12.939173Z",
     "start_time": "2025-04-24T17:47:12.932275Z"
    }
   },
   "outputs": [
    {
     "data": {
      "application/vnd.microsoft.datawrangler.viewer.v0+json": {
       "columns": [
        {
         "name": "Student ID",
         "rawType": "object",
         "type": "string"
        },
        {
         "name": "Name",
         "rawType": "object",
         "type": "string"
        },
        {
         "name": "Age",
         "rawType": "float64",
         "type": "float"
        },
        {
         "name": "Subject",
         "rawType": "object",
         "type": "string"
        },
        {
         "name": "Year of Study",
         "rawType": "float64",
         "type": "float"
        },
        {
         "name": "Country of Origin",
         "rawType": "object",
         "type": "string"
        }
       ],
       "ref": "8505c559-7004-452f-b12c-eee8727b5a86",
       "rows": [
        [
         "2c142f24",
         "Jade Kirby",
         "24.0",
         "Biology",
         "1.0",
         "Fiji"
        ],
        [
         "3eec010c",
         "Howard Marshall",
         null,
         "Biology",
         "1.0",
         "Swaziland"
        ],
        [
         "f3cbb058",
         "Dr Scott Wilson",
         "18.0",
         "English Literature",
         "4.0",
         "Namibia"
        ],
        [
         "6a406b49",
         "Melissa Ali",
         "18.0",
         "Computer Science",
         "1.0",
         "Israel"
        ],
        [
         "836d85df",
         "Carolyn Walker",
         "18.0",
         "Mathematics",
         "4.0",
         "Angola"
        ]
       ],
       "shape": {
        "columns": 5,
        "rows": 5
       }
      },
      "text/html": [
       "<div>\n",
       "<style scoped>\n",
       "    .dataframe tbody tr th:only-of-type {\n",
       "        vertical-align: middle;\n",
       "    }\n",
       "\n",
       "    .dataframe tbody tr th {\n",
       "        vertical-align: top;\n",
       "    }\n",
       "\n",
       "    .dataframe thead th {\n",
       "        text-align: right;\n",
       "    }\n",
       "</style>\n",
       "<table border=\"1\" class=\"dataframe\">\n",
       "  <thead>\n",
       "    <tr style=\"text-align: right;\">\n",
       "      <th></th>\n",
       "      <th>Name</th>\n",
       "      <th>Age</th>\n",
       "      <th>Subject</th>\n",
       "      <th>Year of Study</th>\n",
       "      <th>Country of Origin</th>\n",
       "    </tr>\n",
       "    <tr>\n",
       "      <th>Student ID</th>\n",
       "      <th></th>\n",
       "      <th></th>\n",
       "      <th></th>\n",
       "      <th></th>\n",
       "      <th></th>\n",
       "    </tr>\n",
       "  </thead>\n",
       "  <tbody>\n",
       "    <tr>\n",
       "      <th>2c142f24</th>\n",
       "      <td>Jade Kirby</td>\n",
       "      <td>24.0</td>\n",
       "      <td>Biology</td>\n",
       "      <td>1.0</td>\n",
       "      <td>Fiji</td>\n",
       "    </tr>\n",
       "    <tr>\n",
       "      <th>3eec010c</th>\n",
       "      <td>Howard Marshall</td>\n",
       "      <td>NaN</td>\n",
       "      <td>Biology</td>\n",
       "      <td>1.0</td>\n",
       "      <td>Swaziland</td>\n",
       "    </tr>\n",
       "    <tr>\n",
       "      <th>f3cbb058</th>\n",
       "      <td>Dr Scott Wilson</td>\n",
       "      <td>18.0</td>\n",
       "      <td>English Literature</td>\n",
       "      <td>4.0</td>\n",
       "      <td>Namibia</td>\n",
       "    </tr>\n",
       "    <tr>\n",
       "      <th>6a406b49</th>\n",
       "      <td>Melissa Ali</td>\n",
       "      <td>18.0</td>\n",
       "      <td>Computer Science</td>\n",
       "      <td>1.0</td>\n",
       "      <td>Israel</td>\n",
       "    </tr>\n",
       "    <tr>\n",
       "      <th>836d85df</th>\n",
       "      <td>Carolyn Walker</td>\n",
       "      <td>18.0</td>\n",
       "      <td>Mathematics</td>\n",
       "      <td>4.0</td>\n",
       "      <td>Angola</td>\n",
       "    </tr>\n",
       "  </tbody>\n",
       "</table>\n",
       "</div>"
      ],
      "text/plain": [
       "                       Name   Age             Subject  Year of Study  \\\n",
       "Student ID                                                             \n",
       "2c142f24         Jade Kirby  24.0             Biology            1.0   \n",
       "3eec010c    Howard Marshall   NaN             Biology            1.0   \n",
       "f3cbb058    Dr Scott Wilson  18.0  English Literature            4.0   \n",
       "6a406b49        Melissa Ali  18.0    Computer Science            1.0   \n",
       "836d85df     Carolyn Walker  18.0         Mathematics            4.0   \n",
       "\n",
       "           Country of Origin  \n",
       "Student ID                    \n",
       "2c142f24                Fiji  \n",
       "3eec010c           Swaziland  \n",
       "f3cbb058             Namibia  \n",
       "6a406b49              Israel  \n",
       "836d85df              Angola  "
      ]
     },
     "execution_count": 17,
     "metadata": {},
     "output_type": "execute_result"
    }
   ],
   "source": [
    "students_df[10:15]"
   ]
  },
  {
   "cell_type": "markdown",
   "id": "d1e47a4a",
   "metadata": {},
   "source": [
    "Here we temporarily change the pandas display options so that all rows and columns are printed. Your editior might still truncate the display but in VS Code, for example, you can view as a scrollable element or open in a text editor, or you can change the cell output settings to display more lines."
   ]
  },
  {
   "cell_type": "code",
   "execution_count": 18,
   "id": "683ca06d",
   "metadata": {},
   "outputs": [
    {
     "name": "stdout",
     "output_type": "stream",
     "text": [
      "                                Name    Age             Subject  \\\n",
      "Student ID                                                        \n",
      "2703f3f0          Mr Clifford Watson   25.0  English Literature   \n",
      "a8040287                Elliott Ward   25.0    Computer Science   \n",
      "d8da5486           Miss Pauline Dunn   22.0         Engineering   \n",
      "3ac1b74d            Mr Dominic Mason   22.0             Physics   \n",
      "67850858           Mrs Melanie Brown   18.0  English Literature   \n",
      "62dd3a69          Mr Frederick Price   22.0            Medicine   \n",
      "6b22a999             Charles Hayward   23.0         Engineering   \n",
      "4b744b9a              Garry Thornton    NaN  English Literature   \n",
      "45c54817             Mrs Sian Wilson   20.0    Computer Science   \n",
      "5d5e1224          Grace Walton-Kelly   20.0             History   \n",
      "2c142f24                  Jade Kirby   24.0             Biology   \n",
      "3eec010c             Howard Marshall    NaN             Biology   \n",
      "f3cbb058             Dr Scott Wilson   18.0  English Literature   \n",
      "6a406b49                 Melissa Ali   18.0    Computer Science   \n",
      "836d85df              Carolyn Walker   18.0         Mathematics   \n",
      "fc4f68b0           Sandra Stephenson   23.0                 Law   \n",
      "41465cf8                Mr Guy Lynch   25.0             History   \n",
      "afae8532      Kieran Davidson-Watson   25.0  English Literature   \n",
      "7c43c14d       Malcolm Farrell-Sykes   18.0             History   \n",
      "43b3612f              Frederick Khan   19.0                 Art   \n",
      "72324765              Gail Henderson   21.0                 Law   \n",
      "9c0aa410                 Hazel Evans   24.0             History   \n",
      "a9e6b860            Mrs Tracey Adams   24.0  English Literature   \n",
      "0e7361c4            Mr Donald Taylor   21.0         Engineering   \n",
      "27166ecb              Dr Terry Lewis  245.0         Mathematics   \n",
      "c828ba21        Kelly Fisher-Simpson   21.0                 Law   \n",
      "a7bb5b63                Steven Ahmed   22.0             Physics   \n",
      "f156e962       Christian Howell-Holt   25.0                 Law   \n",
      "2f3b6b33               Dr Aaron Bell   21.0  English Literature   \n",
      "88648f86              Pauline Akhtar   20.0             Biology   \n",
      "a225e559       Sheila Roberts-Harris   18.0             Biology   \n",
      "34212ec1               Rosemary Wood   18.0         Mathematics   \n",
      "fcedbd2f         Mrs Rosemary Knight   18.0                 Art   \n",
      "88dc77f7               Daniel Harris   20.0    Computer Science   \n",
      "53dd0026               Amber Osborne   21.0             Physics   \n",
      "ea066b3e      Alison Williams-Garner   21.0         Engineering   \n",
      "10551162            Mr Bruce Fleming   24.0                 Law   \n",
      "a420952d                Lindsey Cook   25.0             History   \n",
      "45604caa               Victor Palmer   23.0  English Literature   \n",
      "8d697782          Mr Lawrence Barker   24.0             Physics   \n",
      "8581f127           Mrs Cheryl Ashton   25.0         Engineering   \n",
      "5fa87190               Olivia Turner   21.0         Mathematics   \n",
      "cc9eb24e                Lucy Roberts   22.0             Biology   \n",
      "3c1fe24c            Melanie Sheppard   21.0            Medicine   \n",
      "204e4c56                 Paula Watts   21.0    Computer Science   \n",
      "0fac1009               Louis Buckley   18.0                 Art   \n",
      "bde91950         Mrs Elizabeth Perry   19.0    Computer Science   \n",
      "4e324306          Stephanie Thompson   23.0            Medicine   \n",
      "75693b89       Angela Farmer-Sanders   25.0             History   \n",
      "ba4fe6e7          Miss Bethany Grant   24.0             Physics   \n",
      "7c038fa8             Mr Declan Woods   25.0    Computer Science   \n",
      "cf908625          Jennifer Armstrong   18.0    Computer Science   \n",
      "171006cf                 Susan Patel   20.0  English Literature   \n",
      "e95153c9      Anthony Cook-O'Donnell   20.0                 Law   \n",
      "229e57db          Miss Bethany Jones   22.0         Mathematics   \n",
      "c1af174c         Miss Amber Phillips   23.0            Medicine   \n",
      "b476163a                Mr Jay Green   24.0  English Literature   \n",
      "f701bb71           Dr Richard Jarvis   19.0            Medicine   \n",
      "e506b33a              Bethany Davies   21.0             Biology   \n",
      "a5fd310f                  Glen Bates   20.0                 Law   \n",
      "134a7d3c               Benjamin Bond   23.0  English Literature   \n",
      "335dd32f                 Ruth Miller   18.0             Biology   \n",
      "c556523c              Dr Samuel Read   21.0    Computer Science   \n",
      "8956f118                  Sara Smith   25.0         Engineering   \n",
      "c4ba663b                 Samuel Nash   24.0                 Law   \n",
      "0723a275           Suzanne Dickinson   22.0         Engineering   \n",
      "f4556e05             Ashley Bartlett   19.0                 Art   \n",
      "c7742c0a           Brian Moss-Davies   21.0             Biology   \n",
      "a326d84a    Sylvia Turner-Hutchinson   23.0            Medicine   \n",
      "687b22e6                Naomi Dobson   23.0                 Art   \n",
      "3b921658                Pamela Mason   22.0             History   \n",
      "c87c4775                  Emily Wade   21.0         Mathematics   \n",
      "7add3804              Andrew Vincent   24.0            Medicine   \n",
      "2fee570b             Hannah Fletcher   21.0             Biology   \n",
      "a32a60c4              Mr Daniel Hall   24.0  English Literature   \n",
      "3af01f06           Charlotte O'Brien   25.0  English Literature   \n",
      "47e2aec9               Patrick Smith   23.0            Medicine   \n",
      "6f61b0a9             Dr Gavin Bailey   22.0    Computer Science   \n",
      "3060541f              Malcolm Parker   21.0         Mathematics   \n",
      "2c8c0636             Mr Roger Watson   18.0                 Law   \n",
      "a8d560bd             Dr James Murphy   24.0                 Law   \n",
      "0e042356              Anthony Rahman   24.0    Computer Science   \n",
      "648c9a22                 Henry Jones   19.0             Biology   \n",
      "90b61b7e       Angela Johnson-Brooks   23.0            Medicine   \n",
      "95fadd5e                Sheila Berry    5.0             Biology   \n",
      "fd719257           Mr Shane Thompson   21.0            Medicine   \n",
      "ea9fab54            Ben Martin-Smith   24.0  English Literature   \n",
      "368adb8b                  Ruth Allen   25.0         Engineering   \n",
      "ac70668e                Jean Stevens   23.0    Computer Science   \n",
      "124361a6         Danny Morgan-Mistry   22.0            Medicine   \n",
      "71a612f3            Katie Shah-Lewis   19.0                 Art   \n",
      "f5273fa2                Leigh Palmer   24.0  English Literature   \n",
      "e8f05741       Miss Kathryn Holloway   23.0             Physics   \n",
      "655726b1                 Simon Lloyd   20.0                 Art   \n",
      "27eca82c            Benjamin Bennett   24.0         Mathematics   \n",
      "bf9937ac             Mr Victor Smith   20.0                 Law   \n",
      "a8be1ec3                Kelly Foster   22.0         Engineering   \n",
      "3b69ff22                 Sara Austin   19.0    Computer Science   \n",
      "716fb45f           Miss Grace Miller   22.0  English Literature   \n",
      "34b97db2         Miss Lydia Saunders   23.0             Physics   \n",
      "34b97db2         Miss Lydia Saunders   23.0             Physics   \n",
      "\n",
      "            Year of Study                 Country of Origin  \n",
      "Student ID                                                   \n",
      "2703f3f0              1.0                  Saint Barthelemy  \n",
      "a8040287              4.0                            Guinea  \n",
      "d8da5486              4.0                       Afghanistan  \n",
      "3ac1b74d              1.0                             Palau  \n",
      "67850858              3.0                           Algeria  \n",
      "62dd3a69              2.0                     Guinea-Bissau  \n",
      "6b22a999              2.0                           Comoros  \n",
      "4b744b9a              4.0                              Cuba  \n",
      "45c54817              2.0                             Korea  \n",
      "5d5e1224              1.0                             Haiti  \n",
      "2c142f24              1.0                              Fiji  \n",
      "3eec010c              1.0                         Swaziland  \n",
      "f3cbb058              4.0                           Namibia  \n",
      "6a406b49              1.0                            Israel  \n",
      "836d85df              4.0                            Angola  \n",
      "fc4f68b0              3.0                             Palau  \n",
      "41465cf8              2.0                             Italy  \n",
      "afae8532              1.0                           Mayotte  \n",
      "7c43c14d              3.0                             Nauru  \n",
      "43b3612f              4.0                            Taiwan  \n",
      "72324765              1.0                           Eritrea  \n",
      "9c0aa410              3.0                             China  \n",
      "a9e6b860              4.0                       Saint Lucia  \n",
      "0e7361c4              3.0                            France  \n",
      "27166ecb              3.0                              Fiji  \n",
      "c828ba21              2.0                       Isle of Man  \n",
      "a7bb5b63              1.0                          Guernsey  \n",
      "f156e962              2.0                   Kyrgyz Republic  \n",
      "2f3b6b33              3.0            Libyan Arab Jamahiriya  \n",
      "88648f86              4.0              Netherlands Antilles  \n",
      "a225e559              4.0                         Singapore  \n",
      "34212ec1              3.0                           Comoros  \n",
      "fcedbd2f              4.0                  French Polynesia  \n",
      "88dc77f7              4.0                 Wallis and Futuna  \n",
      "53dd0026              4.0                           Liberia  \n",
      "ea066b3e              2.0                 Brunei Darussalam  \n",
      "10551162              3.0                 Equatorial Guinea  \n",
      "a420952d              2.0                        Micronesia  \n",
      "45604caa              3.0                          Thailand  \n",
      "8d697782              3.0               Antigua and Barbuda  \n",
      "8581f127              3.0                      South Africa  \n",
      "5fa87190              1.0                          Zimbabwe  \n",
      "cc9eb24e              4.0                  Marshall Islands  \n",
      "3c1fe24c              1.0                           Lebanon  \n",
      "204e4c56              3.0                           Tunisia  \n",
      "0fac1009              3.0                          Cambodia  \n",
      "bde91950              4.0                      Burkina Faso  \n",
      "4e324306              4.0                            Cyprus  \n",
      "75693b89              4.0                           Ukraine  \n",
      "ba4fe6e7              1.0                             Aruba  \n",
      "7c038fa8              1.0                            Tuvalu  \n",
      "cf908625              4.0                             Kenya  \n",
      "171006cf              2.0                              Chad  \n",
      "e95153c9              3.0                      Saint Helena  \n",
      "229e57db              1.0                        Uzbekistan  \n",
      "c1af174c              1.0                            Guyana  \n",
      "b476163a              2.0                       El Salvador  \n",
      "f701bb71              4.0                             Tonga  \n",
      "e506b33a              2.0                          Malaysia  \n",
      "a5fd310f              3.0                         Mauritius  \n",
      "134a7d3c              1.0                              Cuba  \n",
      "335dd32f              NaN                            Jersey  \n",
      "c556523c              1.0                           Bermuda  \n",
      "8956f118              2.0                            Israel  \n",
      "c4ba663b              2.0                            Belize  \n",
      "0723a275              4.0                           Uruguay  \n",
      "f4556e05              1.0                            Belize  \n",
      "c7742c0a              1.0                  Marshall Islands  \n",
      "a326d84a              4.0                              Guam  \n",
      "687b22e6              4.0                           Reunion  \n",
      "3b921658              2.0                           Bahrain  \n",
      "c87c4775              3.0                              Chad  \n",
      "7add3804              2.0                        Micronesia  \n",
      "2fee570b              2.0                            Malawi  \n",
      "a32a60c4              1.0                          Cambodia  \n",
      "3af01f06              2.0                             Tonga  \n",
      "47e2aec9              4.0                       Saint Lucia  \n",
      "6f61b0a9              2.0                            Angola  \n",
      "3060541f              3.0     Holy See (Vatican City State)  \n",
      "2c8c0636              2.0                             Niger  \n",
      "a8d560bd              1.0                        Guadeloupe  \n",
      "0e042356              3.0                           Vietnam  \n",
      "648c9a22              1.0                           Burundi  \n",
      "90b61b7e              3.0  Lao People's Democratic Republic  \n",
      "95fadd5e              1.0                           Romania  \n",
      "fd719257              4.0                          Anguilla  \n",
      "ea9fab54              1.0                            Belize  \n",
      "368adb8b              3.0                              Peru  \n",
      "ac70668e              3.0              Netherlands Antilles  \n",
      "124361a6              2.0                           Bahrain  \n",
      "71a612f3              1.0                    United Kingdom  \n",
      "f5273fa2              3.0                            Belize  \n",
      "e8f05741              3.0                              Iraq  \n",
      "655726b1              2.0                            Cyprus  \n",
      "27eca82c              1.0                      Saint Martin  \n",
      "bf9937ac              1.0                        Bangladesh  \n",
      "a8be1ec3              1.0                       Netherlands  \n",
      "3b69ff22             34.0                     Liechtenstein  \n",
      "716fb45f              4.0                           Comoros  \n",
      "34b97db2              2.0                     Faroe Islands  \n",
      "34b97db2              2.0                     Faroe Islands  \n"
     ]
    }
   ],
   "source": [
    "with pd.option_context('display.max_rows', None, 'display.max_columns', None):\n",
    "    print(students_df)"
   ]
  },
  {
   "cell_type": "markdown",
   "id": "cb68256b",
   "metadata": {},
   "source": [
    "Here we explicitly print out all the country names using to_string, e.g to check for spelling errors. This approach might be easier to remember."
   ]
  },
  {
   "cell_type": "code",
   "execution_count": 19,
   "id": "108aaf3b",
   "metadata": {},
   "outputs": [
    {
     "name": "stdout",
     "output_type": "stream",
     "text": [
      "Country of Origin\n",
      "Belize                              4\n",
      "Comoros                             3\n",
      "Faroe Islands                       2\n",
      "Marshall Islands                    2\n",
      "Bahrain                             2\n",
      "Saint Lucia                         2\n",
      "Micronesia                          2\n",
      "Tonga                               2\n",
      "Angola                              2\n",
      "Netherlands Antilles                2\n",
      "Israel                              2\n",
      "Fiji                                2\n",
      "Cuba                                2\n",
      "Cambodia                            2\n",
      "Chad                                2\n",
      "Palau                               2\n",
      "Cyprus                              2\n",
      "Guyana                              1\n",
      "Uzbekistan                          1\n",
      "Saint Helena                        1\n",
      "El Salvador                         1\n",
      "Malaysia                            1\n",
      "Mauritius                           1\n",
      "Jersey                              1\n",
      "Bermuda                             1\n",
      "Uruguay                             1\n",
      "Guam                                1\n",
      "Holy See (Vatican City State)       1\n",
      "Reunion                             1\n",
      "Malawi                              1\n",
      "Liechtenstein                       1\n",
      "Netherlands                         1\n",
      "Bangladesh                          1\n",
      "Saint Martin                        1\n",
      "Iraq                                1\n",
      "United Kingdom                      1\n",
      "Peru                                1\n",
      "Anguilla                            1\n",
      "Romania                             1\n",
      "Lao People's Democratic Republic    1\n",
      "Burundi                             1\n",
      "Vietnam                             1\n",
      "Guadeloupe                          1\n",
      "Niger                               1\n",
      "Tuvalu                              1\n",
      "Kenya                               1\n",
      "Saint Barthelemy                    1\n",
      "Aruba                               1\n",
      "Italy                               1\n",
      "France                              1\n",
      "China                               1\n",
      "Eritrea                             1\n",
      "Taiwan                              1\n",
      "Nauru                               1\n",
      "Mayotte                             1\n",
      "Namibia                             1\n",
      "Ukraine                             1\n",
      "Swaziland                           1\n",
      "Haiti                               1\n",
      "Korea                               1\n",
      "Guinea-Bissau                       1\n",
      "Algeria                             1\n",
      "Afghanistan                         1\n",
      "Isle of Man                         1\n",
      "Guernsey                            1\n",
      "Kyrgyz Republic                     1\n",
      "Libyan Arab Jamahiriya              1\n",
      "Singapore                           1\n",
      "French Polynesia                    1\n",
      "Wallis and Futuna                   1\n",
      "Liberia                             1\n",
      "Brunei Darussalam                   1\n",
      "Equatorial Guinea                   1\n",
      "Thailand                            1\n",
      "Antigua and Barbuda                 1\n",
      "South Africa                        1\n",
      "Zimbabwe                            1\n",
      "Guinea                              1\n",
      "Tunisia                             1\n",
      "Burkina Faso                        1\n",
      "Lebanon                             1\n"
     ]
    }
   ],
   "source": [
    "print(students_df['Country of Origin'].value_counts().to_string())"
   ]
  },
  {
   "cell_type": "markdown",
   "id": "c18a97b3",
   "metadata": {},
   "source": [
    "We can get a quick overview of the data using `info`. This shows that we have 101 non-null values of Name, but only 99 non-null values of Age. It looks like we have a couple of missing age values. We can also see that Age and Year of Study are floating-point values and that Name, Subject and Country of Origin have an 'object' Dtype. This is how strings are represented by default."
   ]
  },
  {
   "cell_type": "code",
   "execution_count": 20,
   "id": "13567651",
   "metadata": {
    "ExecuteTime": {
     "end_time": "2025-04-24T17:47:11.701457Z",
     "start_time": "2025-04-24T17:47:11.694052Z"
    }
   },
   "outputs": [
    {
     "name": "stdout",
     "output_type": "stream",
     "text": [
      "<class 'pandas.core.frame.DataFrame'>\n",
      "Index: 101 entries, 2703f3f0 to 34b97db2\n",
      "Data columns (total 5 columns):\n",
      " #   Column             Non-Null Count  Dtype  \n",
      "---  ------             --------------  -----  \n",
      " 0   Name               101 non-null    object \n",
      " 1   Age                99 non-null     float64\n",
      " 2   Subject            101 non-null    object \n",
      " 3   Year of Study      100 non-null    float64\n",
      " 4   Country of Origin  101 non-null    object \n",
      "dtypes: float64(2), object(3)\n",
      "memory usage: 8.8+ KB\n"
     ]
    }
   ],
   "source": [
    "students_df.info()"
   ]
  },
  {
   "cell_type": "markdown",
   "id": "9ccd482c",
   "metadata": {},
   "source": [
    "We can use `shape` to determine how many rows and columns we have. Notice that the number of columns does not include the index column."
   ]
  },
  {
   "cell_type": "code",
   "execution_count": 21,
   "id": "fd40763f",
   "metadata": {
    "ExecuteTime": {
     "end_time": "2025-04-24T17:47:11.965896Z",
     "start_time": "2025-04-24T17:47:11.960897Z"
    }
   },
   "outputs": [
    {
     "data": {
      "text/plain": [
       "(101, 5)"
      ]
     },
     "execution_count": 21,
     "metadata": {},
     "output_type": "execute_result"
    }
   ],
   "source": [
    "students_df.shape  # Output: (number of rows, number of columns)"
   ]
  },
  {
   "cell_type": "markdown",
   "id": "d8dd2762",
   "metadata": {},
   "source": [
    "We used the `index` attribute above to examine the DataFrame index. Here we use `columns` to show our column headings. The index column is not included in the list."
   ]
  },
  {
   "cell_type": "code",
   "execution_count": 22,
   "id": "d70168d3",
   "metadata": {
    "ExecuteTime": {
     "end_time": "2025-04-24T17:47:12.098115Z",
     "start_time": "2025-04-24T17:47:12.093063Z"
    }
   },
   "outputs": [
    {
     "data": {
      "text/plain": [
       "Index(['Name', 'Age', 'Subject', 'Year of Study', 'Country of Origin'], dtype='object')"
      ]
     },
     "execution_count": 22,
     "metadata": {},
     "output_type": "execute_result"
    }
   ],
   "source": [
    "students_df.columns"
   ]
  },
  {
   "cell_type": "markdown",
   "id": "f6baeca5",
   "metadata": {},
   "source": [
    "We can use dtypes to specifically check the data types:"
   ]
  },
  {
   "cell_type": "code",
   "execution_count": 23,
   "id": "f976268b",
   "metadata": {
    "ExecuteTime": {
     "end_time": "2025-04-24T17:47:12.230957Z",
     "start_time": "2025-04-24T17:47:12.226246Z"
    }
   },
   "outputs": [
    {
     "data": {
      "application/vnd.microsoft.datawrangler.viewer.v0+json": {
       "columns": [
        {
         "name": "index",
         "rawType": "object",
         "type": "string"
        },
        {
         "name": "0",
         "rawType": "object",
         "type": "unknown"
        }
       ],
       "ref": "55e9400d-4a66-4a63-846f-ab1173768b2c",
       "rows": [
        [
         "Name",
         "object"
        ],
        [
         "Age",
         "float64"
        ],
        [
         "Subject",
         "object"
        ],
        [
         "Year of Study",
         "float64"
        ],
        [
         "Country of Origin",
         "object"
        ]
       ],
       "shape": {
        "columns": 1,
        "rows": 5
       }
      },
      "text/plain": [
       "Name                  object\n",
       "Age                  float64\n",
       "Subject               object\n",
       "Year of Study        float64\n",
       "Country of Origin     object\n",
       "dtype: object"
      ]
     },
     "execution_count": 23,
     "metadata": {},
     "output_type": "execute_result"
    }
   ],
   "source": [
    "students_df.dtypes"
   ]
  },
  {
   "cell_type": "markdown",
   "id": "1cb2bcea",
   "metadata": {},
   "source": [
    "We can get a statistical summary of the numeric data using `describe`:"
   ]
  },
  {
   "cell_type": "code",
   "execution_count": 24,
   "id": "a459464d-9e71-427d-b888-b9690a861250",
   "metadata": {
    "ExecuteTime": {
     "end_time": "2025-04-24T17:47:12.391190Z",
     "start_time": "2025-04-24T17:47:12.382585Z"
    }
   },
   "outputs": [
    {
     "data": {
      "application/vnd.microsoft.datawrangler.viewer.v0+json": {
       "columns": [
        {
         "name": "index",
         "rawType": "object",
         "type": "string"
        },
        {
         "name": "Age",
         "rawType": "float64",
         "type": "float"
        },
        {
         "name": "Year of Study",
         "rawType": "float64",
         "type": "float"
        }
       ],
       "ref": "a35ee164-ca03-4549-80b8-570bd8965706",
       "rows": [
        [
         "count",
         "99.0",
         "100.0"
        ],
        [
         "mean",
         "23.848484848484848",
         "2.76"
        ],
        [
         "std",
         "22.625777080516308",
         "3.3548397122589177"
        ],
        [
         "min",
         "5.0",
         "1.0"
        ],
        [
         "25%",
         "20.0",
         "1.0"
        ],
        [
         "50%",
         "22.0",
         "2.0"
        ],
        [
         "75%",
         "24.0",
         "3.25"
        ],
        [
         "max",
         "245.0",
         "34.0"
        ]
       ],
       "shape": {
        "columns": 2,
        "rows": 8
       }
      },
      "text/html": [
       "<div>\n",
       "<style scoped>\n",
       "    .dataframe tbody tr th:only-of-type {\n",
       "        vertical-align: middle;\n",
       "    }\n",
       "\n",
       "    .dataframe tbody tr th {\n",
       "        vertical-align: top;\n",
       "    }\n",
       "\n",
       "    .dataframe thead th {\n",
       "        text-align: right;\n",
       "    }\n",
       "</style>\n",
       "<table border=\"1\" class=\"dataframe\">\n",
       "  <thead>\n",
       "    <tr style=\"text-align: right;\">\n",
       "      <th></th>\n",
       "      <th>Age</th>\n",
       "      <th>Year of Study</th>\n",
       "    </tr>\n",
       "  </thead>\n",
       "  <tbody>\n",
       "    <tr>\n",
       "      <th>count</th>\n",
       "      <td>99.000000</td>\n",
       "      <td>100.00000</td>\n",
       "    </tr>\n",
       "    <tr>\n",
       "      <th>mean</th>\n",
       "      <td>23.848485</td>\n",
       "      <td>2.76000</td>\n",
       "    </tr>\n",
       "    <tr>\n",
       "      <th>std</th>\n",
       "      <td>22.625777</td>\n",
       "      <td>3.35484</td>\n",
       "    </tr>\n",
       "    <tr>\n",
       "      <th>min</th>\n",
       "      <td>5.000000</td>\n",
       "      <td>1.00000</td>\n",
       "    </tr>\n",
       "    <tr>\n",
       "      <th>25%</th>\n",
       "      <td>20.000000</td>\n",
       "      <td>1.00000</td>\n",
       "    </tr>\n",
       "    <tr>\n",
       "      <th>50%</th>\n",
       "      <td>22.000000</td>\n",
       "      <td>2.00000</td>\n",
       "    </tr>\n",
       "    <tr>\n",
       "      <th>75%</th>\n",
       "      <td>24.000000</td>\n",
       "      <td>3.25000</td>\n",
       "    </tr>\n",
       "    <tr>\n",
       "      <th>max</th>\n",
       "      <td>245.000000</td>\n",
       "      <td>34.00000</td>\n",
       "    </tr>\n",
       "  </tbody>\n",
       "</table>\n",
       "</div>"
      ],
      "text/plain": [
       "              Age  Year of Study\n",
       "count   99.000000      100.00000\n",
       "mean    23.848485        2.76000\n",
       "std     22.625777        3.35484\n",
       "min      5.000000        1.00000\n",
       "25%     20.000000        1.00000\n",
       "50%     22.000000        2.00000\n",
       "75%     24.000000        3.25000\n",
       "max    245.000000       34.00000"
      ]
     },
     "execution_count": 24,
     "metadata": {},
     "output_type": "execute_result"
    }
   ],
   "source": [
    "students_df.describe()"
   ]
  },
  {
   "cell_type": "markdown",
   "id": "565cdb6a",
   "metadata": {},
   "source": [
    "If we have a lot of numeric columns, it can be easier view the transposition of the DataFrame returned by `describe`. We can easily do this using `T`:"
   ]
  },
  {
   "cell_type": "code",
   "execution_count": 25,
   "id": "acdbf635",
   "metadata": {
    "ExecuteTime": {
     "end_time": "2025-04-24T17:47:12.630396Z",
     "start_time": "2025-04-24T17:47:12.619915Z"
    }
   },
   "outputs": [
    {
     "data": {
      "application/vnd.microsoft.datawrangler.viewer.v0+json": {
       "columns": [
        {
         "name": "index",
         "rawType": "object",
         "type": "string"
        },
        {
         "name": "count",
         "rawType": "float64",
         "type": "float"
        },
        {
         "name": "mean",
         "rawType": "float64",
         "type": "float"
        },
        {
         "name": "std",
         "rawType": "float64",
         "type": "float"
        },
        {
         "name": "min",
         "rawType": "float64",
         "type": "float"
        },
        {
         "name": "25%",
         "rawType": "float64",
         "type": "float"
        },
        {
         "name": "50%",
         "rawType": "float64",
         "type": "float"
        },
        {
         "name": "75%",
         "rawType": "float64",
         "type": "float"
        },
        {
         "name": "max",
         "rawType": "float64",
         "type": "float"
        }
       ],
       "ref": "674e11bd-a8c8-482d-9d2f-be19f55a9289",
       "rows": [
        [
         "Age",
         "99.0",
         "23.848484848484848",
         "22.625777080516308",
         "5.0",
         "20.0",
         "22.0",
         "24.0",
         "245.0"
        ],
        [
         "Year of Study",
         "100.0",
         "2.76",
         "3.3548397122589177",
         "1.0",
         "1.0",
         "2.0",
         "3.25",
         "34.0"
        ]
       ],
       "shape": {
        "columns": 8,
        "rows": 2
       }
      },
      "text/html": [
       "<div>\n",
       "<style scoped>\n",
       "    .dataframe tbody tr th:only-of-type {\n",
       "        vertical-align: middle;\n",
       "    }\n",
       "\n",
       "    .dataframe tbody tr th {\n",
       "        vertical-align: top;\n",
       "    }\n",
       "\n",
       "    .dataframe thead th {\n",
       "        text-align: right;\n",
       "    }\n",
       "</style>\n",
       "<table border=\"1\" class=\"dataframe\">\n",
       "  <thead>\n",
       "    <tr style=\"text-align: right;\">\n",
       "      <th></th>\n",
       "      <th>count</th>\n",
       "      <th>mean</th>\n",
       "      <th>std</th>\n",
       "      <th>min</th>\n",
       "      <th>25%</th>\n",
       "      <th>50%</th>\n",
       "      <th>75%</th>\n",
       "      <th>max</th>\n",
       "    </tr>\n",
       "  </thead>\n",
       "  <tbody>\n",
       "    <tr>\n",
       "      <th>Age</th>\n",
       "      <td>99.0</td>\n",
       "      <td>23.848485</td>\n",
       "      <td>22.625777</td>\n",
       "      <td>5.0</td>\n",
       "      <td>20.0</td>\n",
       "      <td>22.0</td>\n",
       "      <td>24.00</td>\n",
       "      <td>245.0</td>\n",
       "    </tr>\n",
       "    <tr>\n",
       "      <th>Year of Study</th>\n",
       "      <td>100.0</td>\n",
       "      <td>2.760000</td>\n",
       "      <td>3.354840</td>\n",
       "      <td>1.0</td>\n",
       "      <td>1.0</td>\n",
       "      <td>2.0</td>\n",
       "      <td>3.25</td>\n",
       "      <td>34.0</td>\n",
       "    </tr>\n",
       "  </tbody>\n",
       "</table>\n",
       "</div>"
      ],
      "text/plain": [
       "               count       mean        std  min   25%   50%    75%    max\n",
       "Age             99.0  23.848485  22.625777  5.0  20.0  22.0  24.00  245.0\n",
       "Year of Study  100.0   2.760000   3.354840  1.0   1.0   2.0   3.25   34.0"
      ]
     },
     "execution_count": 25,
     "metadata": {},
     "output_type": "execute_result"
    }
   ],
   "source": [
    "students_df.describe().T"
   ]
  },
  {
   "cell_type": "markdown",
   "id": "1ac9f96a",
   "metadata": {},
   "source": [
    "Here we use `nunique` to see how many unique values each column has."
   ]
  },
  {
   "cell_type": "code",
   "execution_count": 26,
   "id": "ea0ac050",
   "metadata": {},
   "outputs": [
    {
     "data": {
      "application/vnd.microsoft.datawrangler.viewer.v0+json": {
       "columns": [
        {
         "name": "index",
         "rawType": "object",
         "type": "string"
        },
        {
         "name": "0",
         "rawType": "int64",
         "type": "integer"
        }
       ],
       "ref": "d1b98cfc-72c7-437d-9c82-45edf6f220f9",
       "rows": [
        [
         "Name",
         "100"
        ],
        [
         "Age",
         "10"
        ],
        [
         "Subject",
         "10"
        ],
        [
         "Year of Study",
         "5"
        ],
        [
         "Country of Origin",
         "81"
        ]
       ],
       "shape": {
        "columns": 1,
        "rows": 5
       }
      },
      "text/plain": [
       "Name                 100\n",
       "Age                   10\n",
       "Subject               10\n",
       "Year of Study          5\n",
       "Country of Origin     81\n",
       "dtype: int64"
      ]
     },
     "execution_count": 26,
     "metadata": {},
     "output_type": "execute_result"
    }
   ],
   "source": [
    "students_df.nunique()"
   ]
  },
  {
   "cell_type": "markdown",
   "id": "ae6eb188",
   "metadata": {},
   "source": [
    "We can use `value_counts` to count each unique value for a particular column. Here we see that the ages 22 and 21 occur 16 times each."
   ]
  },
  {
   "cell_type": "code",
   "execution_count": 27,
   "id": "fd7dd56b",
   "metadata": {},
   "outputs": [
    {
     "data": {
      "application/vnd.microsoft.datawrangler.viewer.v0+json": {
       "columns": [
        {
         "name": "Age",
         "rawType": "float64",
         "type": "float"
        },
        {
         "name": "count",
         "rawType": "int64",
         "type": "integer"
        }
       ],
       "ref": "2b8abff2-ba54-4a5b-b3ed-450b8cfe1917",
       "rows": [
        [
         "21.0",
         "16"
        ],
        [
         "24.0",
         "15"
        ],
        [
         "23.0",
         "14"
        ],
        [
         "25.0",
         "12"
        ],
        [
         "22.0",
         "12"
        ],
        [
         "18.0",
         "12"
        ],
        [
         "20.0",
         "9"
        ],
        [
         "19.0",
         "7"
        ],
        [
         "245.0",
         "1"
        ],
        [
         "5.0",
         "1"
        ]
       ],
       "shape": {
        "columns": 1,
        "rows": 10
       }
      },
      "text/plain": [
       "Age\n",
       "21.0     16\n",
       "24.0     15\n",
       "23.0     14\n",
       "25.0     12\n",
       "22.0     12\n",
       "18.0     12\n",
       "20.0      9\n",
       "19.0      7\n",
       "245.0     1\n",
       "5.0       1\n",
       "Name: count, dtype: int64"
      ]
     },
     "execution_count": 27,
     "metadata": {},
     "output_type": "execute_result"
    }
   ],
   "source": [
    "students_df['Age'].value_counts()"
   ]
  },
  {
   "cell_type": "markdown",
   "id": "a8f29332",
   "metadata": {},
   "source": [
    "The `value_counts` method works with categorical data as well. Here we see that English Literature is the most commonly studied subject in our dataset."
   ]
  },
  {
   "cell_type": "code",
   "execution_count": 28,
   "id": "62a6b97c",
   "metadata": {},
   "outputs": [
    {
     "data": {
      "application/vnd.microsoft.datawrangler.viewer.v0+json": {
       "columns": [
        {
         "name": "Subject",
         "rawType": "object",
         "type": "string"
        },
        {
         "name": "count",
         "rawType": "int64",
         "type": "integer"
        }
       ],
       "ref": "4aa7d8cc-ad5b-4735-bf0a-bced2b758286",
       "rows": [
        [
         "English Literature",
         "16"
        ],
        [
         "Computer Science",
         "13"
        ],
        [
         "Medicine",
         "11"
        ],
        [
         "Biology",
         "11"
        ],
        [
         "Law",
         "11"
        ],
        [
         "Engineering",
         "9"
        ],
        [
         "Physics",
         "8"
        ],
        [
         "Mathematics",
         "8"
        ],
        [
         "History",
         "7"
        ],
        [
         "Art",
         "7"
        ]
       ],
       "shape": {
        "columns": 1,
        "rows": 10
       }
      },
      "text/plain": [
       "Subject\n",
       "English Literature    16\n",
       "Computer Science      13\n",
       "Medicine              11\n",
       "Biology               11\n",
       "Law                   11\n",
       "Engineering            9\n",
       "Physics                8\n",
       "Mathematics            8\n",
       "History                7\n",
       "Art                    7\n",
       "Name: count, dtype: int64"
      ]
     },
     "execution_count": 28,
     "metadata": {},
     "output_type": "execute_result"
    }
   ],
   "source": [
    "students_df['Subject'].value_counts()"
   ]
  },
  {
   "cell_type": "markdown",
   "id": "53a5364e",
   "metadata": {},
   "source": [
    "And here we see that Belize is the most frequently occurring country of origin. The values in this dataset were generated randomly, so there are more countries of origin than we might normally expect."
   ]
  },
  {
   "cell_type": "code",
   "execution_count": 29,
   "id": "7cdd4639",
   "metadata": {},
   "outputs": [
    {
     "data": {
      "application/vnd.microsoft.datawrangler.viewer.v0+json": {
       "columns": [
        {
         "name": "Country of Origin",
         "rawType": "object",
         "type": "string"
        },
        {
         "name": "count",
         "rawType": "int64",
         "type": "integer"
        }
       ],
       "ref": "6e3312e8-7539-4aa6-8e42-0dc0bc022c3b",
       "rows": [
        [
         "Belize",
         "4"
        ],
        [
         "Comoros",
         "3"
        ],
        [
         "Faroe Islands",
         "2"
        ],
        [
         "Marshall Islands",
         "2"
        ],
        [
         "Bahrain",
         "2"
        ],
        [
         "Saint Lucia",
         "2"
        ],
        [
         "Micronesia",
         "2"
        ],
        [
         "Tonga",
         "2"
        ],
        [
         "Angola",
         "2"
        ],
        [
         "Netherlands Antilles",
         "2"
        ],
        [
         "Israel",
         "2"
        ],
        [
         "Fiji",
         "2"
        ],
        [
         "Cuba",
         "2"
        ],
        [
         "Cambodia",
         "2"
        ],
        [
         "Chad",
         "2"
        ],
        [
         "Palau",
         "2"
        ],
        [
         "Cyprus",
         "2"
        ],
        [
         "Guyana",
         "1"
        ],
        [
         "Uzbekistan",
         "1"
        ],
        [
         "Saint Helena",
         "1"
        ],
        [
         "El Salvador",
         "1"
        ],
        [
         "Malaysia",
         "1"
        ],
        [
         "Mauritius",
         "1"
        ],
        [
         "Jersey",
         "1"
        ],
        [
         "Bermuda",
         "1"
        ],
        [
         "Uruguay",
         "1"
        ],
        [
         "Guam",
         "1"
        ],
        [
         "Holy See (Vatican City State)",
         "1"
        ],
        [
         "Reunion",
         "1"
        ],
        [
         "Malawi",
         "1"
        ],
        [
         "Liechtenstein",
         "1"
        ],
        [
         "Netherlands",
         "1"
        ],
        [
         "Bangladesh",
         "1"
        ],
        [
         "Saint Martin",
         "1"
        ],
        [
         "Iraq",
         "1"
        ],
        [
         "United Kingdom",
         "1"
        ],
        [
         "Peru",
         "1"
        ],
        [
         "Anguilla",
         "1"
        ],
        [
         "Romania",
         "1"
        ],
        [
         "Lao People's Democratic Republic",
         "1"
        ],
        [
         "Burundi",
         "1"
        ],
        [
         "Vietnam",
         "1"
        ],
        [
         "Guadeloupe",
         "1"
        ],
        [
         "Niger",
         "1"
        ],
        [
         "Tuvalu",
         "1"
        ],
        [
         "Kenya",
         "1"
        ],
        [
         "Saint Barthelemy",
         "1"
        ],
        [
         "Aruba",
         "1"
        ],
        [
         "Italy",
         "1"
        ],
        [
         "France",
         "1"
        ]
       ],
       "shape": {
        "columns": 1,
        "rows": 81
       }
      },
      "text/plain": [
       "Country of Origin\n",
       "Belize              4\n",
       "Comoros             3\n",
       "Faroe Islands       2\n",
       "Marshall Islands    2\n",
       "Bahrain             2\n",
       "                   ..\n",
       "Zimbabwe            1\n",
       "Guinea              1\n",
       "Tunisia             1\n",
       "Burkina Faso        1\n",
       "Lebanon             1\n",
       "Name: count, Length: 81, dtype: int64"
      ]
     },
     "execution_count": 29,
     "metadata": {},
     "output_type": "execute_result"
    }
   ],
   "source": [
    "students_df['Country of Origin'].value_counts()"
   ]
  },
  {
   "cell_type": "markdown",
   "id": "1be42370",
   "metadata": {},
   "source": [
    "We can also explore different groupings of data. Here we use `groupby` and `mean` to show the average student age by subject."
   ]
  },
  {
   "cell_type": "code",
   "execution_count": 30,
   "id": "c1ae0c8b",
   "metadata": {},
   "outputs": [
    {
     "data": {
      "application/vnd.microsoft.datawrangler.viewer.v0+json": {
       "columns": [
        {
         "name": "Subject",
         "rawType": "object",
         "type": "string"
        },
        {
         "name": "Age",
         "rawType": "float64",
         "type": "float"
        }
       ],
       "ref": "aa7637d9-9031-407f-8041-b7d044381aae",
       "rows": [
        [
         "Art",
         "19.428571428571427"
        ],
        [
         "Biology",
         "18.9"
        ],
        [
         "Computer Science",
         "21.153846153846153"
        ],
        [
         "Engineering",
         "22.88888888888889"
        ],
        [
         "English Literature",
         "22.666666666666668"
        ],
        [
         "History",
         "22.714285714285715"
        ],
        [
         "Law",
         "21.818181818181817"
        ],
        [
         "Mathematics",
         "48.75"
        ],
        [
         "Medicine",
         "22.181818181818183"
        ],
        [
         "Physics",
         "22.75"
        ]
       ],
       "shape": {
        "columns": 1,
        "rows": 10
       }
      },
      "text/plain": [
       "Subject\n",
       "Art                   19.428571\n",
       "Biology               18.900000\n",
       "Computer Science      21.153846\n",
       "Engineering           22.888889\n",
       "English Literature    22.666667\n",
       "History               22.714286\n",
       "Law                   21.818182\n",
       "Mathematics           48.750000\n",
       "Medicine              22.181818\n",
       "Physics               22.750000\n",
       "Name: Age, dtype: float64"
      ]
     },
     "execution_count": 30,
     "metadata": {},
     "output_type": "execute_result"
    }
   ],
   "source": [
    "students_df.groupby('Subject')['Age'].mean()"
   ]
  },
  {
   "cell_type": "markdown",
   "id": "9d6ac03e",
   "metadata": {},
   "source": [
    "Similarly, here we show the average year of study by country of origin."
   ]
  },
  {
   "cell_type": "code",
   "execution_count": 31,
   "id": "24e15911",
   "metadata": {},
   "outputs": [
    {
     "data": {
      "application/vnd.microsoft.datawrangler.viewer.v0+json": {
       "columns": [
        {
         "name": "Country of Origin",
         "rawType": "object",
         "type": "string"
        },
        {
         "name": "Year of Study",
         "rawType": "float64",
         "type": "float"
        }
       ],
       "ref": "c792bb97-b108-495c-9f9d-a57d46e4d015",
       "rows": [
        [
         "Afghanistan",
         "4.0"
        ],
        [
         "Algeria",
         "3.0"
        ],
        [
         "Angola",
         "3.0"
        ],
        [
         "Anguilla",
         "4.0"
        ],
        [
         "Antigua and Barbuda",
         "3.0"
        ],
        [
         "Aruba",
         "1.0"
        ],
        [
         "Bahrain",
         "2.0"
        ],
        [
         "Bangladesh",
         "1.0"
        ],
        [
         "Belize",
         "1.75"
        ],
        [
         "Bermuda",
         "1.0"
        ],
        [
         "Brunei Darussalam",
         "2.0"
        ],
        [
         "Burkina Faso",
         "4.0"
        ],
        [
         "Burundi",
         "1.0"
        ],
        [
         "Cambodia",
         "2.0"
        ],
        [
         "Chad",
         "2.5"
        ],
        [
         "China",
         "3.0"
        ],
        [
         "Comoros",
         "3.0"
        ],
        [
         "Cuba",
         "2.5"
        ],
        [
         "Cyprus",
         "3.0"
        ],
        [
         "El Salvador",
         "2.0"
        ],
        [
         "Equatorial Guinea",
         "3.0"
        ],
        [
         "Eritrea",
         "1.0"
        ],
        [
         "Faroe Islands",
         "2.0"
        ],
        [
         "Fiji",
         "2.0"
        ],
        [
         "France",
         "3.0"
        ],
        [
         "French Polynesia",
         "4.0"
        ],
        [
         "Guadeloupe",
         "1.0"
        ],
        [
         "Guam",
         "4.0"
        ],
        [
         "Guernsey",
         "1.0"
        ],
        [
         "Guinea",
         "4.0"
        ],
        [
         "Guinea-Bissau",
         "2.0"
        ],
        [
         "Guyana",
         "1.0"
        ],
        [
         "Haiti",
         "1.0"
        ],
        [
         "Holy See (Vatican City State)",
         "3.0"
        ],
        [
         "Iraq",
         "3.0"
        ],
        [
         "Isle of Man",
         "2.0"
        ],
        [
         "Israel",
         "1.5"
        ],
        [
         "Italy",
         "2.0"
        ],
        [
         "Jersey",
         null
        ],
        [
         "Kenya",
         "4.0"
        ],
        [
         "Korea",
         "2.0"
        ],
        [
         "Kyrgyz Republic",
         "2.0"
        ],
        [
         "Lao People's Democratic Republic",
         "3.0"
        ],
        [
         "Lebanon",
         "1.0"
        ],
        [
         "Liberia",
         "4.0"
        ],
        [
         "Libyan Arab Jamahiriya",
         "3.0"
        ],
        [
         "Liechtenstein",
         "34.0"
        ],
        [
         "Malawi",
         "2.0"
        ],
        [
         "Malaysia",
         "2.0"
        ],
        [
         "Marshall Islands",
         "2.5"
        ]
       ],
       "shape": {
        "columns": 1,
        "rows": 81
       }
      },
      "text/plain": [
       "Country of Origin\n",
       "Afghanistan            4.0\n",
       "Algeria                3.0\n",
       "Angola                 3.0\n",
       "Anguilla               4.0\n",
       "Antigua and Barbuda    3.0\n",
       "                      ... \n",
       "Uruguay                4.0\n",
       "Uzbekistan             1.0\n",
       "Vietnam                3.0\n",
       "Wallis and Futuna      4.0\n",
       "Zimbabwe               1.0\n",
       "Name: Year of Study, Length: 81, dtype: float64"
      ]
     },
     "execution_count": 31,
     "metadata": {},
     "output_type": "execute_result"
    }
   ],
   "source": [
    "students_df.groupby('Country of Origin')['Year of Study'].mean()"
   ]
  },
  {
   "cell_type": "markdown",
   "id": "4f784dd2",
   "metadata": {},
   "source": [
    "### Some basic plotting"
   ]
  },
  {
   "cell_type": "markdown",
   "id": "f31ed9f6",
   "metadata": {},
   "source": [
    "Here we use the `plot` method to quickly create a bar chart."
   ]
  },
  {
   "cell_type": "code",
   "execution_count": 32,
   "id": "d97dc2d2",
   "metadata": {},
   "outputs": [
    {
     "data": {
      "text/plain": [
       "<Axes: xlabel='Age'>"
      ]
     },
     "execution_count": 32,
     "metadata": {},
     "output_type": "execute_result"
    },
    {
     "data": {
      "image/png": "[encoded data removed]",
      "text/plain": [
       "<Figure size 640x480 with 1 Axes>"
      ]
     },
     "metadata": {},
     "output_type": "display_data"
    }
   ],
   "source": [
    "students_df['Age'].value_counts().plot(kind='bar')"
   ]
  },
  {
   "cell_type": "markdown",
   "id": "7d3f9213",
   "metadata": {},
   "source": [
    "Here we do a similar thing, but we're grouping by age and then plotting the size of each grouping. In this case the bars are sorted by age rather than count."
   ]
  },
  {
   "cell_type": "code",
   "execution_count": 33,
   "id": "e4908b14",
   "metadata": {},
   "outputs": [
    {
     "data": {
      "text/plain": [
       "<Axes: xlabel='Age'>"
      ]
     },
     "execution_count": 33,
     "metadata": {},
     "output_type": "execute_result"
    },
    {
     "data": {
      "image/png": "[encoded data removed]",
      "text/plain": [
       "<Figure size 640x480 with 1 Axes>"
      ]
     },
     "metadata": {},
     "output_type": "display_data"
    }
   ],
   "source": [
    "students_df.groupby('Age').size().plot(kind='bar', color='green')"
   ]
  },
  {
   "cell_type": "markdown",
   "id": "4dc2fa81",
   "metadata": {},
   "source": [
    "## Clean our data"
   ]
  },
  {
   "cell_type": "markdown",
   "id": "1711d6c1",
   "metadata": {},
   "source": [
    "### Handling missing values\n",
    "We could run into problems if our DataFrame contains rows with missing data, e.g. if we try to use the data to build machine learning models."
   ]
  },
  {
   "cell_type": "markdown",
   "id": "cfec0205",
   "metadata": {},
   "source": [
    "We can find out how many missing values for each column as follows:"
   ]
  },
  {
   "cell_type": "code",
   "execution_count": 34,
   "id": "b7d708b8-7f9f-4c4f-9149-8c6ce5b72b1d",
   "metadata": {
    "ExecuteTime": {
     "end_time": "2025-04-24T17:47:13.252394Z",
     "start_time": "2025-04-24T17:47:13.248199Z"
    }
   },
   "outputs": [
    {
     "data": {
      "application/vnd.microsoft.datawrangler.viewer.v0+json": {
       "columns": [
        {
         "name": "index",
         "rawType": "object",
         "type": "string"
        },
        {
         "name": "0",
         "rawType": "int64",
         "type": "integer"
        }
       ],
       "ref": "474ab3e7-bc2d-44aa-964d-4115d91f8ad1",
       "rows": [
        [
         "Name",
         "0"
        ],
        [
         "Age",
         "2"
        ],
        [
         "Subject",
         "0"
        ],
        [
         "Year of Study",
         "1"
        ],
        [
         "Country of Origin",
         "0"
        ]
       ],
       "shape": {
        "columns": 1,
        "rows": 5
       }
      },
      "text/plain": [
       "Name                 0\n",
       "Age                  2\n",
       "Subject              0\n",
       "Year of Study        1\n",
       "Country of Origin    0\n",
       "dtype: int64"
      ]
     },
     "execution_count": 34,
     "metadata": {},
     "output_type": "execute_result"
    }
   ],
   "source": [
    "students_df.isnull().sum()"
   ]
  },
  {
   "cell_type": "markdown",
   "id": "7093741c",
   "metadata": {},
   "source": [
    "We can see which rows contain missing values in any column."
   ]
  },
  {
   "cell_type": "code",
   "execution_count": 35,
   "id": "bbf4d132",
   "metadata": {},
   "outputs": [
    {
     "data": {
      "application/vnd.microsoft.datawrangler.viewer.v0+json": {
       "columns": [
        {
         "name": "Student ID",
         "rawType": "object",
         "type": "string"
        },
        {
         "name": "Name",
         "rawType": "object",
         "type": "string"
        },
        {
         "name": "Age",
         "rawType": "float64",
         "type": "float"
        },
        {
         "name": "Subject",
         "rawType": "object",
         "type": "string"
        },
        {
         "name": "Year of Study",
         "rawType": "float64",
         "type": "float"
        },
        {
         "name": "Country of Origin",
         "rawType": "object",
         "type": "string"
        }
       ],
       "ref": "8ab09dc2-8ea4-404f-b023-6c7218284bf4",
       "rows": [
        [
         "4b744b9a",
         "Garry Thornton",
         null,
         "English Literature",
         "4.0",
         "Cuba"
        ],
        [
         "3eec010c",
         "Howard Marshall",
         null,
         "Biology",
         "1.0",
         "Swaziland"
        ],
        [
         "335dd32f",
         "Ruth Miller",
         "18.0",
         "Biology",
         null,
         "Jersey"
        ]
       ],
       "shape": {
        "columns": 5,
        "rows": 3
       }
      },
      "text/html": [
       "<div>\n",
       "<style scoped>\n",
       "    .dataframe tbody tr th:only-of-type {\n",
       "        vertical-align: middle;\n",
       "    }\n",
       "\n",
       "    .dataframe tbody tr th {\n",
       "        vertical-align: top;\n",
       "    }\n",
       "\n",
       "    .dataframe thead th {\n",
       "        text-align: right;\n",
       "    }\n",
       "</style>\n",
       "<table border=\"1\" class=\"dataframe\">\n",
       "  <thead>\n",
       "    <tr style=\"text-align: right;\">\n",
       "      <th></th>\n",
       "      <th>Name</th>\n",
       "      <th>Age</th>\n",
       "      <th>Subject</th>\n",
       "      <th>Year of Study</th>\n",
       "      <th>Country of Origin</th>\n",
       "    </tr>\n",
       "    <tr>\n",
       "      <th>Student ID</th>\n",
       "      <th></th>\n",
       "      <th></th>\n",
       "      <th></th>\n",
       "      <th></th>\n",
       "      <th></th>\n",
       "    </tr>\n",
       "  </thead>\n",
       "  <tbody>\n",
       "    <tr>\n",
       "      <th>4b744b9a</th>\n",
       "      <td>Garry Thornton</td>\n",
       "      <td>NaN</td>\n",
       "      <td>English Literature</td>\n",
       "      <td>4.0</td>\n",
       "      <td>Cuba</td>\n",
       "    </tr>\n",
       "    <tr>\n",
       "      <th>3eec010c</th>\n",
       "      <td>Howard Marshall</td>\n",
       "      <td>NaN</td>\n",
       "      <td>Biology</td>\n",
       "      <td>1.0</td>\n",
       "      <td>Swaziland</td>\n",
       "    </tr>\n",
       "    <tr>\n",
       "      <th>335dd32f</th>\n",
       "      <td>Ruth Miller</td>\n",
       "      <td>18.0</td>\n",
       "      <td>Biology</td>\n",
       "      <td>NaN</td>\n",
       "      <td>Jersey</td>\n",
       "    </tr>\n",
       "  </tbody>\n",
       "</table>\n",
       "</div>"
      ],
      "text/plain": [
       "                       Name   Age             Subject  Year of Study  \\\n",
       "Student ID                                                             \n",
       "4b744b9a     Garry Thornton   NaN  English Literature            4.0   \n",
       "3eec010c    Howard Marshall   NaN             Biology            1.0   \n",
       "335dd32f        Ruth Miller  18.0             Biology            NaN   \n",
       "\n",
       "           Country of Origin  \n",
       "Student ID                    \n",
       "4b744b9a                Cuba  \n",
       "3eec010c           Swaziland  \n",
       "335dd32f              Jersey  "
      ]
     },
     "execution_count": 35,
     "metadata": {},
     "output_type": "execute_result"
    }
   ],
   "source": [
    "students_df[students_df.isnull().any(axis=1)]"
   ]
  },
  {
   "cell_type": "markdown",
   "id": "e919f446",
   "metadata": {},
   "source": [
    "Or just show rows with missing values in a particular column."
   ]
  },
  {
   "cell_type": "code",
   "execution_count": 36,
   "id": "f03bfdcd",
   "metadata": {},
   "outputs": [
    {
     "data": {
      "application/vnd.microsoft.datawrangler.viewer.v0+json": {
       "columns": [
        {
         "name": "Student ID",
         "rawType": "object",
         "type": "string"
        },
        {
         "name": "Name",
         "rawType": "object",
         "type": "string"
        },
        {
         "name": "Age",
         "rawType": "float64",
         "type": "float"
        },
        {
         "name": "Subject",
         "rawType": "object",
         "type": "string"
        },
        {
         "name": "Year of Study",
         "rawType": "float64",
         "type": "float"
        },
        {
         "name": "Country of Origin",
         "rawType": "object",
         "type": "string"
        }
       ],
       "ref": "2f693827-6ded-4bcb-bfe1-2547c1e912f6",
       "rows": [
        [
         "4b744b9a",
         "Garry Thornton",
         null,
         "English Literature",
         "4.0",
         "Cuba"
        ],
        [
         "3eec010c",
         "Howard Marshall",
         null,
         "Biology",
         "1.0",
         "Swaziland"
        ]
       ],
       "shape": {
        "columns": 5,
        "rows": 2
       }
      },
      "text/html": [
       "<div>\n",
       "<style scoped>\n",
       "    .dataframe tbody tr th:only-of-type {\n",
       "        vertical-align: middle;\n",
       "    }\n",
       "\n",
       "    .dataframe tbody tr th {\n",
       "        vertical-align: top;\n",
       "    }\n",
       "\n",
       "    .dataframe thead th {\n",
       "        text-align: right;\n",
       "    }\n",
       "</style>\n",
       "<table border=\"1\" class=\"dataframe\">\n",
       "  <thead>\n",
       "    <tr style=\"text-align: right;\">\n",
       "      <th></th>\n",
       "      <th>Name</th>\n",
       "      <th>Age</th>\n",
       "      <th>Subject</th>\n",
       "      <th>Year of Study</th>\n",
       "      <th>Country of Origin</th>\n",
       "    </tr>\n",
       "    <tr>\n",
       "      <th>Student ID</th>\n",
       "      <th></th>\n",
       "      <th></th>\n",
       "      <th></th>\n",
       "      <th></th>\n",
       "      <th></th>\n",
       "    </tr>\n",
       "  </thead>\n",
       "  <tbody>\n",
       "    <tr>\n",
       "      <th>4b744b9a</th>\n",
       "      <td>Garry Thornton</td>\n",
       "      <td>NaN</td>\n",
       "      <td>English Literature</td>\n",
       "      <td>4.0</td>\n",
       "      <td>Cuba</td>\n",
       "    </tr>\n",
       "    <tr>\n",
       "      <th>3eec010c</th>\n",
       "      <td>Howard Marshall</td>\n",
       "      <td>NaN</td>\n",
       "      <td>Biology</td>\n",
       "      <td>1.0</td>\n",
       "      <td>Swaziland</td>\n",
       "    </tr>\n",
       "  </tbody>\n",
       "</table>\n",
       "</div>"
      ],
      "text/plain": [
       "                       Name  Age             Subject  Year of Study  \\\n",
       "Student ID                                                            \n",
       "4b744b9a     Garry Thornton  NaN  English Literature            4.0   \n",
       "3eec010c    Howard Marshall  NaN             Biology            1.0   \n",
       "\n",
       "           Country of Origin  \n",
       "Student ID                    \n",
       "4b744b9a                Cuba  \n",
       "3eec010c           Swaziland  "
      ]
     },
     "execution_count": 36,
     "metadata": {},
     "output_type": "execute_result"
    }
   ],
   "source": [
    "students_df[students_df['Age'].isnull()]"
   ]
  },
  {
   "cell_type": "markdown",
   "id": "ad6fd638",
   "metadata": {},
   "source": [
    "There are two main ways in which we might handle missing values.\n",
    "1. We could just delete the rows that contain the missing values. This is OK when we have enough data to build an effective machine learning model, even when those rows are deleted.\n",
    "2. We could fill in (or impute) the missing values by trying to guess the value or by using a sensible default value that won't unduly skew our model. This may enable us to benefit from data that otherwise would be deleted and can be a good approach when data is less plentiful."
   ]
  },
  {
   "cell_type": "markdown",
   "id": "b5a7b9db",
   "metadata": {},
   "source": [
    "### Imputation: filling in missing values\n",
    "In the examples below, we use `fillna` to fill in the missing 'Age' and 'Years of Study' values with their medians. The median value can be a better choice than the mean value because it is less affected by outliers."
   ]
  },
  {
   "cell_type": "code",
   "execution_count": 37,
   "id": "68e297d7",
   "metadata": {
    "ExecuteTime": {
     "end_time": "2025-04-24T17:47:13.527729Z",
     "start_time": "2025-04-24T17:47:13.523534Z"
    }
   },
   "outputs": [
    {
     "data": {
      "text/plain": [
       "22.0"
      ]
     },
     "execution_count": 37,
     "metadata": {},
     "output_type": "execute_result"
    }
   ],
   "source": [
    "median_age = students_df['Age'].median()\n",
    "median_age"
   ]
  },
  {
   "cell_type": "code",
   "execution_count": 38,
   "id": "0ed6c4ec",
   "metadata": {},
   "outputs": [],
   "source": [
    "students_df['Age'] = students_df['Age'].fillna(median_age)"
   ]
  },
  {
   "cell_type": "code",
   "execution_count": 39,
   "id": "ceed0a3d-3629-493e-a497-29274d7fc27a",
   "metadata": {
    "ExecuteTime": {
     "end_time": "2025-04-24T17:47:13.720106Z",
     "start_time": "2025-04-24T17:47:13.716831Z"
    }
   },
   "outputs": [
    {
     "data": {
      "text/plain": [
       "2.0"
      ]
     },
     "execution_count": 39,
     "metadata": {},
     "output_type": "execute_result"
    }
   ],
   "source": [
    "median_year_of_study = students_df['Year of Study'].median()\n",
    "median_year_of_study"
   ]
  },
  {
   "cell_type": "code",
   "execution_count": 40,
   "id": "ee669617",
   "metadata": {},
   "outputs": [],
   "source": [
    "students_df['Year of Study'] = students_df['Year of Study'].fillna(median_year_of_study)"
   ]
  },
  {
   "cell_type": "markdown",
   "id": "45f0a9fc",
   "metadata": {},
   "source": [
    "Now that we have filled in the missing values, we can confirm that there are no more missing values."
   ]
  },
  {
   "cell_type": "code",
   "execution_count": 41,
   "id": "e447cc7a",
   "metadata": {
    "ExecuteTime": {
     "end_time": "2025-04-24T17:47:13.882419Z",
     "start_time": "2025-04-24T17:47:13.876141Z"
    }
   },
   "outputs": [
    {
     "data": {
      "application/vnd.microsoft.datawrangler.viewer.v0+json": {
       "columns": [
        {
         "name": "index",
         "rawType": "object",
         "type": "string"
        },
        {
         "name": "0",
         "rawType": "int64",
         "type": "integer"
        }
       ],
       "ref": "e78a54f8-3899-4252-9991-f4f474d831cd",
       "rows": [
        [
         "Name",
         "0"
        ],
        [
         "Age",
         "0"
        ],
        [
         "Subject",
         "0"
        ],
        [
         "Year of Study",
         "0"
        ],
        [
         "Country of Origin",
         "0"
        ]
       ],
       "shape": {
        "columns": 1,
        "rows": 5
       }
      },
      "text/plain": [
       "Name                 0\n",
       "Age                  0\n",
       "Subject              0\n",
       "Year of Study        0\n",
       "Country of Origin    0\n",
       "dtype: int64"
      ]
     },
     "execution_count": 41,
     "metadata": {},
     "output_type": "execute_result"
    }
   ],
   "source": [
    "students_df.isnull().sum()"
   ]
  },
  {
   "cell_type": "markdown",
   "id": "85f0b204",
   "metadata": {},
   "source": [
    "### Deleting rows with missing values\n",
    "We can use `dropna` rather than `fillna` if we want to delete the rows with missing values. In contrast to 'imputation', I like to call this 'amputation', although that's not a commonly used term."
   ]
  },
  {
   "cell_type": "code",
   "execution_count": 42,
   "id": "96df4dde-31b0-4307-8af6-bf1a6b953909",
   "metadata": {
    "ExecuteTime": {
     "end_time": "2025-04-24T17:47:14.043347Z",
     "start_time": "2025-04-24T17:47:14.037491Z"
    }
   },
   "outputs": [],
   "source": [
    "# We've replaced the missing values already, so this line will have no effect:\n",
    "students_df = students_df.dropna()\n",
    "\n",
    "# We can also drop rows that contain missing values in specified columns\n",
    "# students_df = students_df.dropna(subset=['Age', 'Year of Study'])"
   ]
  },
  {
   "cell_type": "markdown",
   "id": "c28e3de9",
   "metadata": {},
   "source": [
    "You might see `inplace=True` being used, as in the examples below. This code works, but it's no more efficient than the equivalent code above, and it's proposed that the inplace parameters will be removed in a future pandas release. See this stack overflow link for more info: https://stackoverflow.com/questions/45570984/in-pandas-is-inplace-true-considered-harmful-or-not"
   ]
  },
  {
   "cell_type": "code",
   "execution_count": 43,
   "id": "3c77fa3f",
   "metadata": {
    "ExecuteTime": {
     "end_time": "2025-04-24T17:47:14.201355Z",
     "start_time": "2025-04-24T17:47:14.195353Z"
    }
   },
   "outputs": [],
   "source": [
    "students_df.dropna(subset=['Age'], inplace=True)\n",
    "students_df.dropna(subset=['Year of Study'], inplace=True)"
   ]
  },
  {
   "cell_type": "markdown",
   "id": "451751af",
   "metadata": {},
   "source": [
    "We had 101 records when we checked above. Here we confirm that we haven't deleted any."
   ]
  },
  {
   "cell_type": "code",
   "execution_count": 44,
   "id": "a23f7c61-fde9-4bc9-9fc4-7cf4347cec3a",
   "metadata": {
    "ExecuteTime": {
     "end_time": "2025-04-24T17:47:14.319666Z",
     "start_time": "2025-04-24T17:47:14.315735Z"
    }
   },
   "outputs": [
    {
     "data": {
      "text/plain": [
       "101"
      ]
     },
     "execution_count": 44,
     "metadata": {},
     "output_type": "execute_result"
    }
   ],
   "source": [
    "len(students_df)"
   ]
  },
  {
   "cell_type": "markdown",
   "id": "29a0b513",
   "metadata": {},
   "source": [
    "### Checking for outliers\n",
    "There are various ways in which we could check for outliers. For example, we could visualise the data using a box plot (we'll soon learn more about data visualisation). We could also calculate the mean and the standard deviation and identify values that are more than, say, three standard deviations away from the mean."
   ]
  },
  {
   "cell_type": "markdown",
   "id": "9660d87d",
   "metadata": {},
   "source": [
    "For this example, we'll assume ages of less than 17 or greater than 30 should be checked, and that the year of study should be in the range 1 to 4.\n",
    "\n",
    "In the examples below the vertical bar `|` is the OR operator.\n",
    "\n",
    "You can also use a single ampersand `&` for AND, and a tilde `~` for NOT."
   ]
  },
  {
   "cell_type": "code",
   "execution_count": 45,
   "id": "aea7c9e4-1ead-485e-a447-f966edc22402",
   "metadata": {
    "ExecuteTime": {
     "end_time": "2025-04-24T17:47:14.397871Z",
     "start_time": "2025-04-24T17:47:14.389650Z"
    }
   },
   "outputs": [
    {
     "data": {
      "application/vnd.microsoft.datawrangler.viewer.v0+json": {
       "columns": [
        {
         "name": "Student ID",
         "rawType": "object",
         "type": "string"
        },
        {
         "name": "Name",
         "rawType": "object",
         "type": "string"
        },
        {
         "name": "Age",
         "rawType": "float64",
         "type": "float"
        },
        {
         "name": "Subject",
         "rawType": "object",
         "type": "string"
        },
        {
         "name": "Year of Study",
         "rawType": "float64",
         "type": "float"
        },
        {
         "name": "Country of Origin",
         "rawType": "object",
         "type": "string"
        }
       ],
       "ref": "be9d1b6f-ec5f-45bd-aa4a-ebcd351ab69f",
       "rows": [
        [
         "27166ecb",
         "Dr Terry Lewis",
         "245.0",
         "Mathematics",
         "3.0",
         "Fiji"
        ],
        [
         "95fadd5e",
         "Sheila Berry",
         "5.0",
         "Biology",
         "1.0",
         "Romania"
        ]
       ],
       "shape": {
        "columns": 5,
        "rows": 2
       }
      },
      "text/html": [
       "<div>\n",
       "<style scoped>\n",
       "    .dataframe tbody tr th:only-of-type {\n",
       "        vertical-align: middle;\n",
       "    }\n",
       "\n",
       "    .dataframe tbody tr th {\n",
       "        vertical-align: top;\n",
       "    }\n",
       "\n",
       "    .dataframe thead th {\n",
       "        text-align: right;\n",
       "    }\n",
       "</style>\n",
       "<table border=\"1\" class=\"dataframe\">\n",
       "  <thead>\n",
       "    <tr style=\"text-align: right;\">\n",
       "      <th></th>\n",
       "      <th>Name</th>\n",
       "      <th>Age</th>\n",
       "      <th>Subject</th>\n",
       "      <th>Year of Study</th>\n",
       "      <th>Country of Origin</th>\n",
       "    </tr>\n",
       "    <tr>\n",
       "      <th>Student ID</th>\n",
       "      <th></th>\n",
       "      <th></th>\n",
       "      <th></th>\n",
       "      <th></th>\n",
       "      <th></th>\n",
       "    </tr>\n",
       "  </thead>\n",
       "  <tbody>\n",
       "    <tr>\n",
       "      <th>27166ecb</th>\n",
       "      <td>Dr Terry Lewis</td>\n",
       "      <td>245.0</td>\n",
       "      <td>Mathematics</td>\n",
       "      <td>3.0</td>\n",
       "      <td>Fiji</td>\n",
       "    </tr>\n",
       "    <tr>\n",
       "      <th>95fadd5e</th>\n",
       "      <td>Sheila Berry</td>\n",
       "      <td>5.0</td>\n",
       "      <td>Biology</td>\n",
       "      <td>1.0</td>\n",
       "      <td>Romania</td>\n",
       "    </tr>\n",
       "  </tbody>\n",
       "</table>\n",
       "</div>"
      ],
      "text/plain": [
       "                      Name    Age      Subject  Year of Study  \\\n",
       "Student ID                                                      \n",
       "27166ecb    Dr Terry Lewis  245.0  Mathematics            3.0   \n",
       "95fadd5e      Sheila Berry    5.0      Biology            1.0   \n",
       "\n",
       "           Country of Origin  \n",
       "Student ID                    \n",
       "27166ecb                Fiji  \n",
       "95fadd5e             Romania  "
      ]
     },
     "execution_count": 45,
     "metadata": {},
     "output_type": "execute_result"
    }
   ],
   "source": [
    "students_df[(students_df['Age'] < 17) | (students_df['Age'] > 30)]"
   ]
  },
  {
   "cell_type": "code",
   "execution_count": 46,
   "id": "e7f7d72d-3c5c-4ef6-be00-6a86b7885787",
   "metadata": {
    "ExecuteTime": {
     "end_time": "2025-04-24T17:47:14.575022Z",
     "start_time": "2025-04-24T17:47:14.566502Z"
    }
   },
   "outputs": [
    {
     "data": {
      "application/vnd.microsoft.datawrangler.viewer.v0+json": {
       "columns": [
        {
         "name": "Student ID",
         "rawType": "object",
         "type": "string"
        },
        {
         "name": "Name",
         "rawType": "object",
         "type": "string"
        },
        {
         "name": "Age",
         "rawType": "float64",
         "type": "float"
        },
        {
         "name": "Subject",
         "rawType": "object",
         "type": "string"
        },
        {
         "name": "Year of Study",
         "rawType": "float64",
         "type": "float"
        },
        {
         "name": "Country of Origin",
         "rawType": "object",
         "type": "string"
        }
       ],
       "ref": "31deb127-2fea-4c0c-98dc-3dcc79fa3912",
       "rows": [
        [
         "3b69ff22",
         "Sara Austin",
         "19.0",
         "Computer Science",
         "34.0",
         "Liechtenstein"
        ]
       ],
       "shape": {
        "columns": 5,
        "rows": 1
       }
      },
      "text/html": [
       "<div>\n",
       "<style scoped>\n",
       "    .dataframe tbody tr th:only-of-type {\n",
       "        vertical-align: middle;\n",
       "    }\n",
       "\n",
       "    .dataframe tbody tr th {\n",
       "        vertical-align: top;\n",
       "    }\n",
       "\n",
       "    .dataframe thead th {\n",
       "        text-align: right;\n",
       "    }\n",
       "</style>\n",
       "<table border=\"1\" class=\"dataframe\">\n",
       "  <thead>\n",
       "    <tr style=\"text-align: right;\">\n",
       "      <th></th>\n",
       "      <th>Name</th>\n",
       "      <th>Age</th>\n",
       "      <th>Subject</th>\n",
       "      <th>Year of Study</th>\n",
       "      <th>Country of Origin</th>\n",
       "    </tr>\n",
       "    <tr>\n",
       "      <th>Student ID</th>\n",
       "      <th></th>\n",
       "      <th></th>\n",
       "      <th></th>\n",
       "      <th></th>\n",
       "      <th></th>\n",
       "    </tr>\n",
       "  </thead>\n",
       "  <tbody>\n",
       "    <tr>\n",
       "      <th>3b69ff22</th>\n",
       "      <td>Sara Austin</td>\n",
       "      <td>19.0</td>\n",
       "      <td>Computer Science</td>\n",
       "      <td>34.0</td>\n",
       "      <td>Liechtenstein</td>\n",
       "    </tr>\n",
       "  </tbody>\n",
       "</table>\n",
       "</div>"
      ],
      "text/plain": [
       "                   Name   Age           Subject  Year of Study  \\\n",
       "Student ID                                                       \n",
       "3b69ff22    Sara Austin  19.0  Computer Science           34.0   \n",
       "\n",
       "           Country of Origin  \n",
       "Student ID                    \n",
       "3b69ff22       Liechtenstein  "
      ]
     },
     "execution_count": 46,
     "metadata": {},
     "output_type": "execute_result"
    }
   ],
   "source": [
    "students_df[(students_df['Year of Study'] < 1) | (students_df['Year of Study'] > 4)]"
   ]
  },
  {
   "cell_type": "markdown",
   "id": "5a434e58",
   "metadata": {},
   "source": [
    "Ages of 245 and 5 both seem unreasonable, as does a year of study of 34. We can again replace these values or filter out the rows that contain them."
   ]
  },
  {
   "cell_type": "markdown",
   "id": "a32c69f4",
   "metadata": {},
   "source": [
    "Here we replace the age outliers with the median. We do this using `loc` and setting a Boolean condition to identify the values we want to replace."
   ]
  },
  {
   "cell_type": "code",
   "execution_count": 47,
   "id": "f879d223",
   "metadata": {
    "ExecuteTime": {
     "end_time": "2025-04-24T17:47:14.734753Z",
     "start_time": "2025-04-24T17:47:14.730863Z"
    }
   },
   "outputs": [],
   "source": [
    "students_df.loc[(students_df['Age'] < 17) | (students_df['Age'] > 30), 'Age'] = median_age"
   ]
  },
  {
   "cell_type": "markdown",
   "id": "f0ca5994",
   "metadata": {},
   "source": [
    "And here we replace the year of study outliers with the median."
   ]
  },
  {
   "cell_type": "code",
   "execution_count": 48,
   "id": "7e72b134-ee03-455c-8cc6-1e273eface94",
   "metadata": {
    "ExecuteTime": {
     "end_time": "2025-04-24T17:47:14.974958Z",
     "start_time": "2025-04-24T17:47:14.971112Z"
    }
   },
   "outputs": [],
   "source": [
    "\n",
    "students_df.loc[(students_df['Year of Study'] < 1) | (students_df['Year of Study'] > 4), 'Year of Study'] \\\n",
    "    = median_year_of_study"
   ]
  },
  {
   "cell_type": "markdown",
   "id": "bf2e6f34",
   "metadata": {},
   "source": [
    "In the example below, we show how to filter out the outliers:"
   ]
  },
  {
   "cell_type": "code",
   "execution_count": 49,
   "id": "501b938f-5bcd-4868-b56a-feb0cf07e765",
   "metadata": {
    "ExecuteTime": {
     "end_time": "2025-04-24T17:47:15.106102Z",
     "start_time": "2025-04-24T17:47:15.100966Z"
    }
   },
   "outputs": [],
   "source": [
    "# We have already replaced the outlier values, so this code won't have any effect\n",
    "students_df = students_df[(students_df['Age'] >= 17) & (students_df['Age'] <= 30)]\n",
    "students_df = students_df[(students_df['Year of Study'] >= 1) & (students_df['Year of Study'] <= 4)]"
   ]
  },
  {
   "cell_type": "code",
   "execution_count": 50,
   "id": "e6acfb1a",
   "metadata": {
    "ExecuteTime": {
     "end_time": "2025-04-24T17:47:15.165701Z",
     "start_time": "2025-04-24T17:47:15.161211Z"
    }
   },
   "outputs": [
    {
     "data": {
      "text/plain": [
       "101"
      ]
     },
     "execution_count": 50,
     "metadata": {},
     "output_type": "execute_result"
    }
   ],
   "source": [
    "# Confirming again that we still have 101 rows\n",
    "len(students_df)"
   ]
  },
  {
   "cell_type": "markdown",
   "id": "5a7a80db",
   "metadata": {},
   "source": [
    "### Modify the datatypes\n",
    "When we checked the datatypes earlier, we saw that 'Age' and 'Year of Study' were floating point values.  "
   ]
  },
  {
   "cell_type": "code",
   "execution_count": 51,
   "id": "d0397990-118e-44e1-975c-c88aab73801d",
   "metadata": {
    "ExecuteTime": {
     "end_time": "2025-04-24T17:47:15.282070Z",
     "start_time": "2025-04-24T17:47:15.277304Z"
    }
   },
   "outputs": [
    {
     "data": {
      "application/vnd.microsoft.datawrangler.viewer.v0+json": {
       "columns": [
        {
         "name": "index",
         "rawType": "object",
         "type": "string"
        },
        {
         "name": "0",
         "rawType": "object",
         "type": "unknown"
        }
       ],
       "ref": "f31ca2ec-e46b-417b-9098-fcb6b71178d1",
       "rows": [
        [
         "Name",
         "object"
        ],
        [
         "Age",
         "float64"
        ],
        [
         "Subject",
         "object"
        ],
        [
         "Year of Study",
         "float64"
        ],
        [
         "Country of Origin",
         "object"
        ]
       ],
       "shape": {
        "columns": 1,
        "rows": 5
       }
      },
      "text/plain": [
       "Name                  object\n",
       "Age                  float64\n",
       "Subject               object\n",
       "Year of Study        float64\n",
       "Country of Origin     object\n",
       "dtype: object"
      ]
     },
     "execution_count": 51,
     "metadata": {},
     "output_type": "execute_result"
    }
   ],
   "source": [
    "# Checking the datatypes again\n",
    "students_df.dtypes"
   ]
  },
  {
   "cell_type": "markdown",
   "id": "6d9e5057",
   "metadata": {},
   "source": [
    "It probably makes more sense to represent these with integers rather than floating point values. Here we show how to convert them using `astype`."
   ]
  },
  {
   "cell_type": "code",
   "execution_count": 52,
   "id": "0ccc1f10-a5a0-4ff1-a5b9-2539058df2b7",
   "metadata": {
    "ExecuteTime": {
     "end_time": "2025-04-24T17:47:15.462581Z",
     "start_time": "2025-04-24T17:47:15.457265Z"
    }
   },
   "outputs": [],
   "source": [
    "students_df['Age'] = students_df['Age'].astype(int)\n",
    "students_df['Year of Study'] = students_df['Year of Study'].astype(int)"
   ]
  },
  {
   "cell_type": "code",
   "execution_count": 53,
   "id": "36bbe664",
   "metadata": {
    "ExecuteTime": {
     "end_time": "2025-04-24T17:47:15.590515Z",
     "start_time": "2025-04-24T17:47:15.586300Z"
    }
   },
   "outputs": [
    {
     "data": {
      "application/vnd.microsoft.datawrangler.viewer.v0+json": {
       "columns": [
        {
         "name": "index",
         "rawType": "object",
         "type": "string"
        },
        {
         "name": "0",
         "rawType": "object",
         "type": "unknown"
        }
       ],
       "ref": "11371dcb-a46e-4015-b600-5b039e91acbf",
       "rows": [
        [
         "Name",
         "object"
        ],
        [
         "Age",
         "int32"
        ],
        [
         "Subject",
         "object"
        ],
        [
         "Year of Study",
         "int32"
        ],
        [
         "Country of Origin",
         "object"
        ]
       ],
       "shape": {
        "columns": 1,
        "rows": 5
       }
      },
      "text/plain": [
       "Name                 object\n",
       "Age                   int32\n",
       "Subject              object\n",
       "Year of Study         int32\n",
       "Country of Origin    object\n",
       "dtype: object"
      ]
     },
     "execution_count": 53,
     "metadata": {},
     "output_type": "execute_result"
    }
   ],
   "source": [
    "# Confirm that 'Age' and 'Year of Study' are now integers\n",
    "students_df.dtypes"
   ]
  },
  {
   "cell_type": "code",
   "execution_count": 54,
   "id": "37a55df0",
   "metadata": {
    "ExecuteTime": {
     "end_time": "2025-04-24T17:47:15.765220Z",
     "start_time": "2025-04-24T17:47:15.757753Z"
    }
   },
   "outputs": [
    {
     "data": {
      "application/vnd.microsoft.datawrangler.viewer.v0+json": {
       "columns": [
        {
         "name": "Student ID",
         "rawType": "object",
         "type": "string"
        },
        {
         "name": "Name",
         "rawType": "object",
         "type": "string"
        },
        {
         "name": "Age",
         "rawType": "int32",
         "type": "integer"
        },
        {
         "name": "Subject",
         "rawType": "object",
         "type": "string"
        },
        {
         "name": "Year of Study",
         "rawType": "int32",
         "type": "integer"
        },
        {
         "name": "Country of Origin",
         "rawType": "object",
         "type": "string"
        }
       ],
       "ref": "b05cd34f-fad9-40b4-91b2-915e8abb73e8",
       "rows": [
        [
         "2703f3f0",
         "Mr Clifford Watson",
         "25",
         "English Literature",
         "1",
         "Saint Barthelemy"
        ],
        [
         "a8040287",
         "Elliott Ward",
         "25",
         "Computer Science",
         "4",
         "Guinea"
        ],
        [
         "d8da5486",
         "Miss Pauline Dunn",
         "22",
         "Engineering",
         "4",
         "Afghanistan"
        ],
        [
         "3ac1b74d",
         "Mr Dominic Mason",
         "22",
         "Physics",
         "1",
         "Palau"
        ],
        [
         "67850858",
         "Mrs Melanie Brown",
         "18",
         "English Literature",
         "3",
         "Algeria"
        ]
       ],
       "shape": {
        "columns": 5,
        "rows": 5
       }
      },
      "text/html": [
       "<div>\n",
       "<style scoped>\n",
       "    .dataframe tbody tr th:only-of-type {\n",
       "        vertical-align: middle;\n",
       "    }\n",
       "\n",
       "    .dataframe tbody tr th {\n",
       "        vertical-align: top;\n",
       "    }\n",
       "\n",
       "    .dataframe thead th {\n",
       "        text-align: right;\n",
       "    }\n",
       "</style>\n",
       "<table border=\"1\" class=\"dataframe\">\n",
       "  <thead>\n",
       "    <tr style=\"text-align: right;\">\n",
       "      <th></th>\n",
       "      <th>Name</th>\n",
       "      <th>Age</th>\n",
       "      <th>Subject</th>\n",
       "      <th>Year of Study</th>\n",
       "      <th>Country of Origin</th>\n",
       "    </tr>\n",
       "    <tr>\n",
       "      <th>Student ID</th>\n",
       "      <th></th>\n",
       "      <th></th>\n",
       "      <th></th>\n",
       "      <th></th>\n",
       "      <th></th>\n",
       "    </tr>\n",
       "  </thead>\n",
       "  <tbody>\n",
       "    <tr>\n",
       "      <th>2703f3f0</th>\n",
       "      <td>Mr Clifford Watson</td>\n",
       "      <td>25</td>\n",
       "      <td>English Literature</td>\n",
       "      <td>1</td>\n",
       "      <td>Saint Barthelemy</td>\n",
       "    </tr>\n",
       "    <tr>\n",
       "      <th>a8040287</th>\n",
       "      <td>Elliott Ward</td>\n",
       "      <td>25</td>\n",
       "      <td>Computer Science</td>\n",
       "      <td>4</td>\n",
       "      <td>Guinea</td>\n",
       "    </tr>\n",
       "    <tr>\n",
       "      <th>d8da5486</th>\n",
       "      <td>Miss Pauline Dunn</td>\n",
       "      <td>22</td>\n",
       "      <td>Engineering</td>\n",
       "      <td>4</td>\n",
       "      <td>Afghanistan</td>\n",
       "    </tr>\n",
       "    <tr>\n",
       "      <th>3ac1b74d</th>\n",
       "      <td>Mr Dominic Mason</td>\n",
       "      <td>22</td>\n",
       "      <td>Physics</td>\n",
       "      <td>1</td>\n",
       "      <td>Palau</td>\n",
       "    </tr>\n",
       "    <tr>\n",
       "      <th>67850858</th>\n",
       "      <td>Mrs Melanie Brown</td>\n",
       "      <td>18</td>\n",
       "      <td>English Literature</td>\n",
       "      <td>3</td>\n",
       "      <td>Algeria</td>\n",
       "    </tr>\n",
       "  </tbody>\n",
       "</table>\n",
       "</div>"
      ],
      "text/plain": [
       "                          Name  Age             Subject  Year of Study  \\\n",
       "Student ID                                                               \n",
       "2703f3f0    Mr Clifford Watson   25  English Literature              1   \n",
       "a8040287          Elliott Ward   25    Computer Science              4   \n",
       "d8da5486     Miss Pauline Dunn   22         Engineering              4   \n",
       "3ac1b74d      Mr Dominic Mason   22             Physics              1   \n",
       "67850858     Mrs Melanie Brown   18  English Literature              3   \n",
       "\n",
       "           Country of Origin  \n",
       "Student ID                    \n",
       "2703f3f0    Saint Barthelemy  \n",
       "a8040287              Guinea  \n",
       "d8da5486         Afghanistan  \n",
       "3ac1b74d               Palau  \n",
       "67850858             Algeria  "
      ]
     },
     "execution_count": 54,
     "metadata": {},
     "output_type": "execute_result"
    }
   ],
   "source": [
    "# The DataFrame also shows 'Age' and 'Year of Study' as integers\n",
    "students_df.head()"
   ]
  },
  {
   "cell_type": "markdown",
   "id": "e55dbf57",
   "metadata": {},
   "source": [
    "We can also convert the object type column types to strings."
   ]
  },
  {
   "cell_type": "code",
   "execution_count": 55,
   "id": "1549de07",
   "metadata": {
    "ExecuteTime": {
     "end_time": "2025-04-24T17:47:16.001567Z",
     "start_time": "2025-04-24T17:47:15.994506Z"
    }
   },
   "outputs": [
    {
     "data": {
      "application/vnd.microsoft.datawrangler.viewer.v0+json": {
       "columns": [
        {
         "name": "index",
         "rawType": "object",
         "type": "string"
        },
        {
         "name": "0",
         "rawType": "object",
         "type": "unknown"
        }
       ],
       "ref": "1018549c-90bb-4cdc-ac57-b569b22136fa",
       "rows": [
        [
         "Name",
         "string"
        ],
        [
         "Age",
         "int32"
        ],
        [
         "Subject",
         "string"
        ],
        [
         "Year of Study",
         "int32"
        ],
        [
         "Country of Origin",
         "string"
        ]
       ],
       "shape": {
        "columns": 1,
        "rows": 5
       }
      },
      "text/plain": [
       "Name                 string[python]\n",
       "Age                           int32\n",
       "Subject              string[python]\n",
       "Year of Study                 int32\n",
       "Country of Origin    string[python]\n",
       "dtype: object"
      ]
     },
     "execution_count": 55,
     "metadata": {},
     "output_type": "execute_result"
    }
   ],
   "source": [
    "students_df['Name'] = students_df['Name'].astype(\"string\")\n",
    "students_df['Subject'] = students_df['Subject'].astype(\"string\")\n",
    "students_df['Country of Origin'] = students_df['Country of Origin'].astype(\"string\")\n",
    "\n",
    "students_df.dtypes"
   ]
  },
  {
   "cell_type": "markdown",
   "id": "47c7f4ed",
   "metadata": {},
   "source": [
    "### Identifying duplicates\n",
    "We can check for duplicates using a combination of `duplicated` and `sum`. The duplicated method returns a series of Boolean `True` or `False` values. `True` if the row is a duplicate of a row above, and `False` otherwise."
   ]
  },
  {
   "cell_type": "markdown",
   "id": "792cdba2",
   "metadata": {},
   "source": [
    "Here we show the series of Boolean values. The final `True` shows that the last record is a duplicate."
   ]
  },
  {
   "cell_type": "code",
   "execution_count": 56,
   "id": "93f7193b-6f11-4ee3-9fdf-438d0bf23c3d",
   "metadata": {
    "ExecuteTime": {
     "end_time": "2025-04-24T17:47:17.834627Z",
     "start_time": "2025-04-24T17:47:17.828431Z"
    }
   },
   "outputs": [
    {
     "data": {
      "application/vnd.microsoft.datawrangler.viewer.v0+json": {
       "columns": [
        {
         "name": "Student ID",
         "rawType": "object",
         "type": "string"
        },
        {
         "name": "0",
         "rawType": "bool",
         "type": "boolean"
        }
       ],
       "ref": "91ebcf52-2aab-48e5-91c3-2949414662f4",
       "rows": [
        [
         "2703f3f0",
         "False"
        ],
        [
         "a8040287",
         "False"
        ],
        [
         "d8da5486",
         "False"
        ],
        [
         "3ac1b74d",
         "False"
        ],
        [
         "67850858",
         "False"
        ],
        [
         "62dd3a69",
         "False"
        ],
        [
         "6b22a999",
         "False"
        ],
        [
         "4b744b9a",
         "False"
        ],
        [
         "45c54817",
         "False"
        ],
        [
         "5d5e1224",
         "False"
        ],
        [
         "2c142f24",
         "False"
        ],
        [
         "3eec010c",
         "False"
        ],
        [
         "f3cbb058",
         "False"
        ],
        [
         "6a406b49",
         "False"
        ],
        [
         "836d85df",
         "False"
        ],
        [
         "fc4f68b0",
         "False"
        ],
        [
         "41465cf8",
         "False"
        ],
        [
         "afae8532",
         "False"
        ],
        [
         "7c43c14d",
         "False"
        ],
        [
         "43b3612f",
         "False"
        ],
        [
         "72324765",
         "False"
        ],
        [
         "9c0aa410",
         "False"
        ],
        [
         "a9e6b860",
         "False"
        ],
        [
         "0e7361c4",
         "False"
        ],
        [
         "27166ecb",
         "False"
        ],
        [
         "c828ba21",
         "False"
        ],
        [
         "a7bb5b63",
         "False"
        ],
        [
         "f156e962",
         "False"
        ],
        [
         "2f3b6b33",
         "False"
        ],
        [
         "88648f86",
         "False"
        ],
        [
         "a225e559",
         "False"
        ],
        [
         "34212ec1",
         "False"
        ],
        [
         "fcedbd2f",
         "False"
        ],
        [
         "88dc77f7",
         "False"
        ],
        [
         "53dd0026",
         "False"
        ],
        [
         "ea066b3e",
         "False"
        ],
        [
         "10551162",
         "False"
        ],
        [
         "a420952d",
         "False"
        ],
        [
         "45604caa",
         "False"
        ],
        [
         "8d697782",
         "False"
        ],
        [
         "8581f127",
         "False"
        ],
        [
         "5fa87190",
         "False"
        ],
        [
         "cc9eb24e",
         "False"
        ],
        [
         "3c1fe24c",
         "False"
        ],
        [
         "204e4c56",
         "False"
        ],
        [
         "0fac1009",
         "False"
        ],
        [
         "bde91950",
         "False"
        ],
        [
         "4e324306",
         "False"
        ],
        [
         "75693b89",
         "False"
        ],
        [
         "ba4fe6e7",
         "False"
        ]
       ],
       "shape": {
        "columns": 1,
        "rows": 101
       }
      },
      "text/plain": [
       "Student ID\n",
       "2703f3f0    False\n",
       "a8040287    False\n",
       "d8da5486    False\n",
       "3ac1b74d    False\n",
       "67850858    False\n",
       "            ...  \n",
       "a8be1ec3    False\n",
       "3b69ff22    False\n",
       "716fb45f    False\n",
       "34b97db2    False\n",
       "34b97db2     True\n",
       "Length: 101, dtype: bool"
      ]
     },
     "execution_count": 56,
     "metadata": {},
     "output_type": "execute_result"
    }
   ],
   "source": [
    "students_df.duplicated()"
   ]
  },
  {
   "cell_type": "markdown",
   "id": "f3add9ec",
   "metadata": {},
   "source": [
    "And here we use `sum` to count the number of duplicate rows (`False` is equivalent to `0` and `True` is equivalent to `1`)."
   ]
  },
  {
   "cell_type": "code",
   "execution_count": 57,
   "id": "cfbb9e43",
   "metadata": {
    "ExecuteTime": {
     "end_time": "2025-04-24T17:47:18.100497Z",
     "start_time": "2025-04-24T17:47:18.095301Z"
    }
   },
   "outputs": [
    {
     "data": {
      "text/plain": [
       "1"
      ]
     },
     "execution_count": 57,
     "metadata": {},
     "output_type": "execute_result"
    }
   ],
   "source": [
    "students_df.duplicated().sum()"
   ]
  },
  {
   "cell_type": "markdown",
   "id": "877c1c14",
   "metadata": {},
   "source": [
    "We can see the duplicated rows using `loc` (for location) and passing in the True/False values returned by students_df.duplicated()."
   ]
  },
  {
   "cell_type": "code",
   "execution_count": 58,
   "id": "b6131e3b",
   "metadata": {
    "ExecuteTime": {
     "end_time": "2025-04-24T17:47:18.302966Z",
     "start_time": "2025-04-24T17:47:18.294621Z"
    }
   },
   "outputs": [
    {
     "data": {
      "application/vnd.microsoft.datawrangler.viewer.v0+json": {
       "columns": [
        {
         "name": "Student ID",
         "rawType": "object",
         "type": "string"
        },
        {
         "name": "Name",
         "rawType": "string",
         "type": "string"
        },
        {
         "name": "Age",
         "rawType": "int32",
         "type": "integer"
        },
        {
         "name": "Subject",
         "rawType": "string",
         "type": "string"
        },
        {
         "name": "Year of Study",
         "rawType": "int32",
         "type": "integer"
        },
        {
         "name": "Country of Origin",
         "rawType": "string",
         "type": "string"
        }
       ],
       "ref": "68838711-3749-4cc5-9dc5-e5755224b68b",
       "rows": [
        [
         "34b97db2",
         "Miss Lydia Saunders",
         "23",
         "Physics",
         "2",
         "Faroe Islands"
        ]
       ],
       "shape": {
        "columns": 5,
        "rows": 1
       }
      },
      "text/html": [
       "<div>\n",
       "<style scoped>\n",
       "    .dataframe tbody tr th:only-of-type {\n",
       "        vertical-align: middle;\n",
       "    }\n",
       "\n",
       "    .dataframe tbody tr th {\n",
       "        vertical-align: top;\n",
       "    }\n",
       "\n",
       "    .dataframe thead th {\n",
       "        text-align: right;\n",
       "    }\n",
       "</style>\n",
       "<table border=\"1\" class=\"dataframe\">\n",
       "  <thead>\n",
       "    <tr style=\"text-align: right;\">\n",
       "      <th></th>\n",
       "      <th>Name</th>\n",
       "      <th>Age</th>\n",
       "      <th>Subject</th>\n",
       "      <th>Year of Study</th>\n",
       "      <th>Country of Origin</th>\n",
       "    </tr>\n",
       "    <tr>\n",
       "      <th>Student ID</th>\n",
       "      <th></th>\n",
       "      <th></th>\n",
       "      <th></th>\n",
       "      <th></th>\n",
       "      <th></th>\n",
       "    </tr>\n",
       "  </thead>\n",
       "  <tbody>\n",
       "    <tr>\n",
       "      <th>34b97db2</th>\n",
       "      <td>Miss Lydia Saunders</td>\n",
       "      <td>23</td>\n",
       "      <td>Physics</td>\n",
       "      <td>2</td>\n",
       "      <td>Faroe Islands</td>\n",
       "    </tr>\n",
       "  </tbody>\n",
       "</table>\n",
       "</div>"
      ],
      "text/plain": [
       "                           Name  Age  Subject  Year of Study Country of Origin\n",
       "Student ID                                                                    \n",
       "34b97db2    Miss Lydia Saunders   23  Physics              2     Faroe Islands"
      ]
     },
     "execution_count": 58,
     "metadata": {},
     "output_type": "execute_result"
    }
   ],
   "source": [
    "students_df.loc[students_df.duplicated()]"
   ]
  },
  {
   "cell_type": "markdown",
   "id": "b0dce881",
   "metadata": {},
   "source": [
    "We can easily remove duplicate rows from the DataFrame using `drop_duplicates`."
   ]
  },
  {
   "cell_type": "code",
   "execution_count": 59,
   "id": "71b01e68-87bb-4c2f-8662-fbbbeef4fe23",
   "metadata": {
    "ExecuteTime": {
     "end_time": "2025-04-24T17:47:18.469458Z",
     "start_time": "2025-04-24T17:47:18.465343Z"
    }
   },
   "outputs": [],
   "source": [
    "students_df = students_df.drop_duplicates()"
   ]
  },
  {
   "cell_type": "markdown",
   "id": "bc30333b",
   "metadata": {},
   "source": [
    "We started with 101 rows and have just dropped a duplicate row. So we can expect to have 100 rows remaining."
   ]
  },
  {
   "cell_type": "code",
   "execution_count": 60,
   "id": "6d19c06f",
   "metadata": {
    "ExecuteTime": {
     "end_time": "2025-04-24T17:47:18.672116Z",
     "start_time": "2025-04-24T17:47:18.668545Z"
    }
   },
   "outputs": [
    {
     "data": {
      "text/plain": [
       "100"
      ]
     },
     "execution_count": 60,
     "metadata": {},
     "output_type": "execute_result"
    }
   ],
   "source": [
    "len(students_df)"
   ]
  },
  {
   "cell_type": "markdown",
   "id": "89277802",
   "metadata": {},
   "source": [
    "The duplicated row was Miss Lydia Saunders at the bottom of the DataFrame. We can see that it's gone now."
   ]
  },
  {
   "cell_type": "code",
   "execution_count": 61,
   "id": "9670f22d",
   "metadata": {
    "ExecuteTime": {
     "end_time": "2025-04-24T17:47:18.796510Z",
     "start_time": "2025-04-24T17:47:18.788710Z"
    }
   },
   "outputs": [
    {
     "data": {
      "application/vnd.microsoft.datawrangler.viewer.v0+json": {
       "columns": [
        {
         "name": "Student ID",
         "rawType": "object",
         "type": "string"
        },
        {
         "name": "Name",
         "rawType": "string",
         "type": "string"
        },
        {
         "name": "Age",
         "rawType": "int32",
         "type": "integer"
        },
        {
         "name": "Subject",
         "rawType": "string",
         "type": "string"
        },
        {
         "name": "Year of Study",
         "rawType": "int32",
         "type": "integer"
        },
        {
         "name": "Country of Origin",
         "rawType": "string",
         "type": "string"
        }
       ],
       "ref": "a632a4f4-ccc5-455d-8581-101a589bd46a",
       "rows": [
        [
         "bf9937ac",
         "Mr Victor Smith",
         "20",
         "Law",
         "1",
         "Bangladesh"
        ],
        [
         "a8be1ec3",
         "Kelly Foster",
         "22",
         "Engineering",
         "1",
         "Netherlands"
        ],
        [
         "3b69ff22",
         "Sara Austin",
         "19",
         "Computer Science",
         "2",
         "Liechtenstein"
        ],
        [
         "716fb45f",
         "Miss Grace Miller",
         "22",
         "English Literature",
         "4",
         "Comoros"
        ],
        [
         "34b97db2",
         "Miss Lydia Saunders",
         "23",
         "Physics",
         "2",
         "Faroe Islands"
        ]
       ],
       "shape": {
        "columns": 5,
        "rows": 5
       }
      },
      "text/html": [
       "<div>\n",
       "<style scoped>\n",
       "    .dataframe tbody tr th:only-of-type {\n",
       "        vertical-align: middle;\n",
       "    }\n",
       "\n",
       "    .dataframe tbody tr th {\n",
       "        vertical-align: top;\n",
       "    }\n",
       "\n",
       "    .dataframe thead th {\n",
       "        text-align: right;\n",
       "    }\n",
       "</style>\n",
       "<table border=\"1\" class=\"dataframe\">\n",
       "  <thead>\n",
       "    <tr style=\"text-align: right;\">\n",
       "      <th></th>\n",
       "      <th>Name</th>\n",
       "      <th>Age</th>\n",
       "      <th>Subject</th>\n",
       "      <th>Year of Study</th>\n",
       "      <th>Country of Origin</th>\n",
       "    </tr>\n",
       "    <tr>\n",
       "      <th>Student ID</th>\n",
       "      <th></th>\n",
       "      <th></th>\n",
       "      <th></th>\n",
       "      <th></th>\n",
       "      <th></th>\n",
       "    </tr>\n",
       "  </thead>\n",
       "  <tbody>\n",
       "    <tr>\n",
       "      <th>bf9937ac</th>\n",
       "      <td>Mr Victor Smith</td>\n",
       "      <td>20</td>\n",
       "      <td>Law</td>\n",
       "      <td>1</td>\n",
       "      <td>Bangladesh</td>\n",
       "    </tr>\n",
       "    <tr>\n",
       "      <th>a8be1ec3</th>\n",
       "      <td>Kelly Foster</td>\n",
       "      <td>22</td>\n",
       "      <td>Engineering</td>\n",
       "      <td>1</td>\n",
       "      <td>Netherlands</td>\n",
       "    </tr>\n",
       "    <tr>\n",
       "      <th>3b69ff22</th>\n",
       "      <td>Sara Austin</td>\n",
       "      <td>19</td>\n",
       "      <td>Computer Science</td>\n",
       "      <td>2</td>\n",
       "      <td>Liechtenstein</td>\n",
       "    </tr>\n",
       "    <tr>\n",
       "      <th>716fb45f</th>\n",
       "      <td>Miss Grace Miller</td>\n",
       "      <td>22</td>\n",
       "      <td>English Literature</td>\n",
       "      <td>4</td>\n",
       "      <td>Comoros</td>\n",
       "    </tr>\n",
       "    <tr>\n",
       "      <th>34b97db2</th>\n",
       "      <td>Miss Lydia Saunders</td>\n",
       "      <td>23</td>\n",
       "      <td>Physics</td>\n",
       "      <td>2</td>\n",
       "      <td>Faroe Islands</td>\n",
       "    </tr>\n",
       "  </tbody>\n",
       "</table>\n",
       "</div>"
      ],
      "text/plain": [
       "                           Name  Age             Subject  Year of Study  \\\n",
       "Student ID                                                                \n",
       "bf9937ac        Mr Victor Smith   20                 Law              1   \n",
       "a8be1ec3           Kelly Foster   22         Engineering              1   \n",
       "3b69ff22            Sara Austin   19    Computer Science              2   \n",
       "716fb45f      Miss Grace Miller   22  English Literature              4   \n",
       "34b97db2    Miss Lydia Saunders   23             Physics              2   \n",
       "\n",
       "           Country of Origin  \n",
       "Student ID                    \n",
       "bf9937ac          Bangladesh  \n",
       "a8be1ec3         Netherlands  \n",
       "3b69ff22       Liechtenstein  \n",
       "716fb45f             Comoros  \n",
       "34b97db2       Faroe Islands  "
      ]
     },
     "execution_count": 61,
     "metadata": {},
     "output_type": "execute_result"
    }
   ],
   "source": [
    "students_df.tail()"
   ]
  },
  {
   "cell_type": "markdown",
   "id": "87e8fa08-2056-4af1-931d-cf6716e81711",
   "metadata": {},
   "source": [
    "### Split the 'Name' column into 'Title', 'Forename', and 'Surname'\n",
    "Split the name while being sure to handle cases where the title is not present. This function assumes that the name can be split into either two or three parts: optional title + forename + surname. This is a valid assumption for our dataset, but maybe not for other datasets (e.g. where the family name comes before the given name)."
   ]
  },
  {
   "cell_type": "code",
   "execution_count": 62,
   "id": "77b4ef41-454a-478e-a079-c49cce29595e",
   "metadata": {
    "ExecuteTime": {
     "end_time": "2025-04-24T17:47:18.951785Z",
     "start_time": "2025-04-24T17:47:18.947783Z"
    }
   },
   "outputs": [],
   "source": [
    "def split_name(name):\n",
    "    \"\"\"\n",
    "    Split name into title, forename, and surname. Return these as a tuple.\n",
    "    The title just gets an empty string if not included in the name.\n",
    "    \"\"\"\n",
    "    parts = name.split()\n",
    "\n",
    "    if len(parts) == 3:\n",
    "        title = parts[0]\n",
    "        forename = parts[1]\n",
    "        surname = parts[2]\n",
    "    else:\n",
    "        title = ''\n",
    "        forename = parts[0]\n",
    "        surname = parts[1]\n",
    "\n",
    "    return title, forename, surname"
   ]
  },
  {
   "cell_type": "markdown",
   "id": "641addf6",
   "metadata": {},
   "source": [
    "Apply the function to each name in the DataFrame"
   ]
  },
  {
   "cell_type": "code",
   "execution_count": 63,
   "id": "ceb84d44-f9f5-475b-acae-207157bcec1f",
   "metadata": {
    "ExecuteTime": {
     "end_time": "2025-04-24T17:47:19.257865Z",
     "start_time": "2025-04-24T17:47:19.243953Z"
    }
   },
   "outputs": [],
   "source": [
    "students_df[['Title', 'Forename', 'Surname']] = \\\n",
    "     students_df['Name'].apply(lambda name: pd.Series(split_name(name)))"
   ]
  },
  {
   "cell_type": "code",
   "execution_count": 64,
   "id": "49ed92fc",
   "metadata": {
    "ExecuteTime": {
     "end_time": "2025-04-24T17:47:19.365220Z",
     "start_time": "2025-04-24T17:47:19.354912Z"
    }
   },
   "outputs": [
    {
     "data": {
      "application/vnd.microsoft.datawrangler.viewer.v0+json": {
       "columns": [
        {
         "name": "Student ID",
         "rawType": "object",
         "type": "string"
        },
        {
         "name": "Name",
         "rawType": "string",
         "type": "string"
        },
        {
         "name": "Age",
         "rawType": "int32",
         "type": "integer"
        },
        {
         "name": "Subject",
         "rawType": "string",
         "type": "string"
        },
        {
         "name": "Year of Study",
         "rawType": "int32",
         "type": "integer"
        },
        {
         "name": "Country of Origin",
         "rawType": "string",
         "type": "string"
        },
        {
         "name": "Title",
         "rawType": "object",
         "type": "string"
        },
        {
         "name": "Forename",
         "rawType": "object",
         "type": "string"
        },
        {
         "name": "Surname",
         "rawType": "object",
         "type": "string"
        }
       ],
       "ref": "30f7206d-56c9-48e0-9479-bdac0807e13d",
       "rows": [
        [
         "2703f3f0",
         "Mr Clifford Watson",
         "25",
         "English Literature",
         "1",
         "Saint Barthelemy",
         "Mr",
         "Clifford",
         "Watson"
        ],
        [
         "a8040287",
         "Elliott Ward",
         "25",
         "Computer Science",
         "4",
         "Guinea",
         "",
         "Elliott",
         "Ward"
        ],
        [
         "d8da5486",
         "Miss Pauline Dunn",
         "22",
         "Engineering",
         "4",
         "Afghanistan",
         "Miss",
         "Pauline",
         "Dunn"
        ],
        [
         "3ac1b74d",
         "Mr Dominic Mason",
         "22",
         "Physics",
         "1",
         "Palau",
         "Mr",
         "Dominic",
         "Mason"
        ],
        [
         "67850858",
         "Mrs Melanie Brown",
         "18",
         "English Literature",
         "3",
         "Algeria",
         "Mrs",
         "Melanie",
         "Brown"
        ]
       ],
       "shape": {
        "columns": 8,
        "rows": 5
       }
      },
      "text/html": [
       "<div>\n",
       "<style scoped>\n",
       "    .dataframe tbody tr th:only-of-type {\n",
       "        vertical-align: middle;\n",
       "    }\n",
       "\n",
       "    .dataframe tbody tr th {\n",
       "        vertical-align: top;\n",
       "    }\n",
       "\n",
       "    .dataframe thead th {\n",
       "        text-align: right;\n",
       "    }\n",
       "</style>\n",
       "<table border=\"1\" class=\"dataframe\">\n",
       "  <thead>\n",
       "    <tr style=\"text-align: right;\">\n",
       "      <th></th>\n",
       "      <th>Name</th>\n",
       "      <th>Age</th>\n",
       "      <th>Subject</th>\n",
       "      <th>Year of Study</th>\n",
       "      <th>Country of Origin</th>\n",
       "      <th>Title</th>\n",
       "      <th>Forename</th>\n",
       "      <th>Surname</th>\n",
       "    </tr>\n",
       "    <tr>\n",
       "      <th>Student ID</th>\n",
       "      <th></th>\n",
       "      <th></th>\n",
       "      <th></th>\n",
       "      <th></th>\n",
       "      <th></th>\n",
       "      <th></th>\n",
       "      <th></th>\n",
       "      <th></th>\n",
       "    </tr>\n",
       "  </thead>\n",
       "  <tbody>\n",
       "    <tr>\n",
       "      <th>2703f3f0</th>\n",
       "      <td>Mr Clifford Watson</td>\n",
       "      <td>25</td>\n",
       "      <td>English Literature</td>\n",
       "      <td>1</td>\n",
       "      <td>Saint Barthelemy</td>\n",
       "      <td>Mr</td>\n",
       "      <td>Clifford</td>\n",
       "      <td>Watson</td>\n",
       "    </tr>\n",
       "    <tr>\n",
       "      <th>a8040287</th>\n",
       "      <td>Elliott Ward</td>\n",
       "      <td>25</td>\n",
       "      <td>Computer Science</td>\n",
       "      <td>4</td>\n",
       "      <td>Guinea</td>\n",
       "      <td></td>\n",
       "      <td>Elliott</td>\n",
       "      <td>Ward</td>\n",
       "    </tr>\n",
       "    <tr>\n",
       "      <th>d8da5486</th>\n",
       "      <td>Miss Pauline Dunn</td>\n",
       "      <td>22</td>\n",
       "      <td>Engineering</td>\n",
       "      <td>4</td>\n",
       "      <td>Afghanistan</td>\n",
       "      <td>Miss</td>\n",
       "      <td>Pauline</td>\n",
       "      <td>Dunn</td>\n",
       "    </tr>\n",
       "    <tr>\n",
       "      <th>3ac1b74d</th>\n",
       "      <td>Mr Dominic Mason</td>\n",
       "      <td>22</td>\n",
       "      <td>Physics</td>\n",
       "      <td>1</td>\n",
       "      <td>Palau</td>\n",
       "      <td>Mr</td>\n",
       "      <td>Dominic</td>\n",
       "      <td>Mason</td>\n",
       "    </tr>\n",
       "    <tr>\n",
       "      <th>67850858</th>\n",
       "      <td>Mrs Melanie Brown</td>\n",
       "      <td>18</td>\n",
       "      <td>English Literature</td>\n",
       "      <td>3</td>\n",
       "      <td>Algeria</td>\n",
       "      <td>Mrs</td>\n",
       "      <td>Melanie</td>\n",
       "      <td>Brown</td>\n",
       "    </tr>\n",
       "  </tbody>\n",
       "</table>\n",
       "</div>"
      ],
      "text/plain": [
       "                          Name  Age             Subject  Year of Study  \\\n",
       "Student ID                                                               \n",
       "2703f3f0    Mr Clifford Watson   25  English Literature              1   \n",
       "a8040287          Elliott Ward   25    Computer Science              4   \n",
       "d8da5486     Miss Pauline Dunn   22         Engineering              4   \n",
       "3ac1b74d      Mr Dominic Mason   22             Physics              1   \n",
       "67850858     Mrs Melanie Brown   18  English Literature              3   \n",
       "\n",
       "           Country of Origin Title  Forename Surname  \n",
       "Student ID                                            \n",
       "2703f3f0    Saint Barthelemy    Mr  Clifford  Watson  \n",
       "a8040287              Guinea         Elliott    Ward  \n",
       "d8da5486         Afghanistan  Miss   Pauline    Dunn  \n",
       "3ac1b74d               Palau    Mr   Dominic   Mason  \n",
       "67850858             Algeria   Mrs   Melanie   Brown  "
      ]
     },
     "execution_count": 64,
     "metadata": {},
     "output_type": "execute_result"
    }
   ],
   "source": [
    "students_df.head()"
   ]
  },
  {
   "cell_type": "markdown",
   "id": "cb1b50f4",
   "metadata": {},
   "source": [
    "Now that we have Title, Forename and Surname columns, we can use `drop` to remove the redundant Name column."
   ]
  },
  {
   "cell_type": "code",
   "execution_count": 65,
   "id": "c0e95525-a949-427d-a341-ee4e8659a471",
   "metadata": {
    "ExecuteTime": {
     "end_time": "2025-04-24T17:47:19.505223Z",
     "start_time": "2025-04-24T17:47:19.500948Z"
    }
   },
   "outputs": [],
   "source": [
    "students_df = students_df.drop(columns=['Name'])"
   ]
  },
  {
   "cell_type": "code",
   "execution_count": 66,
   "id": "f887629a",
   "metadata": {
    "ExecuteTime": {
     "end_time": "2025-04-24T17:47:19.669219Z",
     "start_time": "2025-04-24T17:47:19.662081Z"
    }
   },
   "outputs": [
    {
     "data": {
      "application/vnd.microsoft.datawrangler.viewer.v0+json": {
       "columns": [
        {
         "name": "Student ID",
         "rawType": "object",
         "type": "string"
        },
        {
         "name": "Age",
         "rawType": "int32",
         "type": "integer"
        },
        {
         "name": "Subject",
         "rawType": "string",
         "type": "string"
        },
        {
         "name": "Year of Study",
         "rawType": "int32",
         "type": "integer"
        },
        {
         "name": "Country of Origin",
         "rawType": "string",
         "type": "string"
        },
        {
         "name": "Title",
         "rawType": "object",
         "type": "string"
        },
        {
         "name": "Forename",
         "rawType": "object",
         "type": "string"
        },
        {
         "name": "Surname",
         "rawType": "object",
         "type": "string"
        }
       ],
       "ref": "6b5a433d-80ec-4dff-b480-3dbbc4488268",
       "rows": [
        [
         "2703f3f0",
         "25",
         "English Literature",
         "1",
         "Saint Barthelemy",
         "Mr",
         "Clifford",
         "Watson"
        ],
        [
         "a8040287",
         "25",
         "Computer Science",
         "4",
         "Guinea",
         "",
         "Elliott",
         "Ward"
        ],
        [
         "d8da5486",
         "22",
         "Engineering",
         "4",
         "Afghanistan",
         "Miss",
         "Pauline",
         "Dunn"
        ],
        [
         "3ac1b74d",
         "22",
         "Physics",
         "1",
         "Palau",
         "Mr",
         "Dominic",
         "Mason"
        ],
        [
         "67850858",
         "18",
         "English Literature",
         "3",
         "Algeria",
         "Mrs",
         "Melanie",
         "Brown"
        ]
       ],
       "shape": {
        "columns": 7,
        "rows": 5
       }
      },
      "text/html": [
       "<div>\n",
       "<style scoped>\n",
       "    .dataframe tbody tr th:only-of-type {\n",
       "        vertical-align: middle;\n",
       "    }\n",
       "\n",
       "    .dataframe tbody tr th {\n",
       "        vertical-align: top;\n",
       "    }\n",
       "\n",
       "    .dataframe thead th {\n",
       "        text-align: right;\n",
       "    }\n",
       "</style>\n",
       "<table border=\"1\" class=\"dataframe\">\n",
       "  <thead>\n",
       "    <tr style=\"text-align: right;\">\n",
       "      <th></th>\n",
       "      <th>Age</th>\n",
       "      <th>Subject</th>\n",
       "      <th>Year of Study</th>\n",
       "      <th>Country of Origin</th>\n",
       "      <th>Title</th>\n",
       "      <th>Forename</th>\n",
       "      <th>Surname</th>\n",
       "    </tr>\n",
       "    <tr>\n",
       "      <th>Student ID</th>\n",
       "      <th></th>\n",
       "      <th></th>\n",
       "      <th></th>\n",
       "      <th></th>\n",
       "      <th></th>\n",
       "      <th></th>\n",
       "      <th></th>\n",
       "    </tr>\n",
       "  </thead>\n",
       "  <tbody>\n",
       "    <tr>\n",
       "      <th>2703f3f0</th>\n",
       "      <td>25</td>\n",
       "      <td>English Literature</td>\n",
       "      <td>1</td>\n",
       "      <td>Saint Barthelemy</td>\n",
       "      <td>Mr</td>\n",
       "      <td>Clifford</td>\n",
       "      <td>Watson</td>\n",
       "    </tr>\n",
       "    <tr>\n",
       "      <th>a8040287</th>\n",
       "      <td>25</td>\n",
       "      <td>Computer Science</td>\n",
       "      <td>4</td>\n",
       "      <td>Guinea</td>\n",
       "      <td></td>\n",
       "      <td>Elliott</td>\n",
       "      <td>Ward</td>\n",
       "    </tr>\n",
       "    <tr>\n",
       "      <th>d8da5486</th>\n",
       "      <td>22</td>\n",
       "      <td>Engineering</td>\n",
       "      <td>4</td>\n",
       "      <td>Afghanistan</td>\n",
       "      <td>Miss</td>\n",
       "      <td>Pauline</td>\n",
       "      <td>Dunn</td>\n",
       "    </tr>\n",
       "    <tr>\n",
       "      <th>3ac1b74d</th>\n",
       "      <td>22</td>\n",
       "      <td>Physics</td>\n",
       "      <td>1</td>\n",
       "      <td>Palau</td>\n",
       "      <td>Mr</td>\n",
       "      <td>Dominic</td>\n",
       "      <td>Mason</td>\n",
       "    </tr>\n",
       "    <tr>\n",
       "      <th>67850858</th>\n",
       "      <td>18</td>\n",
       "      <td>English Literature</td>\n",
       "      <td>3</td>\n",
       "      <td>Algeria</td>\n",
       "      <td>Mrs</td>\n",
       "      <td>Melanie</td>\n",
       "      <td>Brown</td>\n",
       "    </tr>\n",
       "  </tbody>\n",
       "</table>\n",
       "</div>"
      ],
      "text/plain": [
       "            Age             Subject  Year of Study Country of Origin Title  \\\n",
       "Student ID                                                                   \n",
       "2703f3f0     25  English Literature              1  Saint Barthelemy    Mr   \n",
       "a8040287     25    Computer Science              4            Guinea         \n",
       "d8da5486     22         Engineering              4       Afghanistan  Miss   \n",
       "3ac1b74d     22             Physics              1             Palau    Mr   \n",
       "67850858     18  English Literature              3           Algeria   Mrs   \n",
       "\n",
       "            Forename Surname  \n",
       "Student ID                    \n",
       "2703f3f0    Clifford  Watson  \n",
       "a8040287     Elliott    Ward  \n",
       "d8da5486     Pauline    Dunn  \n",
       "3ac1b74d     Dominic   Mason  \n",
       "67850858     Melanie   Brown  "
      ]
     },
     "execution_count": 66,
     "metadata": {},
     "output_type": "execute_result"
    }
   ],
   "source": [
    "students_df.head()"
   ]
  },
  {
   "cell_type": "markdown",
   "id": "81c62f13",
   "metadata": {},
   "source": [
    "Let's see what values we extracted for Title."
   ]
  },
  {
   "cell_type": "code",
   "execution_count": 67,
   "id": "46ad4abb",
   "metadata": {
    "ExecuteTime": {
     "end_time": "2025-04-24T17:47:19.862591Z",
     "start_time": "2025-04-24T17:47:19.856357Z"
    }
   },
   "outputs": [
    {
     "data": {
      "application/vnd.microsoft.datawrangler.viewer.v0+json": {
       "columns": [
        {
         "name": "Title",
         "rawType": "object",
         "type": "string"
        },
        {
         "name": "count",
         "rawType": "int64",
         "type": "integer"
        }
       ],
       "ref": "b64e6bea-778d-40f3-b74c-35b98dcb8746",
       "rows": [
        [
         "",
         "67"
        ],
        [
         "Mr",
         "13"
        ],
        [
         "Miss",
         "7"
        ],
        [
         "Dr",
         "7"
        ],
        [
         "Mrs",
         "6"
        ]
       ],
       "shape": {
        "columns": 1,
        "rows": 5
       }
      },
      "text/plain": [
       "Title\n",
       "        67\n",
       "Mr      13\n",
       "Miss     7\n",
       "Dr       7\n",
       "Mrs      6\n",
       "Name: count, dtype: int64"
      ]
     },
     "execution_count": 67,
     "metadata": {},
     "output_type": "execute_result"
    }
   ],
   "source": [
    "students_df['Title'].value_counts()"
   ]
  },
  {
   "cell_type": "markdown",
   "id": "f5bf6fe4",
   "metadata": {},
   "source": [
    "We can reorder the columns if we wish."
   ]
  },
  {
   "cell_type": "code",
   "execution_count": 68,
   "id": "70ebb30a",
   "metadata": {
    "ExecuteTime": {
     "end_time": "2025-04-24T17:47:20.116801Z",
     "start_time": "2025-04-24T17:47:20.112917Z"
    }
   },
   "outputs": [],
   "source": [
    "column_order = ['Title', 'Forename', 'Surname', 'Age', 'Country of Origin', 'Subject', 'Year of Study']\n",
    "students_df = students_df[column_order]"
   ]
  },
  {
   "cell_type": "code",
   "execution_count": 69,
   "id": "70ba0564",
   "metadata": {
    "ExecuteTime": {
     "end_time": "2025-04-24T17:47:20.326074Z",
     "start_time": "2025-04-24T17:47:20.318077Z"
    }
   },
   "outputs": [
    {
     "data": {
      "application/vnd.microsoft.datawrangler.viewer.v0+json": {
       "columns": [
        {
         "name": "Student ID",
         "rawType": "object",
         "type": "string"
        },
        {
         "name": "Title",
         "rawType": "object",
         "type": "string"
        },
        {
         "name": "Forename",
         "rawType": "object",
         "type": "string"
        },
        {
         "name": "Surname",
         "rawType": "object",
         "type": "string"
        },
        {
         "name": "Age",
         "rawType": "int32",
         "type": "integer"
        },
        {
         "name": "Country of Origin",
         "rawType": "string",
         "type": "string"
        },
        {
         "name": "Subject",
         "rawType": "string",
         "type": "string"
        },
        {
         "name": "Year of Study",
         "rawType": "int32",
         "type": "integer"
        }
       ],
       "ref": "b198da4b-c25f-40aa-a6f7-b9d8cd9b0f36",
       "rows": [
        [
         "2703f3f0",
         "Mr",
         "Clifford",
         "Watson",
         "25",
         "Saint Barthelemy",
         "English Literature",
         "1"
        ],
        [
         "a8040287",
         "",
         "Elliott",
         "Ward",
         "25",
         "Guinea",
         "Computer Science",
         "4"
        ],
        [
         "d8da5486",
         "Miss",
         "Pauline",
         "Dunn",
         "22",
         "Afghanistan",
         "Engineering",
         "4"
        ],
        [
         "3ac1b74d",
         "Mr",
         "Dominic",
         "Mason",
         "22",
         "Palau",
         "Physics",
         "1"
        ],
        [
         "67850858",
         "Mrs",
         "Melanie",
         "Brown",
         "18",
         "Algeria",
         "English Literature",
         "3"
        ]
       ],
       "shape": {
        "columns": 7,
        "rows": 5
       }
      },
      "text/html": [
       "<div>\n",
       "<style scoped>\n",
       "    .dataframe tbody tr th:only-of-type {\n",
       "        vertical-align: middle;\n",
       "    }\n",
       "\n",
       "    .dataframe tbody tr th {\n",
       "        vertical-align: top;\n",
       "    }\n",
       "\n",
       "    .dataframe thead th {\n",
       "        text-align: right;\n",
       "    }\n",
       "</style>\n",
       "<table border=\"1\" class=\"dataframe\">\n",
       "  <thead>\n",
       "    <tr style=\"text-align: right;\">\n",
       "      <th></th>\n",
       "      <th>Title</th>\n",
       "      <th>Forename</th>\n",
       "      <th>Surname</th>\n",
       "      <th>Age</th>\n",
       "      <th>Country of Origin</th>\n",
       "      <th>Subject</th>\n",
       "      <th>Year of Study</th>\n",
       "    </tr>\n",
       "    <tr>\n",
       "      <th>Student ID</th>\n",
       "      <th></th>\n",
       "      <th></th>\n",
       "      <th></th>\n",
       "      <th></th>\n",
       "      <th></th>\n",
       "      <th></th>\n",
       "      <th></th>\n",
       "    </tr>\n",
       "  </thead>\n",
       "  <tbody>\n",
       "    <tr>\n",
       "      <th>2703f3f0</th>\n",
       "      <td>Mr</td>\n",
       "      <td>Clifford</td>\n",
       "      <td>Watson</td>\n",
       "      <td>25</td>\n",
       "      <td>Saint Barthelemy</td>\n",
       "      <td>English Literature</td>\n",
       "      <td>1</td>\n",
       "    </tr>\n",
       "    <tr>\n",
       "      <th>a8040287</th>\n",
       "      <td></td>\n",
       "      <td>Elliott</td>\n",
       "      <td>Ward</td>\n",
       "      <td>25</td>\n",
       "      <td>Guinea</td>\n",
       "      <td>Computer Science</td>\n",
       "      <td>4</td>\n",
       "    </tr>\n",
       "    <tr>\n",
       "      <th>d8da5486</th>\n",
       "      <td>Miss</td>\n",
       "      <td>Pauline</td>\n",
       "      <td>Dunn</td>\n",
       "      <td>22</td>\n",
       "      <td>Afghanistan</td>\n",
       "      <td>Engineering</td>\n",
       "      <td>4</td>\n",
       "    </tr>\n",
       "    <tr>\n",
       "      <th>3ac1b74d</th>\n",
       "      <td>Mr</td>\n",
       "      <td>Dominic</td>\n",
       "      <td>Mason</td>\n",
       "      <td>22</td>\n",
       "      <td>Palau</td>\n",
       "      <td>Physics</td>\n",
       "      <td>1</td>\n",
       "    </tr>\n",
       "    <tr>\n",
       "      <th>67850858</th>\n",
       "      <td>Mrs</td>\n",
       "      <td>Melanie</td>\n",
       "      <td>Brown</td>\n",
       "      <td>18</td>\n",
       "      <td>Algeria</td>\n",
       "      <td>English Literature</td>\n",
       "      <td>3</td>\n",
       "    </tr>\n",
       "  </tbody>\n",
       "</table>\n",
       "</div>"
      ],
      "text/plain": [
       "           Title  Forename Surname  Age Country of Origin             Subject  \\\n",
       "Student ID                                                                      \n",
       "2703f3f0      Mr  Clifford  Watson   25  Saint Barthelemy  English Literature   \n",
       "a8040287           Elliott    Ward   25            Guinea    Computer Science   \n",
       "d8da5486    Miss   Pauline    Dunn   22       Afghanistan         Engineering   \n",
       "3ac1b74d      Mr   Dominic   Mason   22             Palau             Physics   \n",
       "67850858     Mrs   Melanie   Brown   18           Algeria  English Literature   \n",
       "\n",
       "            Year of Study  \n",
       "Student ID                 \n",
       "2703f3f0                1  \n",
       "a8040287                4  \n",
       "d8da5486                4  \n",
       "3ac1b74d                1  \n",
       "67850858                3  "
      ]
     },
     "execution_count": 69,
     "metadata": {},
     "output_type": "execute_result"
    }
   ],
   "source": [
    "students_df.head()"
   ]
  },
  {
   "cell_type": "markdown",
   "id": "33f5f36f",
   "metadata": {},
   "source": [
    "## Save the processed dataset\n",
    "Finally, we will write the processed dataset to its own file."
   ]
  },
  {
   "cell_type": "code",
   "execution_count": 70,
   "id": "348a1efe",
   "metadata": {
    "ExecuteTime": {
     "end_time": "2025-04-24T17:47:20.520288Z",
     "start_time": "2025-04-24T17:47:20.514845Z"
    }
   },
   "outputs": [],
   "source": [
    "students_df.to_csv('data/students_processed.csv')"
   ]
  }
 ],
 "metadata": {
  "kernelspec": {
   "display_name": "AI-ML-Bootcamp-24-25",
   "language": "python",
   "name": "python3"
  },
  "language_info": {
   "codemirror_mode": {
    "name": "ipython",
    "version": 3
   },
   "file_extension": ".py",
   "mimetype": "text/x-python",
   "name": "python",
   "nbconvert_exporter": "python",
   "pygments_lexer": "ipython3",
   "version": "3.12.3"
  }
 },
 "nbformat": 4,
 "nbformat_minor": 5
}
