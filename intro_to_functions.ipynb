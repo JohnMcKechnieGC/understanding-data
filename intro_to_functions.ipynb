{
 "cells": [
  {
   "cell_type": "markdown",
   "metadata": {},
   "source": [
    "# Introduction to Python Functions\n",
    "In this notebook, we'll explore what functions are, why they are useful, and how to create and use them in Python. We'll use examples relevant to data analytics to make the concepts more concrete."
   ]
  },
  {
   "cell_type": "markdown",
   "metadata": {},
   "source": [
    "## What is a Function?\n",
    "\n",
    "A function is a reusable block of code that performs a specific task. Functions allow you to:\n",
    "- Break down complex problems into smaller, manageable pieces.\n",
    "- Reuse code without rewriting it.\n",
    "- Improve code readability and organization.\n",
    "\n",
    "In Python, functions are defined using the def keyword, followed by the function name and parentheses ()."
   ]
  },
  {
   "cell_type": "markdown",
   "metadata": {},
   "source": [
    "## Why Use Functions?\n",
    "- Reusability: Write code once and use it multiple times.\n",
    "- Modularity: Divide your program into separate, manageable sections.\n",
    "- Maintainability: Easier to update and fix code.\n",
    "- Abstraction: Hide complex details and expose simple interfaces."
   ]
  },
  {
   "cell_type": "markdown",
   "metadata": {},
   "source": [
    "## Defining a Function in Python\n",
    "\n",
    "Here's the basic syntax for defining a function:\n",
    "\n",
    "def function_name(parameters):<br>\n",
    "&nbsp;&nbsp;&nbsp;&nbsp;\"\"\"<br>\n",
    "&nbsp;&nbsp;&nbsp;&nbsp;Optional function documentation (docstring)<br>\n",
    "&nbsp;&nbsp;&nbsp;&nbsp;\"\"\"<br>\n",
    "&nbsp;&nbsp;&nbsp;&nbsp;# Function body<br>\n",
    "&nbsp;&nbsp;&nbsp;&nbsp;return result"
   ]
  },
  {
   "cell_type": "markdown",
   "metadata": {},
   "source": [
    "- def: Keyword to define a function.\n",
    "- function_name: Name of the function (should be descriptive).\n",
    "- parameters: Optional inputs the function accepts.\n",
    "- return: (Optional) Keyword to return a value from the function."
   ]
  },
  {
   "cell_type": "markdown",
   "metadata": {},
   "source": [
    "## Function Arguments\n",
    "Functions can accept inputs, known as arguments or parameters, to make them more flexible."
   ]
  },
  {
   "cell_type": "markdown",
   "metadata": {},
   "source": [
    "### Positional Arguments\n",
    "Arguments that are passed to a function in order based on their position."
   ]
  },
  {
   "cell_type": "code",
   "execution_count": 1,
   "metadata": {},
   "outputs": [],
   "source": [
    "# Here we define a function called greet that takes two arguments,\n",
    "# name and message.\n",
    "\n",
    "def greet(name, message):\n",
    "    \"\"\"\n",
    "    Returns a greeting based on the name and message arguments.\n",
    "    \"\"\"\n",
    "    print(f\"{message}, {name}!\")\n"
   ]
  },
  {
   "cell_type": "code",
   "execution_count": 2,
   "metadata": {},
   "outputs": [
    {
     "name": "stdout",
     "output_type": "stream",
     "text": [
      "Good afternoon, Alice!\n"
     ]
    }
   ],
   "source": [
    "greet(\"Alice\", \"Good afternoon\")"
   ]
  },
  {
   "cell_type": "markdown",
   "metadata": {},
   "source": [
    "### Keyword Arguments\n",
    "Arguments can be passed using the parameter names. This can make the code clearer, especially if there are several arguments. It also means that you don't have to use the same order as the parameter list in the function definition."
   ]
  },
  {
   "cell_type": "code",
   "execution_count": 3,
   "metadata": {},
   "outputs": [
    {
     "name": "stdout",
     "output_type": "stream",
     "text": [
      "Good morning, Bob!\n"
     ]
    }
   ],
   "source": [
    "greet(message=\"Good morning\", name=\"Bob\")"
   ]
  },
  {
   "cell_type": "markdown",
   "metadata": {},
   "source": [
    "### Default Arguments\n",
    "We can specify a default value for parameters."
   ]
  },
  {
   "cell_type": "code",
   "execution_count": 4,
   "metadata": {},
   "outputs": [],
   "source": [
    "def greet(name, message=\"Hi\"):\n",
    "    \"\"\"\n",
    "    This version of the greet function uses a default message of Hi\n",
    "    \"\"\"\n",
    "    print(f\"{message}, {name}!\")"
   ]
  },
  {
   "cell_type": "code",
   "execution_count": 5,
   "metadata": {},
   "outputs": [
    {
     "name": "stdout",
     "output_type": "stream",
     "text": [
      "Hi, Charlie!\n"
     ]
    }
   ],
   "source": [
    "# Note that we do not specify the value of message when calling greet.\n",
    "greet(\"Charlie\")"
   ]
  },
  {
   "cell_type": "markdown",
   "metadata": {},
   "source": [
    "## Return Statement\n",
    "The return statement exits a function and allows it to pass back a value."
   ]
  },
  {
   "cell_type": "code",
   "execution_count": 6,
   "metadata": {},
   "outputs": [],
   "source": [
    "def add(a, b):\n",
    "    \"\"\"\n",
    "    Return the result of adding a and b\n",
    "    \"\"\"\n",
    "    return a + b"
   ]
  },
  {
   "cell_type": "code",
   "execution_count": 7,
   "metadata": {},
   "outputs": [],
   "source": [
    "result = add(5, 3)"
   ]
  },
  {
   "cell_type": "code",
   "execution_count": 8,
   "metadata": {},
   "outputs": [
    {
     "name": "stdout",
     "output_type": "stream",
     "text": [
      "The result of the addition is 8\n"
     ]
    }
   ],
   "source": [
    "print(f\"The result of the addition is {result}\")"
   ]
  },
  {
   "cell_type": "markdown",
   "metadata": {},
   "source": [
    "## Examples\n",
    "Next we'll explore some examples of more interesting functions. We'll use examples from data analytics. Pandas already provides a lot of functionality such as calculating the mean and dropping rows with missing values, so it will generally be easier to use that. "
   ]
  },
  {
   "cell_type": "markdown",
   "metadata": {},
   "source": [
    "### Calculating the mean value of a list of numbers"
   ]
  },
  {
   "cell_type": "code",
   "execution_count": 9,
   "metadata": {},
   "outputs": [
    {
     "name": "stdout",
     "output_type": "stream",
     "text": [
      "The mean is: 63.857142857142854\n"
     ]
    }
   ],
   "source": [
    "def calculate_mean(data):\n",
    "    \"\"\"\n",
    "    Calculates the mean of a list of numbers.\n",
    "    \"\"\"\n",
    "    n = len(data)\n",
    "    total = sum(data)\n",
    "    mean = total / n\n",
    "    return mean\n",
    "\n",
    "\n",
    "# Sample data\n",
    "data = [23, 76, 97, 61, 45, 89, 56]\n",
    "\n",
    "mean_value = calculate_mean(data)\n",
    "print(f\"The mean is: {mean_value}\")"
   ]
  },
  {
   "cell_type": "markdown",
   "metadata": {},
   "source": [
    "### Remove 'None' values from a list"
   ]
  },
  {
   "cell_type": "code",
   "execution_count": 10,
   "metadata": {},
   "outputs": [
    {
     "name": "stdout",
     "output_type": "stream",
     "text": [
      "Cleaned data: [10, 25, 30, 45, 50]\n"
     ]
    }
   ],
   "source": [
    "def clean_data(data):\n",
    "    \"\"\"\n",
    "    Removes None values from a list.\n",
    "    \"\"\"\n",
    "    cleaned_data = []\n",
    "    for item in data:\n",
    "        if item is not None:\n",
    "            cleaned_data.append(item)\n",
    "    return cleaned_data\n",
    "\n",
    "\n",
    "# Sample data with missing values\n",
    "raw_data = [10, None, 25, 30, None, 45, 50]\n",
    "\n",
    "cleaned_data = clean_data(raw_data)\n",
    "print(f\"Cleaned data: {cleaned_data}\")"
   ]
  },
  {
   "cell_type": "markdown",
   "metadata": {},
   "source": [
    "### Split name\n",
    "Here we show a function that takes a two-part name like \"James Bond\" or a three-part name like \"Mrs Emma Smith\" and returns a tuple of (title, forename, surname). The title will be an empty string in the case of a two-part name."
   ]
  },
  {
   "cell_type": "code",
   "execution_count": 11,
   "metadata": {},
   "outputs": [],
   "source": [
    "def split_name(name):\n",
    "    \"\"\"\n",
    "    Split name into Title, Forename, and Surname. Return these as a tuple.\n",
    "    Title just gets an empty string if not included in the name.\n",
    "    \"\"\"\n",
    "    parts = name.split()\n",
    "    if len(parts) == 3:\n",
    "        return (parts[0], parts[1], parts[2])\n",
    "    else:\n",
    "        return ('', parts[0], parts[1])"
   ]
  },
  {
   "cell_type": "code",
   "execution_count": 12,
   "metadata": {},
   "outputs": [
    {
     "data": {
      "text/plain": [
       "('Mrs', 'Emma', 'Smith')"
      ]
     },
     "execution_count": 12,
     "metadata": {},
     "output_type": "execute_result"
    }
   ],
   "source": [
    "split_name(\"Mrs Emma Smith\")"
   ]
  },
  {
   "cell_type": "code",
   "execution_count": 13,
   "metadata": {},
   "outputs": [
    {
     "data": {
      "text/plain": [
       "('', 'James', 'Bond')"
      ]
     },
     "execution_count": 13,
     "metadata": {},
     "output_type": "execute_result"
    }
   ],
   "source": [
    "split_name(\"James Bond\")"
   ]
  },
  {
   "cell_type": "code",
   "execution_count": 14,
   "metadata": {},
   "outputs": [
    {
     "ename": "IndexError",
     "evalue": "list index out of range",
     "output_type": "error",
     "traceback": [
      "\u001b[1;31m---------------------------------------------------------------------------\u001b[0m",
      "\u001b[1;31mIndexError\u001b[0m                                Traceback (most recent call last)",
      "Cell \u001b[1;32mIn[14], line 1\u001b[0m\n\u001b[1;32m----> 1\u001b[0m split_name(\u001b[38;5;124m\"\u001b[39m\u001b[38;5;124mChewbacca\u001b[39m\u001b[38;5;124m\"\u001b[39m)\n",
      "Cell \u001b[1;32mIn[11], line 10\u001b[0m, in \u001b[0;36msplit_name\u001b[1;34m(name)\u001b[0m\n\u001b[0;32m      8\u001b[0m     \u001b[38;5;28;01mreturn\u001b[39;00m (parts[\u001b[38;5;241m0\u001b[39m], parts[\u001b[38;5;241m1\u001b[39m], parts[\u001b[38;5;241m2\u001b[39m])\n\u001b[0;32m      9\u001b[0m \u001b[38;5;28;01melse\u001b[39;00m:\n\u001b[1;32m---> 10\u001b[0m     \u001b[38;5;28;01mreturn\u001b[39;00m (\u001b[38;5;124m'\u001b[39m\u001b[38;5;124m'\u001b[39m, parts[\u001b[38;5;241m0\u001b[39m], parts[\u001b[38;5;241m1\u001b[39m])\n",
      "\u001b[1;31mIndexError\u001b[0m: list index out of range"
     ]
    }
   ],
   "source": [
    "split_name(\"Chewbacca\")"
   ]
  },
  {
   "cell_type": "markdown",
   "metadata": {},
   "source": [
    "Oh dear, we've passed in a name that only has one part, but the function assumed that there would be two or three parts."
   ]
  },
  {
   "cell_type": "markdown",
   "metadata": {},
   "source": [
    "### Challenge\n",
    "Can you modify the function so that it can deal with one part, two part, or three part names? In the case of a one-part name, like Chewbacca or Madonna, the surname part of the tuple (index 2) should be an empty string."
   ]
  }
 ],
 "metadata": {
  "kernelspec": {
   "display_name": "AI-ML-Bootcamp-24-25",
   "language": "python",
   "name": "python3"
  },
  "language_info": {
   "codemirror_mode": {
    "name": "ipython",
    "version": 3
   },
   "file_extension": ".py",
   "mimetype": "text/x-python",
   "name": "python",
   "nbconvert_exporter": "python",
   "pygments_lexer": "ipython3",
   "version": "3.12.4"
  }
 },
 "nbformat": 4,
 "nbformat_minor": 2
}
