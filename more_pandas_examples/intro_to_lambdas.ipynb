{
 "cells": [
  {
   "cell_type": "markdown",
   "metadata": {},
   "source": [
    "# Introduction to Lambdas"
   ]
  },
  {
   "cell_type": "markdown",
   "metadata": {},
   "source": [
    "__What is a Lambda Function?__<br>\n",
    "In Python, a lambda function is a small anonymous function defined with the lambda keyword. Unlike a regular function defined using def, a lambda function is a single expression which returns a value without needing a return statement. Lambda functions are syntactically restricted to a single expression.\n",
    "\n",
    "__When to Use Lambda Functions__<br>\n",
    "Lambda functions are particularly useful for simple operations that can be summarised in a single expression. They are often used when operating with methods that expect a function as an argument, such as map(), filter(), and sorted().\n",
    "\n",
    "__Basic Syntax of Lambda Functions__<br>\n",
    "The basic syntax of a lambda function is:<br>\n",
    "&emsp;lambda arguments: expression"
   ]
  },
  {
   "cell_type": "markdown",
   "metadata": {},
   "source": [
    "## Using Lambda with map()\n",
    "The map() function applies a given function to each item of an iterable (like a list) and returns a list of the results."
   ]
  },
  {
   "cell_type": "code",
   "execution_count": 1,
   "metadata": {},
   "outputs": [],
   "source": [
    "# First declare our list of numbers\n",
    "numbers = [1, 2, 3, 4, 5]"
   ]
  },
  {
   "cell_type": "code",
   "execution_count": 2,
   "metadata": {},
   "outputs": [
    {
     "data": {
      "text/plain": [
       "[1, 4, 9, 16, 25]"
      ]
     },
     "execution_count": 2,
     "metadata": {},
     "output_type": "execute_result"
    }
   ],
   "source": [
    "# The following is lambda function takes x as an argument and returns x ** 2 (x squared)\n",
    "# lambda x: x ** 2\n",
    "\n",
    "# Here we map the lambda function to all the values in the numbers list\n",
    "squared = map(lambda x: x ** 2, numbers)\n",
    "\n",
    "# We can display the result as a list\n",
    "list(squared)"
   ]
  },
  {
   "cell_type": "markdown",
   "metadata": {},
   "source": [
    "## Using Lambda with filter()\n",
    "The filter() function creates a list of elements for which a function returns true."
   ]
  },
  {
   "cell_type": "code",
   "execution_count": 3,
   "metadata": {},
   "outputs": [
    {
     "data": {
      "text/plain": [
       "[2, 4]"
      ]
     },
     "execution_count": 3,
     "metadata": {},
     "output_type": "execute_result"
    }
   ],
   "source": [
    "# This lambda function returns True if dividing x by 2 has a remainder of zero\n",
    "even_numbers = filter(lambda x: x % 2 == 0, numbers)\n",
    "\n",
    "list(even_numbers)"
   ]
  },
  {
   "cell_type": "markdown",
   "metadata": {},
   "source": [
    "## Using Lambda with sorted()\n",
    "You can use lambda functions to specify the sorting criteria for sorted()."
   ]
  },
  {
   "cell_type": "code",
   "execution_count": 4,
   "metadata": {},
   "outputs": [
    {
     "data": {
      "text/plain": [
       "['avocado', 'banana', 'cherry', 'date']"
      ]
     },
     "execution_count": 4,
     "metadata": {},
     "output_type": "execute_result"
    }
   ],
   "source": [
    "# First we'll create a list of words to sort\n",
    "words = ['banana', 'avocado', 'date', 'cherry']\n",
    "\n",
    "# If we just use the sorted function, the words will be sorted in alphabetical order\n",
    "sorted(words)"
   ]
  },
  {
   "cell_type": "code",
   "execution_count": 5,
   "metadata": {},
   "outputs": [
    {
     "data": {
      "text/plain": [
       "['date', 'banana', 'cherry', 'avocado']"
      ]
     },
     "execution_count": 5,
     "metadata": {},
     "output_type": "execute_result"
    }
   ],
   "source": [
    "# But we can use a lambda to specify a custom sort funtion\n",
    "# Here we sort by the length of the word\n",
    "sorted(words, key=lambda word: len(word))"
   ]
  },
  {
   "cell_type": "code",
   "execution_count": 6,
   "metadata": {},
   "outputs": [
    {
     "data": {
      "text/plain": [
       "['avocado', 'banana', 'cherry', 'date']"
      ]
     },
     "execution_count": 6,
     "metadata": {},
     "output_type": "execute_result"
    }
   ],
   "source": [
    "# Here we sort using reverse=True to instead sort the list from the longest to the shortest.\n",
    "sorted(words, key=lambda word: len(word), reverse=True)"
   ]
  }
 ],
 "metadata": {
  "kernelspec": {
   "display_name": "AI-ML-Bootcamp-24-25",
   "language": "python",
   "name": "python3"
  },
  "language_info": {
   "codemirror_mode": {
    "name": "ipython",
    "version": 3
   },
   "file_extension": ".py",
   "mimetype": "text/x-python",
   "name": "python",
   "nbconvert_exporter": "python",
   "pygments_lexer": "ipython3",
   "version": "3.12.4"
  }
 },
 "nbformat": 4,
 "nbformat_minor": 2
}
