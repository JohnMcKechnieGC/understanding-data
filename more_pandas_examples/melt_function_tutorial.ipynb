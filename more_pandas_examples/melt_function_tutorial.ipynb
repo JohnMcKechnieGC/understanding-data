{
 "cells": [
  {
   "cell_type": "markdown",
   "id": "316ca7e1",
   "metadata": {},
   "source": [
    "## Pandas `melt`\n",
    "\n",
    "In many data analysis projects, you may find that your data is in a *wide format*—where measurements across different columns represent similar types of information. The **`pandas.melt`** function helps you convert this data into a *long (tidy) format*, where one or more columns store variable names and values. This is especially useful when preparing data for visualization or further analysis.\n"
   ]
  },
  {
   "cell_type": "markdown",
   "id": "a1609439",
   "metadata": {},
   "source": [
    "### Key Concepts and Parameters\n",
    "\n",
    "- **`id_vars`**: Columns that you want to keep as identifiers and not unpivot.\n",
    "- **`value_vars`**: Columns that you want to “unpivot” or combine into a single column.\n",
    "- **`var_name`**: Name of the new column that will store the former column names (optional).\n",
    "- **`value_name`**: Name of the new column that will hold the corresponding values (optional).\n",
    "\n",
    "The basic syntax is:\n",
    "```python\n",
    "pd.melt(frame, id_vars=None, value_vars=None, var_name=None, value_name=\"value\", col_level=None, ignore_index=True)\n",
    "```\n",
    "In this syntax, `frame` is your DataFrame, and you can provide the other parameters as needed to control the melt behavior."
   ]
  },
  {
   "cell_type": "markdown",
   "id": "f9588200",
   "metadata": {},
   "source": [
    "## A Basic Example\n",
    "\n",
    "Let’s start with a simple example. Imagine you have a DataFrame of student scores in several subjects:"
   ]
  },
  {
   "cell_type": "code",
   "execution_count": 1,
   "id": "29e181ec",
   "metadata": {},
   "outputs": [],
   "source": [
    "import pandas as pd"
   ]
  },
  {
   "cell_type": "code",
   "execution_count": 2,
   "id": "d3ba1701",
   "metadata": {},
   "outputs": [],
   "source": [
    "# Create a simple DataFrame in wide format\n",
    "df = pd.DataFrame({\n",
    "    'Name': ['Alice', 'Bob', 'Charlie'],\n",
    "    'Maths': [90, 80, 70],\n",
    "    'English': [85, 75, 95],\n",
    "    'Science': [88, 82, 89]\n",
    "})"
   ]
  },
  {
   "cell_type": "code",
   "execution_count": 3,
   "id": "929a94fb",
   "metadata": {},
   "outputs": [
    {
     "data": {
      "application/vnd.microsoft.datawrangler.viewer.v0+json": {
       "columns": [
        {
         "name": "index",
         "rawType": "int64",
         "type": "integer"
        },
        {
         "name": "Name",
         "rawType": "object",
         "type": "string"
        },
        {
         "name": "Maths",
         "rawType": "int64",
         "type": "integer"
        },
        {
         "name": "English",
         "rawType": "int64",
         "type": "integer"
        },
        {
         "name": "Science",
         "rawType": "int64",
         "type": "integer"
        }
       ],
       "conversionMethod": "pd.DataFrame",
       "ref": "f5902ac0-e592-41f8-ac02-7b12c4c39b46",
       "rows": [
        [
         "0",
         "Alice",
         "90",
         "85",
         "88"
        ],
        [
         "1",
         "Bob",
         "80",
         "75",
         "82"
        ],
        [
         "2",
         "Charlie",
         "70",
         "95",
         "89"
        ]
       ],
       "shape": {
        "columns": 4,
        "rows": 3
       }
      },
      "text/html": [
       "<div>\n",
       "<style scoped>\n",
       "    .dataframe tbody tr th:only-of-type {\n",
       "        vertical-align: middle;\n",
       "    }\n",
       "\n",
       "    .dataframe tbody tr th {\n",
       "        vertical-align: top;\n",
       "    }\n",
       "\n",
       "    .dataframe thead th {\n",
       "        text-align: right;\n",
       "    }\n",
       "</style>\n",
       "<table border=\"1\" class=\"dataframe\">\n",
       "  <thead>\n",
       "    <tr style=\"text-align: right;\">\n",
       "      <th></th>\n",
       "      <th>Name</th>\n",
       "      <th>Maths</th>\n",
       "      <th>English</th>\n",
       "      <th>Science</th>\n",
       "    </tr>\n",
       "  </thead>\n",
       "  <tbody>\n",
       "    <tr>\n",
       "      <th>0</th>\n",
       "      <td>Alice</td>\n",
       "      <td>90</td>\n",
       "      <td>85</td>\n",
       "      <td>88</td>\n",
       "    </tr>\n",
       "    <tr>\n",
       "      <th>1</th>\n",
       "      <td>Bob</td>\n",
       "      <td>80</td>\n",
       "      <td>75</td>\n",
       "      <td>82</td>\n",
       "    </tr>\n",
       "    <tr>\n",
       "      <th>2</th>\n",
       "      <td>Charlie</td>\n",
       "      <td>70</td>\n",
       "      <td>95</td>\n",
       "      <td>89</td>\n",
       "    </tr>\n",
       "  </tbody>\n",
       "</table>\n",
       "</div>"
      ],
      "text/plain": [
       "      Name  Maths  English  Science\n",
       "0    Alice     90       85       88\n",
       "1      Bob     80       75       82\n",
       "2  Charlie     70       95       89"
      ]
     },
     "execution_count": 3,
     "metadata": {},
     "output_type": "execute_result"
    }
   ],
   "source": [
    "df"
   ]
  },
  {
   "cell_type": "code",
   "execution_count": 4,
   "id": "0a631783",
   "metadata": {},
   "outputs": [],
   "source": [
    "# Melt the DataFrame to convert subject columns into rows\n",
    "melted_df = pd.melt(\n",
    "    df,\n",
    "    id_vars=['Name'],  # Keep the 'Name' column as is\n",
    "    value_vars=['Maths', 'English', 'Science'],  # Columns to melt\n",
    "    var_name='Subject',  # New column to store the subject names\n",
    "    value_name='Score'  # New column to store the scores\n",
    ")"
   ]
  },
  {
   "cell_type": "code",
   "execution_count": 5,
   "id": "0a19aeed",
   "metadata": {},
   "outputs": [
    {
     "data": {
      "application/vnd.microsoft.datawrangler.viewer.v0+json": {
       "columns": [
        {
         "name": "index",
         "rawType": "int64",
         "type": "integer"
        },
        {
         "name": "Name",
         "rawType": "object",
         "type": "string"
        },
        {
         "name": "Subject",
         "rawType": "object",
         "type": "string"
        },
        {
         "name": "Score",
         "rawType": "int64",
         "type": "integer"
        }
       ],
       "conversionMethod": "pd.DataFrame",
       "ref": "202e28f7-0515-4024-90f6-aa9c06b70864",
       "rows": [
        [
         "0",
         "Alice",
         "Maths",
         "90"
        ],
        [
         "1",
         "Bob",
         "Maths",
         "80"
        ],
        [
         "2",
         "Charlie",
         "Maths",
         "70"
        ],
        [
         "3",
         "Alice",
         "English",
         "85"
        ],
        [
         "4",
         "Bob",
         "English",
         "75"
        ],
        [
         "5",
         "Charlie",
         "English",
         "95"
        ],
        [
         "6",
         "Alice",
         "Science",
         "88"
        ],
        [
         "7",
         "Bob",
         "Science",
         "82"
        ],
        [
         "8",
         "Charlie",
         "Science",
         "89"
        ]
       ],
       "shape": {
        "columns": 3,
        "rows": 9
       }
      },
      "text/html": [
       "<div>\n",
       "<style scoped>\n",
       "    .dataframe tbody tr th:only-of-type {\n",
       "        vertical-align: middle;\n",
       "    }\n",
       "\n",
       "    .dataframe tbody tr th {\n",
       "        vertical-align: top;\n",
       "    }\n",
       "\n",
       "    .dataframe thead th {\n",
       "        text-align: right;\n",
       "    }\n",
       "</style>\n",
       "<table border=\"1\" class=\"dataframe\">\n",
       "  <thead>\n",
       "    <tr style=\"text-align: right;\">\n",
       "      <th></th>\n",
       "      <th>Name</th>\n",
       "      <th>Subject</th>\n",
       "      <th>Score</th>\n",
       "    </tr>\n",
       "  </thead>\n",
       "  <tbody>\n",
       "    <tr>\n",
       "      <th>0</th>\n",
       "      <td>Alice</td>\n",
       "      <td>Maths</td>\n",
       "      <td>90</td>\n",
       "    </tr>\n",
       "    <tr>\n",
       "      <th>1</th>\n",
       "      <td>Bob</td>\n",
       "      <td>Maths</td>\n",
       "      <td>80</td>\n",
       "    </tr>\n",
       "    <tr>\n",
       "      <th>2</th>\n",
       "      <td>Charlie</td>\n",
       "      <td>Maths</td>\n",
       "      <td>70</td>\n",
       "    </tr>\n",
       "    <tr>\n",
       "      <th>3</th>\n",
       "      <td>Alice</td>\n",
       "      <td>English</td>\n",
       "      <td>85</td>\n",
       "    </tr>\n",
       "    <tr>\n",
       "      <th>4</th>\n",
       "      <td>Bob</td>\n",
       "      <td>English</td>\n",
       "      <td>75</td>\n",
       "    </tr>\n",
       "    <tr>\n",
       "      <th>5</th>\n",
       "      <td>Charlie</td>\n",
       "      <td>English</td>\n",
       "      <td>95</td>\n",
       "    </tr>\n",
       "    <tr>\n",
       "      <th>6</th>\n",
       "      <td>Alice</td>\n",
       "      <td>Science</td>\n",
       "      <td>88</td>\n",
       "    </tr>\n",
       "    <tr>\n",
       "      <th>7</th>\n",
       "      <td>Bob</td>\n",
       "      <td>Science</td>\n",
       "      <td>82</td>\n",
       "    </tr>\n",
       "    <tr>\n",
       "      <th>8</th>\n",
       "      <td>Charlie</td>\n",
       "      <td>Science</td>\n",
       "      <td>89</td>\n",
       "    </tr>\n",
       "  </tbody>\n",
       "</table>\n",
       "</div>"
      ],
      "text/plain": [
       "      Name  Subject  Score\n",
       "0    Alice    Maths     90\n",
       "1      Bob    Maths     80\n",
       "2  Charlie    Maths     70\n",
       "3    Alice  English     85\n",
       "4      Bob  English     75\n",
       "5  Charlie  English     95\n",
       "6    Alice  Science     88\n",
       "7      Bob  Science     82\n",
       "8  Charlie  Science     89"
      ]
     },
     "execution_count": 5,
     "metadata": {},
     "output_type": "execute_result"
    }
   ],
   "source": [
    "melted_df"
   ]
  },
  {
   "cell_type": "markdown",
   "id": "7fa5ac15",
   "metadata": {},
   "source": [
    "**Output Explanation:**\n",
    "\n",
    "The resulting DataFrame, `melted_df`, transforms the subject columns into two new columns: one for the subject names (`Subject`) and one for the scores (`Score`). Each student now has multiple rows—one per subject."
   ]
  },
  {
   "cell_type": "markdown",
   "id": "1c2a4cb0",
   "metadata": {},
   "source": [
    "We can also call `melt` directly on a DataFrame."
   ]
  },
  {
   "cell_type": "code",
   "execution_count": 6,
   "id": "4d595b6b",
   "metadata": {},
   "outputs": [],
   "source": [
    "melted_df = df.melt(\n",
    "    id_vars=['Name'],  # Keep the 'Name' column as is\n",
    "    value_vars=['Maths', 'English', 'Science'],  # Columns to melt\n",
    "    var_name='Subject',  # New column to store the subject names\n",
    "    value_name='Score'  # New column to store the scores\n",
    ")"
   ]
  },
  {
   "cell_type": "code",
   "execution_count": 7,
   "id": "fa307f83",
   "metadata": {},
   "outputs": [
    {
     "data": {
      "application/vnd.microsoft.datawrangler.viewer.v0+json": {
       "columns": [
        {
         "name": "index",
         "rawType": "int64",
         "type": "integer"
        },
        {
         "name": "Name",
         "rawType": "object",
         "type": "string"
        },
        {
         "name": "Subject",
         "rawType": "object",
         "type": "string"
        },
        {
         "name": "Score",
         "rawType": "int64",
         "type": "integer"
        }
       ],
       "conversionMethod": "pd.DataFrame",
       "ref": "e905ad62-567c-4fa2-a354-a1e131246225",
       "rows": [
        [
         "0",
         "Alice",
         "Maths",
         "90"
        ],
        [
         "1",
         "Bob",
         "Maths",
         "80"
        ],
        [
         "2",
         "Charlie",
         "Maths",
         "70"
        ],
        [
         "3",
         "Alice",
         "English",
         "85"
        ],
        [
         "4",
         "Bob",
         "English",
         "75"
        ],
        [
         "5",
         "Charlie",
         "English",
         "95"
        ],
        [
         "6",
         "Alice",
         "Science",
         "88"
        ],
        [
         "7",
         "Bob",
         "Science",
         "82"
        ],
        [
         "8",
         "Charlie",
         "Science",
         "89"
        ]
       ],
       "shape": {
        "columns": 3,
        "rows": 9
       }
      },
      "text/html": [
       "<div>\n",
       "<style scoped>\n",
       "    .dataframe tbody tr th:only-of-type {\n",
       "        vertical-align: middle;\n",
       "    }\n",
       "\n",
       "    .dataframe tbody tr th {\n",
       "        vertical-align: top;\n",
       "    }\n",
       "\n",
       "    .dataframe thead th {\n",
       "        text-align: right;\n",
       "    }\n",
       "</style>\n",
       "<table border=\"1\" class=\"dataframe\">\n",
       "  <thead>\n",
       "    <tr style=\"text-align: right;\">\n",
       "      <th></th>\n",
       "      <th>Name</th>\n",
       "      <th>Subject</th>\n",
       "      <th>Score</th>\n",
       "    </tr>\n",
       "  </thead>\n",
       "  <tbody>\n",
       "    <tr>\n",
       "      <th>0</th>\n",
       "      <td>Alice</td>\n",
       "      <td>Maths</td>\n",
       "      <td>90</td>\n",
       "    </tr>\n",
       "    <tr>\n",
       "      <th>1</th>\n",
       "      <td>Bob</td>\n",
       "      <td>Maths</td>\n",
       "      <td>80</td>\n",
       "    </tr>\n",
       "    <tr>\n",
       "      <th>2</th>\n",
       "      <td>Charlie</td>\n",
       "      <td>Maths</td>\n",
       "      <td>70</td>\n",
       "    </tr>\n",
       "    <tr>\n",
       "      <th>3</th>\n",
       "      <td>Alice</td>\n",
       "      <td>English</td>\n",
       "      <td>85</td>\n",
       "    </tr>\n",
       "    <tr>\n",
       "      <th>4</th>\n",
       "      <td>Bob</td>\n",
       "      <td>English</td>\n",
       "      <td>75</td>\n",
       "    </tr>\n",
       "    <tr>\n",
       "      <th>5</th>\n",
       "      <td>Charlie</td>\n",
       "      <td>English</td>\n",
       "      <td>95</td>\n",
       "    </tr>\n",
       "    <tr>\n",
       "      <th>6</th>\n",
       "      <td>Alice</td>\n",
       "      <td>Science</td>\n",
       "      <td>88</td>\n",
       "    </tr>\n",
       "    <tr>\n",
       "      <th>7</th>\n",
       "      <td>Bob</td>\n",
       "      <td>Science</td>\n",
       "      <td>82</td>\n",
       "    </tr>\n",
       "    <tr>\n",
       "      <th>8</th>\n",
       "      <td>Charlie</td>\n",
       "      <td>Science</td>\n",
       "      <td>89</td>\n",
       "    </tr>\n",
       "  </tbody>\n",
       "</table>\n",
       "</div>"
      ],
      "text/plain": [
       "      Name  Subject  Score\n",
       "0    Alice    Maths     90\n",
       "1      Bob    Maths     80\n",
       "2  Charlie    Maths     70\n",
       "3    Alice  English     85\n",
       "4      Bob  English     75\n",
       "5  Charlie  English     95\n",
       "6    Alice  Science     88\n",
       "7      Bob  Science     82\n",
       "8  Charlie  Science     89"
      ]
     },
     "execution_count": 7,
     "metadata": {},
     "output_type": "execute_result"
    }
   ],
   "source": [
    "melted_df"
   ]
  },
  {
   "cell_type": "markdown",
   "id": "47b3a824",
   "metadata": {},
   "source": [
    "## Example: Sales Data Transformation\n",
    "\n",
    "Imagine you work with monthly sales data for different regions. Each month's sales is stored in a separate column. To analyze trends over time, you might want to convert the DataFrame into a long format:"
   ]
  },
  {
   "cell_type": "code",
   "execution_count": 8,
   "id": "18d7a6b8",
   "metadata": {},
   "outputs": [],
   "source": [
    "# Create a DataFrame representing sales data across three months.\n",
    "df_sales = pd.DataFrame({\n",
    "    'Region': ['North', 'South', 'East', 'West'],\n",
    "    'Jan_Sales': [200, 150, 300, 250],\n",
    "    'Feb_Sales': [220, 160, 310, 260],\n",
    "    'Mar_Sales': [210, 155, 305, 255]\n",
    "})"
   ]
  },
  {
   "cell_type": "code",
   "execution_count": 9,
   "id": "3630fac1",
   "metadata": {},
   "outputs": [
    {
     "data": {
      "application/vnd.microsoft.datawrangler.viewer.v0+json": {
       "columns": [
        {
         "name": "index",
         "rawType": "int64",
         "type": "integer"
        },
        {
         "name": "Region",
         "rawType": "object",
         "type": "string"
        },
        {
         "name": "Jan_Sales",
         "rawType": "int64",
         "type": "integer"
        },
        {
         "name": "Feb_Sales",
         "rawType": "int64",
         "type": "integer"
        },
        {
         "name": "Mar_Sales",
         "rawType": "int64",
         "type": "integer"
        }
       ],
       "conversionMethod": "pd.DataFrame",
       "ref": "05826a33-7c69-4795-bcf1-1a0abd2d7429",
       "rows": [
        [
         "0",
         "North",
         "200",
         "220",
         "210"
        ],
        [
         "1",
         "South",
         "150",
         "160",
         "155"
        ],
        [
         "2",
         "East",
         "300",
         "310",
         "305"
        ],
        [
         "3",
         "West",
         "250",
         "260",
         "255"
        ]
       ],
       "shape": {
        "columns": 4,
        "rows": 4
       }
      },
      "text/html": [
       "<div>\n",
       "<style scoped>\n",
       "    .dataframe tbody tr th:only-of-type {\n",
       "        vertical-align: middle;\n",
       "    }\n",
       "\n",
       "    .dataframe tbody tr th {\n",
       "        vertical-align: top;\n",
       "    }\n",
       "\n",
       "    .dataframe thead th {\n",
       "        text-align: right;\n",
       "    }\n",
       "</style>\n",
       "<table border=\"1\" class=\"dataframe\">\n",
       "  <thead>\n",
       "    <tr style=\"text-align: right;\">\n",
       "      <th></th>\n",
       "      <th>Region</th>\n",
       "      <th>Jan_Sales</th>\n",
       "      <th>Feb_Sales</th>\n",
       "      <th>Mar_Sales</th>\n",
       "    </tr>\n",
       "  </thead>\n",
       "  <tbody>\n",
       "    <tr>\n",
       "      <th>0</th>\n",
       "      <td>North</td>\n",
       "      <td>200</td>\n",
       "      <td>220</td>\n",
       "      <td>210</td>\n",
       "    </tr>\n",
       "    <tr>\n",
       "      <th>1</th>\n",
       "      <td>South</td>\n",
       "      <td>150</td>\n",
       "      <td>160</td>\n",
       "      <td>155</td>\n",
       "    </tr>\n",
       "    <tr>\n",
       "      <th>2</th>\n",
       "      <td>East</td>\n",
       "      <td>300</td>\n",
       "      <td>310</td>\n",
       "      <td>305</td>\n",
       "    </tr>\n",
       "    <tr>\n",
       "      <th>3</th>\n",
       "      <td>West</td>\n",
       "      <td>250</td>\n",
       "      <td>260</td>\n",
       "      <td>255</td>\n",
       "    </tr>\n",
       "  </tbody>\n",
       "</table>\n",
       "</div>"
      ],
      "text/plain": [
       "  Region  Jan_Sales  Feb_Sales  Mar_Sales\n",
       "0  North        200        220        210\n",
       "1  South        150        160        155\n",
       "2   East        300        310        305\n",
       "3   West        250        260        255"
      ]
     },
     "execution_count": 9,
     "metadata": {},
     "output_type": "execute_result"
    }
   ],
   "source": [
    "df_sales"
   ]
  },
  {
   "cell_type": "code",
   "execution_count": 10,
   "id": "256f49b2",
   "metadata": {},
   "outputs": [],
   "source": [
    "# Melt the DataFrame to create a long-format version\n",
    "melted_sales = df_sales.melt(\n",
    "    id_vars=['Region'],  # 'Region' is the identifier\n",
    "    var_name='Month',  # New column to hold month names\n",
    "    value_name='Sales'  # New column to hold the sales figures\n",
    ")"
   ]
  },
  {
   "cell_type": "code",
   "execution_count": 11,
   "id": "f3f1e48b",
   "metadata": {},
   "outputs": [
    {
     "data": {
      "application/vnd.microsoft.datawrangler.viewer.v0+json": {
       "columns": [
        {
         "name": "index",
         "rawType": "int64",
         "type": "integer"
        },
        {
         "name": "Region",
         "rawType": "object",
         "type": "string"
        },
        {
         "name": "Month",
         "rawType": "object",
         "type": "string"
        },
        {
         "name": "Sales",
         "rawType": "int64",
         "type": "integer"
        }
       ],
       "conversionMethod": "pd.DataFrame",
       "ref": "463ece16-0f84-4152-b702-9f5f153459ec",
       "rows": [
        [
         "0",
         "North",
         "Jan_Sales",
         "200"
        ],
        [
         "1",
         "South",
         "Jan_Sales",
         "150"
        ],
        [
         "2",
         "East",
         "Jan_Sales",
         "300"
        ],
        [
         "3",
         "West",
         "Jan_Sales",
         "250"
        ],
        [
         "4",
         "North",
         "Feb_Sales",
         "220"
        ],
        [
         "5",
         "South",
         "Feb_Sales",
         "160"
        ],
        [
         "6",
         "East",
         "Feb_Sales",
         "310"
        ],
        [
         "7",
         "West",
         "Feb_Sales",
         "260"
        ],
        [
         "8",
         "North",
         "Mar_Sales",
         "210"
        ],
        [
         "9",
         "South",
         "Mar_Sales",
         "155"
        ],
        [
         "10",
         "East",
         "Mar_Sales",
         "305"
        ],
        [
         "11",
         "West",
         "Mar_Sales",
         "255"
        ]
       ],
       "shape": {
        "columns": 3,
        "rows": 12
       }
      },
      "text/html": [
       "<div>\n",
       "<style scoped>\n",
       "    .dataframe tbody tr th:only-of-type {\n",
       "        vertical-align: middle;\n",
       "    }\n",
       "\n",
       "    .dataframe tbody tr th {\n",
       "        vertical-align: top;\n",
       "    }\n",
       "\n",
       "    .dataframe thead th {\n",
       "        text-align: right;\n",
       "    }\n",
       "</style>\n",
       "<table border=\"1\" class=\"dataframe\">\n",
       "  <thead>\n",
       "    <tr style=\"text-align: right;\">\n",
       "      <th></th>\n",
       "      <th>Region</th>\n",
       "      <th>Month</th>\n",
       "      <th>Sales</th>\n",
       "    </tr>\n",
       "  </thead>\n",
       "  <tbody>\n",
       "    <tr>\n",
       "      <th>0</th>\n",
       "      <td>North</td>\n",
       "      <td>Jan_Sales</td>\n",
       "      <td>200</td>\n",
       "    </tr>\n",
       "    <tr>\n",
       "      <th>1</th>\n",
       "      <td>South</td>\n",
       "      <td>Jan_Sales</td>\n",
       "      <td>150</td>\n",
       "    </tr>\n",
       "    <tr>\n",
       "      <th>2</th>\n",
       "      <td>East</td>\n",
       "      <td>Jan_Sales</td>\n",
       "      <td>300</td>\n",
       "    </tr>\n",
       "    <tr>\n",
       "      <th>3</th>\n",
       "      <td>West</td>\n",
       "      <td>Jan_Sales</td>\n",
       "      <td>250</td>\n",
       "    </tr>\n",
       "    <tr>\n",
       "      <th>4</th>\n",
       "      <td>North</td>\n",
       "      <td>Feb_Sales</td>\n",
       "      <td>220</td>\n",
       "    </tr>\n",
       "    <tr>\n",
       "      <th>5</th>\n",
       "      <td>South</td>\n",
       "      <td>Feb_Sales</td>\n",
       "      <td>160</td>\n",
       "    </tr>\n",
       "    <tr>\n",
       "      <th>6</th>\n",
       "      <td>East</td>\n",
       "      <td>Feb_Sales</td>\n",
       "      <td>310</td>\n",
       "    </tr>\n",
       "    <tr>\n",
       "      <th>7</th>\n",
       "      <td>West</td>\n",
       "      <td>Feb_Sales</td>\n",
       "      <td>260</td>\n",
       "    </tr>\n",
       "    <tr>\n",
       "      <th>8</th>\n",
       "      <td>North</td>\n",
       "      <td>Mar_Sales</td>\n",
       "      <td>210</td>\n",
       "    </tr>\n",
       "    <tr>\n",
       "      <th>9</th>\n",
       "      <td>South</td>\n",
       "      <td>Mar_Sales</td>\n",
       "      <td>155</td>\n",
       "    </tr>\n",
       "    <tr>\n",
       "      <th>10</th>\n",
       "      <td>East</td>\n",
       "      <td>Mar_Sales</td>\n",
       "      <td>305</td>\n",
       "    </tr>\n",
       "    <tr>\n",
       "      <th>11</th>\n",
       "      <td>West</td>\n",
       "      <td>Mar_Sales</td>\n",
       "      <td>255</td>\n",
       "    </tr>\n",
       "  </tbody>\n",
       "</table>\n",
       "</div>"
      ],
      "text/plain": [
       "   Region      Month  Sales\n",
       "0   North  Jan_Sales    200\n",
       "1   South  Jan_Sales    150\n",
       "2    East  Jan_Sales    300\n",
       "3    West  Jan_Sales    250\n",
       "4   North  Feb_Sales    220\n",
       "5   South  Feb_Sales    160\n",
       "6    East  Feb_Sales    310\n",
       "7    West  Feb_Sales    260\n",
       "8   North  Mar_Sales    210\n",
       "9   South  Mar_Sales    155\n",
       "10   East  Mar_Sales    305\n",
       "11   West  Mar_Sales    255"
      ]
     },
     "execution_count": 11,
     "metadata": {},
     "output_type": "execute_result"
    }
   ],
   "source": [
    "melted_sales"
   ]
  },
  {
   "cell_type": "markdown",
   "id": "731c84a2",
   "metadata": {},
   "source": [
    "### Tidying Up the New “Month” Column\n",
    "\n",
    "If you want to remove the `_Sales` suffix from the month names, you can do so with simple string manipulation:"
   ]
  },
  {
   "cell_type": "code",
   "execution_count": 12,
   "id": "1cf3e122",
   "metadata": {},
   "outputs": [],
   "source": [
    "# Remove the '_Sales' suffix to tidy up the month names\n",
    "melted_sales['Month'] = melted_sales['Month'].str.replace(\n",
    "    '_Sales', '', regex=False)"
   ]
  },
  {
   "cell_type": "code",
   "execution_count": 13,
   "id": "0ebe07e3",
   "metadata": {},
   "outputs": [
    {
     "data": {
      "application/vnd.microsoft.datawrangler.viewer.v0+json": {
       "columns": [
        {
         "name": "index",
         "rawType": "int64",
         "type": "integer"
        },
        {
         "name": "Region",
         "rawType": "object",
         "type": "string"
        },
        {
         "name": "Month",
         "rawType": "object",
         "type": "string"
        },
        {
         "name": "Sales",
         "rawType": "int64",
         "type": "integer"
        }
       ],
       "conversionMethod": "pd.DataFrame",
       "ref": "412c7a92-5e0b-45f0-8b5a-bf855b7edb8d",
       "rows": [
        [
         "0",
         "North",
         "Jan",
         "200"
        ],
        [
         "1",
         "South",
         "Jan",
         "150"
        ],
        [
         "2",
         "East",
         "Jan",
         "300"
        ],
        [
         "3",
         "West",
         "Jan",
         "250"
        ],
        [
         "4",
         "North",
         "Feb",
         "220"
        ],
        [
         "5",
         "South",
         "Feb",
         "160"
        ],
        [
         "6",
         "East",
         "Feb",
         "310"
        ],
        [
         "7",
         "West",
         "Feb",
         "260"
        ],
        [
         "8",
         "North",
         "Mar",
         "210"
        ],
        [
         "9",
         "South",
         "Mar",
         "155"
        ],
        [
         "10",
         "East",
         "Mar",
         "305"
        ],
        [
         "11",
         "West",
         "Mar",
         "255"
        ]
       ],
       "shape": {
        "columns": 3,
        "rows": 12
       }
      },
      "text/html": [
       "<div>\n",
       "<style scoped>\n",
       "    .dataframe tbody tr th:only-of-type {\n",
       "        vertical-align: middle;\n",
       "    }\n",
       "\n",
       "    .dataframe tbody tr th {\n",
       "        vertical-align: top;\n",
       "    }\n",
       "\n",
       "    .dataframe thead th {\n",
       "        text-align: right;\n",
       "    }\n",
       "</style>\n",
       "<table border=\"1\" class=\"dataframe\">\n",
       "  <thead>\n",
       "    <tr style=\"text-align: right;\">\n",
       "      <th></th>\n",
       "      <th>Region</th>\n",
       "      <th>Month</th>\n",
       "      <th>Sales</th>\n",
       "    </tr>\n",
       "  </thead>\n",
       "  <tbody>\n",
       "    <tr>\n",
       "      <th>0</th>\n",
       "      <td>North</td>\n",
       "      <td>Jan</td>\n",
       "      <td>200</td>\n",
       "    </tr>\n",
       "    <tr>\n",
       "      <th>1</th>\n",
       "      <td>South</td>\n",
       "      <td>Jan</td>\n",
       "      <td>150</td>\n",
       "    </tr>\n",
       "    <tr>\n",
       "      <th>2</th>\n",
       "      <td>East</td>\n",
       "      <td>Jan</td>\n",
       "      <td>300</td>\n",
       "    </tr>\n",
       "    <tr>\n",
       "      <th>3</th>\n",
       "      <td>West</td>\n",
       "      <td>Jan</td>\n",
       "      <td>250</td>\n",
       "    </tr>\n",
       "    <tr>\n",
       "      <th>4</th>\n",
       "      <td>North</td>\n",
       "      <td>Feb</td>\n",
       "      <td>220</td>\n",
       "    </tr>\n",
       "    <tr>\n",
       "      <th>5</th>\n",
       "      <td>South</td>\n",
       "      <td>Feb</td>\n",
       "      <td>160</td>\n",
       "    </tr>\n",
       "    <tr>\n",
       "      <th>6</th>\n",
       "      <td>East</td>\n",
       "      <td>Feb</td>\n",
       "      <td>310</td>\n",
       "    </tr>\n",
       "    <tr>\n",
       "      <th>7</th>\n",
       "      <td>West</td>\n",
       "      <td>Feb</td>\n",
       "      <td>260</td>\n",
       "    </tr>\n",
       "    <tr>\n",
       "      <th>8</th>\n",
       "      <td>North</td>\n",
       "      <td>Mar</td>\n",
       "      <td>210</td>\n",
       "    </tr>\n",
       "    <tr>\n",
       "      <th>9</th>\n",
       "      <td>South</td>\n",
       "      <td>Mar</td>\n",
       "      <td>155</td>\n",
       "    </tr>\n",
       "    <tr>\n",
       "      <th>10</th>\n",
       "      <td>East</td>\n",
       "      <td>Mar</td>\n",
       "      <td>305</td>\n",
       "    </tr>\n",
       "    <tr>\n",
       "      <th>11</th>\n",
       "      <td>West</td>\n",
       "      <td>Mar</td>\n",
       "      <td>255</td>\n",
       "    </tr>\n",
       "  </tbody>\n",
       "</table>\n",
       "</div>"
      ],
      "text/plain": [
       "   Region Month  Sales\n",
       "0   North   Jan    200\n",
       "1   South   Jan    150\n",
       "2    East   Jan    300\n",
       "3    West   Jan    250\n",
       "4   North   Feb    220\n",
       "5   South   Feb    160\n",
       "6    East   Feb    310\n",
       "7    West   Feb    260\n",
       "8   North   Mar    210\n",
       "9   South   Mar    155\n",
       "10   East   Mar    305\n",
       "11   West   Mar    255"
      ]
     },
     "execution_count": 13,
     "metadata": {},
     "output_type": "execute_result"
    }
   ],
   "source": [
    "melted_sales"
   ]
  },
  {
   "cell_type": "markdown",
   "id": "bd0e0453",
   "metadata": {},
   "source": [
    "This transformation now makes it easier to visualize trends over months—for example, you could use line plots to compare sales trends region-wise."
   ]
  },
  {
   "cell_type": "markdown",
   "id": "6daf2bf5",
   "metadata": {},
   "source": [
    "## Example: Handling Compound Column Names\n",
    "\n",
    "Sometimes your column names may encode multiple pieces of information. For example, consider a DataFrame where each column contains both the measurement type (e.g., Score, Grade) and the subject:"
   ]
  },
  {
   "cell_type": "code",
   "execution_count": 14,
   "id": "cce8a99a",
   "metadata": {},
   "outputs": [],
   "source": [
    "# Create a DataFrame with compound column names\n",
    "df_combined = pd.DataFrame({\n",
    "    'Student': ['Alice', 'Bob', 'Charlie'],\n",
    "    'Score_Maths': [90, 80, 70],\n",
    "    'Score_English': [85, 75, 95],\n",
    "    'Grade_Maths': ['A', 'B', 'C'],\n",
    "    'Grade_English': ['B', 'C', 'A']\n",
    "})"
   ]
  },
  {
   "cell_type": "code",
   "execution_count": 15,
   "id": "9ac87783",
   "metadata": {},
   "outputs": [
    {
     "data": {
      "application/vnd.microsoft.datawrangler.viewer.v0+json": {
       "columns": [
        {
         "name": "index",
         "rawType": "int64",
         "type": "integer"
        },
        {
         "name": "Student",
         "rawType": "object",
         "type": "string"
        },
        {
         "name": "Score_Maths",
         "rawType": "int64",
         "type": "integer"
        },
        {
         "name": "Score_English",
         "rawType": "int64",
         "type": "integer"
        },
        {
         "name": "Grade_Maths",
         "rawType": "object",
         "type": "string"
        },
        {
         "name": "Grade_English",
         "rawType": "object",
         "type": "string"
        }
       ],
       "conversionMethod": "pd.DataFrame",
       "ref": "1f871914-1db3-4357-90ff-985de285eebf",
       "rows": [
        [
         "0",
         "Alice",
         "90",
         "85",
         "A",
         "B"
        ],
        [
         "1",
         "Bob",
         "80",
         "75",
         "B",
         "C"
        ],
        [
         "2",
         "Charlie",
         "70",
         "95",
         "C",
         "A"
        ]
       ],
       "shape": {
        "columns": 5,
        "rows": 3
       }
      },
      "text/html": [
       "<div>\n",
       "<style scoped>\n",
       "    .dataframe tbody tr th:only-of-type {\n",
       "        vertical-align: middle;\n",
       "    }\n",
       "\n",
       "    .dataframe tbody tr th {\n",
       "        vertical-align: top;\n",
       "    }\n",
       "\n",
       "    .dataframe thead th {\n",
       "        text-align: right;\n",
       "    }\n",
       "</style>\n",
       "<table border=\"1\" class=\"dataframe\">\n",
       "  <thead>\n",
       "    <tr style=\"text-align: right;\">\n",
       "      <th></th>\n",
       "      <th>Student</th>\n",
       "      <th>Score_Maths</th>\n",
       "      <th>Score_English</th>\n",
       "      <th>Grade_Maths</th>\n",
       "      <th>Grade_English</th>\n",
       "    </tr>\n",
       "  </thead>\n",
       "  <tbody>\n",
       "    <tr>\n",
       "      <th>0</th>\n",
       "      <td>Alice</td>\n",
       "      <td>90</td>\n",
       "      <td>85</td>\n",
       "      <td>A</td>\n",
       "      <td>B</td>\n",
       "    </tr>\n",
       "    <tr>\n",
       "      <th>1</th>\n",
       "      <td>Bob</td>\n",
       "      <td>80</td>\n",
       "      <td>75</td>\n",
       "      <td>B</td>\n",
       "      <td>C</td>\n",
       "    </tr>\n",
       "    <tr>\n",
       "      <th>2</th>\n",
       "      <td>Charlie</td>\n",
       "      <td>70</td>\n",
       "      <td>95</td>\n",
       "      <td>C</td>\n",
       "      <td>A</td>\n",
       "    </tr>\n",
       "  </tbody>\n",
       "</table>\n",
       "</div>"
      ],
      "text/plain": [
       "   Student  Score_Maths  Score_English Grade_Maths Grade_English\n",
       "0    Alice           90             85           A             B\n",
       "1      Bob           80             75           B             C\n",
       "2  Charlie           70             95           C             A"
      ]
     },
     "execution_count": 15,
     "metadata": {},
     "output_type": "execute_result"
    }
   ],
   "source": [
    "df_combined"
   ]
  },
  {
   "cell_type": "markdown",
   "id": "d8c47096",
   "metadata": {},
   "source": [
    "### Step 1. Melting Scores and Grades Separately\n",
    "\n",
    "It might be best to melt the columns of similar types together. First, let’s melt the scores:"
   ]
  },
  {
   "cell_type": "code",
   "execution_count": 16,
   "id": "c0d354bf",
   "metadata": {},
   "outputs": [],
   "source": [
    "# Melt only the score columns\n",
    "melted_scores = df_combined.melt(\n",
    "    id_vars=['Student'],\n",
    "    value_vars=['Score_Maths', 'Score_English'],\n",
    "    var_name='Subject_Info',\n",
    "    value_name='Score'\n",
    ")"
   ]
  },
  {
   "cell_type": "code",
   "execution_count": 17,
   "id": "e762edb6",
   "metadata": {},
   "outputs": [
    {
     "data": {
      "application/vnd.microsoft.datawrangler.viewer.v0+json": {
       "columns": [
        {
         "name": "index",
         "rawType": "int64",
         "type": "integer"
        },
        {
         "name": "Student",
         "rawType": "object",
         "type": "string"
        },
        {
         "name": "Subject_Info",
         "rawType": "object",
         "type": "string"
        },
        {
         "name": "Score",
         "rawType": "int64",
         "type": "integer"
        }
       ],
       "conversionMethod": "pd.DataFrame",
       "ref": "905d41b9-4d8e-4ce5-a9db-8892c71f6a60",
       "rows": [
        [
         "0",
         "Alice",
         "Score_Maths",
         "90"
        ],
        [
         "1",
         "Bob",
         "Score_Maths",
         "80"
        ],
        [
         "2",
         "Charlie",
         "Score_Maths",
         "70"
        ],
        [
         "3",
         "Alice",
         "Score_English",
         "85"
        ],
        [
         "4",
         "Bob",
         "Score_English",
         "75"
        ],
        [
         "5",
         "Charlie",
         "Score_English",
         "95"
        ]
       ],
       "shape": {
        "columns": 3,
        "rows": 6
       }
      },
      "text/html": [
       "<div>\n",
       "<style scoped>\n",
       "    .dataframe tbody tr th:only-of-type {\n",
       "        vertical-align: middle;\n",
       "    }\n",
       "\n",
       "    .dataframe tbody tr th {\n",
       "        vertical-align: top;\n",
       "    }\n",
       "\n",
       "    .dataframe thead th {\n",
       "        text-align: right;\n",
       "    }\n",
       "</style>\n",
       "<table border=\"1\" class=\"dataframe\">\n",
       "  <thead>\n",
       "    <tr style=\"text-align: right;\">\n",
       "      <th></th>\n",
       "      <th>Student</th>\n",
       "      <th>Subject_Info</th>\n",
       "      <th>Score</th>\n",
       "    </tr>\n",
       "  </thead>\n",
       "  <tbody>\n",
       "    <tr>\n",
       "      <th>0</th>\n",
       "      <td>Alice</td>\n",
       "      <td>Score_Maths</td>\n",
       "      <td>90</td>\n",
       "    </tr>\n",
       "    <tr>\n",
       "      <th>1</th>\n",
       "      <td>Bob</td>\n",
       "      <td>Score_Maths</td>\n",
       "      <td>80</td>\n",
       "    </tr>\n",
       "    <tr>\n",
       "      <th>2</th>\n",
       "      <td>Charlie</td>\n",
       "      <td>Score_Maths</td>\n",
       "      <td>70</td>\n",
       "    </tr>\n",
       "    <tr>\n",
       "      <th>3</th>\n",
       "      <td>Alice</td>\n",
       "      <td>Score_English</td>\n",
       "      <td>85</td>\n",
       "    </tr>\n",
       "    <tr>\n",
       "      <th>4</th>\n",
       "      <td>Bob</td>\n",
       "      <td>Score_English</td>\n",
       "      <td>75</td>\n",
       "    </tr>\n",
       "    <tr>\n",
       "      <th>5</th>\n",
       "      <td>Charlie</td>\n",
       "      <td>Score_English</td>\n",
       "      <td>95</td>\n",
       "    </tr>\n",
       "  </tbody>\n",
       "</table>\n",
       "</div>"
      ],
      "text/plain": [
       "   Student   Subject_Info  Score\n",
       "0    Alice    Score_Maths     90\n",
       "1      Bob    Score_Maths     80\n",
       "2  Charlie    Score_Maths     70\n",
       "3    Alice  Score_English     85\n",
       "4      Bob  Score_English     75\n",
       "5  Charlie  Score_English     95"
      ]
     },
     "execution_count": 17,
     "metadata": {},
     "output_type": "execute_result"
    }
   ],
   "source": [
    "melted_scores"
   ]
  },
  {
   "cell_type": "markdown",
   "id": "e5f681cb",
   "metadata": {},
   "source": [
    "Then, melt the grade columns:"
   ]
  },
  {
   "cell_type": "code",
   "execution_count": 18,
   "id": "55e373fb",
   "metadata": {},
   "outputs": [],
   "source": [
    "# Melt the grade columns\n",
    "melted_grades = df_combined.melt(\n",
    "    id_vars=['Student'],\n",
    "    value_vars=['Grade_Maths', 'Grade_English'],\n",
    "    var_name='Subject_Info',\n",
    "    value_name='Grade'\n",
    ")"
   ]
  },
  {
   "cell_type": "code",
   "execution_count": 19,
   "id": "c96bef24",
   "metadata": {},
   "outputs": [
    {
     "data": {
      "application/vnd.microsoft.datawrangler.viewer.v0+json": {
       "columns": [
        {
         "name": "index",
         "rawType": "int64",
         "type": "integer"
        },
        {
         "name": "Student",
         "rawType": "object",
         "type": "string"
        },
        {
         "name": "Subject_Info",
         "rawType": "object",
         "type": "string"
        },
        {
         "name": "Grade",
         "rawType": "object",
         "type": "string"
        }
       ],
       "conversionMethod": "pd.DataFrame",
       "ref": "7f1dba07-093d-4ce1-9f32-b8a1989bd1a0",
       "rows": [
        [
         "0",
         "Alice",
         "Grade_Maths",
         "A"
        ],
        [
         "1",
         "Bob",
         "Grade_Maths",
         "B"
        ],
        [
         "2",
         "Charlie",
         "Grade_Maths",
         "C"
        ],
        [
         "3",
         "Alice",
         "Grade_English",
         "B"
        ],
        [
         "4",
         "Bob",
         "Grade_English",
         "C"
        ],
        [
         "5",
         "Charlie",
         "Grade_English",
         "A"
        ]
       ],
       "shape": {
        "columns": 3,
        "rows": 6
       }
      },
      "text/html": [
       "<div>\n",
       "<style scoped>\n",
       "    .dataframe tbody tr th:only-of-type {\n",
       "        vertical-align: middle;\n",
       "    }\n",
       "\n",
       "    .dataframe tbody tr th {\n",
       "        vertical-align: top;\n",
       "    }\n",
       "\n",
       "    .dataframe thead th {\n",
       "        text-align: right;\n",
       "    }\n",
       "</style>\n",
       "<table border=\"1\" class=\"dataframe\">\n",
       "  <thead>\n",
       "    <tr style=\"text-align: right;\">\n",
       "      <th></th>\n",
       "      <th>Student</th>\n",
       "      <th>Subject_Info</th>\n",
       "      <th>Grade</th>\n",
       "    </tr>\n",
       "  </thead>\n",
       "  <tbody>\n",
       "    <tr>\n",
       "      <th>0</th>\n",
       "      <td>Alice</td>\n",
       "      <td>Grade_Maths</td>\n",
       "      <td>A</td>\n",
       "    </tr>\n",
       "    <tr>\n",
       "      <th>1</th>\n",
       "      <td>Bob</td>\n",
       "      <td>Grade_Maths</td>\n",
       "      <td>B</td>\n",
       "    </tr>\n",
       "    <tr>\n",
       "      <th>2</th>\n",
       "      <td>Charlie</td>\n",
       "      <td>Grade_Maths</td>\n",
       "      <td>C</td>\n",
       "    </tr>\n",
       "    <tr>\n",
       "      <th>3</th>\n",
       "      <td>Alice</td>\n",
       "      <td>Grade_English</td>\n",
       "      <td>B</td>\n",
       "    </tr>\n",
       "    <tr>\n",
       "      <th>4</th>\n",
       "      <td>Bob</td>\n",
       "      <td>Grade_English</td>\n",
       "      <td>C</td>\n",
       "    </tr>\n",
       "    <tr>\n",
       "      <th>5</th>\n",
       "      <td>Charlie</td>\n",
       "      <td>Grade_English</td>\n",
       "      <td>A</td>\n",
       "    </tr>\n",
       "  </tbody>\n",
       "</table>\n",
       "</div>"
      ],
      "text/plain": [
       "   Student   Subject_Info Grade\n",
       "0    Alice    Grade_Maths     A\n",
       "1      Bob    Grade_Maths     B\n",
       "2  Charlie    Grade_Maths     C\n",
       "3    Alice  Grade_English     B\n",
       "4      Bob  Grade_English     C\n",
       "5  Charlie  Grade_English     A"
      ]
     },
     "execution_count": 19,
     "metadata": {},
     "output_type": "execute_result"
    }
   ],
   "source": [
    "melted_grades"
   ]
  },
  {
   "cell_type": "markdown",
   "id": "286e5171",
   "metadata": {},
   "source": [
    "### Step 2. Splitting the Compound Column Names\n",
    "\n",
    "Now that you have a column (named `Subject_Info`) that looks like `\"Score_Maths\"` or `\"Grade_English\"`, you can split this column to extract the subject:"
   ]
  },
  {
   "cell_type": "code",
   "execution_count": 20,
   "id": "900be08c",
   "metadata": {},
   "outputs": [],
   "source": [
    "# Extract the subject part from 'Subject_Info'\n",
    "melted_scores['Subject'] = melted_scores['Subject_Info'].str.split('_').str[1]\n",
    "melted_grades['Subject'] = melted_grades['Subject_Info'].str.split('_').str[1]"
   ]
  },
  {
   "cell_type": "code",
   "execution_count": 21,
   "id": "e27e85af",
   "metadata": {},
   "outputs": [
    {
     "name": "stdout",
     "output_type": "stream",
     "text": [
      "Scores with Extracted Subject:\n"
     ]
    },
    {
     "data": {
      "application/vnd.microsoft.datawrangler.viewer.v0+json": {
       "columns": [
        {
         "name": "index",
         "rawType": "int64",
         "type": "integer"
        },
        {
         "name": "Student",
         "rawType": "object",
         "type": "string"
        },
        {
         "name": "Subject_Info",
         "rawType": "object",
         "type": "string"
        },
        {
         "name": "Score",
         "rawType": "int64",
         "type": "integer"
        },
        {
         "name": "Subject",
         "rawType": "object",
         "type": "string"
        }
       ],
       "conversionMethod": "pd.DataFrame",
       "ref": "a11b5ab6-4bf6-4859-8ea5-6b9e44e94fa8",
       "rows": [
        [
         "0",
         "Alice",
         "Score_Maths",
         "90",
         "Maths"
        ],
        [
         "1",
         "Bob",
         "Score_Maths",
         "80",
         "Maths"
        ],
        [
         "2",
         "Charlie",
         "Score_Maths",
         "70",
         "Maths"
        ],
        [
         "3",
         "Alice",
         "Score_English",
         "85",
         "English"
        ],
        [
         "4",
         "Bob",
         "Score_English",
         "75",
         "English"
        ],
        [
         "5",
         "Charlie",
         "Score_English",
         "95",
         "English"
        ]
       ],
       "shape": {
        "columns": 4,
        "rows": 6
       }
      },
      "text/html": [
       "<div>\n",
       "<style scoped>\n",
       "    .dataframe tbody tr th:only-of-type {\n",
       "        vertical-align: middle;\n",
       "    }\n",
       "\n",
       "    .dataframe tbody tr th {\n",
       "        vertical-align: top;\n",
       "    }\n",
       "\n",
       "    .dataframe thead th {\n",
       "        text-align: right;\n",
       "    }\n",
       "</style>\n",
       "<table border=\"1\" class=\"dataframe\">\n",
       "  <thead>\n",
       "    <tr style=\"text-align: right;\">\n",
       "      <th></th>\n",
       "      <th>Student</th>\n",
       "      <th>Subject_Info</th>\n",
       "      <th>Score</th>\n",
       "      <th>Subject</th>\n",
       "    </tr>\n",
       "  </thead>\n",
       "  <tbody>\n",
       "    <tr>\n",
       "      <th>0</th>\n",
       "      <td>Alice</td>\n",
       "      <td>Score_Maths</td>\n",
       "      <td>90</td>\n",
       "      <td>Maths</td>\n",
       "    </tr>\n",
       "    <tr>\n",
       "      <th>1</th>\n",
       "      <td>Bob</td>\n",
       "      <td>Score_Maths</td>\n",
       "      <td>80</td>\n",
       "      <td>Maths</td>\n",
       "    </tr>\n",
       "    <tr>\n",
       "      <th>2</th>\n",
       "      <td>Charlie</td>\n",
       "      <td>Score_Maths</td>\n",
       "      <td>70</td>\n",
       "      <td>Maths</td>\n",
       "    </tr>\n",
       "    <tr>\n",
       "      <th>3</th>\n",
       "      <td>Alice</td>\n",
       "      <td>Score_English</td>\n",
       "      <td>85</td>\n",
       "      <td>English</td>\n",
       "    </tr>\n",
       "    <tr>\n",
       "      <th>4</th>\n",
       "      <td>Bob</td>\n",
       "      <td>Score_English</td>\n",
       "      <td>75</td>\n",
       "      <td>English</td>\n",
       "    </tr>\n",
       "    <tr>\n",
       "      <th>5</th>\n",
       "      <td>Charlie</td>\n",
       "      <td>Score_English</td>\n",
       "      <td>95</td>\n",
       "      <td>English</td>\n",
       "    </tr>\n",
       "  </tbody>\n",
       "</table>\n",
       "</div>"
      ],
      "text/plain": [
       "   Student   Subject_Info  Score  Subject\n",
       "0    Alice    Score_Maths     90    Maths\n",
       "1      Bob    Score_Maths     80    Maths\n",
       "2  Charlie    Score_Maths     70    Maths\n",
       "3    Alice  Score_English     85  English\n",
       "4      Bob  Score_English     75  English\n",
       "5  Charlie  Score_English     95  English"
      ]
     },
     "execution_count": 21,
     "metadata": {},
     "output_type": "execute_result"
    }
   ],
   "source": [
    "print(\"Scores with Extracted Subject:\")\n",
    "melted_scores"
   ]
  },
  {
   "cell_type": "code",
   "execution_count": 22,
   "id": "768cdac4",
   "metadata": {},
   "outputs": [
    {
     "name": "stdout",
     "output_type": "stream",
     "text": [
      "Grades with Extracted Subject:\n"
     ]
    },
    {
     "data": {
      "application/vnd.microsoft.datawrangler.viewer.v0+json": {
       "columns": [
        {
         "name": "index",
         "rawType": "int64",
         "type": "integer"
        },
        {
         "name": "Student",
         "rawType": "object",
         "type": "string"
        },
        {
         "name": "Subject_Info",
         "rawType": "object",
         "type": "string"
        },
        {
         "name": "Grade",
         "rawType": "object",
         "type": "string"
        },
        {
         "name": "Subject",
         "rawType": "object",
         "type": "string"
        }
       ],
       "conversionMethod": "pd.DataFrame",
       "ref": "81460eea-a440-4153-81c7-24902cb9aaee",
       "rows": [
        [
         "0",
         "Alice",
         "Grade_Maths",
         "A",
         "Maths"
        ],
        [
         "1",
         "Bob",
         "Grade_Maths",
         "B",
         "Maths"
        ],
        [
         "2",
         "Charlie",
         "Grade_Maths",
         "C",
         "Maths"
        ],
        [
         "3",
         "Alice",
         "Grade_English",
         "B",
         "English"
        ],
        [
         "4",
         "Bob",
         "Grade_English",
         "C",
         "English"
        ],
        [
         "5",
         "Charlie",
         "Grade_English",
         "A",
         "English"
        ]
       ],
       "shape": {
        "columns": 4,
        "rows": 6
       }
      },
      "text/html": [
       "<div>\n",
       "<style scoped>\n",
       "    .dataframe tbody tr th:only-of-type {\n",
       "        vertical-align: middle;\n",
       "    }\n",
       "\n",
       "    .dataframe tbody tr th {\n",
       "        vertical-align: top;\n",
       "    }\n",
       "\n",
       "    .dataframe thead th {\n",
       "        text-align: right;\n",
       "    }\n",
       "</style>\n",
       "<table border=\"1\" class=\"dataframe\">\n",
       "  <thead>\n",
       "    <tr style=\"text-align: right;\">\n",
       "      <th></th>\n",
       "      <th>Student</th>\n",
       "      <th>Subject_Info</th>\n",
       "      <th>Grade</th>\n",
       "      <th>Subject</th>\n",
       "    </tr>\n",
       "  </thead>\n",
       "  <tbody>\n",
       "    <tr>\n",
       "      <th>0</th>\n",
       "      <td>Alice</td>\n",
       "      <td>Grade_Maths</td>\n",
       "      <td>A</td>\n",
       "      <td>Maths</td>\n",
       "    </tr>\n",
       "    <tr>\n",
       "      <th>1</th>\n",
       "      <td>Bob</td>\n",
       "      <td>Grade_Maths</td>\n",
       "      <td>B</td>\n",
       "      <td>Maths</td>\n",
       "    </tr>\n",
       "    <tr>\n",
       "      <th>2</th>\n",
       "      <td>Charlie</td>\n",
       "      <td>Grade_Maths</td>\n",
       "      <td>C</td>\n",
       "      <td>Maths</td>\n",
       "    </tr>\n",
       "    <tr>\n",
       "      <th>3</th>\n",
       "      <td>Alice</td>\n",
       "      <td>Grade_English</td>\n",
       "      <td>B</td>\n",
       "      <td>English</td>\n",
       "    </tr>\n",
       "    <tr>\n",
       "      <th>4</th>\n",
       "      <td>Bob</td>\n",
       "      <td>Grade_English</td>\n",
       "      <td>C</td>\n",
       "      <td>English</td>\n",
       "    </tr>\n",
       "    <tr>\n",
       "      <th>5</th>\n",
       "      <td>Charlie</td>\n",
       "      <td>Grade_English</td>\n",
       "      <td>A</td>\n",
       "      <td>English</td>\n",
       "    </tr>\n",
       "  </tbody>\n",
       "</table>\n",
       "</div>"
      ],
      "text/plain": [
       "   Student   Subject_Info Grade  Subject\n",
       "0    Alice    Grade_Maths     A    Maths\n",
       "1      Bob    Grade_Maths     B    Maths\n",
       "2  Charlie    Grade_Maths     C    Maths\n",
       "3    Alice  Grade_English     B  English\n",
       "4      Bob  Grade_English     C  English\n",
       "5  Charlie  Grade_English     A  English"
      ]
     },
     "execution_count": 22,
     "metadata": {},
     "output_type": "execute_result"
    }
   ],
   "source": [
    "print(\"Grades with Extracted Subject:\")\n",
    "melted_grades"
   ]
  },
  {
   "cell_type": "markdown",
   "id": "c946ec62",
   "metadata": {},
   "source": [
    "### Step 3. Merging the Melted DataFrames\n",
    "\n",
    "Finally, you may want to merge the two DataFrames on `Student` and `Subject` so that you have one combined DataFrame with both the score and grade:"
   ]
  },
  {
   "cell_type": "code",
   "execution_count": 23,
   "id": "907770d0",
   "metadata": {},
   "outputs": [],
   "source": [
    "# Merge scores and grades on 'Student' and 'Subject'\n",
    "merged_df = pd.merge(\n",
    "    melted_scores[['Student', 'Subject', 'Score']],\n",
    "    melted_grades[['Student', 'Subject', 'Grade']],\n",
    "    on=['Student', 'Subject']\n",
    ")"
   ]
  },
  {
   "cell_type": "code",
   "execution_count": 24,
   "id": "0aa7fc7b",
   "metadata": {},
   "outputs": [
    {
     "data": {
      "application/vnd.microsoft.datawrangler.viewer.v0+json": {
       "columns": [
        {
         "name": "index",
         "rawType": "int64",
         "type": "integer"
        },
        {
         "name": "Student",
         "rawType": "object",
         "type": "string"
        },
        {
         "name": "Subject",
         "rawType": "object",
         "type": "string"
        },
        {
         "name": "Score",
         "rawType": "int64",
         "type": "integer"
        },
        {
         "name": "Grade",
         "rawType": "object",
         "type": "string"
        }
       ],
       "conversionMethod": "pd.DataFrame",
       "ref": "1b4de574-e7e0-4a44-89a9-ca615a595755",
       "rows": [
        [
         "0",
         "Alice",
         "Maths",
         "90",
         "A"
        ],
        [
         "1",
         "Bob",
         "Maths",
         "80",
         "B"
        ],
        [
         "2",
         "Charlie",
         "Maths",
         "70",
         "C"
        ],
        [
         "3",
         "Alice",
         "English",
         "85",
         "B"
        ],
        [
         "4",
         "Bob",
         "English",
         "75",
         "C"
        ],
        [
         "5",
         "Charlie",
         "English",
         "95",
         "A"
        ]
       ],
       "shape": {
        "columns": 4,
        "rows": 6
       }
      },
      "text/html": [
       "<div>\n",
       "<style scoped>\n",
       "    .dataframe tbody tr th:only-of-type {\n",
       "        vertical-align: middle;\n",
       "    }\n",
       "\n",
       "    .dataframe tbody tr th {\n",
       "        vertical-align: top;\n",
       "    }\n",
       "\n",
       "    .dataframe thead th {\n",
       "        text-align: right;\n",
       "    }\n",
       "</style>\n",
       "<table border=\"1\" class=\"dataframe\">\n",
       "  <thead>\n",
       "    <tr style=\"text-align: right;\">\n",
       "      <th></th>\n",
       "      <th>Student</th>\n",
       "      <th>Subject</th>\n",
       "      <th>Score</th>\n",
       "      <th>Grade</th>\n",
       "    </tr>\n",
       "  </thead>\n",
       "  <tbody>\n",
       "    <tr>\n",
       "      <th>0</th>\n",
       "      <td>Alice</td>\n",
       "      <td>Maths</td>\n",
       "      <td>90</td>\n",
       "      <td>A</td>\n",
       "    </tr>\n",
       "    <tr>\n",
       "      <th>1</th>\n",
       "      <td>Bob</td>\n",
       "      <td>Maths</td>\n",
       "      <td>80</td>\n",
       "      <td>B</td>\n",
       "    </tr>\n",
       "    <tr>\n",
       "      <th>2</th>\n",
       "      <td>Charlie</td>\n",
       "      <td>Maths</td>\n",
       "      <td>70</td>\n",
       "      <td>C</td>\n",
       "    </tr>\n",
       "    <tr>\n",
       "      <th>3</th>\n",
       "      <td>Alice</td>\n",
       "      <td>English</td>\n",
       "      <td>85</td>\n",
       "      <td>B</td>\n",
       "    </tr>\n",
       "    <tr>\n",
       "      <th>4</th>\n",
       "      <td>Bob</td>\n",
       "      <td>English</td>\n",
       "      <td>75</td>\n",
       "      <td>C</td>\n",
       "    </tr>\n",
       "    <tr>\n",
       "      <th>5</th>\n",
       "      <td>Charlie</td>\n",
       "      <td>English</td>\n",
       "      <td>95</td>\n",
       "      <td>A</td>\n",
       "    </tr>\n",
       "  </tbody>\n",
       "</table>\n",
       "</div>"
      ],
      "text/plain": [
       "   Student  Subject  Score Grade\n",
       "0    Alice    Maths     90     A\n",
       "1      Bob    Maths     80     B\n",
       "2  Charlie    Maths     70     C\n",
       "3    Alice  English     85     B\n",
       "4      Bob  English     75     C\n",
       "5  Charlie  English     95     A"
      ]
     },
     "execution_count": 24,
     "metadata": {},
     "output_type": "execute_result"
    }
   ],
   "source": [
    "merged_df"
   ]
  },
  {
   "cell_type": "markdown",
   "id": "a46789a6",
   "metadata": {},
   "source": [
    "This example illustrates how you can work with more complicated column names. The `melt` function is used separately for different groups of columns, then with additional string manipulation and merging, you end up with a tidy DataFrame."
   ]
  },
  {
   "cell_type": "markdown",
   "id": "1f9c732c",
   "metadata": {},
   "source": [
    "## Tips\n",
    "\n",
    "- **Identify Identifier Columns Early:** Decide which columns serve as identifiers (stay constant) and which ones are going to be melted.\n",
    "- **Name Your Output Columns Meaningfully:** Use the `var_name` and `value_name` parameters to give clear, descriptive names to the new columns.\n",
    "- **Leverage String Operations:** After melting, you can use string methods (`str.split`, `str.replace`, etc.) to further clean your new column data.\n",
    "- **Check Your Data After Melting:** Always inspect the output to verify that the transformation meets your needs.\n",
    "- **Remember the Counterpart—Pivot:** While `melt` is great for transforming data from wide to long, look into `pivot` or `pivot_table` if you ever need to reverse the process."
   ]
  }
 ],
 "metadata": {
  "kernelspec": {
   "display_name": "AI-ML-Bootcamp-24-25",
   "language": "python",
   "name": "python3"
  },
  "language_info": {
   "codemirror_mode": {
    "name": "ipython",
    "version": 3
   },
   "file_extension": ".py",
   "mimetype": "text/x-python",
   "name": "python",
   "nbconvert_exporter": "python",
   "pygments_lexer": "ipython3",
   "version": "3.12.3"
  }
 },
 "nbformat": 4,
 "nbformat_minor": 5
}
