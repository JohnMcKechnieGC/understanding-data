{
 "cells": [
  {
   "cell_type": "markdown",
   "metadata": {},
   "source": [
    "# Exploring Standard Deviation"
   ]
  },
  {
   "cell_type": "markdown",
   "metadata": {},
   "source": [
    "Standard deviation is a useful measure when performing exploratory data analysis because it provides insight into the spread or variability of your data. It does this by quantifying, on average, how far each data point lies from the mean of the dataset. Here are several key reasons why standard deviation proves useful:\n",
    "\n",
    "- Identifying Data Dispersion:<br>\n",
    "If the standard deviation is small, it indicates that most of the observations cluster tightly around the mean, suggesting relatively low variability. Conversely, a large standard deviation signals that the observations are more widely dispersed, suggesting greater variability in the dataset.\n",
    "\n",
    "- Comparing Different Datasets:<br>\n",
    "When you have multiple datasets—for instance, separate columns in a dataframe—you can compare their standard deviations to assess which variables exhibit more fluctuation. This is often one of the first steps in exploratory analysis, helping you determine which features may warrant further investigation.\n",
    "\n",
    "- Spotting Outliers and Anomalies:<br>\n",
    "While the mean alone can be skewed by extreme values, looking at the standard deviation alongside the mean can help flag outliers. If certain observations are more than a couple of standard deviations away from the mean, they might be anomalies that deserve extra scrutiny.\n",
    "\n",
    "- Understanding Distribution Shape:<br>\n",
    "Though it doesn’t replace a full examination of the data distribution (like creating histograms or boxplots), the standard deviation can hint at whether the data is spread out or tightly centred. This assists in deciding which further statistical techniques might be appropriate or whether transformations may be needed.\n",
    "\n",
    "- Normalisation and Scaling:<br>\n",
    "Standard deviation is often used in techniques that require standard scaling or z-score normalisation. By subtracting the mean and dividing by the standard deviation, each variable can be placed on a comparable scale—useful in numerous machine learning and statistical methods.\n",
    "\n",
    "Including the standard deviation in your initial data summaries helps guide further exploration. It reveals whether data is tightly packed or widely scattered, aids in spotting unusual observations, and can inform decisions on the choice of subsequent analytical or modelling methods."
   ]
  },
  {
   "cell_type": "code",
   "execution_count": 1,
   "metadata": {},
   "outputs": [],
   "source": [
    "import pandas as pd\n",
    "import numpy as np"
   ]
  },
  {
   "cell_type": "markdown",
   "metadata": {},
   "source": [
    "## First, get some data"
   ]
  },
  {
   "cell_type": "code",
   "execution_count": 2,
   "metadata": {},
   "outputs": [],
   "source": [
    "students_df = pd.read_csv('./data/students.csv')"
   ]
  },
  {
   "cell_type": "markdown",
   "metadata": {},
   "source": [
    "Before continuing, we'll get rid of rows with missing data and duplicate rows."
   ]
  },
  {
   "cell_type": "code",
   "execution_count": 3,
   "metadata": {},
   "outputs": [],
   "source": [
    "students_df = students_df.dropna().drop_duplicates()"
   ]
  },
  {
   "cell_type": "markdown",
   "metadata": {},
   "source": [
    "## Calculating the standard deviation"
   ]
  },
  {
   "cell_type": "markdown",
   "metadata": {},
   "source": [
    "The describe method gives us a statistical summary of the numeric variables in the data frame. This includes standard deviation."
   ]
  },
  {
   "cell_type": "code",
   "execution_count": 4,
   "metadata": {},
   "outputs": [
    {
     "data": {
      "text/html": [
       "<div>\n",
       "<style scoped>\n",
       "    .dataframe tbody tr th:only-of-type {\n",
       "        vertical-align: middle;\n",
       "    }\n",
       "\n",
       "    .dataframe tbody tr th {\n",
       "        vertical-align: top;\n",
       "    }\n",
       "\n",
       "    .dataframe thead th {\n",
       "        text-align: right;\n",
       "    }\n",
       "</style>\n",
       "<table border=\"1\" class=\"dataframe\">\n",
       "  <thead>\n",
       "    <tr style=\"text-align: right;\">\n",
       "      <th></th>\n",
       "      <th>Age</th>\n",
       "      <th>Year of Study</th>\n",
       "    </tr>\n",
       "  </thead>\n",
       "  <tbody>\n",
       "    <tr>\n",
       "      <th>count</th>\n",
       "      <td>97.000000</td>\n",
       "      <td>97.000000</td>\n",
       "    </tr>\n",
       "    <tr>\n",
       "      <th>mean</th>\n",
       "      <td>23.917526</td>\n",
       "      <td>2.773196</td>\n",
       "    </tr>\n",
       "    <tr>\n",
       "      <th>std</th>\n",
       "      <td>22.852184</td>\n",
       "      <td>3.398851</td>\n",
       "    </tr>\n",
       "    <tr>\n",
       "      <th>min</th>\n",
       "      <td>5.000000</td>\n",
       "      <td>1.000000</td>\n",
       "    </tr>\n",
       "    <tr>\n",
       "      <th>25%</th>\n",
       "      <td>20.000000</td>\n",
       "      <td>1.000000</td>\n",
       "    </tr>\n",
       "    <tr>\n",
       "      <th>50%</th>\n",
       "      <td>22.000000</td>\n",
       "      <td>2.000000</td>\n",
       "    </tr>\n",
       "    <tr>\n",
       "      <th>75%</th>\n",
       "      <td>24.000000</td>\n",
       "      <td>3.000000</td>\n",
       "    </tr>\n",
       "    <tr>\n",
       "      <th>max</th>\n",
       "      <td>245.000000</td>\n",
       "      <td>34.000000</td>\n",
       "    </tr>\n",
       "  </tbody>\n",
       "</table>\n",
       "</div>"
      ],
      "text/plain": [
       "              Age  Year of Study\n",
       "count   97.000000      97.000000\n",
       "mean    23.917526       2.773196\n",
       "std     22.852184       3.398851\n",
       "min      5.000000       1.000000\n",
       "25%     20.000000       1.000000\n",
       "50%     22.000000       2.000000\n",
       "75%     24.000000       3.000000\n",
       "max    245.000000      34.000000"
      ]
     },
     "execution_count": 4,
     "metadata": {},
     "output_type": "execute_result"
    }
   ],
   "source": [
    "students_df.describe()"
   ]
  },
  {
   "cell_type": "markdown",
   "metadata": {},
   "source": [
    "Pandas Series objects have an std method that we can use to calculate the standard deviation. "
   ]
  },
  {
   "cell_type": "code",
   "execution_count": 5,
   "metadata": {},
   "outputs": [
    {
     "data": {
      "text/plain": [
       "22.852183567756345"
      ]
     },
     "execution_count": 5,
     "metadata": {},
     "output_type": "execute_result"
    }
   ],
   "source": [
    "students_df['Age'].std()"
   ]
  },
  {
   "cell_type": "markdown",
   "metadata": {},
   "source": [
    "Pandas DataFrame objects also have an std method. Before using it, we need to make sure that the data frame consists only of numeric columns."
   ]
  },
  {
   "cell_type": "code",
   "execution_count": 6,
   "metadata": {},
   "outputs": [
    {
     "data": {
      "text/plain": [
       "Age              22.852184\n",
       "Year of Study     3.398851\n",
       "dtype: float64"
      ]
     },
     "execution_count": 6,
     "metadata": {},
     "output_type": "execute_result"
    }
   ],
   "source": [
    "students_df_numeric = students_df.select_dtypes(include=np.number)\n",
    "\n",
    "students_df_numeric.std()"
   ]
  },
  {
   "cell_type": "markdown",
   "metadata": {},
   "source": [
    "## Sample and Population Standard Deviation"
   ]
  },
  {
   "cell_type": "markdown",
   "metadata": {},
   "source": [
    "When performing an exploratory data analysis, you may encounter two versions of the standard deviation: the population standard deviation and the sample standard deviation. Here's what distinguishes them and how to decide which one to use:\n",
    "\n",
    "1. **Formulaic Difference**\n",
    "   - **Population Standard Deviation ($\\sigma$)**: Uses the entire set of data (the population). The denominator is *N*, the total number of data points in the population.  \n",
    "   \n",
    "     $\\sigma = \\sqrt{\\frac{\\sum_{i=1}^{N} (x_i - \\mu)^2} {N}}$\n",
    "\n",
    "     Here, $\\mu$ is the population mean.\n",
    "\n",
    "     **Sample Standard Deviation (s)**: Used when you have a subset (a sample) of a larger population.  The denominator is *N - 1*, rather than *N*, a correction called Bessel's correction.\n",
    "\n",
    "     $s = \\sqrt{\\frac{\\sum_{i=1}^{N} (x_i - \\bar{x})^2} {n - 1}}$\n",
    "\n",
    "     Here, $\\bar{x}$ is the sample mean, and *n* is the sample size.\n",
    "\n",
    "2. **Conceptual Reasoning**  \n",
    "   - If you have data for the *entire population*, then every value that possibly exists is included, so you are directly measuring the true spread of the population.  \n",
    "   - If you only have a *sample*, you have less than the full information, so the sample-based standard deviation needs an adjustment to avoid underestimating the true population variance.\n",
    "\n",
    "3. **When to Use Which**  \n",
    "   - **Population Standard Deviation**: When you are certain that you have complete data for every individual or entity of interest. This situation is more common in theoretical examples or when the dataset is truly exhaustive (for instance, the exact heights of all pupils in one specific classroom if you have measured them all).  \n",
    "   - **Sample Standard Deviation**: When you have only a portion of the population’s data, which is the usual scenario in most research and exploratory data analysis efforts. In practice, you often don’t have access to the entire population, so the sample standard deviation (with *N - 1* in the denominator) is the appropriate choice.\n",
    "\n",
    "Understanding this distinction helps ensure your analyses reflect the correct level of uncertainty in your data. In most real-world data scenarios, you'll rely on the sample standard deviation to avoid underestimating the variability of the population you are studying."
   ]
  },
  {
   "cell_type": "markdown",
   "metadata": {},
   "source": [
    "We've seen that we can use Pandas to calculate standard deviations. We can also use NumPy."
   ]
  },
  {
   "cell_type": "markdown",
   "metadata": {},
   "source": [
    "By default, Pandas gives us the **sample** standard deviation."
   ]
  },
  {
   "cell_type": "code",
   "execution_count": 7,
   "metadata": {},
   "outputs": [
    {
     "data": {
      "text/plain": [
       "22.852183567756345"
      ]
     },
     "execution_count": 7,
     "metadata": {},
     "output_type": "execute_result"
    }
   ],
   "source": [
    "students_df['Age'].std()"
   ]
  },
  {
   "cell_type": "markdown",
   "metadata": {},
   "source": [
    "Whereas NumPy gives us the **population** standard deviation. Notice that the two are not the same value."
   ]
  },
  {
   "cell_type": "code",
   "execution_count": 8,
   "metadata": {},
   "outputs": [
    {
     "data": {
      "text/plain": [
       "22.73408363727589"
      ]
     },
     "execution_count": 8,
     "metadata": {},
     "output_type": "execute_result"
    }
   ],
   "source": [
    "age_array = students_df['Age'].to_numpy()\n",
    "\n",
    "age_array.std()"
   ]
  },
  {
   "cell_type": "markdown",
   "metadata": {},
   "source": [
    "We can get the population standard deviation by passing in 0 for ddof, and the sample standard deviation by passing in 1 for ddof."
   ]
  },
  {
   "cell_type": "code",
   "execution_count": 9,
   "metadata": {},
   "outputs": [
    {
     "data": {
      "text/plain": [
       "22.73408363727589"
      ]
     },
     "execution_count": 9,
     "metadata": {},
     "output_type": "execute_result"
    }
   ],
   "source": [
    "students_df['Age'].std(ddof=0)"
   ]
  },
  {
   "cell_type": "markdown",
   "metadata": {},
   "source": [
    "This is parameter is included in the NumPy std method as well."
   ]
  },
  {
   "cell_type": "code",
   "execution_count": 10,
   "metadata": {},
   "outputs": [
    {
     "data": {
      "text/plain": [
       "22.85218356775634"
      ]
     },
     "execution_count": 10,
     "metadata": {},
     "output_type": "execute_result"
    }
   ],
   "source": [
    "age_array.std(ddof=1)"
   ]
  },
  {
   "cell_type": "markdown",
   "metadata": {},
   "source": [
    "## Calculating standard deviation step-by-step\n",
    "Here we break down the calculation of standard deviation, and show where the difference in sample and population standard deviation comes in."
   ]
  },
  {
   "cell_type": "markdown",
   "metadata": {},
   "source": [
    "### 1. Calculate the difference between each value in the series and the mean"
   ]
  },
  {
   "cell_type": "code",
   "execution_count": 11,
   "metadata": {},
   "outputs": [
    {
     "data": {
      "text/plain": [
       "0     1.082474\n",
       "1     1.082474\n",
       "2    -1.917526\n",
       "3    -1.917526\n",
       "4    -5.917526\n",
       "        ...   \n",
       "95   -3.917526\n",
       "96   -1.917526\n",
       "97   -4.917526\n",
       "98   -1.917526\n",
       "99   -0.917526\n",
       "Name: Age, Length: 97, dtype: float64"
      ]
     },
     "execution_count": 11,
     "metadata": {},
     "output_type": "execute_result"
    }
   ],
   "source": [
    "diffs = students_df['Age'] - students_df['Age'].mean()\n",
    "\n",
    "diffs"
   ]
  },
  {
   "cell_type": "markdown",
   "metadata": {},
   "source": [
    "### 2. Square each of the diffs"
   ]
  },
  {
   "cell_type": "code",
   "execution_count": 12,
   "metadata": {},
   "outputs": [
    {
     "data": {
      "text/plain": [
       "0      1.171750\n",
       "1      1.171750\n",
       "2      3.676905\n",
       "3      3.676905\n",
       "4     35.017111\n",
       "        ...    \n",
       "95    15.347008\n",
       "96     3.676905\n",
       "97    24.182060\n",
       "98     3.676905\n",
       "99     0.841854\n",
       "Name: Age, Length: 97, dtype: float64"
      ]
     },
     "execution_count": 12,
     "metadata": {},
     "output_type": "execute_result"
    }
   ],
   "source": [
    "sqaures = diffs ** 2\n",
    "\n",
    "sqaures"
   ]
  },
  {
   "cell_type": "markdown",
   "metadata": {},
   "source": [
    "### 3. Sum the squares"
   ]
  },
  {
   "cell_type": "code",
   "execution_count": 13,
   "metadata": {},
   "outputs": [
    {
     "data": {
      "text/plain": [
       "50133.34020618557"
      ]
     },
     "execution_count": 13,
     "metadata": {},
     "output_type": "execute_result"
    }
   ],
   "source": [
    "sum_of_squares = sqaures.sum()\n",
    "\n",
    "sum_of_squares"
   ]
  },
  {
   "cell_type": "markdown",
   "metadata": {},
   "source": [
    "### 4. Divide the squares by the number of elements in the series\n",
    "This is known as the variance. This is where the ddof (delta degrees of freedom) parameter comes in."
   ]
  },
  {
   "cell_type": "code",
   "execution_count": 14,
   "metadata": {},
   "outputs": [],
   "source": [
    "sample_variance = sum_of_squares / (len(students_df) - 1)\n",
    "population_variance = sum_of_squares / len(students_df)"
   ]
  },
  {
   "cell_type": "markdown",
   "metadata": {},
   "source": [
    "### 5. Take the square root of the variance to get the standard deviation"
   ]
  },
  {
   "cell_type": "code",
   "execution_count": 15,
   "metadata": {},
   "outputs": [],
   "source": [
    "sample_standard_deviation = sample_variance ** 0.5\n",
    "population_standard_deviation = population_variance ** 0.5"
   ]
  },
  {
   "cell_type": "code",
   "execution_count": 16,
   "metadata": {},
   "outputs": [
    {
     "name": "stdout",
     "output_type": "stream",
     "text": [
      "Sample standard deviation: 22.85218356775634\n",
      "Population standard deviation: 22.73408363727589\n"
     ]
    }
   ],
   "source": [
    "print(f'Sample standard deviation: {sample_standard_deviation}')\n",
    "print(f'Population standard deviation: {population_standard_deviation}')"
   ]
  }
 ],
 "metadata": {
  "kernelspec": {
   "display_name": "AI-ML-Bootcamp-24-25",
   "language": "python",
   "name": "python3"
  },
  "language_info": {
   "codemirror_mode": {
    "name": "ipython",
    "version": 3
   },
   "file_extension": ".py",
   "mimetype": "text/x-python",
   "name": "python",
   "nbconvert_exporter": "python",
   "pygments_lexer": "ipython3",
   "version": "3.12.4"
  }
 },
 "nbformat": 4,
 "nbformat_minor": 2
}
