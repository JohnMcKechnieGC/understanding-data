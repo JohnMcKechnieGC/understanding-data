{
 "cells": [
  {
   "cell_type": "markdown",
   "metadata": {},
   "source": [
    "# Loading CSV file into a SQLite database"
   ]
  },
  {
   "cell_type": "code",
   "execution_count": 1,
   "metadata": {},
   "outputs": [],
   "source": [
    "import pandas as pd"
   ]
  },
  {
   "cell_type": "code",
   "execution_count": 2,
   "metadata": {},
   "outputs": [],
   "source": [
    "df = pd.read_csv(\"./data/students.csv\")"
   ]
  },
  {
   "cell_type": "code",
   "execution_count": 3,
   "metadata": {},
   "outputs": [
    {
     "data": {
      "text/html": [
       "<div>\n",
       "<style scoped>\n",
       "    .dataframe tbody tr th:only-of-type {\n",
       "        vertical-align: middle;\n",
       "    }\n",
       "\n",
       "    .dataframe tbody tr th {\n",
       "        vertical-align: top;\n",
       "    }\n",
       "\n",
       "    .dataframe thead th {\n",
       "        text-align: right;\n",
       "    }\n",
       "</style>\n",
       "<table border=\"1\" class=\"dataframe\">\n",
       "  <thead>\n",
       "    <tr style=\"text-align: right;\">\n",
       "      <th></th>\n",
       "      <th>Student ID</th>\n",
       "      <th>Name</th>\n",
       "      <th>Age</th>\n",
       "      <th>Subject</th>\n",
       "      <th>Year of Study</th>\n",
       "      <th>Country of Origin</th>\n",
       "    </tr>\n",
       "  </thead>\n",
       "  <tbody>\n",
       "    <tr>\n",
       "      <th>0</th>\n",
       "      <td>2703f3f0</td>\n",
       "      <td>Mr Clifford Watson</td>\n",
       "      <td>25.0</td>\n",
       "      <td>English Literature</td>\n",
       "      <td>1.0</td>\n",
       "      <td>Saint Barthelemy</td>\n",
       "    </tr>\n",
       "    <tr>\n",
       "      <th>1</th>\n",
       "      <td>a8040287</td>\n",
       "      <td>Elliott Ward</td>\n",
       "      <td>25.0</td>\n",
       "      <td>Computer Science</td>\n",
       "      <td>4.0</td>\n",
       "      <td>Guinea</td>\n",
       "    </tr>\n",
       "    <tr>\n",
       "      <th>2</th>\n",
       "      <td>d8da5486</td>\n",
       "      <td>Miss Pauline Dunn</td>\n",
       "      <td>22.0</td>\n",
       "      <td>Engineering</td>\n",
       "      <td>4.0</td>\n",
       "      <td>Afghanistan</td>\n",
       "    </tr>\n",
       "    <tr>\n",
       "      <th>3</th>\n",
       "      <td>3ac1b74d</td>\n",
       "      <td>Mr Dominic Mason</td>\n",
       "      <td>22.0</td>\n",
       "      <td>Physics</td>\n",
       "      <td>1.0</td>\n",
       "      <td>Palau</td>\n",
       "    </tr>\n",
       "    <tr>\n",
       "      <th>4</th>\n",
       "      <td>67850858</td>\n",
       "      <td>Mrs Melanie Brown</td>\n",
       "      <td>18.0</td>\n",
       "      <td>English Literature</td>\n",
       "      <td>3.0</td>\n",
       "      <td>Algeria</td>\n",
       "    </tr>\n",
       "  </tbody>\n",
       "</table>\n",
       "</div>"
      ],
      "text/plain": [
       "  Student ID                Name   Age             Subject  Year of Study  \\\n",
       "0   2703f3f0  Mr Clifford Watson  25.0  English Literature            1.0   \n",
       "1   a8040287        Elliott Ward  25.0    Computer Science            4.0   \n",
       "2   d8da5486   Miss Pauline Dunn  22.0         Engineering            4.0   \n",
       "3   3ac1b74d    Mr Dominic Mason  22.0             Physics            1.0   \n",
       "4   67850858   Mrs Melanie Brown  18.0  English Literature            3.0   \n",
       "\n",
       "  Country of Origin  \n",
       "0  Saint Barthelemy  \n",
       "1            Guinea  \n",
       "2       Afghanistan  \n",
       "3             Palau  \n",
       "4           Algeria  "
      ]
     },
     "execution_count": 3,
     "metadata": {},
     "output_type": "execute_result"
    }
   ],
   "source": [
    "# Preview the first few rows of the DataFrame\n",
    "df.head()"
   ]
  },
  {
   "cell_type": "code",
   "execution_count": 4,
   "metadata": {},
   "outputs": [],
   "source": [
    "import sqlite3"
   ]
  },
  {
   "cell_type": "markdown",
   "metadata": {},
   "source": [
    "## Create (or update) the database"
   ]
  },
  {
   "cell_type": "code",
   "execution_count": 5,
   "metadata": {},
   "outputs": [],
   "source": [
    "# Connect to SQLite database (or create it)\n",
    "conn = sqlite3.connect(\"./data/students.db\")\n",
    "\n",
    "# Load the data into the SQLite database\n",
    "df.to_sql(\"students\", conn, if_exists=\"replace\", index=False)\n",
    "\n",
    "# Close the database connection\n",
    "conn.close()"
   ]
  },
  {
   "cell_type": "markdown",
   "metadata": {},
   "source": [
    "## Load the first record from the db and display"
   ]
  },
  {
   "cell_type": "code",
   "execution_count": 6,
   "metadata": {},
   "outputs": [],
   "source": [
    "# Connect to the SQLite database\n",
    "conn = sqlite3.connect(\"./data/students.db\")\n",
    "\n",
    "# Query the first record from the table\n",
    "query = \"SELECT * FROM students LIMIT 1\"\n",
    "first_record = conn.execute(query).fetchone()\n",
    "\n",
    "# Close the database connection\n",
    "conn.close()"
   ]
  },
  {
   "cell_type": "code",
   "execution_count": 7,
   "metadata": {},
   "outputs": [
    {
     "name": "stdout",
     "output_type": "stream",
     "text": [
      "First record: ('2703f3f0', 'Mr Clifford Watson', 25.0, 'English Literature', 1.0, 'Saint Barthelemy')\n"
     ]
    }
   ],
   "source": [
    "# Display the first record\n",
    "print(\"First record:\", first_record)"
   ]
  },
  {
   "cell_type": "markdown",
   "metadata": {},
   "source": [
    "## Loading an Excel file to a DataFrame"
   ]
  },
  {
   "cell_type": "code",
   "execution_count": 8,
   "metadata": {},
   "outputs": [
    {
     "data": {
      "text/html": [
       "<div>\n",
       "<style scoped>\n",
       "    .dataframe tbody tr th:only-of-type {\n",
       "        vertical-align: middle;\n",
       "    }\n",
       "\n",
       "    .dataframe tbody tr th {\n",
       "        vertical-align: top;\n",
       "    }\n",
       "\n",
       "    .dataframe thead th {\n",
       "        text-align: right;\n",
       "    }\n",
       "</style>\n",
       "<table border=\"1\" class=\"dataframe\">\n",
       "  <thead>\n",
       "    <tr style=\"text-align: right;\">\n",
       "      <th></th>\n",
       "      <th>Student ID</th>\n",
       "      <th>Name</th>\n",
       "      <th>Age</th>\n",
       "      <th>Subject</th>\n",
       "      <th>Year of Study</th>\n",
       "      <th>Country of Origin</th>\n",
       "    </tr>\n",
       "  </thead>\n",
       "  <tbody>\n",
       "    <tr>\n",
       "      <th>0</th>\n",
       "      <td>2703f3f0</td>\n",
       "      <td>Mr Clifford Watson</td>\n",
       "      <td>25.0</td>\n",
       "      <td>English Literature</td>\n",
       "      <td>1.0</td>\n",
       "      <td>Saint Barthelemy</td>\n",
       "    </tr>\n",
       "    <tr>\n",
       "      <th>1</th>\n",
       "      <td>a8040287</td>\n",
       "      <td>Elliott Ward</td>\n",
       "      <td>25.0</td>\n",
       "      <td>Computer Science</td>\n",
       "      <td>4.0</td>\n",
       "      <td>Guinea</td>\n",
       "    </tr>\n",
       "    <tr>\n",
       "      <th>2</th>\n",
       "      <td>d8da5486</td>\n",
       "      <td>Miss Pauline Dunn</td>\n",
       "      <td>22.0</td>\n",
       "      <td>Engineering</td>\n",
       "      <td>4.0</td>\n",
       "      <td>Afghanistan</td>\n",
       "    </tr>\n",
       "    <tr>\n",
       "      <th>3</th>\n",
       "      <td>3ac1b74d</td>\n",
       "      <td>Mr Dominic Mason</td>\n",
       "      <td>22.0</td>\n",
       "      <td>Physics</td>\n",
       "      <td>1.0</td>\n",
       "      <td>Palau</td>\n",
       "    </tr>\n",
       "    <tr>\n",
       "      <th>4</th>\n",
       "      <td>67850858</td>\n",
       "      <td>Mrs Melanie Brown</td>\n",
       "      <td>18.0</td>\n",
       "      <td>English Literature</td>\n",
       "      <td>3.0</td>\n",
       "      <td>Algeria</td>\n",
       "    </tr>\n",
       "  </tbody>\n",
       "</table>\n",
       "</div>"
      ],
      "text/plain": [
       "  Student ID                Name   Age             Subject  Year of Study  \\\n",
       "0   2703f3f0  Mr Clifford Watson  25.0  English Literature            1.0   \n",
       "1   a8040287        Elliott Ward  25.0    Computer Science            4.0   \n",
       "2   d8da5486   Miss Pauline Dunn  22.0         Engineering            4.0   \n",
       "3   3ac1b74d    Mr Dominic Mason  22.0             Physics            1.0   \n",
       "4   67850858   Mrs Melanie Brown  18.0  English Literature            3.0   \n",
       "\n",
       "  Country of Origin  \n",
       "0  Saint Barthelemy  \n",
       "1            Guinea  \n",
       "2       Afghanistan  \n",
       "3             Palau  \n",
       "4           Algeria  "
      ]
     },
     "execution_count": 8,
     "metadata": {},
     "output_type": "execute_result"
    }
   ],
   "source": [
    "# For this to work you need to have installed openpyxl, e.g. with pip or conda\n",
    "df = pd.read_excel('./data/Students.xlsx', sheet_name='students')\n",
    "df.head()"
   ]
  }
 ],
 "metadata": {
  "kernelspec": {
   "display_name": "AI-ML-Bootcamp-24-25",
   "language": "python",
   "name": "python3"
  },
  "language_info": {
   "codemirror_mode": {
    "name": "ipython",
    "version": 3
   },
   "file_extension": ".py",
   "mimetype": "text/x-python",
   "name": "python",
   "nbconvert_exporter": "python",
   "pygments_lexer": "ipython3",
   "version": "3.12.4"
  }
 },
 "nbformat": 4,
 "nbformat_minor": 2
}
