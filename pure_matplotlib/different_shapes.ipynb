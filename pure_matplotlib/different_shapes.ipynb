{
 "cells": [
  {
   "cell_type": "markdown",
   "id": "e53c5b09",
   "metadata": {},
   "source": [
    "# Scatterplot with Different Shaped Markers\n",
    "In this example we demonstrate how to use different shapes of markers on our scatterplot."
   ]
  },
  {
   "cell_type": "code",
   "execution_count": 1,
   "id": "initial_id",
   "metadata": {
    "ExecuteTime": {
     "end_time": "2024-01-16T14:38:03.618763300Z",
     "start_time": "2024-01-16T14:38:02.019119600Z"
    }
   },
   "outputs": [],
   "source": [
    "import pandas as pd\n",
    "import matplotlib.pyplot as plt\n",
    "from random import random"
   ]
  },
  {
   "cell_type": "code",
   "execution_count": 2,
   "id": "dad9dcda6e8ee51c",
   "metadata": {
    "ExecuteTime": {
     "end_time": "2024-01-16T14:38:03.678711500Z",
     "start_time": "2024-01-16T14:38:03.625273400Z"
    },
    "collapsed": false,
    "jupyter": {
     "outputs_hidden": false
    }
   },
   "outputs": [],
   "source": [
    "def random_values(count=50):\n",
    "    \"\"\"\n",
    "    Returns a list of random numbers between 0 (inclusive) and 1 (exclusive).\n",
    "    By default, the function returns a list of 5 numbers.\n",
    "    \"\"\"\n",
    "    return [random() for _ in range(count)]"
   ]
  },
  {
   "cell_type": "code",
   "execution_count": 3,
   "id": "153358a1",
   "metadata": {},
   "outputs": [],
   "source": [
    "df = pd.DataFrame()"
   ]
  },
  {
   "cell_type": "code",
   "execution_count": 4,
   "id": "5603eed6",
   "metadata": {},
   "outputs": [],
   "source": [
    "df['X'] = random_values()\n",
    "df['Y'] = random_values()"
   ]
  },
  {
   "cell_type": "code",
   "execution_count": 5,
   "id": "297c3eda",
   "metadata": {},
   "outputs": [],
   "source": [
    "df['Shape'] = ['circle' if r < 0.5 else 'triangle'\n",
    "               for r in random_values()]"
   ]
  },
  {
   "cell_type": "code",
   "execution_count": 6,
   "id": "cfbfdc29",
   "metadata": {},
   "outputs": [
    {
     "data": {
      "text/html": [
       "<div>\n",
       "<style scoped>\n",
       "    .dataframe tbody tr th:only-of-type {\n",
       "        vertical-align: middle;\n",
       "    }\n",
       "\n",
       "    .dataframe tbody tr th {\n",
       "        vertical-align: top;\n",
       "    }\n",
       "\n",
       "    .dataframe thead th {\n",
       "        text-align: right;\n",
       "    }\n",
       "</style>\n",
       "<table border=\"1\" class=\"dataframe\">\n",
       "  <thead>\n",
       "    <tr style=\"text-align: right;\">\n",
       "      <th></th>\n",
       "      <th>X</th>\n",
       "      <th>Y</th>\n",
       "      <th>Shape</th>\n",
       "    </tr>\n",
       "  </thead>\n",
       "  <tbody>\n",
       "    <tr>\n",
       "      <th>0</th>\n",
       "      <td>0.353158</td>\n",
       "      <td>0.920833</td>\n",
       "      <td>circle</td>\n",
       "    </tr>\n",
       "    <tr>\n",
       "      <th>1</th>\n",
       "      <td>0.630041</td>\n",
       "      <td>0.181577</td>\n",
       "      <td>triangle</td>\n",
       "    </tr>\n",
       "    <tr>\n",
       "      <th>2</th>\n",
       "      <td>0.267498</td>\n",
       "      <td>0.857622</td>\n",
       "      <td>circle</td>\n",
       "    </tr>\n",
       "    <tr>\n",
       "      <th>3</th>\n",
       "      <td>0.883214</td>\n",
       "      <td>0.101127</td>\n",
       "      <td>triangle</td>\n",
       "    </tr>\n",
       "    <tr>\n",
       "      <th>4</th>\n",
       "      <td>0.670852</td>\n",
       "      <td>0.244529</td>\n",
       "      <td>circle</td>\n",
       "    </tr>\n",
       "  </tbody>\n",
       "</table>\n",
       "</div>"
      ],
      "text/plain": [
       "          X         Y     Shape\n",
       "0  0.353158  0.920833    circle\n",
       "1  0.630041  0.181577  triangle\n",
       "2  0.267498  0.857622    circle\n",
       "3  0.883214  0.101127  triangle\n",
       "4  0.670852  0.244529    circle"
      ]
     },
     "execution_count": 6,
     "metadata": {},
     "output_type": "execute_result"
    }
   ],
   "source": [
    "df.head()"
   ]
  },
  {
   "cell_type": "code",
   "execution_count": 7,
   "id": "959539a5",
   "metadata": {},
   "outputs": [
    {
     "data": {
      "text/html": [
       "<div>\n",
       "<style scoped>\n",
       "    .dataframe tbody tr th:only-of-type {\n",
       "        vertical-align: middle;\n",
       "    }\n",
       "\n",
       "    .dataframe tbody tr th {\n",
       "        vertical-align: top;\n",
       "    }\n",
       "\n",
       "    .dataframe thead th {\n",
       "        text-align: right;\n",
       "    }\n",
       "</style>\n",
       "<table border=\"1\" class=\"dataframe\">\n",
       "  <thead>\n",
       "    <tr style=\"text-align: right;\">\n",
       "      <th></th>\n",
       "      <th>X</th>\n",
       "      <th>Y</th>\n",
       "      <th>Shape</th>\n",
       "    </tr>\n",
       "  </thead>\n",
       "  <tbody>\n",
       "    <tr>\n",
       "      <th>0</th>\n",
       "      <td>0.353158</td>\n",
       "      <td>0.920833</td>\n",
       "      <td>circle</td>\n",
       "    </tr>\n",
       "    <tr>\n",
       "      <th>2</th>\n",
       "      <td>0.267498</td>\n",
       "      <td>0.857622</td>\n",
       "      <td>circle</td>\n",
       "    </tr>\n",
       "    <tr>\n",
       "      <th>4</th>\n",
       "      <td>0.670852</td>\n",
       "      <td>0.244529</td>\n",
       "      <td>circle</td>\n",
       "    </tr>\n",
       "    <tr>\n",
       "      <th>5</th>\n",
       "      <td>0.864841</td>\n",
       "      <td>0.513144</td>\n",
       "      <td>circle</td>\n",
       "    </tr>\n",
       "    <tr>\n",
       "      <th>6</th>\n",
       "      <td>0.526968</td>\n",
       "      <td>0.266310</td>\n",
       "      <td>circle</td>\n",
       "    </tr>\n",
       "  </tbody>\n",
       "</table>\n",
       "</div>"
      ],
      "text/plain": [
       "          X         Y   Shape\n",
       "0  0.353158  0.920833  circle\n",
       "2  0.267498  0.857622  circle\n",
       "4  0.670852  0.244529  circle\n",
       "5  0.864841  0.513144  circle\n",
       "6  0.526968  0.266310  circle"
      ]
     },
     "execution_count": 7,
     "metadata": {},
     "output_type": "execute_result"
    }
   ],
   "source": [
    "circle_df = df[df['Shape'] == 'circle']\n",
    "\n",
    "circle_df.head()"
   ]
  },
  {
   "cell_type": "code",
   "execution_count": 8,
   "id": "37eb35e9",
   "metadata": {},
   "outputs": [
    {
     "data": {
      "text/plain": [
       "28"
      ]
     },
     "execution_count": 8,
     "metadata": {},
     "output_type": "execute_result"
    }
   ],
   "source": [
    "len(circle_df)"
   ]
  },
  {
   "cell_type": "code",
   "execution_count": 9,
   "id": "e6ebf72a",
   "metadata": {},
   "outputs": [
    {
     "data": {
      "text/html": [
       "<div>\n",
       "<style scoped>\n",
       "    .dataframe tbody tr th:only-of-type {\n",
       "        vertical-align: middle;\n",
       "    }\n",
       "\n",
       "    .dataframe tbody tr th {\n",
       "        vertical-align: top;\n",
       "    }\n",
       "\n",
       "    .dataframe thead th {\n",
       "        text-align: right;\n",
       "    }\n",
       "</style>\n",
       "<table border=\"1\" class=\"dataframe\">\n",
       "  <thead>\n",
       "    <tr style=\"text-align: right;\">\n",
       "      <th></th>\n",
       "      <th>X</th>\n",
       "      <th>Y</th>\n",
       "      <th>Shape</th>\n",
       "    </tr>\n",
       "  </thead>\n",
       "  <tbody>\n",
       "    <tr>\n",
       "      <th>1</th>\n",
       "      <td>0.630041</td>\n",
       "      <td>0.181577</td>\n",
       "      <td>triangle</td>\n",
       "    </tr>\n",
       "    <tr>\n",
       "      <th>3</th>\n",
       "      <td>0.883214</td>\n",
       "      <td>0.101127</td>\n",
       "      <td>triangle</td>\n",
       "    </tr>\n",
       "    <tr>\n",
       "      <th>7</th>\n",
       "      <td>0.731541</td>\n",
       "      <td>0.995617</td>\n",
       "      <td>triangle</td>\n",
       "    </tr>\n",
       "    <tr>\n",
       "      <th>8</th>\n",
       "      <td>0.547987</td>\n",
       "      <td>0.520946</td>\n",
       "      <td>triangle</td>\n",
       "    </tr>\n",
       "    <tr>\n",
       "      <th>9</th>\n",
       "      <td>0.789916</td>\n",
       "      <td>0.110748</td>\n",
       "      <td>triangle</td>\n",
       "    </tr>\n",
       "  </tbody>\n",
       "</table>\n",
       "</div>"
      ],
      "text/plain": [
       "          X         Y     Shape\n",
       "1  0.630041  0.181577  triangle\n",
       "3  0.883214  0.101127  triangle\n",
       "7  0.731541  0.995617  triangle\n",
       "8  0.547987  0.520946  triangle\n",
       "9  0.789916  0.110748  triangle"
      ]
     },
     "execution_count": 9,
     "metadata": {},
     "output_type": "execute_result"
    }
   ],
   "source": [
    "triangle_df = df[df['Shape'] == 'triangle']\n",
    "\n",
    "triangle_df.head()"
   ]
  },
  {
   "cell_type": "code",
   "execution_count": 10,
   "id": "d2d2e55a",
   "metadata": {},
   "outputs": [
    {
     "data": {
      "text/plain": [
       "22"
      ]
     },
     "execution_count": 10,
     "metadata": {},
     "output_type": "execute_result"
    }
   ],
   "source": [
    "len(triangle_df)"
   ]
  },
  {
   "cell_type": "code",
   "execution_count": 11,
   "id": "ed7606e07a293efa",
   "metadata": {
    "ExecuteTime": {
     "end_time": "2024-01-16T14:38:04.191370700Z",
     "start_time": "2024-01-16T14:38:03.658981400Z"
    },
    "collapsed": false,
    "jupyter": {
     "outputs_hidden": false
    }
   },
   "outputs": [
    {
     "data": {
      "image/png": "[encoded data removed]",
      "text/plain": [
       "<Figure size 640x480 with 1 Axes>"
      ]
     },
     "metadata": {},
     "output_type": "display_data"
    }
   ],
   "source": [
    "# Plot the circles\n",
    "plt.scatter(x=circle_df['X'],\n",
    "            y=circle_df['Y'],\n",
    "            marker='o',\n",
    "            color='blue',\n",
    "            label='Circle markers')\n",
    "\n",
    "# Plot the triangles\n",
    "plt.scatter(x=triangle_df['X'],\n",
    "            y=triangle_df['Y'],\n",
    "            marker='^',\n",
    "            color='red',\n",
    "            label='Triangle markers')\n",
    "\n",
    "# Add labels and legend\n",
    "plt.title(\"Scatterplot with Different Shapes\")\n",
    "plt.xlabel(\"X-axis\")\n",
    "plt.ylabel(\"Y-axis\")\n",
    "plt.legend()\n",
    "\n",
    "plt.show()"
   ]
  }
 ],
 "metadata": {
  "kernelspec": {
   "display_name": "AI-ML-Bootcamp-24-25",
   "language": "python",
   "name": "python3"
  },
  "language_info": {
   "codemirror_mode": {
    "name": "ipython",
    "version": 3
   },
   "file_extension": ".py",
   "mimetype": "text/x-python",
   "name": "python",
   "nbconvert_exporter": "python",
   "pygments_lexer": "ipython3",
   "version": "3.12.4"
  }
 },
 "nbformat": 4,
 "nbformat_minor": 5
}
