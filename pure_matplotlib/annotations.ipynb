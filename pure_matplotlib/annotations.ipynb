{
 "cells": [
  {
   "cell_type": "markdown",
   "id": "ec2b95be",
   "metadata": {},
   "source": [
    "# Scatterplot with Annotations\n",
    "In this example we show how to label each point in a scatterplot."
   ]
  },
  {
   "cell_type": "code",
   "execution_count": 1,
   "id": "initial_id",
   "metadata": {
    "ExecuteTime": {
     "end_time": "2024-01-16T15:51:51.584200100Z",
     "start_time": "2024-01-16T15:51:50.942772100Z"
    }
   },
   "outputs": [],
   "source": [
    "import matplotlib.pyplot as plt"
   ]
  },
  {
   "cell_type": "code",
   "execution_count": 2,
   "id": "acb850df2767f178",
   "metadata": {
    "ExecuteTime": {
     "end_time": "2024-01-16T15:51:51.610242500Z",
     "start_time": "2024-01-16T15:51:51.585557800Z"
    },
    "collapsed": false,
    "jupyter": {
     "outputs_hidden": false
    }
   },
   "outputs": [],
   "source": [
    "# Sample data\n",
    "x_vals = [1.0345873, 2.098332, 3.09823, 4.103457, 5.12094804, 6.2435]\n",
    "y_vals = [2.203934,  3.87572,  5.234,   7.209942, 11.99082,   13.12349]"
   ]
  },
  {
   "cell_type": "markdown",
   "id": "43def52a",
   "metadata": {},
   "source": [
    "Move our data into a Pandas DataFrame."
   ]
  },
  {
   "cell_type": "code",
   "execution_count": 3,
   "id": "698fdbbe",
   "metadata": {},
   "outputs": [
    {
     "data": {
      "text/html": [
       "<div>\n",
       "<style scoped>\n",
       "    .dataframe tbody tr th:only-of-type {\n",
       "        vertical-align: middle;\n",
       "    }\n",
       "\n",
       "    .dataframe tbody tr th {\n",
       "        vertical-align: top;\n",
       "    }\n",
       "\n",
       "    .dataframe thead th {\n",
       "        text-align: right;\n",
       "    }\n",
       "</style>\n",
       "<table border=\"1\" class=\"dataframe\">\n",
       "  <thead>\n",
       "    <tr style=\"text-align: right;\">\n",
       "      <th></th>\n",
       "      <th>X</th>\n",
       "      <th>Y</th>\n",
       "    </tr>\n",
       "  </thead>\n",
       "  <tbody>\n",
       "    <tr>\n",
       "      <th>0</th>\n",
       "      <td>1.034587</td>\n",
       "      <td>2.203934</td>\n",
       "    </tr>\n",
       "    <tr>\n",
       "      <th>1</th>\n",
       "      <td>2.098332</td>\n",
       "      <td>3.875720</td>\n",
       "    </tr>\n",
       "    <tr>\n",
       "      <th>2</th>\n",
       "      <td>3.098230</td>\n",
       "      <td>5.234000</td>\n",
       "    </tr>\n",
       "    <tr>\n",
       "      <th>3</th>\n",
       "      <td>4.103457</td>\n",
       "      <td>7.209942</td>\n",
       "    </tr>\n",
       "    <tr>\n",
       "      <th>4</th>\n",
       "      <td>5.120948</td>\n",
       "      <td>11.990820</td>\n",
       "    </tr>\n",
       "    <tr>\n",
       "      <th>5</th>\n",
       "      <td>6.243500</td>\n",
       "      <td>13.123490</td>\n",
       "    </tr>\n",
       "  </tbody>\n",
       "</table>\n",
       "</div>"
      ],
      "text/plain": [
       "          X          Y\n",
       "0  1.034587   2.203934\n",
       "1  2.098332   3.875720\n",
       "2  3.098230   5.234000\n",
       "3  4.103457   7.209942\n",
       "4  5.120948  11.990820\n",
       "5  6.243500  13.123490"
      ]
     },
     "execution_count": 3,
     "metadata": {},
     "output_type": "execute_result"
    }
   ],
   "source": [
    "import pandas as pd\n",
    "\n",
    "df = pd.DataFrame()\n",
    "df['X'] = x_vals\n",
    "df['Y'] = y_vals\n",
    "\n",
    "df"
   ]
  },
  {
   "cell_type": "markdown",
   "id": "7dd6c5f2",
   "metadata": {},
   "source": [
    "We can use df.iterrows to iterate over all rows in the DataFrame."
   ]
  },
  {
   "cell_type": "code",
   "execution_count": 4,
   "id": "1bf83a23",
   "metadata": {},
   "outputs": [
    {
     "name": "stdout",
     "output_type": "stream",
     "text": [
      "Point 0: 1.0345873, 2.203934\n",
      "Point 1: 2.098332, 3.87572\n",
      "Point 2: 3.09823, 5.234\n",
      "Point 3: 4.103457, 7.209942\n",
      "Point 4: 5.12094804, 11.99082\n",
      "Point 5: 6.2435, 13.12349\n"
     ]
    }
   ],
   "source": [
    "for i, (x, y) in df.iterrows():\n",
    "    print(f\"Point {i}: {x}, {y}\")"
   ]
  },
  {
   "cell_type": "code",
   "execution_count": 5,
   "id": "3e219af4b82bc1e6",
   "metadata": {
    "ExecuteTime": {
     "end_time": "2024-01-16T15:51:51.790869900Z",
     "start_time": "2024-01-16T15:51:51.600186Z"
    },
    "collapsed": false,
    "jupyter": {
     "outputs_hidden": false
    }
   },
   "outputs": [
    {
     "data": {
      "image/png": "[encoded data removed]",
      "text/plain": [
       "<Figure size 640x480 with 1 Axes>"
      ]
     },
     "metadata": {},
     "output_type": "display_data"
    }
   ],
   "source": [
    "# Scatter plot\n",
    "plt.scatter(x_vals, y_vals)\n",
    "\n",
    "# Annotating each point with its x and y value\n",
    "# (and specifying that we want one decimal place only)\n",
    "for _, (x, y) in df.iterrows():\n",
    "    plt.text(x, y, f\"({x:.1f}, {y:.1f})\")\n",
    "\n",
    "# Labels\n",
    "plt.title(\"Scatterplot with Annotations\")\n",
    "plt.xlabel(\"X-axis\")\n",
    "plt.ylabel(\"Y-axis\")\n",
    "\n",
    "plt.show()"
   ]
  }
 ],
 "metadata": {
  "kernelspec": {
   "display_name": "AI-ML-Bootcamp-24-25",
   "language": "python",
   "name": "python3"
  },
  "language_info": {
   "codemirror_mode": {
    "name": "ipython",
    "version": 3
   },
   "file_extension": ".py",
   "mimetype": "text/x-python",
   "name": "python",
   "nbconvert_exporter": "python",
   "pygments_lexer": "ipython3",
   "version": "3.12.4"
  }
 },
 "nbformat": 4,
 "nbformat_minor": 5
}
