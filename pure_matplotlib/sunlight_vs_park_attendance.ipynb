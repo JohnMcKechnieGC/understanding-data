{
 "cells": [
  {
   "cell_type": "markdown",
   "id": "ef99e321",
   "metadata": {},
   "source": [
    "# Sunlight and Park Attendance"
   ]
  },
  {
   "cell_type": "markdown",
   "id": "4d7227e5",
   "metadata": {},
   "source": [
    "## 1. Import the necessary modules:"
   ]
  },
  {
   "cell_type": "code",
   "execution_count": null,
   "id": "initial_id",
   "metadata": {
    "ExecuteTime": {
     "end_time": "2024-01-16T14:25:07.057161300Z",
     "start_time": "2024-01-16T14:25:05.867901600Z"
    },
    "collapsed": true
   },
   "outputs": [],
   "source": []
  },
  {
   "cell_type": "markdown",
   "id": "794f5ab1",
   "metadata": {},
   "source": [
    "## 2. Load sunlight.csv into a Pandas DataFrame:"
   ]
  },
  {
   "cell_type": "code",
   "execution_count": null,
   "id": "5c0384d1",
   "metadata": {},
   "outputs": [],
   "source": []
  },
  {
   "cell_type": "markdown",
   "id": "debb9ea9",
   "metadata": {},
   "source": [
    "## 3. Explore the data:"
   ]
  },
  {
   "cell_type": "code",
   "execution_count": null,
   "id": "425e72b4",
   "metadata": {},
   "outputs": [],
   "source": []
  },
  {
   "cell_type": "markdown",
   "id": "ffde24d5",
   "metadata": {},
   "source": [
    "## 4. Plot the data using a Scatterplot\n",
    "The scatterplot should conform to the following:\n",
    "- Where the number of hours of sunlight is less than 5, the point should be blue\n",
    "- Where the number of hours of sunlight is 5 or more, the point should be red\n",
    "- The plot should include a linear trend line\n",
    "- The trend line should be orange\n",
    "- The plot should include title and axis labels\n",
    "- The plot should display a grid background\n",
    "- The plot should have a width of 10 inches and a height of 6 inches"
   ]
  },
  {
   "cell_type": "code",
   "execution_count": null,
   "id": "48dc5189",
   "metadata": {},
   "outputs": [],
   "source": []
  },
  {
   "cell_type": "markdown",
   "id": "02330a64",
   "metadata": {},
   "source": [
    "## 5. Analysis:"
   ]
  }
 ],
 "metadata": {
  "kernelspec": {
   "display_name": "AI-ML-Bootcamp-24-25",
   "language": "python",
   "name": "python3"
  },
  "language_info": {
   "codemirror_mode": {
    "name": "ipython",
    "version": 3
   },
   "file_extension": ".py",
   "mimetype": "text/x-python",
   "name": "python",
   "nbconvert_exporter": "python",
   "pygments_lexer": "ipython3",
   "version": "3.12.4"
  }
 },
 "nbformat": 4,
 "nbformat_minor": 5
}
