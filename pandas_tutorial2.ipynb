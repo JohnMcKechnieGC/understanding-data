{
 "cells": [
  {
   "cell_type": "markdown",
   "metadata": {},
   "source": [
    "# More Pandas\n",
    "This notebook supplements pandas_tutorial.ipynb."
   ]
  },
  {
   "cell_type": "code",
   "execution_count": 26,
   "metadata": {},
   "outputs": [],
   "source": [
    "import pandas as pd"
   ]
  },
  {
   "cell_type": "markdown",
   "metadata": {},
   "source": [
    "## Creating a Pandas DataFrame"
   ]
  },
  {
   "cell_type": "markdown",
   "metadata": {},
   "source": [
    "### Different ways of specifying the filename\n",
    "In the read_csv example in pandas_tutorial.ipynb, we used forward slashes in the filename- pd.read_csv('./data/students.csv').\n",
    "The following examples also load our dataset."
   ]
  },
  {
   "cell_type": "code",
   "execution_count": 27,
   "metadata": {},
   "outputs": [
    {
     "data": {
      "application/vnd.microsoft.datawrangler.viewer.v0+json": {
       "columns": [
        {
         "name": "index",
         "rawType": "int64",
         "type": "integer"
        },
        {
         "name": "Student ID",
         "rawType": "object",
         "type": "string"
        },
        {
         "name": "Name",
         "rawType": "object",
         "type": "string"
        },
        {
         "name": "Age",
         "rawType": "float64",
         "type": "float"
        },
        {
         "name": "Subject",
         "rawType": "object",
         "type": "string"
        },
        {
         "name": "Year of Study",
         "rawType": "float64",
         "type": "float"
        },
        {
         "name": "Country of Origin",
         "rawType": "object",
         "type": "string"
        }
       ],
       "conversionMethod": "pd.DataFrame",
       "ref": "8ed30064-6fb0-4724-8546-2919ed64ff0b",
       "rows": [
        [
         "0",
         "2703f3f0",
         "Mr Clifford Watson",
         "25.0",
         "English Literature",
         "1.0",
         "Saint Barthelemy"
        ],
        [
         "1",
         "a8040287",
         "Elliott Ward",
         "25.0",
         "Computer Science",
         "4.0",
         "Guinea"
        ],
        [
         "2",
         "d8da5486",
         "Miss Pauline Dunn",
         "22.0",
         "Engineering",
         "4.0",
         "Afghanistan"
        ],
        [
         "3",
         "3ac1b74d",
         "Mr Dominic Mason",
         "22.0",
         "Physics",
         "1.0",
         "Palau"
        ],
        [
         "4",
         "67850858",
         "Mrs Melanie Brown",
         "18.0",
         "English Literature",
         "3.0",
         "Algeria"
        ],
        [
         "5",
         "62dd3a69",
         "Mr Frederick Price",
         "22.0",
         "Medicine",
         "2.0",
         "Guinea-Bissau"
        ],
        [
         "6",
         "6b22a999",
         "Charles Hayward",
         "23.0",
         "Engineering",
         "2.0",
         "Comoros"
        ],
        [
         "7",
         "4b744b9a",
         "Garry Thornton",
         null,
         "English Literature",
         "4.0",
         "Cuba"
        ],
        [
         "8",
         "45c54817",
         "Mrs Sian Wilson",
         "20.0",
         "Computer Science",
         "2.0",
         "Korea"
        ],
        [
         "9",
         "5d5e1224",
         "Grace Walton-Kelly",
         "20.0",
         "History",
         "1.0",
         "Haiti"
        ],
        [
         "10",
         "2c142f24",
         "Jade Kirby",
         "24.0",
         "Biology",
         "1.0",
         "Fiji"
        ],
        [
         "11",
         "3eec010c",
         "Howard Marshall",
         null,
         "Biology",
         "1.0",
         "Swaziland"
        ],
        [
         "12",
         "f3cbb058",
         "Dr Scott Wilson",
         "18.0",
         "English Literature",
         "4.0",
         "Namibia"
        ],
        [
         "13",
         "6a406b49",
         "Melissa Ali",
         "18.0",
         "Computer Science",
         "1.0",
         "Israel"
        ],
        [
         "14",
         "836d85df",
         "Carolyn Walker",
         "18.0",
         "Mathematics",
         "4.0",
         "Angola"
        ],
        [
         "15",
         "fc4f68b0",
         "Sandra Stephenson",
         "23.0",
         "Law",
         "3.0",
         "Palau"
        ],
        [
         "16",
         "41465cf8",
         "Mr Guy Lynch",
         "25.0",
         "History",
         "2.0",
         "Italy"
        ],
        [
         "17",
         "afae8532",
         "Kieran Davidson-Watson",
         "25.0",
         "English Literature",
         "1.0",
         "Mayotte"
        ],
        [
         "18",
         "7c43c14d",
         "Malcolm Farrell-Sykes",
         "18.0",
         "History",
         "3.0",
         "Nauru"
        ],
        [
         "19",
         "43b3612f",
         "Frederick Khan",
         "19.0",
         "Art",
         "4.0",
         "Taiwan"
        ],
        [
         "20",
         "72324765",
         "Gail Henderson",
         "21.0",
         "Law",
         "1.0",
         "Eritrea"
        ],
        [
         "21",
         "9c0aa410",
         "Hazel Evans",
         "24.0",
         "History",
         "3.0",
         "China"
        ],
        [
         "22",
         "a9e6b860",
         "Mrs Tracey Adams",
         "24.0",
         "English Literature",
         "4.0",
         "Saint Lucia"
        ],
        [
         "23",
         "0e7361c4",
         "Mr Donald Taylor",
         "21.0",
         "Engineering",
         "3.0",
         "France"
        ],
        [
         "24",
         "27166ecb",
         "Dr Terry Lewis",
         "245.0",
         "Mathematics",
         "3.0",
         "Fiji"
        ],
        [
         "25",
         "c828ba21",
         "Kelly Fisher-Simpson",
         "21.0",
         "Law",
         "2.0",
         "Isle of Man"
        ],
        [
         "26",
         "a7bb5b63",
         "Steven Ahmed",
         "22.0",
         "Physics",
         "1.0",
         "Guernsey"
        ],
        [
         "27",
         "f156e962",
         "Christian Howell-Holt",
         "25.0",
         "Law",
         "2.0",
         "Kyrgyz Republic"
        ],
        [
         "28",
         "2f3b6b33",
         "Dr Aaron Bell",
         "21.0",
         "English Literature",
         "3.0",
         "Libyan Arab Jamahiriya"
        ],
        [
         "29",
         "88648f86",
         "Pauline Akhtar",
         "20.0",
         "Biology",
         "4.0",
         "Netherlands Antilles"
        ],
        [
         "30",
         "a225e559",
         "Sheila Roberts-Harris",
         "18.0",
         "Biology",
         "4.0",
         "Singapore"
        ],
        [
         "31",
         "34212ec1",
         "Rosemary Wood",
         "18.0",
         "Mathematics",
         "3.0",
         "Comoros"
        ],
        [
         "32",
         "fcedbd2f",
         "Mrs Rosemary Knight",
         "18.0",
         "Art",
         "4.0",
         "French Polynesia"
        ],
        [
         "33",
         "88dc77f7",
         "Daniel Harris",
         "20.0",
         "Computer Science",
         "4.0",
         "Wallis and Futuna"
        ],
        [
         "34",
         "53dd0026",
         "Amber Osborne",
         "21.0",
         "Physics",
         "4.0",
         "Liberia"
        ],
        [
         "35",
         "ea066b3e",
         "Alison Williams-Garner",
         "21.0",
         "Engineering",
         "2.0",
         "Brunei Darussalam"
        ],
        [
         "36",
         "10551162",
         "Mr Bruce Fleming",
         "24.0",
         "Law",
         "3.0",
         "Equatorial Guinea"
        ],
        [
         "37",
         "a420952d",
         "Lindsey Cook",
         "25.0",
         "History",
         "2.0",
         "Micronesia"
        ],
        [
         "38",
         "45604caa",
         "Victor Palmer",
         "23.0",
         "English Literature",
         "3.0",
         "Thailand"
        ],
        [
         "39",
         "8d697782",
         "Mr Lawrence Barker",
         "24.0",
         "Physics",
         "3.0",
         "Antigua and Barbuda"
        ],
        [
         "40",
         "8581f127",
         "Mrs Cheryl Ashton",
         "25.0",
         "Engineering",
         "3.0",
         "South Africa"
        ],
        [
         "41",
         "5fa87190",
         "Olivia Turner",
         "21.0",
         "Mathematics",
         "1.0",
         "Zimbabwe"
        ],
        [
         "42",
         "cc9eb24e",
         "Lucy Roberts",
         "22.0",
         "Biology",
         "4.0",
         "Marshall Islands"
        ],
        [
         "43",
         "3c1fe24c",
         "Melanie Sheppard",
         "21.0",
         "Medicine",
         "1.0",
         "Lebanon"
        ],
        [
         "44",
         "204e4c56",
         "Paula Watts",
         "21.0",
         "Computer Science",
         "3.0",
         "Tunisia"
        ],
        [
         "45",
         "0fac1009",
         "Louis Buckley",
         "18.0",
         "Art",
         "3.0",
         "Cambodia"
        ],
        [
         "46",
         "bde91950",
         "Mrs Elizabeth Perry",
         "19.0",
         "Computer Science",
         "4.0",
         "Burkina Faso"
        ],
        [
         "47",
         "4e324306",
         "Stephanie Thompson",
         "23.0",
         "Medicine",
         "4.0",
         "Cyprus"
        ],
        [
         "48",
         "75693b89",
         "Angela Farmer-Sanders",
         "25.0",
         "History",
         "4.0",
         "Ukraine"
        ],
        [
         "49",
         "ba4fe6e7",
         "Miss Bethany Grant",
         "24.0",
         "Physics",
         "1.0",
         "Aruba"
        ]
       ],
       "shape": {
        "columns": 6,
        "rows": 101
       }
      },
      "text/html": [
       "<div>\n",
       "<style scoped>\n",
       "    .dataframe tbody tr th:only-of-type {\n",
       "        vertical-align: middle;\n",
       "    }\n",
       "\n",
       "    .dataframe tbody tr th {\n",
       "        vertical-align: top;\n",
       "    }\n",
       "\n",
       "    .dataframe thead th {\n",
       "        text-align: right;\n",
       "    }\n",
       "</style>\n",
       "<table border=\"1\" class=\"dataframe\">\n",
       "  <thead>\n",
       "    <tr style=\"text-align: right;\">\n",
       "      <th></th>\n",
       "      <th>Student ID</th>\n",
       "      <th>Name</th>\n",
       "      <th>Age</th>\n",
       "      <th>Subject</th>\n",
       "      <th>Year of Study</th>\n",
       "      <th>Country of Origin</th>\n",
       "    </tr>\n",
       "  </thead>\n",
       "  <tbody>\n",
       "    <tr>\n",
       "      <th>0</th>\n",
       "      <td>2703f3f0</td>\n",
       "      <td>Mr Clifford Watson</td>\n",
       "      <td>25.0</td>\n",
       "      <td>English Literature</td>\n",
       "      <td>1.0</td>\n",
       "      <td>Saint Barthelemy</td>\n",
       "    </tr>\n",
       "    <tr>\n",
       "      <th>1</th>\n",
       "      <td>a8040287</td>\n",
       "      <td>Elliott Ward</td>\n",
       "      <td>25.0</td>\n",
       "      <td>Computer Science</td>\n",
       "      <td>4.0</td>\n",
       "      <td>Guinea</td>\n",
       "    </tr>\n",
       "    <tr>\n",
       "      <th>2</th>\n",
       "      <td>d8da5486</td>\n",
       "      <td>Miss Pauline Dunn</td>\n",
       "      <td>22.0</td>\n",
       "      <td>Engineering</td>\n",
       "      <td>4.0</td>\n",
       "      <td>Afghanistan</td>\n",
       "    </tr>\n",
       "    <tr>\n",
       "      <th>3</th>\n",
       "      <td>3ac1b74d</td>\n",
       "      <td>Mr Dominic Mason</td>\n",
       "      <td>22.0</td>\n",
       "      <td>Physics</td>\n",
       "      <td>1.0</td>\n",
       "      <td>Palau</td>\n",
       "    </tr>\n",
       "    <tr>\n",
       "      <th>4</th>\n",
       "      <td>67850858</td>\n",
       "      <td>Mrs Melanie Brown</td>\n",
       "      <td>18.0</td>\n",
       "      <td>English Literature</td>\n",
       "      <td>3.0</td>\n",
       "      <td>Algeria</td>\n",
       "    </tr>\n",
       "    <tr>\n",
       "      <th>...</th>\n",
       "      <td>...</td>\n",
       "      <td>...</td>\n",
       "      <td>...</td>\n",
       "      <td>...</td>\n",
       "      <td>...</td>\n",
       "      <td>...</td>\n",
       "    </tr>\n",
       "    <tr>\n",
       "      <th>96</th>\n",
       "      <td>a8be1ec3</td>\n",
       "      <td>Kelly Foster</td>\n",
       "      <td>22.0</td>\n",
       "      <td>Engineering</td>\n",
       "      <td>1.0</td>\n",
       "      <td>Netherlands</td>\n",
       "    </tr>\n",
       "    <tr>\n",
       "      <th>97</th>\n",
       "      <td>3b69ff22</td>\n",
       "      <td>Sara Austin</td>\n",
       "      <td>19.0</td>\n",
       "      <td>Computer Science</td>\n",
       "      <td>34.0</td>\n",
       "      <td>Liechtenstein</td>\n",
       "    </tr>\n",
       "    <tr>\n",
       "      <th>98</th>\n",
       "      <td>716fb45f</td>\n",
       "      <td>Miss Grace Miller</td>\n",
       "      <td>22.0</td>\n",
       "      <td>English Literature</td>\n",
       "      <td>4.0</td>\n",
       "      <td>Comoros</td>\n",
       "    </tr>\n",
       "    <tr>\n",
       "      <th>99</th>\n",
       "      <td>34b97db2</td>\n",
       "      <td>Miss Lydia Saunders</td>\n",
       "      <td>23.0</td>\n",
       "      <td>Physics</td>\n",
       "      <td>2.0</td>\n",
       "      <td>Faroe Islands</td>\n",
       "    </tr>\n",
       "    <tr>\n",
       "      <th>100</th>\n",
       "      <td>34b97db2</td>\n",
       "      <td>Miss Lydia Saunders</td>\n",
       "      <td>23.0</td>\n",
       "      <td>Physics</td>\n",
       "      <td>2.0</td>\n",
       "      <td>Faroe Islands</td>\n",
       "    </tr>\n",
       "  </tbody>\n",
       "</table>\n",
       "<p>101 rows × 6 columns</p>\n",
       "</div>"
      ],
      "text/plain": [
       "    Student ID                 Name   Age             Subject  Year of Study  \\\n",
       "0     2703f3f0   Mr Clifford Watson  25.0  English Literature            1.0   \n",
       "1     a8040287         Elliott Ward  25.0    Computer Science            4.0   \n",
       "2     d8da5486    Miss Pauline Dunn  22.0         Engineering            4.0   \n",
       "3     3ac1b74d     Mr Dominic Mason  22.0             Physics            1.0   \n",
       "4     67850858    Mrs Melanie Brown  18.0  English Literature            3.0   \n",
       "..         ...                  ...   ...                 ...            ...   \n",
       "96    a8be1ec3         Kelly Foster  22.0         Engineering            1.0   \n",
       "97    3b69ff22          Sara Austin  19.0    Computer Science           34.0   \n",
       "98    716fb45f    Miss Grace Miller  22.0  English Literature            4.0   \n",
       "99    34b97db2  Miss Lydia Saunders  23.0             Physics            2.0   \n",
       "100   34b97db2  Miss Lydia Saunders  23.0             Physics            2.0   \n",
       "\n",
       "    Country of Origin  \n",
       "0    Saint Barthelemy  \n",
       "1              Guinea  \n",
       "2         Afghanistan  \n",
       "3               Palau  \n",
       "4             Algeria  \n",
       "..                ...  \n",
       "96        Netherlands  \n",
       "97      Liechtenstein  \n",
       "98            Comoros  \n",
       "99      Faroe Islands  \n",
       "100     Faroe Islands  \n",
       "\n",
       "[101 rows x 6 columns]"
      ]
     },
     "execution_count": 27,
     "metadata": {},
     "output_type": "execute_result"
    }
   ],
   "source": [
    "# Notice the double backslashes. This is necessary because a single backslash character is used to\n",
    "# specify special sequences like \\t for a tab character and \\n for a new line character.\n",
    "# Backslash characters will work on Windows but not Linux.\n",
    "students_df = pd.read_csv('.\\\\data\\\\students.csv')\n",
    "\n",
    "students_df"
   ]
  },
  {
   "cell_type": "code",
   "execution_count": 28,
   "metadata": {},
   "outputs": [
    {
     "data": {
      "application/vnd.microsoft.datawrangler.viewer.v0+json": {
       "columns": [
        {
         "name": "index",
         "rawType": "int64",
         "type": "integer"
        },
        {
         "name": "Student ID",
         "rawType": "object",
         "type": "string"
        },
        {
         "name": "Name",
         "rawType": "object",
         "type": "string"
        },
        {
         "name": "Age",
         "rawType": "float64",
         "type": "float"
        },
        {
         "name": "Subject",
         "rawType": "object",
         "type": "string"
        },
        {
         "name": "Year of Study",
         "rawType": "float64",
         "type": "float"
        },
        {
         "name": "Country of Origin",
         "rawType": "object",
         "type": "string"
        }
       ],
       "conversionMethod": "pd.DataFrame",
       "ref": "5654a8b9-c60b-4378-8051-c277d1360e70",
       "rows": [
        [
         "0",
         "2703f3f0",
         "Mr Clifford Watson",
         "25.0",
         "English Literature",
         "1.0",
         "Saint Barthelemy"
        ],
        [
         "1",
         "a8040287",
         "Elliott Ward",
         "25.0",
         "Computer Science",
         "4.0",
         "Guinea"
        ],
        [
         "2",
         "d8da5486",
         "Miss Pauline Dunn",
         "22.0",
         "Engineering",
         "4.0",
         "Afghanistan"
        ],
        [
         "3",
         "3ac1b74d",
         "Mr Dominic Mason",
         "22.0",
         "Physics",
         "1.0",
         "Palau"
        ],
        [
         "4",
         "67850858",
         "Mrs Melanie Brown",
         "18.0",
         "English Literature",
         "3.0",
         "Algeria"
        ],
        [
         "5",
         "62dd3a69",
         "Mr Frederick Price",
         "22.0",
         "Medicine",
         "2.0",
         "Guinea-Bissau"
        ],
        [
         "6",
         "6b22a999",
         "Charles Hayward",
         "23.0",
         "Engineering",
         "2.0",
         "Comoros"
        ],
        [
         "7",
         "4b744b9a",
         "Garry Thornton",
         null,
         "English Literature",
         "4.0",
         "Cuba"
        ],
        [
         "8",
         "45c54817",
         "Mrs Sian Wilson",
         "20.0",
         "Computer Science",
         "2.0",
         "Korea"
        ],
        [
         "9",
         "5d5e1224",
         "Grace Walton-Kelly",
         "20.0",
         "History",
         "1.0",
         "Haiti"
        ],
        [
         "10",
         "2c142f24",
         "Jade Kirby",
         "24.0",
         "Biology",
         "1.0",
         "Fiji"
        ],
        [
         "11",
         "3eec010c",
         "Howard Marshall",
         null,
         "Biology",
         "1.0",
         "Swaziland"
        ],
        [
         "12",
         "f3cbb058",
         "Dr Scott Wilson",
         "18.0",
         "English Literature",
         "4.0",
         "Namibia"
        ],
        [
         "13",
         "6a406b49",
         "Melissa Ali",
         "18.0",
         "Computer Science",
         "1.0",
         "Israel"
        ],
        [
         "14",
         "836d85df",
         "Carolyn Walker",
         "18.0",
         "Mathematics",
         "4.0",
         "Angola"
        ],
        [
         "15",
         "fc4f68b0",
         "Sandra Stephenson",
         "23.0",
         "Law",
         "3.0",
         "Palau"
        ],
        [
         "16",
         "41465cf8",
         "Mr Guy Lynch",
         "25.0",
         "History",
         "2.0",
         "Italy"
        ],
        [
         "17",
         "afae8532",
         "Kieran Davidson-Watson",
         "25.0",
         "English Literature",
         "1.0",
         "Mayotte"
        ],
        [
         "18",
         "7c43c14d",
         "Malcolm Farrell-Sykes",
         "18.0",
         "History",
         "3.0",
         "Nauru"
        ],
        [
         "19",
         "43b3612f",
         "Frederick Khan",
         "19.0",
         "Art",
         "4.0",
         "Taiwan"
        ],
        [
         "20",
         "72324765",
         "Gail Henderson",
         "21.0",
         "Law",
         "1.0",
         "Eritrea"
        ],
        [
         "21",
         "9c0aa410",
         "Hazel Evans",
         "24.0",
         "History",
         "3.0",
         "China"
        ],
        [
         "22",
         "a9e6b860",
         "Mrs Tracey Adams",
         "24.0",
         "English Literature",
         "4.0",
         "Saint Lucia"
        ],
        [
         "23",
         "0e7361c4",
         "Mr Donald Taylor",
         "21.0",
         "Engineering",
         "3.0",
         "France"
        ],
        [
         "24",
         "27166ecb",
         "Dr Terry Lewis",
         "245.0",
         "Mathematics",
         "3.0",
         "Fiji"
        ],
        [
         "25",
         "c828ba21",
         "Kelly Fisher-Simpson",
         "21.0",
         "Law",
         "2.0",
         "Isle of Man"
        ],
        [
         "26",
         "a7bb5b63",
         "Steven Ahmed",
         "22.0",
         "Physics",
         "1.0",
         "Guernsey"
        ],
        [
         "27",
         "f156e962",
         "Christian Howell-Holt",
         "25.0",
         "Law",
         "2.0",
         "Kyrgyz Republic"
        ],
        [
         "28",
         "2f3b6b33",
         "Dr Aaron Bell",
         "21.0",
         "English Literature",
         "3.0",
         "Libyan Arab Jamahiriya"
        ],
        [
         "29",
         "88648f86",
         "Pauline Akhtar",
         "20.0",
         "Biology",
         "4.0",
         "Netherlands Antilles"
        ],
        [
         "30",
         "a225e559",
         "Sheila Roberts-Harris",
         "18.0",
         "Biology",
         "4.0",
         "Singapore"
        ],
        [
         "31",
         "34212ec1",
         "Rosemary Wood",
         "18.0",
         "Mathematics",
         "3.0",
         "Comoros"
        ],
        [
         "32",
         "fcedbd2f",
         "Mrs Rosemary Knight",
         "18.0",
         "Art",
         "4.0",
         "French Polynesia"
        ],
        [
         "33",
         "88dc77f7",
         "Daniel Harris",
         "20.0",
         "Computer Science",
         "4.0",
         "Wallis and Futuna"
        ],
        [
         "34",
         "53dd0026",
         "Amber Osborne",
         "21.0",
         "Physics",
         "4.0",
         "Liberia"
        ],
        [
         "35",
         "ea066b3e",
         "Alison Williams-Garner",
         "21.0",
         "Engineering",
         "2.0",
         "Brunei Darussalam"
        ],
        [
         "36",
         "10551162",
         "Mr Bruce Fleming",
         "24.0",
         "Law",
         "3.0",
         "Equatorial Guinea"
        ],
        [
         "37",
         "a420952d",
         "Lindsey Cook",
         "25.0",
         "History",
         "2.0",
         "Micronesia"
        ],
        [
         "38",
         "45604caa",
         "Victor Palmer",
         "23.0",
         "English Literature",
         "3.0",
         "Thailand"
        ],
        [
         "39",
         "8d697782",
         "Mr Lawrence Barker",
         "24.0",
         "Physics",
         "3.0",
         "Antigua and Barbuda"
        ],
        [
         "40",
         "8581f127",
         "Mrs Cheryl Ashton",
         "25.0",
         "Engineering",
         "3.0",
         "South Africa"
        ],
        [
         "41",
         "5fa87190",
         "Olivia Turner",
         "21.0",
         "Mathematics",
         "1.0",
         "Zimbabwe"
        ],
        [
         "42",
         "cc9eb24e",
         "Lucy Roberts",
         "22.0",
         "Biology",
         "4.0",
         "Marshall Islands"
        ],
        [
         "43",
         "3c1fe24c",
         "Melanie Sheppard",
         "21.0",
         "Medicine",
         "1.0",
         "Lebanon"
        ],
        [
         "44",
         "204e4c56",
         "Paula Watts",
         "21.0",
         "Computer Science",
         "3.0",
         "Tunisia"
        ],
        [
         "45",
         "0fac1009",
         "Louis Buckley",
         "18.0",
         "Art",
         "3.0",
         "Cambodia"
        ],
        [
         "46",
         "bde91950",
         "Mrs Elizabeth Perry",
         "19.0",
         "Computer Science",
         "4.0",
         "Burkina Faso"
        ],
        [
         "47",
         "4e324306",
         "Stephanie Thompson",
         "23.0",
         "Medicine",
         "4.0",
         "Cyprus"
        ],
        [
         "48",
         "75693b89",
         "Angela Farmer-Sanders",
         "25.0",
         "History",
         "4.0",
         "Ukraine"
        ],
        [
         "49",
         "ba4fe6e7",
         "Miss Bethany Grant",
         "24.0",
         "Physics",
         "1.0",
         "Aruba"
        ]
       ],
       "shape": {
        "columns": 6,
        "rows": 101
       }
      },
      "text/html": [
       "<div>\n",
       "<style scoped>\n",
       "    .dataframe tbody tr th:only-of-type {\n",
       "        vertical-align: middle;\n",
       "    }\n",
       "\n",
       "    .dataframe tbody tr th {\n",
       "        vertical-align: top;\n",
       "    }\n",
       "\n",
       "    .dataframe thead th {\n",
       "        text-align: right;\n",
       "    }\n",
       "</style>\n",
       "<table border=\"1\" class=\"dataframe\">\n",
       "  <thead>\n",
       "    <tr style=\"text-align: right;\">\n",
       "      <th></th>\n",
       "      <th>Student ID</th>\n",
       "      <th>Name</th>\n",
       "      <th>Age</th>\n",
       "      <th>Subject</th>\n",
       "      <th>Year of Study</th>\n",
       "      <th>Country of Origin</th>\n",
       "    </tr>\n",
       "  </thead>\n",
       "  <tbody>\n",
       "    <tr>\n",
       "      <th>0</th>\n",
       "      <td>2703f3f0</td>\n",
       "      <td>Mr Clifford Watson</td>\n",
       "      <td>25.0</td>\n",
       "      <td>English Literature</td>\n",
       "      <td>1.0</td>\n",
       "      <td>Saint Barthelemy</td>\n",
       "    </tr>\n",
       "    <tr>\n",
       "      <th>1</th>\n",
       "      <td>a8040287</td>\n",
       "      <td>Elliott Ward</td>\n",
       "      <td>25.0</td>\n",
       "      <td>Computer Science</td>\n",
       "      <td>4.0</td>\n",
       "      <td>Guinea</td>\n",
       "    </tr>\n",
       "    <tr>\n",
       "      <th>2</th>\n",
       "      <td>d8da5486</td>\n",
       "      <td>Miss Pauline Dunn</td>\n",
       "      <td>22.0</td>\n",
       "      <td>Engineering</td>\n",
       "      <td>4.0</td>\n",
       "      <td>Afghanistan</td>\n",
       "    </tr>\n",
       "    <tr>\n",
       "      <th>3</th>\n",
       "      <td>3ac1b74d</td>\n",
       "      <td>Mr Dominic Mason</td>\n",
       "      <td>22.0</td>\n",
       "      <td>Physics</td>\n",
       "      <td>1.0</td>\n",
       "      <td>Palau</td>\n",
       "    </tr>\n",
       "    <tr>\n",
       "      <th>4</th>\n",
       "      <td>67850858</td>\n",
       "      <td>Mrs Melanie Brown</td>\n",
       "      <td>18.0</td>\n",
       "      <td>English Literature</td>\n",
       "      <td>3.0</td>\n",
       "      <td>Algeria</td>\n",
       "    </tr>\n",
       "    <tr>\n",
       "      <th>...</th>\n",
       "      <td>...</td>\n",
       "      <td>...</td>\n",
       "      <td>...</td>\n",
       "      <td>...</td>\n",
       "      <td>...</td>\n",
       "      <td>...</td>\n",
       "    </tr>\n",
       "    <tr>\n",
       "      <th>96</th>\n",
       "      <td>a8be1ec3</td>\n",
       "      <td>Kelly Foster</td>\n",
       "      <td>22.0</td>\n",
       "      <td>Engineering</td>\n",
       "      <td>1.0</td>\n",
       "      <td>Netherlands</td>\n",
       "    </tr>\n",
       "    <tr>\n",
       "      <th>97</th>\n",
       "      <td>3b69ff22</td>\n",
       "      <td>Sara Austin</td>\n",
       "      <td>19.0</td>\n",
       "      <td>Computer Science</td>\n",
       "      <td>34.0</td>\n",
       "      <td>Liechtenstein</td>\n",
       "    </tr>\n",
       "    <tr>\n",
       "      <th>98</th>\n",
       "      <td>716fb45f</td>\n",
       "      <td>Miss Grace Miller</td>\n",
       "      <td>22.0</td>\n",
       "      <td>English Literature</td>\n",
       "      <td>4.0</td>\n",
       "      <td>Comoros</td>\n",
       "    </tr>\n",
       "    <tr>\n",
       "      <th>99</th>\n",
       "      <td>34b97db2</td>\n",
       "      <td>Miss Lydia Saunders</td>\n",
       "      <td>23.0</td>\n",
       "      <td>Physics</td>\n",
       "      <td>2.0</td>\n",
       "      <td>Faroe Islands</td>\n",
       "    </tr>\n",
       "    <tr>\n",
       "      <th>100</th>\n",
       "      <td>34b97db2</td>\n",
       "      <td>Miss Lydia Saunders</td>\n",
       "      <td>23.0</td>\n",
       "      <td>Physics</td>\n",
       "      <td>2.0</td>\n",
       "      <td>Faroe Islands</td>\n",
       "    </tr>\n",
       "  </tbody>\n",
       "</table>\n",
       "<p>101 rows × 6 columns</p>\n",
       "</div>"
      ],
      "text/plain": [
       "    Student ID                 Name   Age             Subject  Year of Study  \\\n",
       "0     2703f3f0   Mr Clifford Watson  25.0  English Literature            1.0   \n",
       "1     a8040287         Elliott Ward  25.0    Computer Science            4.0   \n",
       "2     d8da5486    Miss Pauline Dunn  22.0         Engineering            4.0   \n",
       "3     3ac1b74d     Mr Dominic Mason  22.0             Physics            1.0   \n",
       "4     67850858    Mrs Melanie Brown  18.0  English Literature            3.0   \n",
       "..         ...                  ...   ...                 ...            ...   \n",
       "96    a8be1ec3         Kelly Foster  22.0         Engineering            1.0   \n",
       "97    3b69ff22          Sara Austin  19.0    Computer Science           34.0   \n",
       "98    716fb45f    Miss Grace Miller  22.0  English Literature            4.0   \n",
       "99    34b97db2  Miss Lydia Saunders  23.0             Physics            2.0   \n",
       "100   34b97db2  Miss Lydia Saunders  23.0             Physics            2.0   \n",
       "\n",
       "    Country of Origin  \n",
       "0    Saint Barthelemy  \n",
       "1              Guinea  \n",
       "2         Afghanistan  \n",
       "3               Palau  \n",
       "4             Algeria  \n",
       "..                ...  \n",
       "96        Netherlands  \n",
       "97      Liechtenstein  \n",
       "98            Comoros  \n",
       "99      Faroe Islands  \n",
       "100     Faroe Islands  \n",
       "\n",
       "[101 rows x 6 columns]"
      ]
     },
     "execution_count": 28,
     "metadata": {},
     "output_type": "execute_result"
    }
   ],
   "source": [
    "# Here we're using a 'raw' string (notice the r). This removes the need for the double backslash.\n",
    "students_df = pd.read_csv(r'.\\data\\students.csv')\n",
    "\n",
    "students_df"
   ]
  },
  {
   "cell_type": "markdown",
   "metadata": {},
   "source": [
    "### Creating a DataFrame from a Dictionary\n",
    "You can create a DataFrame by directly passing a dictionary of lists to the pd.DataFrame() constructor, where the keys become column names and the lists become the data."
   ]
  },
  {
   "cell_type": "code",
   "execution_count": 29,
   "metadata": {},
   "outputs": [
    {
     "data": {
      "application/vnd.microsoft.datawrangler.viewer.v0+json": {
       "columns": [
        {
         "name": "index",
         "rawType": "int64",
         "type": "integer"
        },
        {
         "name": "Name",
         "rawType": "object",
         "type": "string"
        },
        {
         "name": "Age",
         "rawType": "int64",
         "type": "integer"
        },
        {
         "name": "Grade",
         "rawType": "object",
         "type": "string"
        }
       ],
       "conversionMethod": "pd.DataFrame",
       "ref": "ebbd82cd-49cf-4c52-8318-1b356672ab11",
       "rows": [
        [
         "0",
         "Alice",
         "25",
         "A"
        ],
        [
         "1",
         "Bob",
         "30",
         "B"
        ],
        [
         "2",
         "Charlie",
         "35",
         "C"
        ]
       ],
       "shape": {
        "columns": 3,
        "rows": 3
       }
      },
      "text/html": [
       "<div>\n",
       "<style scoped>\n",
       "    .dataframe tbody tr th:only-of-type {\n",
       "        vertical-align: middle;\n",
       "    }\n",
       "\n",
       "    .dataframe tbody tr th {\n",
       "        vertical-align: top;\n",
       "    }\n",
       "\n",
       "    .dataframe thead th {\n",
       "        text-align: right;\n",
       "    }\n",
       "</style>\n",
       "<table border=\"1\" class=\"dataframe\">\n",
       "  <thead>\n",
       "    <tr style=\"text-align: right;\">\n",
       "      <th></th>\n",
       "      <th>Name</th>\n",
       "      <th>Age</th>\n",
       "      <th>Grade</th>\n",
       "    </tr>\n",
       "  </thead>\n",
       "  <tbody>\n",
       "    <tr>\n",
       "      <th>0</th>\n",
       "      <td>Alice</td>\n",
       "      <td>25</td>\n",
       "      <td>A</td>\n",
       "    </tr>\n",
       "    <tr>\n",
       "      <th>1</th>\n",
       "      <td>Bob</td>\n",
       "      <td>30</td>\n",
       "      <td>B</td>\n",
       "    </tr>\n",
       "    <tr>\n",
       "      <th>2</th>\n",
       "      <td>Charlie</td>\n",
       "      <td>35</td>\n",
       "      <td>C</td>\n",
       "    </tr>\n",
       "  </tbody>\n",
       "</table>\n",
       "</div>"
      ],
      "text/plain": [
       "      Name  Age Grade\n",
       "0    Alice   25     A\n",
       "1      Bob   30     B\n",
       "2  Charlie   35     C"
      ]
     },
     "execution_count": 29,
     "metadata": {},
     "output_type": "execute_result"
    }
   ],
   "source": [
    "data = {\n",
    "    'Name': ['Alice', 'Bob', 'Charlie'],\n",
    "    'Age': [25, 30, 35],\n",
    "    'Grade': ['A', 'B', 'C']\n",
    "}\n",
    "\n",
    "students_df = pd.DataFrame(data)\n",
    "\n",
    "students_df"
   ]
  },
  {
   "cell_type": "markdown",
   "metadata": {},
   "source": [
    "### Creating a DataFrame from Lists of Lists\n",
    "Another method is by using a list of lists, each representing a row of data. You'll need to specify the column names separately."
   ]
  },
  {
   "cell_type": "code",
   "execution_count": 30,
   "metadata": {},
   "outputs": [
    {
     "data": {
      "application/vnd.microsoft.datawrangler.viewer.v0+json": {
       "columns": [
        {
         "name": "index",
         "rawType": "int64",
         "type": "integer"
        },
        {
         "name": "Name",
         "rawType": "object",
         "type": "string"
        },
        {
         "name": "Age",
         "rawType": "int64",
         "type": "integer"
        },
        {
         "name": "Grade",
         "rawType": "object",
         "type": "string"
        }
       ],
       "conversionMethod": "pd.DataFrame",
       "ref": "765ddc49-7f20-4342-a885-f231f722d998",
       "rows": [
        [
         "0",
         "Alice",
         "25",
         "A"
        ],
        [
         "1",
         "Bob",
         "30",
         "B"
        ],
        [
         "2",
         "Charlie",
         "35",
         "C"
        ]
       ],
       "shape": {
        "columns": 3,
        "rows": 3
       }
      },
      "text/html": [
       "<div>\n",
       "<style scoped>\n",
       "    .dataframe tbody tr th:only-of-type {\n",
       "        vertical-align: middle;\n",
       "    }\n",
       "\n",
       "    .dataframe tbody tr th {\n",
       "        vertical-align: top;\n",
       "    }\n",
       "\n",
       "    .dataframe thead th {\n",
       "        text-align: right;\n",
       "    }\n",
       "</style>\n",
       "<table border=\"1\" class=\"dataframe\">\n",
       "  <thead>\n",
       "    <tr style=\"text-align: right;\">\n",
       "      <th></th>\n",
       "      <th>Name</th>\n",
       "      <th>Age</th>\n",
       "      <th>Grade</th>\n",
       "    </tr>\n",
       "  </thead>\n",
       "  <tbody>\n",
       "    <tr>\n",
       "      <th>0</th>\n",
       "      <td>Alice</td>\n",
       "      <td>25</td>\n",
       "      <td>A</td>\n",
       "    </tr>\n",
       "    <tr>\n",
       "      <th>1</th>\n",
       "      <td>Bob</td>\n",
       "      <td>30</td>\n",
       "      <td>B</td>\n",
       "    </tr>\n",
       "    <tr>\n",
       "      <th>2</th>\n",
       "      <td>Charlie</td>\n",
       "      <td>35</td>\n",
       "      <td>C</td>\n",
       "    </tr>\n",
       "  </tbody>\n",
       "</table>\n",
       "</div>"
      ],
      "text/plain": [
       "      Name  Age Grade\n",
       "0    Alice   25     A\n",
       "1      Bob   30     B\n",
       "2  Charlie   35     C"
      ]
     },
     "execution_count": 30,
     "metadata": {},
     "output_type": "execute_result"
    }
   ],
   "source": [
    "data = [\n",
    "    ['Alice', 25, 'A'],\n",
    "    ['Bob', 30, 'B'],\n",
    "    ['Charlie', 35, 'C']\n",
    "]\n",
    "\n",
    "columns = ['Name', 'Age', 'Grade']\n",
    "\n",
    "students_df = pd.DataFrame(data, columns=columns)\n",
    "\n",
    "students_df"
   ]
  },
  {
   "cell_type": "markdown",
   "metadata": {},
   "source": [
    "### Creating a DataFrame from a List of Dictionaries\n",
    "Each dictionary in the list represents a row in the DataFrame, with keys as column names and values as the data for those columns."
   ]
  },
  {
   "cell_type": "code",
   "execution_count": 31,
   "metadata": {},
   "outputs": [
    {
     "data": {
      "application/vnd.microsoft.datawrangler.viewer.v0+json": {
       "columns": [
        {
         "name": "index",
         "rawType": "int64",
         "type": "integer"
        },
        {
         "name": "Name",
         "rawType": "object",
         "type": "string"
        },
        {
         "name": "Age",
         "rawType": "int64",
         "type": "integer"
        },
        {
         "name": "Grade",
         "rawType": "object",
         "type": "string"
        }
       ],
       "conversionMethod": "pd.DataFrame",
       "ref": "dc5a6074-b283-48dc-9f47-7dce0e2ba6dd",
       "rows": [
        [
         "0",
         "Alice",
         "25",
         "A"
        ],
        [
         "1",
         "Bob",
         "30",
         "B"
        ],
        [
         "2",
         "Charlie",
         "35",
         "C"
        ]
       ],
       "shape": {
        "columns": 3,
        "rows": 3
       }
      },
      "text/html": [
       "<div>\n",
       "<style scoped>\n",
       "    .dataframe tbody tr th:only-of-type {\n",
       "        vertical-align: middle;\n",
       "    }\n",
       "\n",
       "    .dataframe tbody tr th {\n",
       "        vertical-align: top;\n",
       "    }\n",
       "\n",
       "    .dataframe thead th {\n",
       "        text-align: right;\n",
       "    }\n",
       "</style>\n",
       "<table border=\"1\" class=\"dataframe\">\n",
       "  <thead>\n",
       "    <tr style=\"text-align: right;\">\n",
       "      <th></th>\n",
       "      <th>Name</th>\n",
       "      <th>Age</th>\n",
       "      <th>Grade</th>\n",
       "    </tr>\n",
       "  </thead>\n",
       "  <tbody>\n",
       "    <tr>\n",
       "      <th>0</th>\n",
       "      <td>Alice</td>\n",
       "      <td>25</td>\n",
       "      <td>A</td>\n",
       "    </tr>\n",
       "    <tr>\n",
       "      <th>1</th>\n",
       "      <td>Bob</td>\n",
       "      <td>30</td>\n",
       "      <td>B</td>\n",
       "    </tr>\n",
       "    <tr>\n",
       "      <th>2</th>\n",
       "      <td>Charlie</td>\n",
       "      <td>35</td>\n",
       "      <td>C</td>\n",
       "    </tr>\n",
       "  </tbody>\n",
       "</table>\n",
       "</div>"
      ],
      "text/plain": [
       "      Name  Age Grade\n",
       "0    Alice   25     A\n",
       "1      Bob   30     B\n",
       "2  Charlie   35     C"
      ]
     },
     "execution_count": 31,
     "metadata": {},
     "output_type": "execute_result"
    }
   ],
   "source": [
    "data = [\n",
    "    {'Name': 'Alice', 'Age': 25, 'Grade': 'A'},\n",
    "    {'Name': 'Bob', 'Age': 30, 'Grade': 'B'},\n",
    "    {'Name': 'Charlie', 'Age': 35, 'Grade': 'C'}\n",
    "]\n",
    "\n",
    "students_df = pd.DataFrame(data)\n",
    "\n",
    "students_df"
   ]
  },
  {
   "cell_type": "markdown",
   "metadata": {},
   "source": [
    "### Creating a DataFrame from JSON\n",
    "You can load a DataFrame from a JSON string directly using `pd.read_json()`."
   ]
  },
  {
   "cell_type": "code",
   "execution_count": 32,
   "metadata": {},
   "outputs": [
    {
     "name": "stderr",
     "output_type": "stream",
     "text": [
      "C:\\Users\\jmmck\\AppData\\Local\\Temp\\ipykernel_2384\\3128921394.py:9: FutureWarning: Passing literal json to 'read_json' is deprecated and will be removed in a future version. To read from a literal string, wrap it in a 'StringIO' object.\n",
      "  students_df = pd.read_json(json_data)\n"
     ]
    },
    {
     "data": {
      "application/vnd.microsoft.datawrangler.viewer.v0+json": {
       "columns": [
        {
         "name": "index",
         "rawType": "int64",
         "type": "integer"
        },
        {
         "name": "Name",
         "rawType": "object",
         "type": "string"
        },
        {
         "name": "Age",
         "rawType": "int64",
         "type": "integer"
        },
        {
         "name": "Grade",
         "rawType": "object",
         "type": "string"
        }
       ],
       "conversionMethod": "pd.DataFrame",
       "ref": "54bf27ea-e5e1-464e-b2b7-b02ac3562944",
       "rows": [
        [
         "0",
         "Alice",
         "25",
         "A"
        ],
        [
         "1",
         "Bob",
         "30",
         "B"
        ],
        [
         "2",
         "Charlie",
         "35",
         "C"
        ]
       ],
       "shape": {
        "columns": 3,
        "rows": 3
       }
      },
      "text/html": [
       "<div>\n",
       "<style scoped>\n",
       "    .dataframe tbody tr th:only-of-type {\n",
       "        vertical-align: middle;\n",
       "    }\n",
       "\n",
       "    .dataframe tbody tr th {\n",
       "        vertical-align: top;\n",
       "    }\n",
       "\n",
       "    .dataframe thead th {\n",
       "        text-align: right;\n",
       "    }\n",
       "</style>\n",
       "<table border=\"1\" class=\"dataframe\">\n",
       "  <thead>\n",
       "    <tr style=\"text-align: right;\">\n",
       "      <th></th>\n",
       "      <th>Name</th>\n",
       "      <th>Age</th>\n",
       "      <th>Grade</th>\n",
       "    </tr>\n",
       "  </thead>\n",
       "  <tbody>\n",
       "    <tr>\n",
       "      <th>0</th>\n",
       "      <td>Alice</td>\n",
       "      <td>25</td>\n",
       "      <td>A</td>\n",
       "    </tr>\n",
       "    <tr>\n",
       "      <th>1</th>\n",
       "      <td>Bob</td>\n",
       "      <td>30</td>\n",
       "      <td>B</td>\n",
       "    </tr>\n",
       "    <tr>\n",
       "      <th>2</th>\n",
       "      <td>Charlie</td>\n",
       "      <td>35</td>\n",
       "      <td>C</td>\n",
       "    </tr>\n",
       "  </tbody>\n",
       "</table>\n",
       "</div>"
      ],
      "text/plain": [
       "      Name  Age Grade\n",
       "0    Alice   25     A\n",
       "1      Bob   30     B\n",
       "2  Charlie   35     C"
      ]
     },
     "execution_count": 32,
     "metadata": {},
     "output_type": "execute_result"
    }
   ],
   "source": [
    "json_data = '''\n",
    "[\n",
    "    {\"Name\": \"Alice\", \"Age\": 25, \"Grade\": \"A\"},\n",
    "    {\"Name\": \"Bob\", \"Age\": 30, \"Grade\": \"B\"},\n",
    "    {\"Name\": \"Charlie\", \"Age\": 35, \"Grade\": \"C\"}\n",
    "]\n",
    "'''\n",
    "\n",
    "students_df = pd.read_json(json_data)\n",
    "\n",
    "students_df"
   ]
  },
  {
   "cell_type": "markdown",
   "metadata": {},
   "source": [
    "Here we 'future proof' the JSON example using `StringIO`:"
   ]
  },
  {
   "cell_type": "code",
   "execution_count": 33,
   "metadata": {},
   "outputs": [
    {
     "data": {
      "application/vnd.microsoft.datawrangler.viewer.v0+json": {
       "columns": [
        {
         "name": "index",
         "rawType": "int64",
         "type": "integer"
        },
        {
         "name": "Name",
         "rawType": "object",
         "type": "string"
        },
        {
         "name": "Age",
         "rawType": "int64",
         "type": "integer"
        },
        {
         "name": "Grade",
         "rawType": "object",
         "type": "string"
        }
       ],
       "conversionMethod": "pd.DataFrame",
       "ref": "5c0b9ee5-ec5d-437d-a420-5521936c65c7",
       "rows": [
        [
         "0",
         "Alice",
         "25",
         "A"
        ],
        [
         "1",
         "Bob",
         "30",
         "B"
        ],
        [
         "2",
         "Charlie",
         "35",
         "C"
        ]
       ],
       "shape": {
        "columns": 3,
        "rows": 3
       }
      },
      "text/html": [
       "<div>\n",
       "<style scoped>\n",
       "    .dataframe tbody tr th:only-of-type {\n",
       "        vertical-align: middle;\n",
       "    }\n",
       "\n",
       "    .dataframe tbody tr th {\n",
       "        vertical-align: top;\n",
       "    }\n",
       "\n",
       "    .dataframe thead th {\n",
       "        text-align: right;\n",
       "    }\n",
       "</style>\n",
       "<table border=\"1\" class=\"dataframe\">\n",
       "  <thead>\n",
       "    <tr style=\"text-align: right;\">\n",
       "      <th></th>\n",
       "      <th>Name</th>\n",
       "      <th>Age</th>\n",
       "      <th>Grade</th>\n",
       "    </tr>\n",
       "  </thead>\n",
       "  <tbody>\n",
       "    <tr>\n",
       "      <th>0</th>\n",
       "      <td>Alice</td>\n",
       "      <td>25</td>\n",
       "      <td>A</td>\n",
       "    </tr>\n",
       "    <tr>\n",
       "      <th>1</th>\n",
       "      <td>Bob</td>\n",
       "      <td>30</td>\n",
       "      <td>B</td>\n",
       "    </tr>\n",
       "    <tr>\n",
       "      <th>2</th>\n",
       "      <td>Charlie</td>\n",
       "      <td>35</td>\n",
       "      <td>C</td>\n",
       "    </tr>\n",
       "  </tbody>\n",
       "</table>\n",
       "</div>"
      ],
      "text/plain": [
       "      Name  Age Grade\n",
       "0    Alice   25     A\n",
       "1      Bob   30     B\n",
       "2  Charlie   35     C"
      ]
     },
     "execution_count": 33,
     "metadata": {},
     "output_type": "execute_result"
    }
   ],
   "source": [
    "from io import StringIO\n",
    "\n",
    "json_data = '''\n",
    "[\n",
    "    {\"Name\": \"Alice\", \"Age\": 25, \"Grade\": \"A\"},\n",
    "    {\"Name\": \"Bob\", \"Age\": 30, \"Grade\": \"B\"},\n",
    "    {\"Name\": \"Charlie\", \"Age\": 35, \"Grade\": \"C\"}\n",
    "]\n",
    "'''\n",
    "\n",
    "students_df = pd.read_json(StringIO(json_data))\n",
    "\n",
    "students_df"
   ]
  },
  {
   "cell_type": "markdown",
   "metadata": {},
   "source": [
    "### Creating a DataFrame from a CSV File (with different options)\n",
    "Besides the basic CSV loading, you can specify additional parameters to handle different data formats and situations."
   ]
  },
  {
   "cell_type": "code",
   "execution_count": 34,
   "metadata": {},
   "outputs": [
    {
     "data": {
      "application/vnd.microsoft.datawrangler.viewer.v0+json": {
       "columns": [
        {
         "name": "index",
         "rawType": "int64",
         "type": "integer"
        },
        {
         "name": "Student ID",
         "rawType": "object",
         "type": "string"
        },
        {
         "name": "Name",
         "rawType": "object",
         "type": "string"
        },
        {
         "name": "Age",
         "rawType": "float64",
         "type": "float"
        },
        {
         "name": "Subject",
         "rawType": "object",
         "type": "string"
        },
        {
         "name": "Year of Study",
         "rawType": "float64",
         "type": "float"
        },
        {
         "name": "Country of Origin",
         "rawType": "object",
         "type": "string"
        }
       ],
       "conversionMethod": "pd.DataFrame",
       "ref": "802ae596-a081-4178-bdc8-f53927028a04",
       "rows": [
        [
         "0",
         "2703f3f0",
         "Mr Clifford Watson",
         "25.0",
         "English Literature",
         "1.0",
         "Saint Barthelemy"
        ],
        [
         "1",
         "a8040287",
         "Elliott Ward",
         "25.0",
         "Computer Science",
         "4.0",
         "Guinea"
        ],
        [
         "2",
         "d8da5486",
         "Miss Pauline Dunn",
         "22.0",
         "Engineering",
         "4.0",
         "Afghanistan"
        ],
        [
         "3",
         "3ac1b74d",
         "Mr Dominic Mason",
         "22.0",
         "Physics",
         "1.0",
         "Palau"
        ],
        [
         "4",
         "67850858",
         "Mrs Melanie Brown",
         "18.0",
         "English Literature",
         "3.0",
         "Algeria"
        ],
        [
         "5",
         "62dd3a69",
         "Mr Frederick Price",
         "22.0",
         "Medicine",
         "2.0",
         "Guinea-Bissau"
        ],
        [
         "6",
         "6b22a999",
         "Charles Hayward",
         "23.0",
         "Engineering",
         "2.0",
         "Comoros"
        ],
        [
         "7",
         "4b744b9a",
         "Garry Thornton",
         null,
         "English Literature",
         "4.0",
         "Cuba"
        ],
        [
         "8",
         "45c54817",
         "Mrs Sian Wilson",
         "20.0",
         "Computer Science",
         "2.0",
         "Korea"
        ],
        [
         "9",
         "5d5e1224",
         "Grace Walton-Kelly",
         "20.0",
         "History",
         "1.0",
         "Haiti"
        ],
        [
         "10",
         "2c142f24",
         "Jade Kirby",
         "24.0",
         "Biology",
         "1.0",
         "Fiji"
        ],
        [
         "11",
         "3eec010c",
         "Howard Marshall",
         null,
         "Biology",
         "1.0",
         "Swaziland"
        ],
        [
         "12",
         "f3cbb058",
         "Dr Scott Wilson",
         "18.0",
         "English Literature",
         "4.0",
         "Namibia"
        ],
        [
         "13",
         "6a406b49",
         "Melissa Ali",
         "18.0",
         "Computer Science",
         "1.0",
         "Israel"
        ],
        [
         "14",
         "836d85df",
         "Carolyn Walker",
         "18.0",
         "Mathematics",
         "4.0",
         "Angola"
        ],
        [
         "15",
         "fc4f68b0",
         "Sandra Stephenson",
         "23.0",
         "Law",
         "3.0",
         "Palau"
        ],
        [
         "16",
         "41465cf8",
         "Mr Guy Lynch",
         "25.0",
         "History",
         "2.0",
         "Italy"
        ],
        [
         "17",
         "afae8532",
         "Kieran Davidson-Watson",
         "25.0",
         "English Literature",
         "1.0",
         "Mayotte"
        ],
        [
         "18",
         "7c43c14d",
         "Malcolm Farrell-Sykes",
         "18.0",
         "History",
         "3.0",
         "Nauru"
        ],
        [
         "19",
         "43b3612f",
         "Frederick Khan",
         "19.0",
         "Art",
         "4.0",
         "Taiwan"
        ],
        [
         "20",
         "72324765",
         "Gail Henderson",
         "21.0",
         "Law",
         "1.0",
         "Eritrea"
        ],
        [
         "21",
         "9c0aa410",
         "Hazel Evans",
         "24.0",
         "History",
         "3.0",
         "China"
        ],
        [
         "22",
         "a9e6b860",
         "Mrs Tracey Adams",
         "24.0",
         "English Literature",
         "4.0",
         "Saint Lucia"
        ],
        [
         "23",
         "0e7361c4",
         "Mr Donald Taylor",
         "21.0",
         "Engineering",
         "3.0",
         "France"
        ],
        [
         "24",
         "27166ecb",
         "Dr Terry Lewis",
         "245.0",
         "Mathematics",
         "3.0",
         "Fiji"
        ],
        [
         "25",
         "c828ba21",
         "Kelly Fisher-Simpson",
         "21.0",
         "Law",
         "2.0",
         "Isle of Man"
        ],
        [
         "26",
         "a7bb5b63",
         "Steven Ahmed",
         "22.0",
         "Physics",
         "1.0",
         "Guernsey"
        ],
        [
         "27",
         "f156e962",
         "Christian Howell-Holt",
         "25.0",
         "Law",
         "2.0",
         "Kyrgyz Republic"
        ],
        [
         "28",
         "2f3b6b33",
         "Dr Aaron Bell",
         "21.0",
         "English Literature",
         "3.0",
         "Libyan Arab Jamahiriya"
        ],
        [
         "29",
         "88648f86",
         "Pauline Akhtar",
         "20.0",
         "Biology",
         "4.0",
         "Netherlands Antilles"
        ],
        [
         "30",
         "a225e559",
         "Sheila Roberts-Harris",
         "18.0",
         "Biology",
         "4.0",
         "Singapore"
        ],
        [
         "31",
         "34212ec1",
         "Rosemary Wood",
         "18.0",
         "Mathematics",
         "3.0",
         "Comoros"
        ],
        [
         "32",
         "fcedbd2f",
         "Mrs Rosemary Knight",
         "18.0",
         "Art",
         "4.0",
         "French Polynesia"
        ],
        [
         "33",
         "88dc77f7",
         "Daniel Harris",
         "20.0",
         "Computer Science",
         "4.0",
         "Wallis and Futuna"
        ],
        [
         "34",
         "53dd0026",
         "Amber Osborne",
         "21.0",
         "Physics",
         "4.0",
         "Liberia"
        ],
        [
         "35",
         "ea066b3e",
         "Alison Williams-Garner",
         "21.0",
         "Engineering",
         "2.0",
         "Brunei Darussalam"
        ],
        [
         "36",
         "10551162",
         "Mr Bruce Fleming",
         "24.0",
         "Law",
         "3.0",
         "Equatorial Guinea"
        ],
        [
         "37",
         "a420952d",
         "Lindsey Cook",
         "25.0",
         "History",
         "2.0",
         "Micronesia"
        ],
        [
         "38",
         "45604caa",
         "Victor Palmer",
         "23.0",
         "English Literature",
         "3.0",
         "Thailand"
        ],
        [
         "39",
         "8d697782",
         "Mr Lawrence Barker",
         "24.0",
         "Physics",
         "3.0",
         "Antigua and Barbuda"
        ],
        [
         "40",
         "8581f127",
         "Mrs Cheryl Ashton",
         "25.0",
         "Engineering",
         "3.0",
         "South Africa"
        ],
        [
         "41",
         "5fa87190",
         "Olivia Turner",
         "21.0",
         "Mathematics",
         "1.0",
         "Zimbabwe"
        ],
        [
         "42",
         "cc9eb24e",
         "Lucy Roberts",
         "22.0",
         "Biology",
         "4.0",
         "Marshall Islands"
        ],
        [
         "43",
         "3c1fe24c",
         "Melanie Sheppard",
         "21.0",
         "Medicine",
         "1.0",
         "Lebanon"
        ],
        [
         "44",
         "204e4c56",
         "Paula Watts",
         "21.0",
         "Computer Science",
         "3.0",
         "Tunisia"
        ],
        [
         "45",
         "0fac1009",
         "Louis Buckley",
         "18.0",
         "Art",
         "3.0",
         "Cambodia"
        ],
        [
         "46",
         "bde91950",
         "Mrs Elizabeth Perry",
         "19.0",
         "Computer Science",
         "4.0",
         "Burkina Faso"
        ],
        [
         "47",
         "4e324306",
         "Stephanie Thompson",
         "23.0",
         "Medicine",
         "4.0",
         "Cyprus"
        ],
        [
         "48",
         "75693b89",
         "Angela Farmer-Sanders",
         "25.0",
         "History",
         "4.0",
         "Ukraine"
        ],
        [
         "49",
         "ba4fe6e7",
         "Miss Bethany Grant",
         "24.0",
         "Physics",
         "1.0",
         "Aruba"
        ]
       ],
       "shape": {
        "columns": 6,
        "rows": 101
       }
      },
      "text/html": [
       "<div>\n",
       "<style scoped>\n",
       "    .dataframe tbody tr th:only-of-type {\n",
       "        vertical-align: middle;\n",
       "    }\n",
       "\n",
       "    .dataframe tbody tr th {\n",
       "        vertical-align: top;\n",
       "    }\n",
       "\n",
       "    .dataframe thead th {\n",
       "        text-align: right;\n",
       "    }\n",
       "</style>\n",
       "<table border=\"1\" class=\"dataframe\">\n",
       "  <thead>\n",
       "    <tr style=\"text-align: right;\">\n",
       "      <th></th>\n",
       "      <th>Student ID</th>\n",
       "      <th>Name</th>\n",
       "      <th>Age</th>\n",
       "      <th>Subject</th>\n",
       "      <th>Year of Study</th>\n",
       "      <th>Country of Origin</th>\n",
       "    </tr>\n",
       "  </thead>\n",
       "  <tbody>\n",
       "    <tr>\n",
       "      <th>0</th>\n",
       "      <td>2703f3f0</td>\n",
       "      <td>Mr Clifford Watson</td>\n",
       "      <td>25.0</td>\n",
       "      <td>English Literature</td>\n",
       "      <td>1.0</td>\n",
       "      <td>Saint Barthelemy</td>\n",
       "    </tr>\n",
       "    <tr>\n",
       "      <th>1</th>\n",
       "      <td>a8040287</td>\n",
       "      <td>Elliott Ward</td>\n",
       "      <td>25.0</td>\n",
       "      <td>Computer Science</td>\n",
       "      <td>4.0</td>\n",
       "      <td>Guinea</td>\n",
       "    </tr>\n",
       "    <tr>\n",
       "      <th>2</th>\n",
       "      <td>d8da5486</td>\n",
       "      <td>Miss Pauline Dunn</td>\n",
       "      <td>22.0</td>\n",
       "      <td>Engineering</td>\n",
       "      <td>4.0</td>\n",
       "      <td>Afghanistan</td>\n",
       "    </tr>\n",
       "    <tr>\n",
       "      <th>3</th>\n",
       "      <td>3ac1b74d</td>\n",
       "      <td>Mr Dominic Mason</td>\n",
       "      <td>22.0</td>\n",
       "      <td>Physics</td>\n",
       "      <td>1.0</td>\n",
       "      <td>Palau</td>\n",
       "    </tr>\n",
       "    <tr>\n",
       "      <th>4</th>\n",
       "      <td>67850858</td>\n",
       "      <td>Mrs Melanie Brown</td>\n",
       "      <td>18.0</td>\n",
       "      <td>English Literature</td>\n",
       "      <td>3.0</td>\n",
       "      <td>Algeria</td>\n",
       "    </tr>\n",
       "    <tr>\n",
       "      <th>...</th>\n",
       "      <td>...</td>\n",
       "      <td>...</td>\n",
       "      <td>...</td>\n",
       "      <td>...</td>\n",
       "      <td>...</td>\n",
       "      <td>...</td>\n",
       "    </tr>\n",
       "    <tr>\n",
       "      <th>96</th>\n",
       "      <td>a8be1ec3</td>\n",
       "      <td>Kelly Foster</td>\n",
       "      <td>22.0</td>\n",
       "      <td>Engineering</td>\n",
       "      <td>1.0</td>\n",
       "      <td>Netherlands</td>\n",
       "    </tr>\n",
       "    <tr>\n",
       "      <th>97</th>\n",
       "      <td>3b69ff22</td>\n",
       "      <td>Sara Austin</td>\n",
       "      <td>19.0</td>\n",
       "      <td>Computer Science</td>\n",
       "      <td>34.0</td>\n",
       "      <td>Liechtenstein</td>\n",
       "    </tr>\n",
       "    <tr>\n",
       "      <th>98</th>\n",
       "      <td>716fb45f</td>\n",
       "      <td>Miss Grace Miller</td>\n",
       "      <td>22.0</td>\n",
       "      <td>English Literature</td>\n",
       "      <td>4.0</td>\n",
       "      <td>Comoros</td>\n",
       "    </tr>\n",
       "    <tr>\n",
       "      <th>99</th>\n",
       "      <td>34b97db2</td>\n",
       "      <td>Miss Lydia Saunders</td>\n",
       "      <td>23.0</td>\n",
       "      <td>Physics</td>\n",
       "      <td>2.0</td>\n",
       "      <td>Faroe Islands</td>\n",
       "    </tr>\n",
       "    <tr>\n",
       "      <th>100</th>\n",
       "      <td>34b97db2</td>\n",
       "      <td>Miss Lydia Saunders</td>\n",
       "      <td>23.0</td>\n",
       "      <td>Physics</td>\n",
       "      <td>2.0</td>\n",
       "      <td>Faroe Islands</td>\n",
       "    </tr>\n",
       "  </tbody>\n",
       "</table>\n",
       "<p>101 rows × 6 columns</p>\n",
       "</div>"
      ],
      "text/plain": [
       "    Student ID                 Name   Age             Subject  Year of Study  \\\n",
       "0     2703f3f0   Mr Clifford Watson  25.0  English Literature            1.0   \n",
       "1     a8040287         Elliott Ward  25.0    Computer Science            4.0   \n",
       "2     d8da5486    Miss Pauline Dunn  22.0         Engineering            4.0   \n",
       "3     3ac1b74d     Mr Dominic Mason  22.0             Physics            1.0   \n",
       "4     67850858    Mrs Melanie Brown  18.0  English Literature            3.0   \n",
       "..         ...                  ...   ...                 ...            ...   \n",
       "96    a8be1ec3         Kelly Foster  22.0         Engineering            1.0   \n",
       "97    3b69ff22          Sara Austin  19.0    Computer Science           34.0   \n",
       "98    716fb45f    Miss Grace Miller  22.0  English Literature            4.0   \n",
       "99    34b97db2  Miss Lydia Saunders  23.0             Physics            2.0   \n",
       "100   34b97db2  Miss Lydia Saunders  23.0             Physics            2.0   \n",
       "\n",
       "    Country of Origin  \n",
       "0    Saint Barthelemy  \n",
       "1              Guinea  \n",
       "2         Afghanistan  \n",
       "3               Palau  \n",
       "4             Algeria  \n",
       "..                ...  \n",
       "96        Netherlands  \n",
       "97      Liechtenstein  \n",
       "98            Comoros  \n",
       "99      Faroe Islands  \n",
       "100     Faroe Islands  \n",
       "\n",
       "[101 rows x 6 columns]"
      ]
     },
     "execution_count": 34,
     "metadata": {},
     "output_type": "execute_result"
    }
   ],
   "source": [
    "# Specifying delimiters: here we're explicitly stating that the delimiter is a comma.\n",
    "# This is the default, but some files that we want to load might use tabs, semicolons, etc.\n",
    "students_df = pd.read_csv('./data/students.csv',\n",
    "                          delimiter=',')\n",
    "\n",
    "students_df"
   ]
  },
  {
   "cell_type": "markdown",
   "metadata": {},
   "source": [
    "In the example below, we assume that the first row of the file contains data values rather than headings. This doesn't apply to our original students.csv file, but it could well apply to other files that we want to load."
   ]
  },
  {
   "cell_type": "code",
   "execution_count": 35,
   "metadata": {},
   "outputs": [
    {
     "data": {
      "application/vnd.microsoft.datawrangler.viewer.v0+json": {
       "columns": [
        {
         "name": "index",
         "rawType": "int64",
         "type": "integer"
        },
        {
         "name": "Student ID",
         "rawType": "object",
         "type": "string"
        },
        {
         "name": "Name",
         "rawType": "object",
         "type": "string"
        },
        {
         "name": "Age",
         "rawType": "float64",
         "type": "float"
        },
        {
         "name": "Subject",
         "rawType": "object",
         "type": "string"
        },
        {
         "name": "Year of Study",
         "rawType": "float64",
         "type": "float"
        },
        {
         "name": "Country of Origin",
         "rawType": "object",
         "type": "string"
        }
       ],
       "conversionMethod": "pd.DataFrame",
       "ref": "50e54bbd-ed7b-48d3-9151-c8fdd312e4da",
       "rows": [
        [
         "0",
         "2703f3f0",
         "Mr Clifford Watson",
         "25.0",
         "English Literature",
         "1.0",
         "Saint Barthelemy"
        ],
        [
         "1",
         "a8040287",
         "Elliott Ward",
         "25.0",
         "Computer Science",
         "4.0",
         "Guinea"
        ],
        [
         "2",
         "d8da5486",
         "Miss Pauline Dunn",
         "22.0",
         "Engineering",
         "4.0",
         "Afghanistan"
        ],
        [
         "3",
         "3ac1b74d",
         "Mr Dominic Mason",
         "22.0",
         "Physics",
         "1.0",
         "Palau"
        ],
        [
         "4",
         "67850858",
         "Mrs Melanie Brown",
         "18.0",
         "English Literature",
         "3.0",
         "Algeria"
        ],
        [
         "5",
         "62dd3a69",
         "Mr Frederick Price",
         "22.0",
         "Medicine",
         "2.0",
         "Guinea-Bissau"
        ],
        [
         "6",
         "6b22a999",
         "Charles Hayward",
         "23.0",
         "Engineering",
         "2.0",
         "Comoros"
        ],
        [
         "7",
         "4b744b9a",
         "Garry Thornton",
         null,
         "English Literature",
         "4.0",
         "Cuba"
        ],
        [
         "8",
         "45c54817",
         "Mrs Sian Wilson",
         "20.0",
         "Computer Science",
         "2.0",
         "Korea"
        ],
        [
         "9",
         "5d5e1224",
         "Grace Walton-Kelly",
         "20.0",
         "History",
         "1.0",
         "Haiti"
        ],
        [
         "10",
         "2c142f24",
         "Jade Kirby",
         "24.0",
         "Biology",
         "1.0",
         "Fiji"
        ],
        [
         "11",
         "3eec010c",
         "Howard Marshall",
         null,
         "Biology",
         "1.0",
         "Swaziland"
        ],
        [
         "12",
         "f3cbb058",
         "Dr Scott Wilson",
         "18.0",
         "English Literature",
         "4.0",
         "Namibia"
        ],
        [
         "13",
         "6a406b49",
         "Melissa Ali",
         "18.0",
         "Computer Science",
         "1.0",
         "Israel"
        ],
        [
         "14",
         "836d85df",
         "Carolyn Walker",
         "18.0",
         "Mathematics",
         "4.0",
         "Angola"
        ],
        [
         "15",
         "fc4f68b0",
         "Sandra Stephenson",
         "23.0",
         "Law",
         "3.0",
         "Palau"
        ],
        [
         "16",
         "41465cf8",
         "Mr Guy Lynch",
         "25.0",
         "History",
         "2.0",
         "Italy"
        ],
        [
         "17",
         "afae8532",
         "Kieran Davidson-Watson",
         "25.0",
         "English Literature",
         "1.0",
         "Mayotte"
        ],
        [
         "18",
         "7c43c14d",
         "Malcolm Farrell-Sykes",
         "18.0",
         "History",
         "3.0",
         "Nauru"
        ],
        [
         "19",
         "43b3612f",
         "Frederick Khan",
         "19.0",
         "Art",
         "4.0",
         "Taiwan"
        ],
        [
         "20",
         "72324765",
         "Gail Henderson",
         "21.0",
         "Law",
         "1.0",
         "Eritrea"
        ],
        [
         "21",
         "9c0aa410",
         "Hazel Evans",
         "24.0",
         "History",
         "3.0",
         "China"
        ],
        [
         "22",
         "a9e6b860",
         "Mrs Tracey Adams",
         "24.0",
         "English Literature",
         "4.0",
         "Saint Lucia"
        ],
        [
         "23",
         "0e7361c4",
         "Mr Donald Taylor",
         "21.0",
         "Engineering",
         "3.0",
         "France"
        ],
        [
         "24",
         "27166ecb",
         "Dr Terry Lewis",
         "245.0",
         "Mathematics",
         "3.0",
         "Fiji"
        ],
        [
         "25",
         "c828ba21",
         "Kelly Fisher-Simpson",
         "21.0",
         "Law",
         "2.0",
         "Isle of Man"
        ],
        [
         "26",
         "a7bb5b63",
         "Steven Ahmed",
         "22.0",
         "Physics",
         "1.0",
         "Guernsey"
        ],
        [
         "27",
         "f156e962",
         "Christian Howell-Holt",
         "25.0",
         "Law",
         "2.0",
         "Kyrgyz Republic"
        ],
        [
         "28",
         "2f3b6b33",
         "Dr Aaron Bell",
         "21.0",
         "English Literature",
         "3.0",
         "Libyan Arab Jamahiriya"
        ],
        [
         "29",
         "88648f86",
         "Pauline Akhtar",
         "20.0",
         "Biology",
         "4.0",
         "Netherlands Antilles"
        ],
        [
         "30",
         "a225e559",
         "Sheila Roberts-Harris",
         "18.0",
         "Biology",
         "4.0",
         "Singapore"
        ],
        [
         "31",
         "34212ec1",
         "Rosemary Wood",
         "18.0",
         "Mathematics",
         "3.0",
         "Comoros"
        ],
        [
         "32",
         "fcedbd2f",
         "Mrs Rosemary Knight",
         "18.0",
         "Art",
         "4.0",
         "French Polynesia"
        ],
        [
         "33",
         "88dc77f7",
         "Daniel Harris",
         "20.0",
         "Computer Science",
         "4.0",
         "Wallis and Futuna"
        ],
        [
         "34",
         "53dd0026",
         "Amber Osborne",
         "21.0",
         "Physics",
         "4.0",
         "Liberia"
        ],
        [
         "35",
         "ea066b3e",
         "Alison Williams-Garner",
         "21.0",
         "Engineering",
         "2.0",
         "Brunei Darussalam"
        ],
        [
         "36",
         "10551162",
         "Mr Bruce Fleming",
         "24.0",
         "Law",
         "3.0",
         "Equatorial Guinea"
        ],
        [
         "37",
         "a420952d",
         "Lindsey Cook",
         "25.0",
         "History",
         "2.0",
         "Micronesia"
        ],
        [
         "38",
         "45604caa",
         "Victor Palmer",
         "23.0",
         "English Literature",
         "3.0",
         "Thailand"
        ],
        [
         "39",
         "8d697782",
         "Mr Lawrence Barker",
         "24.0",
         "Physics",
         "3.0",
         "Antigua and Barbuda"
        ],
        [
         "40",
         "8581f127",
         "Mrs Cheryl Ashton",
         "25.0",
         "Engineering",
         "3.0",
         "South Africa"
        ],
        [
         "41",
         "5fa87190",
         "Olivia Turner",
         "21.0",
         "Mathematics",
         "1.0",
         "Zimbabwe"
        ],
        [
         "42",
         "cc9eb24e",
         "Lucy Roberts",
         "22.0",
         "Biology",
         "4.0",
         "Marshall Islands"
        ],
        [
         "43",
         "3c1fe24c",
         "Melanie Sheppard",
         "21.0",
         "Medicine",
         "1.0",
         "Lebanon"
        ],
        [
         "44",
         "204e4c56",
         "Paula Watts",
         "21.0",
         "Computer Science",
         "3.0",
         "Tunisia"
        ],
        [
         "45",
         "0fac1009",
         "Louis Buckley",
         "18.0",
         "Art",
         "3.0",
         "Cambodia"
        ],
        [
         "46",
         "bde91950",
         "Mrs Elizabeth Perry",
         "19.0",
         "Computer Science",
         "4.0",
         "Burkina Faso"
        ],
        [
         "47",
         "4e324306",
         "Stephanie Thompson",
         "23.0",
         "Medicine",
         "4.0",
         "Cyprus"
        ],
        [
         "48",
         "75693b89",
         "Angela Farmer-Sanders",
         "25.0",
         "History",
         "4.0",
         "Ukraine"
        ],
        [
         "49",
         "ba4fe6e7",
         "Miss Bethany Grant",
         "24.0",
         "Physics",
         "1.0",
         "Aruba"
        ]
       ],
       "shape": {
        "columns": 6,
        "rows": 101
       }
      },
      "text/html": [
       "<div>\n",
       "<style scoped>\n",
       "    .dataframe tbody tr th:only-of-type {\n",
       "        vertical-align: middle;\n",
       "    }\n",
       "\n",
       "    .dataframe tbody tr th {\n",
       "        vertical-align: top;\n",
       "    }\n",
       "\n",
       "    .dataframe thead th {\n",
       "        text-align: right;\n",
       "    }\n",
       "</style>\n",
       "<table border=\"1\" class=\"dataframe\">\n",
       "  <thead>\n",
       "    <tr style=\"text-align: right;\">\n",
       "      <th></th>\n",
       "      <th>Student ID</th>\n",
       "      <th>Name</th>\n",
       "      <th>Age</th>\n",
       "      <th>Subject</th>\n",
       "      <th>Year of Study</th>\n",
       "      <th>Country of Origin</th>\n",
       "    </tr>\n",
       "  </thead>\n",
       "  <tbody>\n",
       "    <tr>\n",
       "      <th>0</th>\n",
       "      <td>2703f3f0</td>\n",
       "      <td>Mr Clifford Watson</td>\n",
       "      <td>25.0</td>\n",
       "      <td>English Literature</td>\n",
       "      <td>1.0</td>\n",
       "      <td>Saint Barthelemy</td>\n",
       "    </tr>\n",
       "    <tr>\n",
       "      <th>1</th>\n",
       "      <td>a8040287</td>\n",
       "      <td>Elliott Ward</td>\n",
       "      <td>25.0</td>\n",
       "      <td>Computer Science</td>\n",
       "      <td>4.0</td>\n",
       "      <td>Guinea</td>\n",
       "    </tr>\n",
       "    <tr>\n",
       "      <th>2</th>\n",
       "      <td>d8da5486</td>\n",
       "      <td>Miss Pauline Dunn</td>\n",
       "      <td>22.0</td>\n",
       "      <td>Engineering</td>\n",
       "      <td>4.0</td>\n",
       "      <td>Afghanistan</td>\n",
       "    </tr>\n",
       "    <tr>\n",
       "      <th>3</th>\n",
       "      <td>3ac1b74d</td>\n",
       "      <td>Mr Dominic Mason</td>\n",
       "      <td>22.0</td>\n",
       "      <td>Physics</td>\n",
       "      <td>1.0</td>\n",
       "      <td>Palau</td>\n",
       "    </tr>\n",
       "    <tr>\n",
       "      <th>4</th>\n",
       "      <td>67850858</td>\n",
       "      <td>Mrs Melanie Brown</td>\n",
       "      <td>18.0</td>\n",
       "      <td>English Literature</td>\n",
       "      <td>3.0</td>\n",
       "      <td>Algeria</td>\n",
       "    </tr>\n",
       "    <tr>\n",
       "      <th>...</th>\n",
       "      <td>...</td>\n",
       "      <td>...</td>\n",
       "      <td>...</td>\n",
       "      <td>...</td>\n",
       "      <td>...</td>\n",
       "      <td>...</td>\n",
       "    </tr>\n",
       "    <tr>\n",
       "      <th>96</th>\n",
       "      <td>a8be1ec3</td>\n",
       "      <td>Kelly Foster</td>\n",
       "      <td>22.0</td>\n",
       "      <td>Engineering</td>\n",
       "      <td>1.0</td>\n",
       "      <td>Netherlands</td>\n",
       "    </tr>\n",
       "    <tr>\n",
       "      <th>97</th>\n",
       "      <td>3b69ff22</td>\n",
       "      <td>Sara Austin</td>\n",
       "      <td>19.0</td>\n",
       "      <td>Computer Science</td>\n",
       "      <td>34.0</td>\n",
       "      <td>Liechtenstein</td>\n",
       "    </tr>\n",
       "    <tr>\n",
       "      <th>98</th>\n",
       "      <td>716fb45f</td>\n",
       "      <td>Miss Grace Miller</td>\n",
       "      <td>22.0</td>\n",
       "      <td>English Literature</td>\n",
       "      <td>4.0</td>\n",
       "      <td>Comoros</td>\n",
       "    </tr>\n",
       "    <tr>\n",
       "      <th>99</th>\n",
       "      <td>34b97db2</td>\n",
       "      <td>Miss Lydia Saunders</td>\n",
       "      <td>23.0</td>\n",
       "      <td>Physics</td>\n",
       "      <td>2.0</td>\n",
       "      <td>Faroe Islands</td>\n",
       "    </tr>\n",
       "    <tr>\n",
       "      <th>100</th>\n",
       "      <td>34b97db2</td>\n",
       "      <td>Miss Lydia Saunders</td>\n",
       "      <td>23.0</td>\n",
       "      <td>Physics</td>\n",
       "      <td>2.0</td>\n",
       "      <td>Faroe Islands</td>\n",
       "    </tr>\n",
       "  </tbody>\n",
       "</table>\n",
       "<p>101 rows × 6 columns</p>\n",
       "</div>"
      ],
      "text/plain": [
       "    Student ID                 Name   Age             Subject  Year of Study  \\\n",
       "0     2703f3f0   Mr Clifford Watson  25.0  English Literature            1.0   \n",
       "1     a8040287         Elliott Ward  25.0    Computer Science            4.0   \n",
       "2     d8da5486    Miss Pauline Dunn  22.0         Engineering            4.0   \n",
       "3     3ac1b74d     Mr Dominic Mason  22.0             Physics            1.0   \n",
       "4     67850858    Mrs Melanie Brown  18.0  English Literature            3.0   \n",
       "..         ...                  ...   ...                 ...            ...   \n",
       "96    a8be1ec3         Kelly Foster  22.0         Engineering            1.0   \n",
       "97    3b69ff22          Sara Austin  19.0    Computer Science           34.0   \n",
       "98    716fb45f    Miss Grace Miller  22.0  English Literature            4.0   \n",
       "99    34b97db2  Miss Lydia Saunders  23.0             Physics            2.0   \n",
       "100   34b97db2  Miss Lydia Saunders  23.0             Physics            2.0   \n",
       "\n",
       "    Country of Origin  \n",
       "0    Saint Barthelemy  \n",
       "1              Guinea  \n",
       "2         Afghanistan  \n",
       "3               Palau  \n",
       "4             Algeria  \n",
       "..                ...  \n",
       "96        Netherlands  \n",
       "97      Liechtenstein  \n",
       "98            Comoros  \n",
       "99      Faroe Islands  \n",
       "100     Faroe Islands  \n",
       "\n",
       "[101 rows x 6 columns]"
      ]
     },
     "execution_count": 35,
     "metadata": {},
     "output_type": "execute_result"
    }
   ],
   "source": [
    "# Loading a file without a header row, and specifying column names manually\n",
    "students_df = pd.read_csv('./data/students_no_headings.csv',\n",
    "                          header=None,\n",
    "                          names=['Student ID', 'Name', 'Age', 'Subject',\n",
    "                                 'Year of Study', 'Country of Origin'])\n",
    "\n",
    "students_df"
   ]
  },
  {
   "cell_type": "markdown",
   "metadata": {},
   "source": [
    "### Creating a DataFrame from a SQL Database\n",
    "We can also fetch data from a SQL database directly into a DataFrame. The example below connects to a SQLite database, but the read_sql_query function will work with any valid database connection.\n",
    "\n",
    "For info, I created this SQLite database by saving the Pandas DataFrame using `to_sql`:\n",
    "- `students_df.to_sql(name='students', con=connection, index=False)`"
   ]
  },
  {
   "cell_type": "code",
   "execution_count": 36,
   "metadata": {},
   "outputs": [
    {
     "data": {
      "application/vnd.microsoft.datawrangler.viewer.v0+json": {
       "columns": [
        {
         "name": "index",
         "rawType": "int64",
         "type": "integer"
        },
        {
         "name": "Student ID",
         "rawType": "object",
         "type": "string"
        },
        {
         "name": "Name",
         "rawType": "object",
         "type": "string"
        },
        {
         "name": "Age",
         "rawType": "float64",
         "type": "float"
        },
        {
         "name": "Subject",
         "rawType": "object",
         "type": "string"
        },
        {
         "name": "Year of Study",
         "rawType": "float64",
         "type": "float"
        },
        {
         "name": "Country of Origin",
         "rawType": "object",
         "type": "string"
        }
       ],
       "conversionMethod": "pd.DataFrame",
       "ref": "823e7577-5b0d-4686-9163-b7286eb6d8d9",
       "rows": [
        [
         "0",
         "2703f3f0",
         "Mr Clifford Watson",
         "25.0",
         "English Literature",
         "1.0",
         "Saint Barthelemy"
        ],
        [
         "1",
         "a8040287",
         "Elliott Ward",
         "25.0",
         "Computer Science",
         "4.0",
         "Guinea"
        ],
        [
         "2",
         "d8da5486",
         "Miss Pauline Dunn",
         "22.0",
         "Engineering",
         "4.0",
         "Afghanistan"
        ],
        [
         "3",
         "3ac1b74d",
         "Mr Dominic Mason",
         "22.0",
         "Physics",
         "1.0",
         "Palau"
        ],
        [
         "4",
         "67850858",
         "Mrs Melanie Brown",
         "18.0",
         "English Literature",
         "3.0",
         "Algeria"
        ],
        [
         "5",
         "62dd3a69",
         "Mr Frederick Price",
         "22.0",
         "Medicine",
         "2.0",
         "Guinea-Bissau"
        ],
        [
         "6",
         "6b22a999",
         "Charles Hayward",
         "23.0",
         "Engineering",
         "2.0",
         "Comoros"
        ],
        [
         "7",
         "4b744b9a",
         "Garry Thornton",
         null,
         "English Literature",
         "4.0",
         "Cuba"
        ],
        [
         "8",
         "45c54817",
         "Mrs Sian Wilson",
         "20.0",
         "Computer Science",
         "2.0",
         "Korea"
        ],
        [
         "9",
         "5d5e1224",
         "Grace Walton-Kelly",
         "20.0",
         "History",
         "1.0",
         "Haiti"
        ],
        [
         "10",
         "2c142f24",
         "Jade Kirby",
         "24.0",
         "Biology",
         "1.0",
         "Fiji"
        ],
        [
         "11",
         "3eec010c",
         "Howard Marshall",
         null,
         "Biology",
         "1.0",
         "Swaziland"
        ],
        [
         "12",
         "f3cbb058",
         "Dr Scott Wilson",
         "18.0",
         "English Literature",
         "4.0",
         "Namibia"
        ],
        [
         "13",
         "6a406b49",
         "Melissa Ali",
         "18.0",
         "Computer Science",
         "1.0",
         "Israel"
        ],
        [
         "14",
         "836d85df",
         "Carolyn Walker",
         "18.0",
         "Mathematics",
         "4.0",
         "Angola"
        ],
        [
         "15",
         "fc4f68b0",
         "Sandra Stephenson",
         "23.0",
         "Law",
         "3.0",
         "Palau"
        ],
        [
         "16",
         "41465cf8",
         "Mr Guy Lynch",
         "25.0",
         "History",
         "2.0",
         "Italy"
        ],
        [
         "17",
         "afae8532",
         "Kieran Davidson-Watson",
         "25.0",
         "English Literature",
         "1.0",
         "Mayotte"
        ],
        [
         "18",
         "7c43c14d",
         "Malcolm Farrell-Sykes",
         "18.0",
         "History",
         "3.0",
         "Nauru"
        ],
        [
         "19",
         "43b3612f",
         "Frederick Khan",
         "19.0",
         "Art",
         "4.0",
         "Taiwan"
        ],
        [
         "20",
         "72324765",
         "Gail Henderson",
         "21.0",
         "Law",
         "1.0",
         "Eritrea"
        ],
        [
         "21",
         "9c0aa410",
         "Hazel Evans",
         "24.0",
         "History",
         "3.0",
         "China"
        ],
        [
         "22",
         "a9e6b860",
         "Mrs Tracey Adams",
         "24.0",
         "English Literature",
         "4.0",
         "Saint Lucia"
        ],
        [
         "23",
         "0e7361c4",
         "Mr Donald Taylor",
         "21.0",
         "Engineering",
         "3.0",
         "France"
        ],
        [
         "24",
         "27166ecb",
         "Dr Terry Lewis",
         "245.0",
         "Mathematics",
         "3.0",
         "Fiji"
        ],
        [
         "25",
         "c828ba21",
         "Kelly Fisher-Simpson",
         "21.0",
         "Law",
         "2.0",
         "Isle of Man"
        ],
        [
         "26",
         "a7bb5b63",
         "Steven Ahmed",
         "22.0",
         "Physics",
         "1.0",
         "Guernsey"
        ],
        [
         "27",
         "f156e962",
         "Christian Howell-Holt",
         "25.0",
         "Law",
         "2.0",
         "Kyrgyz Republic"
        ],
        [
         "28",
         "2f3b6b33",
         "Dr Aaron Bell",
         "21.0",
         "English Literature",
         "3.0",
         "Libyan Arab Jamahiriya"
        ],
        [
         "29",
         "88648f86",
         "Pauline Akhtar",
         "20.0",
         "Biology",
         "4.0",
         "Netherlands Antilles"
        ],
        [
         "30",
         "a225e559",
         "Sheila Roberts-Harris",
         "18.0",
         "Biology",
         "4.0",
         "Singapore"
        ],
        [
         "31",
         "34212ec1",
         "Rosemary Wood",
         "18.0",
         "Mathematics",
         "3.0",
         "Comoros"
        ],
        [
         "32",
         "fcedbd2f",
         "Mrs Rosemary Knight",
         "18.0",
         "Art",
         "4.0",
         "French Polynesia"
        ],
        [
         "33",
         "88dc77f7",
         "Daniel Harris",
         "20.0",
         "Computer Science",
         "4.0",
         "Wallis and Futuna"
        ],
        [
         "34",
         "53dd0026",
         "Amber Osborne",
         "21.0",
         "Physics",
         "4.0",
         "Liberia"
        ],
        [
         "35",
         "ea066b3e",
         "Alison Williams-Garner",
         "21.0",
         "Engineering",
         "2.0",
         "Brunei Darussalam"
        ],
        [
         "36",
         "10551162",
         "Mr Bruce Fleming",
         "24.0",
         "Law",
         "3.0",
         "Equatorial Guinea"
        ],
        [
         "37",
         "a420952d",
         "Lindsey Cook",
         "25.0",
         "History",
         "2.0",
         "Micronesia"
        ],
        [
         "38",
         "45604caa",
         "Victor Palmer",
         "23.0",
         "English Literature",
         "3.0",
         "Thailand"
        ],
        [
         "39",
         "8d697782",
         "Mr Lawrence Barker",
         "24.0",
         "Physics",
         "3.0",
         "Antigua and Barbuda"
        ],
        [
         "40",
         "8581f127",
         "Mrs Cheryl Ashton",
         "25.0",
         "Engineering",
         "3.0",
         "South Africa"
        ],
        [
         "41",
         "5fa87190",
         "Olivia Turner",
         "21.0",
         "Mathematics",
         "1.0",
         "Zimbabwe"
        ],
        [
         "42",
         "cc9eb24e",
         "Lucy Roberts",
         "22.0",
         "Biology",
         "4.0",
         "Marshall Islands"
        ],
        [
         "43",
         "3c1fe24c",
         "Melanie Sheppard",
         "21.0",
         "Medicine",
         "1.0",
         "Lebanon"
        ],
        [
         "44",
         "204e4c56",
         "Paula Watts",
         "21.0",
         "Computer Science",
         "3.0",
         "Tunisia"
        ],
        [
         "45",
         "0fac1009",
         "Louis Buckley",
         "18.0",
         "Art",
         "3.0",
         "Cambodia"
        ],
        [
         "46",
         "bde91950",
         "Mrs Elizabeth Perry",
         "19.0",
         "Computer Science",
         "4.0",
         "Burkina Faso"
        ],
        [
         "47",
         "4e324306",
         "Stephanie Thompson",
         "23.0",
         "Medicine",
         "4.0",
         "Cyprus"
        ],
        [
         "48",
         "75693b89",
         "Angela Farmer-Sanders",
         "25.0",
         "History",
         "4.0",
         "Ukraine"
        ],
        [
         "49",
         "ba4fe6e7",
         "Miss Bethany Grant",
         "24.0",
         "Physics",
         "1.0",
         "Aruba"
        ]
       ],
       "shape": {
        "columns": 6,
        "rows": 101
       }
      },
      "text/html": [
       "<div>\n",
       "<style scoped>\n",
       "    .dataframe tbody tr th:only-of-type {\n",
       "        vertical-align: middle;\n",
       "    }\n",
       "\n",
       "    .dataframe tbody tr th {\n",
       "        vertical-align: top;\n",
       "    }\n",
       "\n",
       "    .dataframe thead th {\n",
       "        text-align: right;\n",
       "    }\n",
       "</style>\n",
       "<table border=\"1\" class=\"dataframe\">\n",
       "  <thead>\n",
       "    <tr style=\"text-align: right;\">\n",
       "      <th></th>\n",
       "      <th>Student ID</th>\n",
       "      <th>Name</th>\n",
       "      <th>Age</th>\n",
       "      <th>Subject</th>\n",
       "      <th>Year of Study</th>\n",
       "      <th>Country of Origin</th>\n",
       "    </tr>\n",
       "  </thead>\n",
       "  <tbody>\n",
       "    <tr>\n",
       "      <th>0</th>\n",
       "      <td>2703f3f0</td>\n",
       "      <td>Mr Clifford Watson</td>\n",
       "      <td>25.0</td>\n",
       "      <td>English Literature</td>\n",
       "      <td>1.0</td>\n",
       "      <td>Saint Barthelemy</td>\n",
       "    </tr>\n",
       "    <tr>\n",
       "      <th>1</th>\n",
       "      <td>a8040287</td>\n",
       "      <td>Elliott Ward</td>\n",
       "      <td>25.0</td>\n",
       "      <td>Computer Science</td>\n",
       "      <td>4.0</td>\n",
       "      <td>Guinea</td>\n",
       "    </tr>\n",
       "    <tr>\n",
       "      <th>2</th>\n",
       "      <td>d8da5486</td>\n",
       "      <td>Miss Pauline Dunn</td>\n",
       "      <td>22.0</td>\n",
       "      <td>Engineering</td>\n",
       "      <td>4.0</td>\n",
       "      <td>Afghanistan</td>\n",
       "    </tr>\n",
       "    <tr>\n",
       "      <th>3</th>\n",
       "      <td>3ac1b74d</td>\n",
       "      <td>Mr Dominic Mason</td>\n",
       "      <td>22.0</td>\n",
       "      <td>Physics</td>\n",
       "      <td>1.0</td>\n",
       "      <td>Palau</td>\n",
       "    </tr>\n",
       "    <tr>\n",
       "      <th>4</th>\n",
       "      <td>67850858</td>\n",
       "      <td>Mrs Melanie Brown</td>\n",
       "      <td>18.0</td>\n",
       "      <td>English Literature</td>\n",
       "      <td>3.0</td>\n",
       "      <td>Algeria</td>\n",
       "    </tr>\n",
       "    <tr>\n",
       "      <th>...</th>\n",
       "      <td>...</td>\n",
       "      <td>...</td>\n",
       "      <td>...</td>\n",
       "      <td>...</td>\n",
       "      <td>...</td>\n",
       "      <td>...</td>\n",
       "    </tr>\n",
       "    <tr>\n",
       "      <th>96</th>\n",
       "      <td>a8be1ec3</td>\n",
       "      <td>Kelly Foster</td>\n",
       "      <td>22.0</td>\n",
       "      <td>Engineering</td>\n",
       "      <td>1.0</td>\n",
       "      <td>Netherlands</td>\n",
       "    </tr>\n",
       "    <tr>\n",
       "      <th>97</th>\n",
       "      <td>3b69ff22</td>\n",
       "      <td>Sara Austin</td>\n",
       "      <td>19.0</td>\n",
       "      <td>Computer Science</td>\n",
       "      <td>34.0</td>\n",
       "      <td>Liechtenstein</td>\n",
       "    </tr>\n",
       "    <tr>\n",
       "      <th>98</th>\n",
       "      <td>716fb45f</td>\n",
       "      <td>Miss Grace Miller</td>\n",
       "      <td>22.0</td>\n",
       "      <td>English Literature</td>\n",
       "      <td>4.0</td>\n",
       "      <td>Comoros</td>\n",
       "    </tr>\n",
       "    <tr>\n",
       "      <th>99</th>\n",
       "      <td>34b97db2</td>\n",
       "      <td>Miss Lydia Saunders</td>\n",
       "      <td>23.0</td>\n",
       "      <td>Physics</td>\n",
       "      <td>2.0</td>\n",
       "      <td>Faroe Islands</td>\n",
       "    </tr>\n",
       "    <tr>\n",
       "      <th>100</th>\n",
       "      <td>34b97db2</td>\n",
       "      <td>Miss Lydia Saunders</td>\n",
       "      <td>23.0</td>\n",
       "      <td>Physics</td>\n",
       "      <td>2.0</td>\n",
       "      <td>Faroe Islands</td>\n",
       "    </tr>\n",
       "  </tbody>\n",
       "</table>\n",
       "<p>101 rows × 6 columns</p>\n",
       "</div>"
      ],
      "text/plain": [
       "    Student ID                 Name   Age             Subject  Year of Study  \\\n",
       "0     2703f3f0   Mr Clifford Watson  25.0  English Literature            1.0   \n",
       "1     a8040287         Elliott Ward  25.0    Computer Science            4.0   \n",
       "2     d8da5486    Miss Pauline Dunn  22.0         Engineering            4.0   \n",
       "3     3ac1b74d     Mr Dominic Mason  22.0             Physics            1.0   \n",
       "4     67850858    Mrs Melanie Brown  18.0  English Literature            3.0   \n",
       "..         ...                  ...   ...                 ...            ...   \n",
       "96    a8be1ec3         Kelly Foster  22.0         Engineering            1.0   \n",
       "97    3b69ff22          Sara Austin  19.0    Computer Science           34.0   \n",
       "98    716fb45f    Miss Grace Miller  22.0  English Literature            4.0   \n",
       "99    34b97db2  Miss Lydia Saunders  23.0             Physics            2.0   \n",
       "100   34b97db2  Miss Lydia Saunders  23.0             Physics            2.0   \n",
       "\n",
       "    Country of Origin  \n",
       "0    Saint Barthelemy  \n",
       "1              Guinea  \n",
       "2         Afghanistan  \n",
       "3               Palau  \n",
       "4             Algeria  \n",
       "..                ...  \n",
       "96        Netherlands  \n",
       "97      Liechtenstein  \n",
       "98            Comoros  \n",
       "99      Faroe Islands  \n",
       "100     Faroe Islands  \n",
       "\n",
       "[101 rows x 6 columns]"
      ]
     },
     "execution_count": 36,
     "metadata": {},
     "output_type": "execute_result"
    }
   ],
   "source": [
    "import sqlite3\n",
    "connection = sqlite3.connect('./data/students.db')\n",
    "students_df = pd.read_sql_query(\"SELECT * from students\", connection)\n",
    "connection.close()\n",
    "\n",
    "students_df"
   ]
  },
  {
   "cell_type": "markdown",
   "metadata": {},
   "source": [
    "## Using the index column"
   ]
  },
  {
   "cell_type": "markdown",
   "metadata": {},
   "source": [
    "We saw in pandas_tutorial.ipynb that we could use `index_col` to set the index column when loading a DataFrame. We can also set it after the DataFrame has been loaded using `set_index`."
   ]
  },
  {
   "cell_type": "code",
   "execution_count": 37,
   "metadata": {},
   "outputs": [
    {
     "data": {
      "application/vnd.microsoft.datawrangler.viewer.v0+json": {
       "columns": [
        {
         "name": "Student ID",
         "rawType": "object",
         "type": "string"
        },
        {
         "name": "Name",
         "rawType": "object",
         "type": "string"
        },
        {
         "name": "Age",
         "rawType": "float64",
         "type": "float"
        },
        {
         "name": "Subject",
         "rawType": "object",
         "type": "string"
        },
        {
         "name": "Year of Study",
         "rawType": "float64",
         "type": "float"
        },
        {
         "name": "Country of Origin",
         "rawType": "object",
         "type": "string"
        }
       ],
       "conversionMethod": "pd.DataFrame",
       "ref": "0e6002e5-b37e-4cc8-81ac-b13dadc1e36b",
       "rows": [
        [
         "2703f3f0",
         "Mr Clifford Watson",
         "25.0",
         "English Literature",
         "1.0",
         "Saint Barthelemy"
        ],
        [
         "a8040287",
         "Elliott Ward",
         "25.0",
         "Computer Science",
         "4.0",
         "Guinea"
        ],
        [
         "d8da5486",
         "Miss Pauline Dunn",
         "22.0",
         "Engineering",
         "4.0",
         "Afghanistan"
        ],
        [
         "3ac1b74d",
         "Mr Dominic Mason",
         "22.0",
         "Physics",
         "1.0",
         "Palau"
        ],
        [
         "67850858",
         "Mrs Melanie Brown",
         "18.0",
         "English Literature",
         "3.0",
         "Algeria"
        ],
        [
         "62dd3a69",
         "Mr Frederick Price",
         "22.0",
         "Medicine",
         "2.0",
         "Guinea-Bissau"
        ],
        [
         "6b22a999",
         "Charles Hayward",
         "23.0",
         "Engineering",
         "2.0",
         "Comoros"
        ],
        [
         "4b744b9a",
         "Garry Thornton",
         null,
         "English Literature",
         "4.0",
         "Cuba"
        ],
        [
         "45c54817",
         "Mrs Sian Wilson",
         "20.0",
         "Computer Science",
         "2.0",
         "Korea"
        ],
        [
         "5d5e1224",
         "Grace Walton-Kelly",
         "20.0",
         "History",
         "1.0",
         "Haiti"
        ],
        [
         "2c142f24",
         "Jade Kirby",
         "24.0",
         "Biology",
         "1.0",
         "Fiji"
        ],
        [
         "3eec010c",
         "Howard Marshall",
         null,
         "Biology",
         "1.0",
         "Swaziland"
        ],
        [
         "f3cbb058",
         "Dr Scott Wilson",
         "18.0",
         "English Literature",
         "4.0",
         "Namibia"
        ],
        [
         "6a406b49",
         "Melissa Ali",
         "18.0",
         "Computer Science",
         "1.0",
         "Israel"
        ],
        [
         "836d85df",
         "Carolyn Walker",
         "18.0",
         "Mathematics",
         "4.0",
         "Angola"
        ],
        [
         "fc4f68b0",
         "Sandra Stephenson",
         "23.0",
         "Law",
         "3.0",
         "Palau"
        ],
        [
         "41465cf8",
         "Mr Guy Lynch",
         "25.0",
         "History",
         "2.0",
         "Italy"
        ],
        [
         "afae8532",
         "Kieran Davidson-Watson",
         "25.0",
         "English Literature",
         "1.0",
         "Mayotte"
        ],
        [
         "7c43c14d",
         "Malcolm Farrell-Sykes",
         "18.0",
         "History",
         "3.0",
         "Nauru"
        ],
        [
         "43b3612f",
         "Frederick Khan",
         "19.0",
         "Art",
         "4.0",
         "Taiwan"
        ],
        [
         "72324765",
         "Gail Henderson",
         "21.0",
         "Law",
         "1.0",
         "Eritrea"
        ],
        [
         "9c0aa410",
         "Hazel Evans",
         "24.0",
         "History",
         "3.0",
         "China"
        ],
        [
         "a9e6b860",
         "Mrs Tracey Adams",
         "24.0",
         "English Literature",
         "4.0",
         "Saint Lucia"
        ],
        [
         "0e7361c4",
         "Mr Donald Taylor",
         "21.0",
         "Engineering",
         "3.0",
         "France"
        ],
        [
         "27166ecb",
         "Dr Terry Lewis",
         "245.0",
         "Mathematics",
         "3.0",
         "Fiji"
        ],
        [
         "c828ba21",
         "Kelly Fisher-Simpson",
         "21.0",
         "Law",
         "2.0",
         "Isle of Man"
        ],
        [
         "a7bb5b63",
         "Steven Ahmed",
         "22.0",
         "Physics",
         "1.0",
         "Guernsey"
        ],
        [
         "f156e962",
         "Christian Howell-Holt",
         "25.0",
         "Law",
         "2.0",
         "Kyrgyz Republic"
        ],
        [
         "2f3b6b33",
         "Dr Aaron Bell",
         "21.0",
         "English Literature",
         "3.0",
         "Libyan Arab Jamahiriya"
        ],
        [
         "88648f86",
         "Pauline Akhtar",
         "20.0",
         "Biology",
         "4.0",
         "Netherlands Antilles"
        ],
        [
         "a225e559",
         "Sheila Roberts-Harris",
         "18.0",
         "Biology",
         "4.0",
         "Singapore"
        ],
        [
         "34212ec1",
         "Rosemary Wood",
         "18.0",
         "Mathematics",
         "3.0",
         "Comoros"
        ],
        [
         "fcedbd2f",
         "Mrs Rosemary Knight",
         "18.0",
         "Art",
         "4.0",
         "French Polynesia"
        ],
        [
         "88dc77f7",
         "Daniel Harris",
         "20.0",
         "Computer Science",
         "4.0",
         "Wallis and Futuna"
        ],
        [
         "53dd0026",
         "Amber Osborne",
         "21.0",
         "Physics",
         "4.0",
         "Liberia"
        ],
        [
         "ea066b3e",
         "Alison Williams-Garner",
         "21.0",
         "Engineering",
         "2.0",
         "Brunei Darussalam"
        ],
        [
         "10551162",
         "Mr Bruce Fleming",
         "24.0",
         "Law",
         "3.0",
         "Equatorial Guinea"
        ],
        [
         "a420952d",
         "Lindsey Cook",
         "25.0",
         "History",
         "2.0",
         "Micronesia"
        ],
        [
         "45604caa",
         "Victor Palmer",
         "23.0",
         "English Literature",
         "3.0",
         "Thailand"
        ],
        [
         "8d697782",
         "Mr Lawrence Barker",
         "24.0",
         "Physics",
         "3.0",
         "Antigua and Barbuda"
        ],
        [
         "8581f127",
         "Mrs Cheryl Ashton",
         "25.0",
         "Engineering",
         "3.0",
         "South Africa"
        ],
        [
         "5fa87190",
         "Olivia Turner",
         "21.0",
         "Mathematics",
         "1.0",
         "Zimbabwe"
        ],
        [
         "cc9eb24e",
         "Lucy Roberts",
         "22.0",
         "Biology",
         "4.0",
         "Marshall Islands"
        ],
        [
         "3c1fe24c",
         "Melanie Sheppard",
         "21.0",
         "Medicine",
         "1.0",
         "Lebanon"
        ],
        [
         "204e4c56",
         "Paula Watts",
         "21.0",
         "Computer Science",
         "3.0",
         "Tunisia"
        ],
        [
         "0fac1009",
         "Louis Buckley",
         "18.0",
         "Art",
         "3.0",
         "Cambodia"
        ],
        [
         "bde91950",
         "Mrs Elizabeth Perry",
         "19.0",
         "Computer Science",
         "4.0",
         "Burkina Faso"
        ],
        [
         "4e324306",
         "Stephanie Thompson",
         "23.0",
         "Medicine",
         "4.0",
         "Cyprus"
        ],
        [
         "75693b89",
         "Angela Farmer-Sanders",
         "25.0",
         "History",
         "4.0",
         "Ukraine"
        ],
        [
         "ba4fe6e7",
         "Miss Bethany Grant",
         "24.0",
         "Physics",
         "1.0",
         "Aruba"
        ]
       ],
       "shape": {
        "columns": 5,
        "rows": 101
       }
      },
      "text/html": [
       "<div>\n",
       "<style scoped>\n",
       "    .dataframe tbody tr th:only-of-type {\n",
       "        vertical-align: middle;\n",
       "    }\n",
       "\n",
       "    .dataframe tbody tr th {\n",
       "        vertical-align: top;\n",
       "    }\n",
       "\n",
       "    .dataframe thead th {\n",
       "        text-align: right;\n",
       "    }\n",
       "</style>\n",
       "<table border=\"1\" class=\"dataframe\">\n",
       "  <thead>\n",
       "    <tr style=\"text-align: right;\">\n",
       "      <th></th>\n",
       "      <th>Name</th>\n",
       "      <th>Age</th>\n",
       "      <th>Subject</th>\n",
       "      <th>Year of Study</th>\n",
       "      <th>Country of Origin</th>\n",
       "    </tr>\n",
       "    <tr>\n",
       "      <th>Student ID</th>\n",
       "      <th></th>\n",
       "      <th></th>\n",
       "      <th></th>\n",
       "      <th></th>\n",
       "      <th></th>\n",
       "    </tr>\n",
       "  </thead>\n",
       "  <tbody>\n",
       "    <tr>\n",
       "      <th>2703f3f0</th>\n",
       "      <td>Mr Clifford Watson</td>\n",
       "      <td>25.0</td>\n",
       "      <td>English Literature</td>\n",
       "      <td>1.0</td>\n",
       "      <td>Saint Barthelemy</td>\n",
       "    </tr>\n",
       "    <tr>\n",
       "      <th>a8040287</th>\n",
       "      <td>Elliott Ward</td>\n",
       "      <td>25.0</td>\n",
       "      <td>Computer Science</td>\n",
       "      <td>4.0</td>\n",
       "      <td>Guinea</td>\n",
       "    </tr>\n",
       "    <tr>\n",
       "      <th>d8da5486</th>\n",
       "      <td>Miss Pauline Dunn</td>\n",
       "      <td>22.0</td>\n",
       "      <td>Engineering</td>\n",
       "      <td>4.0</td>\n",
       "      <td>Afghanistan</td>\n",
       "    </tr>\n",
       "    <tr>\n",
       "      <th>3ac1b74d</th>\n",
       "      <td>Mr Dominic Mason</td>\n",
       "      <td>22.0</td>\n",
       "      <td>Physics</td>\n",
       "      <td>1.0</td>\n",
       "      <td>Palau</td>\n",
       "    </tr>\n",
       "    <tr>\n",
       "      <th>67850858</th>\n",
       "      <td>Mrs Melanie Brown</td>\n",
       "      <td>18.0</td>\n",
       "      <td>English Literature</td>\n",
       "      <td>3.0</td>\n",
       "      <td>Algeria</td>\n",
       "    </tr>\n",
       "    <tr>\n",
       "      <th>...</th>\n",
       "      <td>...</td>\n",
       "      <td>...</td>\n",
       "      <td>...</td>\n",
       "      <td>...</td>\n",
       "      <td>...</td>\n",
       "    </tr>\n",
       "    <tr>\n",
       "      <th>a8be1ec3</th>\n",
       "      <td>Kelly Foster</td>\n",
       "      <td>22.0</td>\n",
       "      <td>Engineering</td>\n",
       "      <td>1.0</td>\n",
       "      <td>Netherlands</td>\n",
       "    </tr>\n",
       "    <tr>\n",
       "      <th>3b69ff22</th>\n",
       "      <td>Sara Austin</td>\n",
       "      <td>19.0</td>\n",
       "      <td>Computer Science</td>\n",
       "      <td>34.0</td>\n",
       "      <td>Liechtenstein</td>\n",
       "    </tr>\n",
       "    <tr>\n",
       "      <th>716fb45f</th>\n",
       "      <td>Miss Grace Miller</td>\n",
       "      <td>22.0</td>\n",
       "      <td>English Literature</td>\n",
       "      <td>4.0</td>\n",
       "      <td>Comoros</td>\n",
       "    </tr>\n",
       "    <tr>\n",
       "      <th>34b97db2</th>\n",
       "      <td>Miss Lydia Saunders</td>\n",
       "      <td>23.0</td>\n",
       "      <td>Physics</td>\n",
       "      <td>2.0</td>\n",
       "      <td>Faroe Islands</td>\n",
       "    </tr>\n",
       "    <tr>\n",
       "      <th>34b97db2</th>\n",
       "      <td>Miss Lydia Saunders</td>\n",
       "      <td>23.0</td>\n",
       "      <td>Physics</td>\n",
       "      <td>2.0</td>\n",
       "      <td>Faroe Islands</td>\n",
       "    </tr>\n",
       "  </tbody>\n",
       "</table>\n",
       "<p>101 rows × 5 columns</p>\n",
       "</div>"
      ],
      "text/plain": [
       "                           Name   Age             Subject  Year of Study  \\\n",
       "Student ID                                                                 \n",
       "2703f3f0     Mr Clifford Watson  25.0  English Literature            1.0   \n",
       "a8040287           Elliott Ward  25.0    Computer Science            4.0   \n",
       "d8da5486      Miss Pauline Dunn  22.0         Engineering            4.0   \n",
       "3ac1b74d       Mr Dominic Mason  22.0             Physics            1.0   \n",
       "67850858      Mrs Melanie Brown  18.0  English Literature            3.0   \n",
       "...                         ...   ...                 ...            ...   \n",
       "a8be1ec3           Kelly Foster  22.0         Engineering            1.0   \n",
       "3b69ff22            Sara Austin  19.0    Computer Science           34.0   \n",
       "716fb45f      Miss Grace Miller  22.0  English Literature            4.0   \n",
       "34b97db2    Miss Lydia Saunders  23.0             Physics            2.0   \n",
       "34b97db2    Miss Lydia Saunders  23.0             Physics            2.0   \n",
       "\n",
       "           Country of Origin  \n",
       "Student ID                    \n",
       "2703f3f0    Saint Barthelemy  \n",
       "a8040287              Guinea  \n",
       "d8da5486         Afghanistan  \n",
       "3ac1b74d               Palau  \n",
       "67850858             Algeria  \n",
       "...                      ...  \n",
       "a8be1ec3         Netherlands  \n",
       "3b69ff22       Liechtenstein  \n",
       "716fb45f             Comoros  \n",
       "34b97db2       Faroe Islands  \n",
       "34b97db2       Faroe Islands  \n",
       "\n",
       "[101 rows x 5 columns]"
      ]
     },
     "execution_count": 37,
     "metadata": {},
     "output_type": "execute_result"
    }
   ],
   "source": [
    "students_df = students_df.set_index('Student ID')\n",
    "\n",
    "students_df"
   ]
  },
  {
   "cell_type": "markdown",
   "metadata": {},
   "source": [
    "We can use the index to access a particular record using loc (which stands for location)."
   ]
  },
  {
   "cell_type": "code",
   "execution_count": 38,
   "metadata": {},
   "outputs": [
    {
     "data": {
      "text/plain": [
       "Name                 Mr Clifford Watson\n",
       "Age                                25.0\n",
       "Subject              English Literature\n",
       "Year of Study                       1.0\n",
       "Country of Origin      Saint Barthelemy\n",
       "Name: 2703f3f0, dtype: object"
      ]
     },
     "execution_count": 38,
     "metadata": {},
     "output_type": "execute_result"
    }
   ],
   "source": [
    "students_df.loc['2703f3f0']"
   ]
  },
  {
   "cell_type": "markdown",
   "metadata": {},
   "source": [
    "Of course we really want our index column to contain only unique values, but notice that we get both rows when using the index value of the duplicated row. "
   ]
  },
  {
   "cell_type": "code",
   "execution_count": 39,
   "metadata": {},
   "outputs": [
    {
     "data": {
      "application/vnd.microsoft.datawrangler.viewer.v0+json": {
       "columns": [
        {
         "name": "Student ID",
         "rawType": "object",
         "type": "string"
        },
        {
         "name": "Name",
         "rawType": "object",
         "type": "string"
        },
        {
         "name": "Age",
         "rawType": "float64",
         "type": "float"
        },
        {
         "name": "Subject",
         "rawType": "object",
         "type": "string"
        },
        {
         "name": "Year of Study",
         "rawType": "float64",
         "type": "float"
        },
        {
         "name": "Country of Origin",
         "rawType": "object",
         "type": "string"
        }
       ],
       "conversionMethod": "pd.DataFrame",
       "ref": "9d7491c2-675f-48ee-95a8-c2d752d9d342",
       "rows": [
        [
         "34b97db2",
         "Miss Lydia Saunders",
         "23.0",
         "Physics",
         "2.0",
         "Faroe Islands"
        ],
        [
         "34b97db2",
         "Miss Lydia Saunders",
         "23.0",
         "Physics",
         "2.0",
         "Faroe Islands"
        ]
       ],
       "shape": {
        "columns": 5,
        "rows": 2
       }
      },
      "text/html": [
       "<div>\n",
       "<style scoped>\n",
       "    .dataframe tbody tr th:only-of-type {\n",
       "        vertical-align: middle;\n",
       "    }\n",
       "\n",
       "    .dataframe tbody tr th {\n",
       "        vertical-align: top;\n",
       "    }\n",
       "\n",
       "    .dataframe thead th {\n",
       "        text-align: right;\n",
       "    }\n",
       "</style>\n",
       "<table border=\"1\" class=\"dataframe\">\n",
       "  <thead>\n",
       "    <tr style=\"text-align: right;\">\n",
       "      <th></th>\n",
       "      <th>Name</th>\n",
       "      <th>Age</th>\n",
       "      <th>Subject</th>\n",
       "      <th>Year of Study</th>\n",
       "      <th>Country of Origin</th>\n",
       "    </tr>\n",
       "    <tr>\n",
       "      <th>Student ID</th>\n",
       "      <th></th>\n",
       "      <th></th>\n",
       "      <th></th>\n",
       "      <th></th>\n",
       "      <th></th>\n",
       "    </tr>\n",
       "  </thead>\n",
       "  <tbody>\n",
       "    <tr>\n",
       "      <th>34b97db2</th>\n",
       "      <td>Miss Lydia Saunders</td>\n",
       "      <td>23.0</td>\n",
       "      <td>Physics</td>\n",
       "      <td>2.0</td>\n",
       "      <td>Faroe Islands</td>\n",
       "    </tr>\n",
       "    <tr>\n",
       "      <th>34b97db2</th>\n",
       "      <td>Miss Lydia Saunders</td>\n",
       "      <td>23.0</td>\n",
       "      <td>Physics</td>\n",
       "      <td>2.0</td>\n",
       "      <td>Faroe Islands</td>\n",
       "    </tr>\n",
       "  </tbody>\n",
       "</table>\n",
       "</div>"
      ],
      "text/plain": [
       "                           Name   Age  Subject  Year of Study  \\\n",
       "Student ID                                                      \n",
       "34b97db2    Miss Lydia Saunders  23.0  Physics            2.0   \n",
       "34b97db2    Miss Lydia Saunders  23.0  Physics            2.0   \n",
       "\n",
       "           Country of Origin  \n",
       "Student ID                    \n",
       "34b97db2       Faroe Islands  \n",
       "34b97db2       Faroe Islands  "
      ]
     },
     "execution_count": 39,
     "metadata": {},
     "output_type": "execute_result"
    }
   ],
   "source": [
    "students_df.loc['34b97db2']"
   ]
  },
  {
   "cell_type": "markdown",
   "metadata": {},
   "source": [
    "If we want to select more than one record, we can use `loc` in combination with `index` and `isin`."
   ]
  },
  {
   "cell_type": "code",
   "execution_count": 40,
   "metadata": {},
   "outputs": [
    {
     "data": {
      "application/vnd.microsoft.datawrangler.viewer.v0+json": {
       "columns": [
        {
         "name": "Student ID",
         "rawType": "object",
         "type": "string"
        },
        {
         "name": "Name",
         "rawType": "object",
         "type": "string"
        },
        {
         "name": "Age",
         "rawType": "float64",
         "type": "float"
        },
        {
         "name": "Subject",
         "rawType": "object",
         "type": "string"
        },
        {
         "name": "Year of Study",
         "rawType": "float64",
         "type": "float"
        },
        {
         "name": "Country of Origin",
         "rawType": "object",
         "type": "string"
        }
       ],
       "conversionMethod": "pd.DataFrame",
       "ref": "764de535-6168-4d1f-90de-e0e81a9716b3",
       "rows": [
        [
         "2703f3f0",
         "Mr Clifford Watson",
         "25.0",
         "English Literature",
         "1.0",
         "Saint Barthelemy"
        ],
        [
         "a8040287",
         "Elliott Ward",
         "25.0",
         "Computer Science",
         "4.0",
         "Guinea"
        ]
       ],
       "shape": {
        "columns": 5,
        "rows": 2
       }
      },
      "text/html": [
       "<div>\n",
       "<style scoped>\n",
       "    .dataframe tbody tr th:only-of-type {\n",
       "        vertical-align: middle;\n",
       "    }\n",
       "\n",
       "    .dataframe tbody tr th {\n",
       "        vertical-align: top;\n",
       "    }\n",
       "\n",
       "    .dataframe thead th {\n",
       "        text-align: right;\n",
       "    }\n",
       "</style>\n",
       "<table border=\"1\" class=\"dataframe\">\n",
       "  <thead>\n",
       "    <tr style=\"text-align: right;\">\n",
       "      <th></th>\n",
       "      <th>Name</th>\n",
       "      <th>Age</th>\n",
       "      <th>Subject</th>\n",
       "      <th>Year of Study</th>\n",
       "      <th>Country of Origin</th>\n",
       "    </tr>\n",
       "    <tr>\n",
       "      <th>Student ID</th>\n",
       "      <th></th>\n",
       "      <th></th>\n",
       "      <th></th>\n",
       "      <th></th>\n",
       "      <th></th>\n",
       "    </tr>\n",
       "  </thead>\n",
       "  <tbody>\n",
       "    <tr>\n",
       "      <th>2703f3f0</th>\n",
       "      <td>Mr Clifford Watson</td>\n",
       "      <td>25.0</td>\n",
       "      <td>English Literature</td>\n",
       "      <td>1.0</td>\n",
       "      <td>Saint Barthelemy</td>\n",
       "    </tr>\n",
       "    <tr>\n",
       "      <th>a8040287</th>\n",
       "      <td>Elliott Ward</td>\n",
       "      <td>25.0</td>\n",
       "      <td>Computer Science</td>\n",
       "      <td>4.0</td>\n",
       "      <td>Guinea</td>\n",
       "    </tr>\n",
       "  </tbody>\n",
       "</table>\n",
       "</div>"
      ],
      "text/plain": [
       "                          Name   Age             Subject  Year of Study  \\\n",
       "Student ID                                                                \n",
       "2703f3f0    Mr Clifford Watson  25.0  English Literature            1.0   \n",
       "a8040287          Elliott Ward  25.0    Computer Science            4.0   \n",
       "\n",
       "           Country of Origin  \n",
       "Student ID                    \n",
       "2703f3f0    Saint Barthelemy  \n",
       "a8040287              Guinea  "
      ]
     },
     "execution_count": 40,
     "metadata": {},
     "output_type": "execute_result"
    }
   ],
   "source": [
    "selected_ids = ['2703f3f0', 'a8040287']\n",
    "students_df.loc[students_df.index.isin(selected_ids)]"
   ]
  },
  {
   "cell_type": "markdown",
   "metadata": {},
   "source": [
    "Let's use `loc` to examine rows that meet specified criteria."
   ]
  },
  {
   "cell_type": "code",
   "execution_count": 41,
   "metadata": {},
   "outputs": [
    {
     "data": {
      "application/vnd.microsoft.datawrangler.viewer.v0+json": {
       "columns": [
        {
         "name": "Student ID",
         "rawType": "object",
         "type": "string"
        },
        {
         "name": "Name",
         "rawType": "object",
         "type": "string"
        },
        {
         "name": "Age",
         "rawType": "float64",
         "type": "float"
        },
        {
         "name": "Subject",
         "rawType": "object",
         "type": "string"
        },
        {
         "name": "Year of Study",
         "rawType": "float64",
         "type": "float"
        },
        {
         "name": "Country of Origin",
         "rawType": "object",
         "type": "string"
        }
       ],
       "conversionMethod": "pd.DataFrame",
       "ref": "9456daaf-436a-4653-b1d9-f2887da6f986",
       "rows": [
        [
         "d8da5486",
         "Miss Pauline Dunn",
         "22.0",
         "Engineering",
         "4.0",
         "Afghanistan"
        ],
        [
         "0723a275",
         "Suzanne Dickinson",
         "22.0",
         "Engineering",
         "4.0",
         "Uruguay"
        ],
        [
         "a8be1ec3",
         "Kelly Foster",
         "22.0",
         "Engineering",
         "1.0",
         "Netherlands"
        ]
       ],
       "shape": {
        "columns": 5,
        "rows": 3
       }
      },
      "text/html": [
       "<div>\n",
       "<style scoped>\n",
       "    .dataframe tbody tr th:only-of-type {\n",
       "        vertical-align: middle;\n",
       "    }\n",
       "\n",
       "    .dataframe tbody tr th {\n",
       "        vertical-align: top;\n",
       "    }\n",
       "\n",
       "    .dataframe thead th {\n",
       "        text-align: right;\n",
       "    }\n",
       "</style>\n",
       "<table border=\"1\" class=\"dataframe\">\n",
       "  <thead>\n",
       "    <tr style=\"text-align: right;\">\n",
       "      <th></th>\n",
       "      <th>Name</th>\n",
       "      <th>Age</th>\n",
       "      <th>Subject</th>\n",
       "      <th>Year of Study</th>\n",
       "      <th>Country of Origin</th>\n",
       "    </tr>\n",
       "    <tr>\n",
       "      <th>Student ID</th>\n",
       "      <th></th>\n",
       "      <th></th>\n",
       "      <th></th>\n",
       "      <th></th>\n",
       "      <th></th>\n",
       "    </tr>\n",
       "  </thead>\n",
       "  <tbody>\n",
       "    <tr>\n",
       "      <th>d8da5486</th>\n",
       "      <td>Miss Pauline Dunn</td>\n",
       "      <td>22.0</td>\n",
       "      <td>Engineering</td>\n",
       "      <td>4.0</td>\n",
       "      <td>Afghanistan</td>\n",
       "    </tr>\n",
       "    <tr>\n",
       "      <th>0723a275</th>\n",
       "      <td>Suzanne Dickinson</td>\n",
       "      <td>22.0</td>\n",
       "      <td>Engineering</td>\n",
       "      <td>4.0</td>\n",
       "      <td>Uruguay</td>\n",
       "    </tr>\n",
       "    <tr>\n",
       "      <th>a8be1ec3</th>\n",
       "      <td>Kelly Foster</td>\n",
       "      <td>22.0</td>\n",
       "      <td>Engineering</td>\n",
       "      <td>1.0</td>\n",
       "      <td>Netherlands</td>\n",
       "    </tr>\n",
       "  </tbody>\n",
       "</table>\n",
       "</div>"
      ],
      "text/plain": [
       "                         Name   Age      Subject  Year of Study  \\\n",
       "Student ID                                                        \n",
       "d8da5486    Miss Pauline Dunn  22.0  Engineering            4.0   \n",
       "0723a275    Suzanne Dickinson  22.0  Engineering            4.0   \n",
       "a8be1ec3         Kelly Foster  22.0  Engineering            1.0   \n",
       "\n",
       "           Country of Origin  \n",
       "Student ID                    \n",
       "d8da5486         Afghanistan  \n",
       "0723a275             Uruguay  \n",
       "a8be1ec3         Netherlands  "
      ]
     },
     "execution_count": 41,
     "metadata": {},
     "output_type": "execute_result"
    }
   ],
   "source": [
    "students_df.loc[(students_df['Age'] == 22) & (students_df['Subject']=='Engineering')]"
   ]
  },
  {
   "cell_type": "markdown",
   "metadata": {},
   "source": [
    "We can also use `iloc` (integer location) to select rows."
   ]
  },
  {
   "cell_type": "code",
   "execution_count": 42,
   "metadata": {},
   "outputs": [
    {
     "data": {
      "text/plain": [
       "Name                 Mr Clifford Watson\n",
       "Age                                25.0\n",
       "Subject              English Literature\n",
       "Year of Study                       1.0\n",
       "Country of Origin      Saint Barthelemy\n",
       "Name: 2703f3f0, dtype: object"
      ]
     },
     "execution_count": 42,
     "metadata": {},
     "output_type": "execute_result"
    }
   ],
   "source": [
    "students_df.iloc[0]"
   ]
  },
  {
   "cell_type": "markdown",
   "metadata": {},
   "source": [
    "Here we get the first three rows. Notice that that we can use the same slicing syntax that we use for lists."
   ]
  },
  {
   "cell_type": "code",
   "execution_count": 43,
   "metadata": {},
   "outputs": [
    {
     "data": {
      "application/vnd.microsoft.datawrangler.viewer.v0+json": {
       "columns": [
        {
         "name": "Student ID",
         "rawType": "object",
         "type": "string"
        },
        {
         "name": "Name",
         "rawType": "object",
         "type": "string"
        },
        {
         "name": "Age",
         "rawType": "float64",
         "type": "float"
        },
        {
         "name": "Subject",
         "rawType": "object",
         "type": "string"
        },
        {
         "name": "Year of Study",
         "rawType": "float64",
         "type": "float"
        },
        {
         "name": "Country of Origin",
         "rawType": "object",
         "type": "string"
        }
       ],
       "conversionMethod": "pd.DataFrame",
       "ref": "111620bc-bbb8-4f1f-8ff2-c10b3a6541aa",
       "rows": [
        [
         "2703f3f0",
         "Mr Clifford Watson",
         "25.0",
         "English Literature",
         "1.0",
         "Saint Barthelemy"
        ],
        [
         "a8040287",
         "Elliott Ward",
         "25.0",
         "Computer Science",
         "4.0",
         "Guinea"
        ],
        [
         "d8da5486",
         "Miss Pauline Dunn",
         "22.0",
         "Engineering",
         "4.0",
         "Afghanistan"
        ]
       ],
       "shape": {
        "columns": 5,
        "rows": 3
       }
      },
      "text/html": [
       "<div>\n",
       "<style scoped>\n",
       "    .dataframe tbody tr th:only-of-type {\n",
       "        vertical-align: middle;\n",
       "    }\n",
       "\n",
       "    .dataframe tbody tr th {\n",
       "        vertical-align: top;\n",
       "    }\n",
       "\n",
       "    .dataframe thead th {\n",
       "        text-align: right;\n",
       "    }\n",
       "</style>\n",
       "<table border=\"1\" class=\"dataframe\">\n",
       "  <thead>\n",
       "    <tr style=\"text-align: right;\">\n",
       "      <th></th>\n",
       "      <th>Name</th>\n",
       "      <th>Age</th>\n",
       "      <th>Subject</th>\n",
       "      <th>Year of Study</th>\n",
       "      <th>Country of Origin</th>\n",
       "    </tr>\n",
       "    <tr>\n",
       "      <th>Student ID</th>\n",
       "      <th></th>\n",
       "      <th></th>\n",
       "      <th></th>\n",
       "      <th></th>\n",
       "      <th></th>\n",
       "    </tr>\n",
       "  </thead>\n",
       "  <tbody>\n",
       "    <tr>\n",
       "      <th>2703f3f0</th>\n",
       "      <td>Mr Clifford Watson</td>\n",
       "      <td>25.0</td>\n",
       "      <td>English Literature</td>\n",
       "      <td>1.0</td>\n",
       "      <td>Saint Barthelemy</td>\n",
       "    </tr>\n",
       "    <tr>\n",
       "      <th>a8040287</th>\n",
       "      <td>Elliott Ward</td>\n",
       "      <td>25.0</td>\n",
       "      <td>Computer Science</td>\n",
       "      <td>4.0</td>\n",
       "      <td>Guinea</td>\n",
       "    </tr>\n",
       "    <tr>\n",
       "      <th>d8da5486</th>\n",
       "      <td>Miss Pauline Dunn</td>\n",
       "      <td>22.0</td>\n",
       "      <td>Engineering</td>\n",
       "      <td>4.0</td>\n",
       "      <td>Afghanistan</td>\n",
       "    </tr>\n",
       "  </tbody>\n",
       "</table>\n",
       "</div>"
      ],
      "text/plain": [
       "                          Name   Age             Subject  Year of Study  \\\n",
       "Student ID                                                                \n",
       "2703f3f0    Mr Clifford Watson  25.0  English Literature            1.0   \n",
       "a8040287          Elliott Ward  25.0    Computer Science            4.0   \n",
       "d8da5486     Miss Pauline Dunn  22.0         Engineering            4.0   \n",
       "\n",
       "           Country of Origin  \n",
       "Student ID                    \n",
       "2703f3f0    Saint Barthelemy  \n",
       "a8040287              Guinea  \n",
       "d8da5486         Afghanistan  "
      ]
     },
     "execution_count": 43,
     "metadata": {},
     "output_type": "execute_result"
    }
   ],
   "source": [
    "students_df.iloc[0:3]"
   ]
  },
  {
   "cell_type": "markdown",
   "metadata": {},
   "source": [
    "## Joining DataFrames\n",
    "Next we will load a related dataset containing some student grades. The same Student ID is being used. "
   ]
  },
  {
   "cell_type": "code",
   "execution_count": 44,
   "metadata": {},
   "outputs": [
    {
     "data": {
      "application/vnd.microsoft.datawrangler.viewer.v0+json": {
       "columns": [
        {
         "name": "Student ID",
         "rawType": "object",
         "type": "string"
        },
        {
         "name": "Grade",
         "rawType": "object",
         "type": "string"
        }
       ],
       "conversionMethod": "pd.DataFrame",
       "ref": "495203ac-7258-442e-8638-e9211cb16908",
       "rows": [
        [
         "2703f3f0",
         "A"
        ],
        [
         "a8040287",
         "C"
        ],
        [
         "d8da5486",
         "A"
        ],
        [
         "3ac1b74d",
         "B"
        ],
        [
         "67850858",
         "C"
        ],
        [
         "62dd3a69",
         "B"
        ],
        [
         "6b22a999",
         "A"
        ]
       ],
       "shape": {
        "columns": 1,
        "rows": 7
       }
      },
      "text/html": [
       "<div>\n",
       "<style scoped>\n",
       "    .dataframe tbody tr th:only-of-type {\n",
       "        vertical-align: middle;\n",
       "    }\n",
       "\n",
       "    .dataframe tbody tr th {\n",
       "        vertical-align: top;\n",
       "    }\n",
       "\n",
       "    .dataframe thead th {\n",
       "        text-align: right;\n",
       "    }\n",
       "</style>\n",
       "<table border=\"1\" class=\"dataframe\">\n",
       "  <thead>\n",
       "    <tr style=\"text-align: right;\">\n",
       "      <th></th>\n",
       "      <th>Grade</th>\n",
       "    </tr>\n",
       "    <tr>\n",
       "      <th>Student ID</th>\n",
       "      <th></th>\n",
       "    </tr>\n",
       "  </thead>\n",
       "  <tbody>\n",
       "    <tr>\n",
       "      <th>2703f3f0</th>\n",
       "      <td>A</td>\n",
       "    </tr>\n",
       "    <tr>\n",
       "      <th>a8040287</th>\n",
       "      <td>C</td>\n",
       "    </tr>\n",
       "    <tr>\n",
       "      <th>d8da5486</th>\n",
       "      <td>A</td>\n",
       "    </tr>\n",
       "    <tr>\n",
       "      <th>3ac1b74d</th>\n",
       "      <td>B</td>\n",
       "    </tr>\n",
       "    <tr>\n",
       "      <th>67850858</th>\n",
       "      <td>C</td>\n",
       "    </tr>\n",
       "    <tr>\n",
       "      <th>62dd3a69</th>\n",
       "      <td>B</td>\n",
       "    </tr>\n",
       "    <tr>\n",
       "      <th>6b22a999</th>\n",
       "      <td>A</td>\n",
       "    </tr>\n",
       "  </tbody>\n",
       "</table>\n",
       "</div>"
      ],
      "text/plain": [
       "           Grade\n",
       "Student ID      \n",
       "2703f3f0       A\n",
       "a8040287       C\n",
       "d8da5486       A\n",
       "3ac1b74d       B\n",
       "67850858       C\n",
       "62dd3a69       B\n",
       "6b22a999       A"
      ]
     },
     "execution_count": 44,
     "metadata": {},
     "output_type": "execute_result"
    }
   ],
   "source": [
    "grades_df = pd.read_csv('./data/grades.csv', index_col='Student ID')\n",
    "\n",
    "grades_df"
   ]
  },
  {
   "cell_type": "markdown",
   "metadata": {},
   "source": [
    "Now we `join` the two DataFrames where the Student IDs are equal."
   ]
  },
  {
   "cell_type": "code",
   "execution_count": 59,
   "metadata": {},
   "outputs": [
    {
     "data": {
      "application/vnd.microsoft.datawrangler.viewer.v0+json": {
       "columns": [
        {
         "name": "index",
         "rawType": "int64",
         "type": "integer"
        },
        {
         "name": "index",
         "rawType": "int64",
         "type": "integer"
        },
        {
         "name": "Student ID",
         "rawType": "object",
         "type": "string"
        },
        {
         "name": "Name",
         "rawType": "object",
         "type": "string"
        },
        {
         "name": "Age",
         "rawType": "float64",
         "type": "float"
        },
        {
         "name": "Subject",
         "rawType": "object",
         "type": "string"
        },
        {
         "name": "Year of Study",
         "rawType": "float64",
         "type": "float"
        },
        {
         "name": "Country of Origin",
         "rawType": "object",
         "type": "string"
        },
        {
         "name": "Grade",
         "rawType": "object",
         "type": "unknown"
        }
       ],
       "conversionMethod": "pd.DataFrame",
       "ref": "00c57201-fe91-4d43-a24c-f22badf4e93b",
       "rows": [
        [
         "0",
         "0",
         "2703f3f0",
         "Mr Clifford Watson",
         "25.0",
         "English Literature",
         "1.0",
         "Saint Barthelemy",
         "A"
        ],
        [
         "1",
         "1",
         "a8040287",
         "Elliott Ward",
         "25.0",
         "Computer Science",
         "4.0",
         "Guinea",
         "C"
        ],
        [
         "2",
         "2",
         "d8da5486",
         "Miss Pauline Dunn",
         "22.0",
         "Engineering",
         "4.0",
         "Afghanistan",
         "A"
        ],
        [
         "3",
         "3",
         "3ac1b74d",
         "Mr Dominic Mason",
         "22.0",
         "Physics",
         "1.0",
         "Palau",
         "B"
        ],
        [
         "4",
         "4",
         "67850858",
         "Mrs Melanie Brown",
         "18.0",
         "English Literature",
         "3.0",
         "Algeria",
         "C"
        ],
        [
         "5",
         "5",
         "62dd3a69",
         "Mr Frederick Price",
         "22.0",
         "Medicine",
         "2.0",
         "Guinea-Bissau",
         "B"
        ],
        [
         "6",
         "6",
         "6b22a999",
         "Charles Hayward",
         "23.0",
         "Engineering",
         "2.0",
         "Comoros",
         "A"
        ],
        [
         "7",
         "7",
         "4b744b9a",
         "Garry Thornton",
         null,
         "English Literature",
         "4.0",
         "Cuba",
         null
        ],
        [
         "8",
         "8",
         "45c54817",
         "Mrs Sian Wilson",
         "20.0",
         "Computer Science",
         "2.0",
         "Korea",
         null
        ],
        [
         "9",
         "9",
         "5d5e1224",
         "Grace Walton-Kelly",
         "20.0",
         "History",
         "1.0",
         "Haiti",
         null
        ],
        [
         "10",
         "10",
         "2c142f24",
         "Jade Kirby",
         "24.0",
         "Biology",
         "1.0",
         "Fiji",
         null
        ],
        [
         "11",
         "11",
         "3eec010c",
         "Howard Marshall",
         null,
         "Biology",
         "1.0",
         "Swaziland",
         null
        ],
        [
         "12",
         "12",
         "f3cbb058",
         "Dr Scott Wilson",
         "18.0",
         "English Literature",
         "4.0",
         "Namibia",
         null
        ],
        [
         "13",
         "13",
         "6a406b49",
         "Melissa Ali",
         "18.0",
         "Computer Science",
         "1.0",
         "Israel",
         null
        ],
        [
         "14",
         "14",
         "836d85df",
         "Carolyn Walker",
         "18.0",
         "Mathematics",
         "4.0",
         "Angola",
         null
        ],
        [
         "15",
         "15",
         "fc4f68b0",
         "Sandra Stephenson",
         "23.0",
         "Law",
         "3.0",
         "Palau",
         null
        ],
        [
         "16",
         "16",
         "41465cf8",
         "Mr Guy Lynch",
         "25.0",
         "History",
         "2.0",
         "Italy",
         null
        ],
        [
         "17",
         "17",
         "afae8532",
         "Kieran Davidson-Watson",
         "25.0",
         "English Literature",
         "1.0",
         "Mayotte",
         null
        ],
        [
         "18",
         "18",
         "7c43c14d",
         "Malcolm Farrell-Sykes",
         "18.0",
         "History",
         "3.0",
         "Nauru",
         null
        ],
        [
         "19",
         "19",
         "43b3612f",
         "Frederick Khan",
         "19.0",
         "Art",
         "4.0",
         "Taiwan",
         null
        ],
        [
         "20",
         "20",
         "72324765",
         "Gail Henderson",
         "21.0",
         "Law",
         "1.0",
         "Eritrea",
         null
        ],
        [
         "21",
         "21",
         "9c0aa410",
         "Hazel Evans",
         "24.0",
         "History",
         "3.0",
         "China",
         null
        ],
        [
         "22",
         "22",
         "a9e6b860",
         "Mrs Tracey Adams",
         "24.0",
         "English Literature",
         "4.0",
         "Saint Lucia",
         null
        ],
        [
         "23",
         "23",
         "0e7361c4",
         "Mr Donald Taylor",
         "21.0",
         "Engineering",
         "3.0",
         "France",
         null
        ],
        [
         "24",
         "24",
         "27166ecb",
         "Dr Terry Lewis",
         "245.0",
         "Mathematics",
         "3.0",
         "Fiji",
         null
        ],
        [
         "25",
         "25",
         "c828ba21",
         "Kelly Fisher-Simpson",
         "21.0",
         "Law",
         "2.0",
         "Isle of Man",
         null
        ],
        [
         "26",
         "26",
         "a7bb5b63",
         "Steven Ahmed",
         "22.0",
         "Physics",
         "1.0",
         "Guernsey",
         null
        ],
        [
         "27",
         "27",
         "f156e962",
         "Christian Howell-Holt",
         "25.0",
         "Law",
         "2.0",
         "Kyrgyz Republic",
         null
        ],
        [
         "28",
         "28",
         "2f3b6b33",
         "Dr Aaron Bell",
         "21.0",
         "English Literature",
         "3.0",
         "Libyan Arab Jamahiriya",
         null
        ],
        [
         "29",
         "29",
         "88648f86",
         "Pauline Akhtar",
         "20.0",
         "Biology",
         "4.0",
         "Netherlands Antilles",
         null
        ],
        [
         "30",
         "30",
         "a225e559",
         "Sheila Roberts-Harris",
         "18.0",
         "Biology",
         "4.0",
         "Singapore",
         null
        ],
        [
         "31",
         "31",
         "34212ec1",
         "Rosemary Wood",
         "18.0",
         "Mathematics",
         "3.0",
         "Comoros",
         null
        ],
        [
         "32",
         "32",
         "fcedbd2f",
         "Mrs Rosemary Knight",
         "18.0",
         "Art",
         "4.0",
         "French Polynesia",
         null
        ],
        [
         "33",
         "33",
         "88dc77f7",
         "Daniel Harris",
         "20.0",
         "Computer Science",
         "4.0",
         "Wallis and Futuna",
         null
        ],
        [
         "34",
         "34",
         "53dd0026",
         "Amber Osborne",
         "21.0",
         "Physics",
         "4.0",
         "Liberia",
         null
        ],
        [
         "35",
         "35",
         "ea066b3e",
         "Alison Williams-Garner",
         "21.0",
         "Engineering",
         "2.0",
         "Brunei Darussalam",
         null
        ],
        [
         "36",
         "36",
         "10551162",
         "Mr Bruce Fleming",
         "24.0",
         "Law",
         "3.0",
         "Equatorial Guinea",
         null
        ],
        [
         "37",
         "37",
         "a420952d",
         "Lindsey Cook",
         "25.0",
         "History",
         "2.0",
         "Micronesia",
         null
        ],
        [
         "38",
         "38",
         "45604caa",
         "Victor Palmer",
         "23.0",
         "English Literature",
         "3.0",
         "Thailand",
         null
        ],
        [
         "39",
         "39",
         "8d697782",
         "Mr Lawrence Barker",
         "24.0",
         "Physics",
         "3.0",
         "Antigua and Barbuda",
         null
        ],
        [
         "40",
         "40",
         "8581f127",
         "Mrs Cheryl Ashton",
         "25.0",
         "Engineering",
         "3.0",
         "South Africa",
         null
        ],
        [
         "41",
         "41",
         "5fa87190",
         "Olivia Turner",
         "21.0",
         "Mathematics",
         "1.0",
         "Zimbabwe",
         null
        ],
        [
         "42",
         "42",
         "cc9eb24e",
         "Lucy Roberts",
         "22.0",
         "Biology",
         "4.0",
         "Marshall Islands",
         null
        ],
        [
         "43",
         "43",
         "3c1fe24c",
         "Melanie Sheppard",
         "21.0",
         "Medicine",
         "1.0",
         "Lebanon",
         null
        ],
        [
         "44",
         "44",
         "204e4c56",
         "Paula Watts",
         "21.0",
         "Computer Science",
         "3.0",
         "Tunisia",
         null
        ],
        [
         "45",
         "45",
         "0fac1009",
         "Louis Buckley",
         "18.0",
         "Art",
         "3.0",
         "Cambodia",
         null
        ],
        [
         "46",
         "46",
         "bde91950",
         "Mrs Elizabeth Perry",
         "19.0",
         "Computer Science",
         "4.0",
         "Burkina Faso",
         null
        ],
        [
         "47",
         "47",
         "4e324306",
         "Stephanie Thompson",
         "23.0",
         "Medicine",
         "4.0",
         "Cyprus",
         null
        ],
        [
         "48",
         "48",
         "75693b89",
         "Angela Farmer-Sanders",
         "25.0",
         "History",
         "4.0",
         "Ukraine",
         null
        ],
        [
         "49",
         "49",
         "ba4fe6e7",
         "Miss Bethany Grant",
         "24.0",
         "Physics",
         "1.0",
         "Aruba",
         null
        ]
       ],
       "shape": {
        "columns": 8,
        "rows": 101
       }
      },
      "text/html": [
       "<div>\n",
       "<style scoped>\n",
       "    .dataframe tbody tr th:only-of-type {\n",
       "        vertical-align: middle;\n",
       "    }\n",
       "\n",
       "    .dataframe tbody tr th {\n",
       "        vertical-align: top;\n",
       "    }\n",
       "\n",
       "    .dataframe thead th {\n",
       "        text-align: right;\n",
       "    }\n",
       "</style>\n",
       "<table border=\"1\" class=\"dataframe\">\n",
       "  <thead>\n",
       "    <tr style=\"text-align: right;\">\n",
       "      <th></th>\n",
       "      <th>index</th>\n",
       "      <th>Student ID</th>\n",
       "      <th>Name</th>\n",
       "      <th>Age</th>\n",
       "      <th>Subject</th>\n",
       "      <th>Year of Study</th>\n",
       "      <th>Country of Origin</th>\n",
       "      <th>Grade</th>\n",
       "    </tr>\n",
       "  </thead>\n",
       "  <tbody>\n",
       "    <tr>\n",
       "      <th>0</th>\n",
       "      <td>0</td>\n",
       "      <td>2703f3f0</td>\n",
       "      <td>Mr Clifford Watson</td>\n",
       "      <td>25.0</td>\n",
       "      <td>English Literature</td>\n",
       "      <td>1.0</td>\n",
       "      <td>Saint Barthelemy</td>\n",
       "      <td>A</td>\n",
       "    </tr>\n",
       "    <tr>\n",
       "      <th>1</th>\n",
       "      <td>1</td>\n",
       "      <td>a8040287</td>\n",
       "      <td>Elliott Ward</td>\n",
       "      <td>25.0</td>\n",
       "      <td>Computer Science</td>\n",
       "      <td>4.0</td>\n",
       "      <td>Guinea</td>\n",
       "      <td>C</td>\n",
       "    </tr>\n",
       "    <tr>\n",
       "      <th>2</th>\n",
       "      <td>2</td>\n",
       "      <td>d8da5486</td>\n",
       "      <td>Miss Pauline Dunn</td>\n",
       "      <td>22.0</td>\n",
       "      <td>Engineering</td>\n",
       "      <td>4.0</td>\n",
       "      <td>Afghanistan</td>\n",
       "      <td>A</td>\n",
       "    </tr>\n",
       "    <tr>\n",
       "      <th>3</th>\n",
       "      <td>3</td>\n",
       "      <td>3ac1b74d</td>\n",
       "      <td>Mr Dominic Mason</td>\n",
       "      <td>22.0</td>\n",
       "      <td>Physics</td>\n",
       "      <td>1.0</td>\n",
       "      <td>Palau</td>\n",
       "      <td>B</td>\n",
       "    </tr>\n",
       "    <tr>\n",
       "      <th>4</th>\n",
       "      <td>4</td>\n",
       "      <td>67850858</td>\n",
       "      <td>Mrs Melanie Brown</td>\n",
       "      <td>18.0</td>\n",
       "      <td>English Literature</td>\n",
       "      <td>3.0</td>\n",
       "      <td>Algeria</td>\n",
       "      <td>C</td>\n",
       "    </tr>\n",
       "    <tr>\n",
       "      <th>...</th>\n",
       "      <td>...</td>\n",
       "      <td>...</td>\n",
       "      <td>...</td>\n",
       "      <td>...</td>\n",
       "      <td>...</td>\n",
       "      <td>...</td>\n",
       "      <td>...</td>\n",
       "      <td>...</td>\n",
       "    </tr>\n",
       "    <tr>\n",
       "      <th>96</th>\n",
       "      <td>96</td>\n",
       "      <td>a8be1ec3</td>\n",
       "      <td>Kelly Foster</td>\n",
       "      <td>22.0</td>\n",
       "      <td>Engineering</td>\n",
       "      <td>1.0</td>\n",
       "      <td>Netherlands</td>\n",
       "      <td>NaN</td>\n",
       "    </tr>\n",
       "    <tr>\n",
       "      <th>97</th>\n",
       "      <td>97</td>\n",
       "      <td>3b69ff22</td>\n",
       "      <td>Sara Austin</td>\n",
       "      <td>19.0</td>\n",
       "      <td>Computer Science</td>\n",
       "      <td>34.0</td>\n",
       "      <td>Liechtenstein</td>\n",
       "      <td>NaN</td>\n",
       "    </tr>\n",
       "    <tr>\n",
       "      <th>98</th>\n",
       "      <td>98</td>\n",
       "      <td>716fb45f</td>\n",
       "      <td>Miss Grace Miller</td>\n",
       "      <td>22.0</td>\n",
       "      <td>English Literature</td>\n",
       "      <td>4.0</td>\n",
       "      <td>Comoros</td>\n",
       "      <td>NaN</td>\n",
       "    </tr>\n",
       "    <tr>\n",
       "      <th>99</th>\n",
       "      <td>99</td>\n",
       "      <td>34b97db2</td>\n",
       "      <td>Miss Lydia Saunders</td>\n",
       "      <td>23.0</td>\n",
       "      <td>Physics</td>\n",
       "      <td>2.0</td>\n",
       "      <td>Faroe Islands</td>\n",
       "      <td>NaN</td>\n",
       "    </tr>\n",
       "    <tr>\n",
       "      <th>100</th>\n",
       "      <td>100</td>\n",
       "      <td>34b97db2</td>\n",
       "      <td>Miss Lydia Saunders</td>\n",
       "      <td>23.0</td>\n",
       "      <td>Physics</td>\n",
       "      <td>2.0</td>\n",
       "      <td>Faroe Islands</td>\n",
       "      <td>NaN</td>\n",
       "    </tr>\n",
       "  </tbody>\n",
       "</table>\n",
       "<p>101 rows × 8 columns</p>\n",
       "</div>"
      ],
      "text/plain": [
       "     index Student ID                 Name   Age             Subject  \\\n",
       "0        0   2703f3f0   Mr Clifford Watson  25.0  English Literature   \n",
       "1        1   a8040287         Elliott Ward  25.0    Computer Science   \n",
       "2        2   d8da5486    Miss Pauline Dunn  22.0         Engineering   \n",
       "3        3   3ac1b74d     Mr Dominic Mason  22.0             Physics   \n",
       "4        4   67850858    Mrs Melanie Brown  18.0  English Literature   \n",
       "..     ...        ...                  ...   ...                 ...   \n",
       "96      96   a8be1ec3         Kelly Foster  22.0         Engineering   \n",
       "97      97   3b69ff22          Sara Austin  19.0    Computer Science   \n",
       "98      98   716fb45f    Miss Grace Miller  22.0  English Literature   \n",
       "99      99   34b97db2  Miss Lydia Saunders  23.0             Physics   \n",
       "100    100   34b97db2  Miss Lydia Saunders  23.0             Physics   \n",
       "\n",
       "     Year of Study Country of Origin Grade  \n",
       "0              1.0  Saint Barthelemy     A  \n",
       "1              4.0            Guinea     C  \n",
       "2              4.0       Afghanistan     A  \n",
       "3              1.0             Palau     B  \n",
       "4              3.0           Algeria     C  \n",
       "..             ...               ...   ...  \n",
       "96             1.0       Netherlands   NaN  \n",
       "97            34.0     Liechtenstein   NaN  \n",
       "98             4.0           Comoros   NaN  \n",
       "99             2.0     Faroe Islands   NaN  \n",
       "100            2.0     Faroe Islands   NaN  \n",
       "\n",
       "[101 rows x 8 columns]"
      ]
     },
     "execution_count": 59,
     "metadata": {},
     "output_type": "execute_result"
    }
   ],
   "source": [
    "joined_df = students_df.join(grades_df, on='Student ID')\n",
    "\n",
    "joined_df"
   ]
  },
  {
   "cell_type": "markdown",
   "metadata": {},
   "source": [
    "Alternatively we could use `merge`."
   ]
  },
  {
   "cell_type": "code",
   "execution_count": 61,
   "metadata": {},
   "outputs": [
    {
     "data": {
      "application/vnd.microsoft.datawrangler.viewer.v0+json": {
       "columns": [
        {
         "name": "index",
         "rawType": "int64",
         "type": "integer"
        },
        {
         "name": "index",
         "rawType": "int64",
         "type": "integer"
        },
        {
         "name": "Student ID",
         "rawType": "object",
         "type": "string"
        },
        {
         "name": "Name",
         "rawType": "object",
         "type": "string"
        },
        {
         "name": "Age",
         "rawType": "float64",
         "type": "float"
        },
        {
         "name": "Subject",
         "rawType": "object",
         "type": "string"
        },
        {
         "name": "Year of Study",
         "rawType": "float64",
         "type": "float"
        },
        {
         "name": "Country of Origin",
         "rawType": "object",
         "type": "string"
        },
        {
         "name": "Grade",
         "rawType": "object",
         "type": "unknown"
        }
       ],
       "conversionMethod": "pd.DataFrame",
       "ref": "348b8d2f-dfbd-43fa-a6c8-07cd9ad82a73",
       "rows": [
        [
         "0",
         "0",
         "2703f3f0",
         "Mr Clifford Watson",
         "25.0",
         "English Literature",
         "1.0",
         "Saint Barthelemy",
         "A"
        ],
        [
         "1",
         "1",
         "a8040287",
         "Elliott Ward",
         "25.0",
         "Computer Science",
         "4.0",
         "Guinea",
         "C"
        ],
        [
         "2",
         "2",
         "d8da5486",
         "Miss Pauline Dunn",
         "22.0",
         "Engineering",
         "4.0",
         "Afghanistan",
         "A"
        ],
        [
         "3",
         "3",
         "3ac1b74d",
         "Mr Dominic Mason",
         "22.0",
         "Physics",
         "1.0",
         "Palau",
         "B"
        ],
        [
         "4",
         "4",
         "67850858",
         "Mrs Melanie Brown",
         "18.0",
         "English Literature",
         "3.0",
         "Algeria",
         "C"
        ],
        [
         "5",
         "5",
         "62dd3a69",
         "Mr Frederick Price",
         "22.0",
         "Medicine",
         "2.0",
         "Guinea-Bissau",
         "B"
        ],
        [
         "6",
         "6",
         "6b22a999",
         "Charles Hayward",
         "23.0",
         "Engineering",
         "2.0",
         "Comoros",
         "A"
        ],
        [
         "7",
         "7",
         "4b744b9a",
         "Garry Thornton",
         null,
         "English Literature",
         "4.0",
         "Cuba",
         null
        ],
        [
         "8",
         "8",
         "45c54817",
         "Mrs Sian Wilson",
         "20.0",
         "Computer Science",
         "2.0",
         "Korea",
         null
        ],
        [
         "9",
         "9",
         "5d5e1224",
         "Grace Walton-Kelly",
         "20.0",
         "History",
         "1.0",
         "Haiti",
         null
        ],
        [
         "10",
         "10",
         "2c142f24",
         "Jade Kirby",
         "24.0",
         "Biology",
         "1.0",
         "Fiji",
         null
        ],
        [
         "11",
         "11",
         "3eec010c",
         "Howard Marshall",
         null,
         "Biology",
         "1.0",
         "Swaziland",
         null
        ],
        [
         "12",
         "12",
         "f3cbb058",
         "Dr Scott Wilson",
         "18.0",
         "English Literature",
         "4.0",
         "Namibia",
         null
        ],
        [
         "13",
         "13",
         "6a406b49",
         "Melissa Ali",
         "18.0",
         "Computer Science",
         "1.0",
         "Israel",
         null
        ],
        [
         "14",
         "14",
         "836d85df",
         "Carolyn Walker",
         "18.0",
         "Mathematics",
         "4.0",
         "Angola",
         null
        ],
        [
         "15",
         "15",
         "fc4f68b0",
         "Sandra Stephenson",
         "23.0",
         "Law",
         "3.0",
         "Palau",
         null
        ],
        [
         "16",
         "16",
         "41465cf8",
         "Mr Guy Lynch",
         "25.0",
         "History",
         "2.0",
         "Italy",
         null
        ],
        [
         "17",
         "17",
         "afae8532",
         "Kieran Davidson-Watson",
         "25.0",
         "English Literature",
         "1.0",
         "Mayotte",
         null
        ],
        [
         "18",
         "18",
         "7c43c14d",
         "Malcolm Farrell-Sykes",
         "18.0",
         "History",
         "3.0",
         "Nauru",
         null
        ],
        [
         "19",
         "19",
         "43b3612f",
         "Frederick Khan",
         "19.0",
         "Art",
         "4.0",
         "Taiwan",
         null
        ],
        [
         "20",
         "20",
         "72324765",
         "Gail Henderson",
         "21.0",
         "Law",
         "1.0",
         "Eritrea",
         null
        ],
        [
         "21",
         "21",
         "9c0aa410",
         "Hazel Evans",
         "24.0",
         "History",
         "3.0",
         "China",
         null
        ],
        [
         "22",
         "22",
         "a9e6b860",
         "Mrs Tracey Adams",
         "24.0",
         "English Literature",
         "4.0",
         "Saint Lucia",
         null
        ],
        [
         "23",
         "23",
         "0e7361c4",
         "Mr Donald Taylor",
         "21.0",
         "Engineering",
         "3.0",
         "France",
         null
        ],
        [
         "24",
         "24",
         "27166ecb",
         "Dr Terry Lewis",
         "245.0",
         "Mathematics",
         "3.0",
         "Fiji",
         null
        ],
        [
         "25",
         "25",
         "c828ba21",
         "Kelly Fisher-Simpson",
         "21.0",
         "Law",
         "2.0",
         "Isle of Man",
         null
        ],
        [
         "26",
         "26",
         "a7bb5b63",
         "Steven Ahmed",
         "22.0",
         "Physics",
         "1.0",
         "Guernsey",
         null
        ],
        [
         "27",
         "27",
         "f156e962",
         "Christian Howell-Holt",
         "25.0",
         "Law",
         "2.0",
         "Kyrgyz Republic",
         null
        ],
        [
         "28",
         "28",
         "2f3b6b33",
         "Dr Aaron Bell",
         "21.0",
         "English Literature",
         "3.0",
         "Libyan Arab Jamahiriya",
         null
        ],
        [
         "29",
         "29",
         "88648f86",
         "Pauline Akhtar",
         "20.0",
         "Biology",
         "4.0",
         "Netherlands Antilles",
         null
        ],
        [
         "30",
         "30",
         "a225e559",
         "Sheila Roberts-Harris",
         "18.0",
         "Biology",
         "4.0",
         "Singapore",
         null
        ],
        [
         "31",
         "31",
         "34212ec1",
         "Rosemary Wood",
         "18.0",
         "Mathematics",
         "3.0",
         "Comoros",
         null
        ],
        [
         "32",
         "32",
         "fcedbd2f",
         "Mrs Rosemary Knight",
         "18.0",
         "Art",
         "4.0",
         "French Polynesia",
         null
        ],
        [
         "33",
         "33",
         "88dc77f7",
         "Daniel Harris",
         "20.0",
         "Computer Science",
         "4.0",
         "Wallis and Futuna",
         null
        ],
        [
         "34",
         "34",
         "53dd0026",
         "Amber Osborne",
         "21.0",
         "Physics",
         "4.0",
         "Liberia",
         null
        ],
        [
         "35",
         "35",
         "ea066b3e",
         "Alison Williams-Garner",
         "21.0",
         "Engineering",
         "2.0",
         "Brunei Darussalam",
         null
        ],
        [
         "36",
         "36",
         "10551162",
         "Mr Bruce Fleming",
         "24.0",
         "Law",
         "3.0",
         "Equatorial Guinea",
         null
        ],
        [
         "37",
         "37",
         "a420952d",
         "Lindsey Cook",
         "25.0",
         "History",
         "2.0",
         "Micronesia",
         null
        ],
        [
         "38",
         "38",
         "45604caa",
         "Victor Palmer",
         "23.0",
         "English Literature",
         "3.0",
         "Thailand",
         null
        ],
        [
         "39",
         "39",
         "8d697782",
         "Mr Lawrence Barker",
         "24.0",
         "Physics",
         "3.0",
         "Antigua and Barbuda",
         null
        ],
        [
         "40",
         "40",
         "8581f127",
         "Mrs Cheryl Ashton",
         "25.0",
         "Engineering",
         "3.0",
         "South Africa",
         null
        ],
        [
         "41",
         "41",
         "5fa87190",
         "Olivia Turner",
         "21.0",
         "Mathematics",
         "1.0",
         "Zimbabwe",
         null
        ],
        [
         "42",
         "42",
         "cc9eb24e",
         "Lucy Roberts",
         "22.0",
         "Biology",
         "4.0",
         "Marshall Islands",
         null
        ],
        [
         "43",
         "43",
         "3c1fe24c",
         "Melanie Sheppard",
         "21.0",
         "Medicine",
         "1.0",
         "Lebanon",
         null
        ],
        [
         "44",
         "44",
         "204e4c56",
         "Paula Watts",
         "21.0",
         "Computer Science",
         "3.0",
         "Tunisia",
         null
        ],
        [
         "45",
         "45",
         "0fac1009",
         "Louis Buckley",
         "18.0",
         "Art",
         "3.0",
         "Cambodia",
         null
        ],
        [
         "46",
         "46",
         "bde91950",
         "Mrs Elizabeth Perry",
         "19.0",
         "Computer Science",
         "4.0",
         "Burkina Faso",
         null
        ],
        [
         "47",
         "47",
         "4e324306",
         "Stephanie Thompson",
         "23.0",
         "Medicine",
         "4.0",
         "Cyprus",
         null
        ],
        [
         "48",
         "48",
         "75693b89",
         "Angela Farmer-Sanders",
         "25.0",
         "History",
         "4.0",
         "Ukraine",
         null
        ],
        [
         "49",
         "49",
         "ba4fe6e7",
         "Miss Bethany Grant",
         "24.0",
         "Physics",
         "1.0",
         "Aruba",
         null
        ]
       ],
       "shape": {
        "columns": 8,
        "rows": 101
       }
      },
      "text/html": [
       "<div>\n",
       "<style scoped>\n",
       "    .dataframe tbody tr th:only-of-type {\n",
       "        vertical-align: middle;\n",
       "    }\n",
       "\n",
       "    .dataframe tbody tr th {\n",
       "        vertical-align: top;\n",
       "    }\n",
       "\n",
       "    .dataframe thead th {\n",
       "        text-align: right;\n",
       "    }\n",
       "</style>\n",
       "<table border=\"1\" class=\"dataframe\">\n",
       "  <thead>\n",
       "    <tr style=\"text-align: right;\">\n",
       "      <th></th>\n",
       "      <th>index</th>\n",
       "      <th>Student ID</th>\n",
       "      <th>Name</th>\n",
       "      <th>Age</th>\n",
       "      <th>Subject</th>\n",
       "      <th>Year of Study</th>\n",
       "      <th>Country of Origin</th>\n",
       "      <th>Grade</th>\n",
       "    </tr>\n",
       "  </thead>\n",
       "  <tbody>\n",
       "    <tr>\n",
       "      <th>0</th>\n",
       "      <td>0</td>\n",
       "      <td>2703f3f0</td>\n",
       "      <td>Mr Clifford Watson</td>\n",
       "      <td>25.0</td>\n",
       "      <td>English Literature</td>\n",
       "      <td>1.0</td>\n",
       "      <td>Saint Barthelemy</td>\n",
       "      <td>A</td>\n",
       "    </tr>\n",
       "    <tr>\n",
       "      <th>1</th>\n",
       "      <td>1</td>\n",
       "      <td>a8040287</td>\n",
       "      <td>Elliott Ward</td>\n",
       "      <td>25.0</td>\n",
       "      <td>Computer Science</td>\n",
       "      <td>4.0</td>\n",
       "      <td>Guinea</td>\n",
       "      <td>C</td>\n",
       "    </tr>\n",
       "    <tr>\n",
       "      <th>2</th>\n",
       "      <td>2</td>\n",
       "      <td>d8da5486</td>\n",
       "      <td>Miss Pauline Dunn</td>\n",
       "      <td>22.0</td>\n",
       "      <td>Engineering</td>\n",
       "      <td>4.0</td>\n",
       "      <td>Afghanistan</td>\n",
       "      <td>A</td>\n",
       "    </tr>\n",
       "    <tr>\n",
       "      <th>3</th>\n",
       "      <td>3</td>\n",
       "      <td>3ac1b74d</td>\n",
       "      <td>Mr Dominic Mason</td>\n",
       "      <td>22.0</td>\n",
       "      <td>Physics</td>\n",
       "      <td>1.0</td>\n",
       "      <td>Palau</td>\n",
       "      <td>B</td>\n",
       "    </tr>\n",
       "    <tr>\n",
       "      <th>4</th>\n",
       "      <td>4</td>\n",
       "      <td>67850858</td>\n",
       "      <td>Mrs Melanie Brown</td>\n",
       "      <td>18.0</td>\n",
       "      <td>English Literature</td>\n",
       "      <td>3.0</td>\n",
       "      <td>Algeria</td>\n",
       "      <td>C</td>\n",
       "    </tr>\n",
       "    <tr>\n",
       "      <th>...</th>\n",
       "      <td>...</td>\n",
       "      <td>...</td>\n",
       "      <td>...</td>\n",
       "      <td>...</td>\n",
       "      <td>...</td>\n",
       "      <td>...</td>\n",
       "      <td>...</td>\n",
       "      <td>...</td>\n",
       "    </tr>\n",
       "    <tr>\n",
       "      <th>96</th>\n",
       "      <td>96</td>\n",
       "      <td>a8be1ec3</td>\n",
       "      <td>Kelly Foster</td>\n",
       "      <td>22.0</td>\n",
       "      <td>Engineering</td>\n",
       "      <td>1.0</td>\n",
       "      <td>Netherlands</td>\n",
       "      <td>NaN</td>\n",
       "    </tr>\n",
       "    <tr>\n",
       "      <th>97</th>\n",
       "      <td>97</td>\n",
       "      <td>3b69ff22</td>\n",
       "      <td>Sara Austin</td>\n",
       "      <td>19.0</td>\n",
       "      <td>Computer Science</td>\n",
       "      <td>34.0</td>\n",
       "      <td>Liechtenstein</td>\n",
       "      <td>NaN</td>\n",
       "    </tr>\n",
       "    <tr>\n",
       "      <th>98</th>\n",
       "      <td>98</td>\n",
       "      <td>716fb45f</td>\n",
       "      <td>Miss Grace Miller</td>\n",
       "      <td>22.0</td>\n",
       "      <td>English Literature</td>\n",
       "      <td>4.0</td>\n",
       "      <td>Comoros</td>\n",
       "      <td>NaN</td>\n",
       "    </tr>\n",
       "    <tr>\n",
       "      <th>99</th>\n",
       "      <td>99</td>\n",
       "      <td>34b97db2</td>\n",
       "      <td>Miss Lydia Saunders</td>\n",
       "      <td>23.0</td>\n",
       "      <td>Physics</td>\n",
       "      <td>2.0</td>\n",
       "      <td>Faroe Islands</td>\n",
       "      <td>NaN</td>\n",
       "    </tr>\n",
       "    <tr>\n",
       "      <th>100</th>\n",
       "      <td>100</td>\n",
       "      <td>34b97db2</td>\n",
       "      <td>Miss Lydia Saunders</td>\n",
       "      <td>23.0</td>\n",
       "      <td>Physics</td>\n",
       "      <td>2.0</td>\n",
       "      <td>Faroe Islands</td>\n",
       "      <td>NaN</td>\n",
       "    </tr>\n",
       "  </tbody>\n",
       "</table>\n",
       "<p>101 rows × 8 columns</p>\n",
       "</div>"
      ],
      "text/plain": [
       "     index Student ID                 Name   Age             Subject  \\\n",
       "0        0   2703f3f0   Mr Clifford Watson  25.0  English Literature   \n",
       "1        1   a8040287         Elliott Ward  25.0    Computer Science   \n",
       "2        2   d8da5486    Miss Pauline Dunn  22.0         Engineering   \n",
       "3        3   3ac1b74d     Mr Dominic Mason  22.0             Physics   \n",
       "4        4   67850858    Mrs Melanie Brown  18.0  English Literature   \n",
       "..     ...        ...                  ...   ...                 ...   \n",
       "96      96   a8be1ec3         Kelly Foster  22.0         Engineering   \n",
       "97      97   3b69ff22          Sara Austin  19.0    Computer Science   \n",
       "98      98   716fb45f    Miss Grace Miller  22.0  English Literature   \n",
       "99      99   34b97db2  Miss Lydia Saunders  23.0             Physics   \n",
       "100    100   34b97db2  Miss Lydia Saunders  23.0             Physics   \n",
       "\n",
       "     Year of Study Country of Origin Grade  \n",
       "0              1.0  Saint Barthelemy     A  \n",
       "1              4.0            Guinea     C  \n",
       "2              4.0       Afghanistan     A  \n",
       "3              1.0             Palau     B  \n",
       "4              3.0           Algeria     C  \n",
       "..             ...               ...   ...  \n",
       "96             1.0       Netherlands   NaN  \n",
       "97            34.0     Liechtenstein   NaN  \n",
       "98             4.0           Comoros   NaN  \n",
       "99             2.0     Faroe Islands   NaN  \n",
       "100            2.0     Faroe Islands   NaN  \n",
       "\n",
       "[101 rows x 8 columns]"
      ]
     },
     "execution_count": 61,
     "metadata": {},
     "output_type": "execute_result"
    }
   ],
   "source": [
    "joined_df = pd.merge(students_df, grades_df, on='Student ID', how='left')\n",
    "\n",
    "joined_df"
   ]
  },
  {
   "cell_type": "markdown",
   "metadata": {},
   "source": [
    "For more information on `merge()`, `join()`, and `concat()`, see https://realpython.com/pandas-merge-join-and-concat/"
   ]
  },
  {
   "cell_type": "markdown",
   "metadata": {},
   "source": [
    "## Reseting the index\n",
    "If we have a need to use the index column as a regular column, we can reset it with `reset_index`."
   ]
  },
  {
   "cell_type": "code",
   "execution_count": 56,
   "metadata": {},
   "outputs": [
    {
     "data": {
      "application/vnd.microsoft.datawrangler.viewer.v0+json": {
       "columns": [
        {
         "name": "index",
         "rawType": "int64",
         "type": "integer"
        },
        {
         "name": "index",
         "rawType": "int64",
         "type": "integer"
        },
        {
         "name": "Student ID",
         "rawType": "object",
         "type": "string"
        },
        {
         "name": "Name",
         "rawType": "object",
         "type": "string"
        },
        {
         "name": "Age",
         "rawType": "float64",
         "type": "float"
        },
        {
         "name": "Subject",
         "rawType": "object",
         "type": "string"
        },
        {
         "name": "Year of Study",
         "rawType": "float64",
         "type": "float"
        },
        {
         "name": "Country of Origin",
         "rawType": "object",
         "type": "string"
        }
       ],
       "conversionMethod": "pd.DataFrame",
       "ref": "71a8616f-72cb-4ae2-aa01-8be162bb3e7e",
       "rows": [
        [
         "0",
         "0",
         "2703f3f0",
         "Mr Clifford Watson",
         "25.0",
         "English Literature",
         "1.0",
         "Saint Barthelemy"
        ],
        [
         "1",
         "1",
         "a8040287",
         "Elliott Ward",
         "25.0",
         "Computer Science",
         "4.0",
         "Guinea"
        ],
        [
         "2",
         "2",
         "d8da5486",
         "Miss Pauline Dunn",
         "22.0",
         "Engineering",
         "4.0",
         "Afghanistan"
        ],
        [
         "3",
         "3",
         "3ac1b74d",
         "Mr Dominic Mason",
         "22.0",
         "Physics",
         "1.0",
         "Palau"
        ],
        [
         "4",
         "4",
         "67850858",
         "Mrs Melanie Brown",
         "18.0",
         "English Literature",
         "3.0",
         "Algeria"
        ],
        [
         "5",
         "5",
         "62dd3a69",
         "Mr Frederick Price",
         "22.0",
         "Medicine",
         "2.0",
         "Guinea-Bissau"
        ],
        [
         "6",
         "6",
         "6b22a999",
         "Charles Hayward",
         "23.0",
         "Engineering",
         "2.0",
         "Comoros"
        ],
        [
         "7",
         "7",
         "4b744b9a",
         "Garry Thornton",
         null,
         "English Literature",
         "4.0",
         "Cuba"
        ],
        [
         "8",
         "8",
         "45c54817",
         "Mrs Sian Wilson",
         "20.0",
         "Computer Science",
         "2.0",
         "Korea"
        ],
        [
         "9",
         "9",
         "5d5e1224",
         "Grace Walton-Kelly",
         "20.0",
         "History",
         "1.0",
         "Haiti"
        ],
        [
         "10",
         "10",
         "2c142f24",
         "Jade Kirby",
         "24.0",
         "Biology",
         "1.0",
         "Fiji"
        ],
        [
         "11",
         "11",
         "3eec010c",
         "Howard Marshall",
         null,
         "Biology",
         "1.0",
         "Swaziland"
        ],
        [
         "12",
         "12",
         "f3cbb058",
         "Dr Scott Wilson",
         "18.0",
         "English Literature",
         "4.0",
         "Namibia"
        ],
        [
         "13",
         "13",
         "6a406b49",
         "Melissa Ali",
         "18.0",
         "Computer Science",
         "1.0",
         "Israel"
        ],
        [
         "14",
         "14",
         "836d85df",
         "Carolyn Walker",
         "18.0",
         "Mathematics",
         "4.0",
         "Angola"
        ],
        [
         "15",
         "15",
         "fc4f68b0",
         "Sandra Stephenson",
         "23.0",
         "Law",
         "3.0",
         "Palau"
        ],
        [
         "16",
         "16",
         "41465cf8",
         "Mr Guy Lynch",
         "25.0",
         "History",
         "2.0",
         "Italy"
        ],
        [
         "17",
         "17",
         "afae8532",
         "Kieran Davidson-Watson",
         "25.0",
         "English Literature",
         "1.0",
         "Mayotte"
        ],
        [
         "18",
         "18",
         "7c43c14d",
         "Malcolm Farrell-Sykes",
         "18.0",
         "History",
         "3.0",
         "Nauru"
        ],
        [
         "19",
         "19",
         "43b3612f",
         "Frederick Khan",
         "19.0",
         "Art",
         "4.0",
         "Taiwan"
        ],
        [
         "20",
         "20",
         "72324765",
         "Gail Henderson",
         "21.0",
         "Law",
         "1.0",
         "Eritrea"
        ],
        [
         "21",
         "21",
         "9c0aa410",
         "Hazel Evans",
         "24.0",
         "History",
         "3.0",
         "China"
        ],
        [
         "22",
         "22",
         "a9e6b860",
         "Mrs Tracey Adams",
         "24.0",
         "English Literature",
         "4.0",
         "Saint Lucia"
        ],
        [
         "23",
         "23",
         "0e7361c4",
         "Mr Donald Taylor",
         "21.0",
         "Engineering",
         "3.0",
         "France"
        ],
        [
         "24",
         "24",
         "27166ecb",
         "Dr Terry Lewis",
         "245.0",
         "Mathematics",
         "3.0",
         "Fiji"
        ],
        [
         "25",
         "25",
         "c828ba21",
         "Kelly Fisher-Simpson",
         "21.0",
         "Law",
         "2.0",
         "Isle of Man"
        ],
        [
         "26",
         "26",
         "a7bb5b63",
         "Steven Ahmed",
         "22.0",
         "Physics",
         "1.0",
         "Guernsey"
        ],
        [
         "27",
         "27",
         "f156e962",
         "Christian Howell-Holt",
         "25.0",
         "Law",
         "2.0",
         "Kyrgyz Republic"
        ],
        [
         "28",
         "28",
         "2f3b6b33",
         "Dr Aaron Bell",
         "21.0",
         "English Literature",
         "3.0",
         "Libyan Arab Jamahiriya"
        ],
        [
         "29",
         "29",
         "88648f86",
         "Pauline Akhtar",
         "20.0",
         "Biology",
         "4.0",
         "Netherlands Antilles"
        ],
        [
         "30",
         "30",
         "a225e559",
         "Sheila Roberts-Harris",
         "18.0",
         "Biology",
         "4.0",
         "Singapore"
        ],
        [
         "31",
         "31",
         "34212ec1",
         "Rosemary Wood",
         "18.0",
         "Mathematics",
         "3.0",
         "Comoros"
        ],
        [
         "32",
         "32",
         "fcedbd2f",
         "Mrs Rosemary Knight",
         "18.0",
         "Art",
         "4.0",
         "French Polynesia"
        ],
        [
         "33",
         "33",
         "88dc77f7",
         "Daniel Harris",
         "20.0",
         "Computer Science",
         "4.0",
         "Wallis and Futuna"
        ],
        [
         "34",
         "34",
         "53dd0026",
         "Amber Osborne",
         "21.0",
         "Physics",
         "4.0",
         "Liberia"
        ],
        [
         "35",
         "35",
         "ea066b3e",
         "Alison Williams-Garner",
         "21.0",
         "Engineering",
         "2.0",
         "Brunei Darussalam"
        ],
        [
         "36",
         "36",
         "10551162",
         "Mr Bruce Fleming",
         "24.0",
         "Law",
         "3.0",
         "Equatorial Guinea"
        ],
        [
         "37",
         "37",
         "a420952d",
         "Lindsey Cook",
         "25.0",
         "History",
         "2.0",
         "Micronesia"
        ],
        [
         "38",
         "38",
         "45604caa",
         "Victor Palmer",
         "23.0",
         "English Literature",
         "3.0",
         "Thailand"
        ],
        [
         "39",
         "39",
         "8d697782",
         "Mr Lawrence Barker",
         "24.0",
         "Physics",
         "3.0",
         "Antigua and Barbuda"
        ],
        [
         "40",
         "40",
         "8581f127",
         "Mrs Cheryl Ashton",
         "25.0",
         "Engineering",
         "3.0",
         "South Africa"
        ],
        [
         "41",
         "41",
         "5fa87190",
         "Olivia Turner",
         "21.0",
         "Mathematics",
         "1.0",
         "Zimbabwe"
        ],
        [
         "42",
         "42",
         "cc9eb24e",
         "Lucy Roberts",
         "22.0",
         "Biology",
         "4.0",
         "Marshall Islands"
        ],
        [
         "43",
         "43",
         "3c1fe24c",
         "Melanie Sheppard",
         "21.0",
         "Medicine",
         "1.0",
         "Lebanon"
        ],
        [
         "44",
         "44",
         "204e4c56",
         "Paula Watts",
         "21.0",
         "Computer Science",
         "3.0",
         "Tunisia"
        ],
        [
         "45",
         "45",
         "0fac1009",
         "Louis Buckley",
         "18.0",
         "Art",
         "3.0",
         "Cambodia"
        ],
        [
         "46",
         "46",
         "bde91950",
         "Mrs Elizabeth Perry",
         "19.0",
         "Computer Science",
         "4.0",
         "Burkina Faso"
        ],
        [
         "47",
         "47",
         "4e324306",
         "Stephanie Thompson",
         "23.0",
         "Medicine",
         "4.0",
         "Cyprus"
        ],
        [
         "48",
         "48",
         "75693b89",
         "Angela Farmer-Sanders",
         "25.0",
         "History",
         "4.0",
         "Ukraine"
        ],
        [
         "49",
         "49",
         "ba4fe6e7",
         "Miss Bethany Grant",
         "24.0",
         "Physics",
         "1.0",
         "Aruba"
        ]
       ],
       "shape": {
        "columns": 7,
        "rows": 101
       }
      },
      "text/html": [
       "<div>\n",
       "<style scoped>\n",
       "    .dataframe tbody tr th:only-of-type {\n",
       "        vertical-align: middle;\n",
       "    }\n",
       "\n",
       "    .dataframe tbody tr th {\n",
       "        vertical-align: top;\n",
       "    }\n",
       "\n",
       "    .dataframe thead th {\n",
       "        text-align: right;\n",
       "    }\n",
       "</style>\n",
       "<table border=\"1\" class=\"dataframe\">\n",
       "  <thead>\n",
       "    <tr style=\"text-align: right;\">\n",
       "      <th></th>\n",
       "      <th>index</th>\n",
       "      <th>Student ID</th>\n",
       "      <th>Name</th>\n",
       "      <th>Age</th>\n",
       "      <th>Subject</th>\n",
       "      <th>Year of Study</th>\n",
       "      <th>Country of Origin</th>\n",
       "    </tr>\n",
       "  </thead>\n",
       "  <tbody>\n",
       "    <tr>\n",
       "      <th>0</th>\n",
       "      <td>0</td>\n",
       "      <td>2703f3f0</td>\n",
       "      <td>Mr Clifford Watson</td>\n",
       "      <td>25.0</td>\n",
       "      <td>English Literature</td>\n",
       "      <td>1.0</td>\n",
       "      <td>Saint Barthelemy</td>\n",
       "    </tr>\n",
       "    <tr>\n",
       "      <th>1</th>\n",
       "      <td>1</td>\n",
       "      <td>a8040287</td>\n",
       "      <td>Elliott Ward</td>\n",
       "      <td>25.0</td>\n",
       "      <td>Computer Science</td>\n",
       "      <td>4.0</td>\n",
       "      <td>Guinea</td>\n",
       "    </tr>\n",
       "    <tr>\n",
       "      <th>2</th>\n",
       "      <td>2</td>\n",
       "      <td>d8da5486</td>\n",
       "      <td>Miss Pauline Dunn</td>\n",
       "      <td>22.0</td>\n",
       "      <td>Engineering</td>\n",
       "      <td>4.0</td>\n",
       "      <td>Afghanistan</td>\n",
       "    </tr>\n",
       "    <tr>\n",
       "      <th>3</th>\n",
       "      <td>3</td>\n",
       "      <td>3ac1b74d</td>\n",
       "      <td>Mr Dominic Mason</td>\n",
       "      <td>22.0</td>\n",
       "      <td>Physics</td>\n",
       "      <td>1.0</td>\n",
       "      <td>Palau</td>\n",
       "    </tr>\n",
       "    <tr>\n",
       "      <th>4</th>\n",
       "      <td>4</td>\n",
       "      <td>67850858</td>\n",
       "      <td>Mrs Melanie Brown</td>\n",
       "      <td>18.0</td>\n",
       "      <td>English Literature</td>\n",
       "      <td>3.0</td>\n",
       "      <td>Algeria</td>\n",
       "    </tr>\n",
       "    <tr>\n",
       "      <th>...</th>\n",
       "      <td>...</td>\n",
       "      <td>...</td>\n",
       "      <td>...</td>\n",
       "      <td>...</td>\n",
       "      <td>...</td>\n",
       "      <td>...</td>\n",
       "      <td>...</td>\n",
       "    </tr>\n",
       "    <tr>\n",
       "      <th>96</th>\n",
       "      <td>96</td>\n",
       "      <td>a8be1ec3</td>\n",
       "      <td>Kelly Foster</td>\n",
       "      <td>22.0</td>\n",
       "      <td>Engineering</td>\n",
       "      <td>1.0</td>\n",
       "      <td>Netherlands</td>\n",
       "    </tr>\n",
       "    <tr>\n",
       "      <th>97</th>\n",
       "      <td>97</td>\n",
       "      <td>3b69ff22</td>\n",
       "      <td>Sara Austin</td>\n",
       "      <td>19.0</td>\n",
       "      <td>Computer Science</td>\n",
       "      <td>34.0</td>\n",
       "      <td>Liechtenstein</td>\n",
       "    </tr>\n",
       "    <tr>\n",
       "      <th>98</th>\n",
       "      <td>98</td>\n",
       "      <td>716fb45f</td>\n",
       "      <td>Miss Grace Miller</td>\n",
       "      <td>22.0</td>\n",
       "      <td>English Literature</td>\n",
       "      <td>4.0</td>\n",
       "      <td>Comoros</td>\n",
       "    </tr>\n",
       "    <tr>\n",
       "      <th>99</th>\n",
       "      <td>99</td>\n",
       "      <td>34b97db2</td>\n",
       "      <td>Miss Lydia Saunders</td>\n",
       "      <td>23.0</td>\n",
       "      <td>Physics</td>\n",
       "      <td>2.0</td>\n",
       "      <td>Faroe Islands</td>\n",
       "    </tr>\n",
       "    <tr>\n",
       "      <th>100</th>\n",
       "      <td>100</td>\n",
       "      <td>34b97db2</td>\n",
       "      <td>Miss Lydia Saunders</td>\n",
       "      <td>23.0</td>\n",
       "      <td>Physics</td>\n",
       "      <td>2.0</td>\n",
       "      <td>Faroe Islands</td>\n",
       "    </tr>\n",
       "  </tbody>\n",
       "</table>\n",
       "<p>101 rows × 7 columns</p>\n",
       "</div>"
      ],
      "text/plain": [
       "     index Student ID                 Name   Age             Subject  \\\n",
       "0        0   2703f3f0   Mr Clifford Watson  25.0  English Literature   \n",
       "1        1   a8040287         Elliott Ward  25.0    Computer Science   \n",
       "2        2   d8da5486    Miss Pauline Dunn  22.0         Engineering   \n",
       "3        3   3ac1b74d     Mr Dominic Mason  22.0             Physics   \n",
       "4        4   67850858    Mrs Melanie Brown  18.0  English Literature   \n",
       "..     ...        ...                  ...   ...                 ...   \n",
       "96      96   a8be1ec3         Kelly Foster  22.0         Engineering   \n",
       "97      97   3b69ff22          Sara Austin  19.0    Computer Science   \n",
       "98      98   716fb45f    Miss Grace Miller  22.0  English Literature   \n",
       "99      99   34b97db2  Miss Lydia Saunders  23.0             Physics   \n",
       "100    100   34b97db2  Miss Lydia Saunders  23.0             Physics   \n",
       "\n",
       "     Year of Study Country of Origin  \n",
       "0              1.0  Saint Barthelemy  \n",
       "1              4.0            Guinea  \n",
       "2              4.0       Afghanistan  \n",
       "3              1.0             Palau  \n",
       "4              3.0           Algeria  \n",
       "..             ...               ...  \n",
       "96             1.0       Netherlands  \n",
       "97            34.0     Liechtenstein  \n",
       "98             4.0           Comoros  \n",
       "99             2.0     Faroe Islands  \n",
       "100            2.0     Faroe Islands  \n",
       "\n",
       "[101 rows x 7 columns]"
      ]
     },
     "execution_count": 56,
     "metadata": {},
     "output_type": "execute_result"
    }
   ],
   "source": [
    "students_df = students_df.reset_index()\n",
    "\n",
    "students_df"
   ]
  }
 ],
 "metadata": {
  "kernelspec": {
   "display_name": "AI-ML-Bootcamp-24-25",
   "language": "python",
   "name": "python3"
  },
  "language_info": {
   "codemirror_mode": {
    "name": "ipython",
    "version": 3
   },
   "file_extension": ".py",
   "mimetype": "text/x-python",
   "name": "python",
   "nbconvert_exporter": "python",
   "pygments_lexer": "ipython3",
   "version": "3.12.3"
  }
 },
 "nbformat": 4,
 "nbformat_minor": 2
}
